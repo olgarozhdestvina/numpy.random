{
 "cells": [
  {
   "cell_type": "markdown",
   "metadata": {},
   "source": [
    "# The numpy.random package \n",
    "\n",
    "\n",
    "[ Programming for Data Analysis Module GMIT 2020 ]\n",
    "\n",
    "\n",
    "<img align=\"left\" width=\"200\" height=\"200\" src=\"https://upload.wikimedia.org/wikipedia/commons/thumb/3/31/NumPy_logo_2020.svg/1024px-NumPy_logo_2020.svg.png\">\n"
   ]
  },
  {
   "cell_type": "markdown",
   "metadata": {},
   "source": [
    "Completed by: *Olga Rozhdestvina (G00387844@gmit.ie)*\n",
    "***\n",
    "\n",
    "## Table of Contents\n",
    "* [Purpose of the package](#purpose)\n",
    "* [“Simple random data” and “Permutations” functions](#functions)\n",
    "    * [Simple random data](#srd)\n",
    "        * [Integers](#integers)\n",
    "        * [Random](#random)\n",
    "        * [Choice](#choice)\n",
    "        * [Bytes](#bytes)\n",
    "    * [Permutations](#permutations)\n",
    "* [“Distributions” functions](#distributions)\n",
    "    * [Discrete Probability Distribution](#discrete)\n",
    "        * [Binominal](#binominal)\n",
    "        * [Multinomial](#multinomial)\n",
    "        * [Geometric](#geometric)\n",
    "        * [Hypergeometric](#hypergeometric)\n",
    "        * [Poisson](#poisson)\n",
    "    * [Continuous Probability Distribution](#continuous)\n",
    "        * [Uniform](#uniform)\n",
    "        * [Normal](#normal)\n",
    "        * [Logistic](#logistic)\n",
    "        * [Chi-square](#chi-square)\n",
    "        * [Exponential](#exponential)\n",
    "        \n",
    "        \n",
    "* [Seeds](#seeds)\n",
    "\n",
    "***"
   ]
  },
  {
   "cell_type": "markdown",
   "metadata": {},
   "source": [
    "### Purpose of the package <a name=\"purpose\"></a>"
   ]
  },
  {
   "cell_type": "markdown",
   "metadata": {},
   "source": [
    "First of all let's remind ourselves a what random number is. It doesn't mean a different number every time, but a number that can not be logically predicted. And those random numbers that are produced through a generating algorithm are called pseudorandom $^1$. The _numpy.random_ package is based on a pseudorandom number generator, or PRNG, and comes as supplemental for [the built-in Python random package](https://docs.python.org/3/library/random.html). It is used for efficient generation of whole arrays of random values from various probability distributions $^2$ $^3$\n",
    "\n",
    "> 1. [DataCamp: Random Number Generator Using Numpy](https://www.datacamp.com/community/tutorials/numpy-random)\n",
    "2. [Wes McKinney: Python for Data Analysis ](https://www.oreilly.com/library/view/python-for-data/9781449323592/)\n",
    "3. [NumPy: numpy.random](https://numpy.org/doc/stable/reference/random/)"
   ]
  },
  {
   "cell_type": "code",
   "execution_count": 1,
   "metadata": {},
   "outputs": [],
   "source": [
    "# Import the numpy package.\n",
    "import numpy as np\n",
    "# Package for plotting.\n",
    "import matplotlib.pyplot as plt\n",
    "# Another package for plotting.\n",
    "import seaborn as sns\n"
   ]
  },
  {
   "cell_type": "code",
   "execution_count": 2,
   "metadata": {},
   "outputs": [],
   "source": [
    "# Colour scheme and styles for plots.\n",
    "sns.set_theme(palette=\"Set2\", context=\"paper\", font_scale=1.5)\n",
    "\n",
    "# Better sized plots.\n",
    "plt.rcParams['figure.figsize'] = (10, 6)"
   ]
  },
  {
   "cell_type": "code",
   "execution_count": 3,
   "metadata": {},
   "outputs": [],
   "source": [
    "# Get an instance of generator.\n",
    "rng = np.random.default_rng()"
   ]
  },
  {
   "cell_type": "markdown",
   "metadata": {},
   "source": [
    "***\n",
    "<br>\n",
    "\n",
    "### “SIMPLE RANDOM DATA” and “PERMUTATIONS” functions <a name=\"functions\"></a>"
   ]
  },
  {
   "cell_type": "markdown",
   "metadata": {},
   "source": [
    "#### Simple random data <a name=\"srd\"></a>\n",
    "\n",
    "\n",
    "<img align=\"left\" width=\"302\" height=\"420\" src=\"https://www.netquest.com/hubfs/Imported_Blog_Media/smallnumbers-1.png\">\n"
   ]
  },
  {
   "cell_type": "markdown",
   "metadata": {},
   "source": [
    "* _INTEGERS_ <a name=\"integers\"></a>\n",
    " \n",
    "Numpy.random package can be used for generating random integers. The examples below depict that this method can output a single integer, one-dimensional or two-dimensional arrays.\n",
    "\n",
    "1. A single integer"
   ]
  },
  {
   "cell_type": "code",
   "execution_count": 4,
   "metadata": {},
   "outputs": [
    {
     "data": {
      "text/plain": [
       "159"
      ]
     },
     "execution_count": 4,
     "metadata": {},
     "output_type": "execute_result"
    }
   ],
   "source": [
    "# Call the generator to obtain a random integer.\n",
    "x = rng.integers(1000)\n",
    "\n",
    "# Display the number.\n",
    "x"
   ]
  },
  {
   "cell_type": "markdown",
   "metadata": {},
   "source": [
    "2. One-dimensional array"
   ]
  },
  {
   "cell_type": "code",
   "execution_count": 5,
   "metadata": {},
   "outputs": [
    {
     "data": {
      "text/plain": [
       "array([318, 181, 320,   0, 471, 237, 447, 196,  38, 867, 901, 910, 999,\n",
       "       951, 255, 711, 322, 270, 400, 297, 843, 483, 370, 302, 987, 741,\n",
       "        17, 259, 609, 570, 236, 250, 611, 557, 717,  90, 852, 855, 948,\n",
       "       515, 380, 624, 407, 950, 416,  85, 861, 708, 226, 436, 260, 876,\n",
       "       107,  98, 739, 712, 258,  49, 157, 807, 757, 123,  66, 511, 521,\n",
       "       138, 690, 310, 990, 849,  68, 130, 394,  91, 757, 971, 207, 294,\n",
       "       800,  20, 425, 755, 929, 660, 827, 683, 866, 837, 998,  40, 337,\n",
       "       218, 121, 500, 766, 632,  97, 505, 426, 100, 277, 733, 472, 554,\n",
       "       158, 419, 923, 449, 599,  46, 301, 906, 951, 941, 186, 316, 447,\n",
       "       861, 708, 980, 776, 805, 680,  88, 205, 562, 964, 691, 782, 898,\n",
       "       542,  70, 434, 721, 449, 858, 648, 480, 493, 386, 969, 550, 743,\n",
       "        46, 277, 799, 642, 837, 994, 922, 517, 365, 690, 882,  62, 544,\n",
       "        57, 859, 374, 403, 782,  14,  25, 427, 520, 780, 918, 464, 716,\n",
       "       418, 978, 407, 239, 301, 697, 566, 153, 152, 405, 208, 182, 573,\n",
       "       382, 197, 372, 603,  72, 295, 928, 215, 242, 568, 286, 407,  84,\n",
       "       731, 229, 327, 333,  52], dtype=int64)"
      ]
     },
     "execution_count": 5,
     "metadata": {},
     "output_type": "execute_result"
    }
   ],
   "source": [
    "# Generate 200 numbers between 0 and 999, inclusive:\n",
    "x = rng.integers(1000, size=200)\n",
    "\n",
    "# Display the array.\n",
    "x"
   ]
  },
  {
   "cell_type": "code",
   "execution_count": 6,
   "metadata": {},
   "outputs": [
    {
     "data": {
      "image/png": "[encoded data removed]",
      "text/plain": [
       "<Figure size 720x432 with 1 Axes>"
      ]
     },
     "metadata": {},
     "output_type": "display_data"
    }
   ],
   "source": [
    "# Set the title for the future plot.\n",
    "plt.title(\"Integers Method: 1-D array\")\n",
    "\n",
    "# Plot the array.\n",
    "sns.histplot(x)\n",
    "\n",
    "# Show the plot.\n",
    "plt.show()"
   ]
  },
  {
   "cell_type": "markdown",
   "metadata": {},
   "source": [
    "3. Two-dimensional array"
   ]
  },
  {
   "cell_type": "code",
   "execution_count": 7,
   "metadata": {},
   "outputs": [
    {
     "data": {
      "text/plain": [
       "array([[60, 24, 65, 52, 22, 88, 73],\n",
       "       [14, 53, 35, 95, 36, 51, 48],\n",
       "       [31, 68, 88, 86, 71, 28, 23],\n",
       "       [61, 48,  2, 58, 36, 17, 11],\n",
       "       [23,  1, 69, 76, 27,  4, 60]], dtype=int64)"
      ]
     },
     "execution_count": 7,
     "metadata": {},
     "output_type": "execute_result"
    }
   ],
   "source": [
    "# Generate a 2-D array with 5 rows containing 7 integers between 0 and 99, inclusive:\n",
    "x = rng.integers(100, size=(5, 7))\n",
    "\n",
    "# Display the array.\n",
    "x"
   ]
  },
  {
   "cell_type": "code",
   "execution_count": 8,
   "metadata": {},
   "outputs": [
    {
     "data": {
      "image/png": "[encoded data removed]",
      "text/plain": [
       "<Figure size 720x432 with 1 Axes>"
      ]
     },
     "metadata": {},
     "output_type": "display_data"
    }
   ],
   "source": [
    "# Set the title for the future plot.\n",
    "plt.title(\"Integers Method: 2-D array\")\n",
    "\n",
    "# Loop through the rows in the array.\n",
    "\n",
    "sns.set()\n",
    "# Loop through the rows in the array.\n",
    "for i in range(len(x)):\n",
    "    # Build the plot.\n",
    "    plt.hist(x[i], histtype=\"stepfilled\", alpha=0.8)\n",
    "    \n",
    "# Show the plot.    \n",
    "plt.show()"
   ]
  },
  {
   "cell_type": "markdown",
   "metadata": {},
   "source": [
    "<br>\n",
    "\n",
    "- _RANDOM_ <a name=\"random\"></a>\n",
    "\n",
    "With this method numPy produces random floats and output vary from a single float number to one-dimensional or two-dimensional arrays. If not specified otherwise, floats are sampled from the interval between 0.0 and 1.0 (exclusively).\n",
    "\n",
    "1. A single float"
   ]
  },
  {
   "cell_type": "code",
   "execution_count": 9,
   "metadata": {},
   "outputs": [
    {
     "data": {
      "text/plain": [
       "0.007598035716892881"
      ]
     },
     "execution_count": 9,
     "metadata": {},
     "output_type": "execute_result"
    }
   ],
   "source": [
    "# Generate a single float number:\n",
    "x = rng.random()\n",
    "\n",
    "# Display the float.\n",
    "x"
   ]
  },
  {
   "cell_type": "markdown",
   "metadata": {},
   "source": [
    "2. One-dimensional array"
   ]
  },
  {
   "cell_type": "code",
   "execution_count": 10,
   "metadata": {},
   "outputs": [
    {
     "data": {
      "text/plain": [
       "array([0.50585503, 0.38636498, 0.15433956, 0.07203398, 0.45583422,\n",
       "       0.38826693, 0.50798291, 0.91955248, 0.50735179, 0.84501847,\n",
       "       0.48493224, 0.2724026 , 0.4158575 , 0.17126801, 0.31048522,\n",
       "       0.09328964, 0.48607411, 0.64498947, 0.91490223, 0.39213399,\n",
       "       0.09969628, 0.78956483, 0.62502565, 0.7845493 , 0.87331629,\n",
       "       0.40784899, 0.60624077, 0.74537528, 0.35651992, 0.65658092,\n",
       "       0.04970434, 0.28105293, 0.37366224, 0.08467662, 0.07913177,\n",
       "       0.86299603, 0.83384161, 0.44916331, 0.81567919, 0.16948991])"
      ]
     },
     "execution_count": 10,
     "metadata": {},
     "output_type": "execute_result"
    }
   ],
   "source": [
    "# Generate 40 floats:\n",
    "x = rng.random((40,))\n",
    "\n",
    "# Display the array.\n",
    "x"
   ]
  },
  {
   "cell_type": "code",
   "execution_count": 11,
   "metadata": {},
   "outputs": [
    {
     "data": {
      "image/png": "[encoded data removed]",
      "text/plain": [
       "<Figure size 720x432 with 1 Axes>"
      ]
     },
     "metadata": {},
     "output_type": "display_data"
    }
   ],
   "source": [
    "# Set the title for the future plot.\n",
    "plt.title(\"Random Method: 1-D array\")\n",
    "\n",
    "# Change colour scheme.\n",
    "sns.set_palette(\"rocket\")\n",
    "\n",
    "# Build the plot.\n",
    "sns.histplot(x)\n",
    "\n",
    "# Show the plot.\n",
    "plt.show()"
   ]
  },
  {
   "cell_type": "markdown",
   "metadata": {},
   "source": [
    "3. Two-dimensional array"
   ]
  },
  {
   "cell_type": "code",
   "execution_count": 12,
   "metadata": {},
   "outputs": [
    {
     "data": {
      "text/plain": [
       "array([[-8.06134348e+01, -1.37488997e+01, -4.70662945e+01,\n",
       "        -5.83392058e+01, -8.45907945e+01, -8.83631476e+01,\n",
       "        -3.76509243e+01, -9.20423048e+01, -8.71616087e+01,\n",
       "        -2.13813669e+01, -8.88533577e+01, -1.92298088e+01,\n",
       "        -2.96969610e+01, -6.43028294e+01, -6.38872424e+01,\n",
       "        -3.70111245e+01, -7.14942043e+01, -7.25384456e+01,\n",
       "        -2.68099068e+01, -6.42660592e+01, -1.52129641e+01,\n",
       "        -8.24878580e+01, -5.92975164e+01, -6.22155382e+01,\n",
       "        -5.13384842e+01, -4.38346040e+01, -9.04131467e+01,\n",
       "        -8.69369793e+01, -5.82269357e+01, -5.50929570e+00],\n",
       "       [-1.75090972e+00, -2.13898247e+01, -3.70712793e+01,\n",
       "        -4.70837000e+01, -7.36334512e+01, -8.50698725e+01,\n",
       "        -4.37710246e-02, -5.10655804e+01, -3.48169806e+01,\n",
       "        -2.71875589e+01, -6.31406857e+01, -2.31689794e+01,\n",
       "        -7.12553198e+01, -9.72346667e+01, -9.82500099e+01,\n",
       "        -6.75908874e+01, -4.16576869e+01, -4.58940937e+01,\n",
       "        -5.07867232e+01, -4.45198895e-01, -8.46302183e+01,\n",
       "        -9.40994564e+01, -4.36418775e+01, -6.57606393e+01,\n",
       "        -5.24360679e+01, -6.28644003e+01, -8.47137570e+01,\n",
       "        -5.17282829e+01, -7.41569901e+01, -5.21815132e+01]])"
      ]
     },
     "execution_count": 12,
     "metadata": {},
     "output_type": "execute_result"
    }
   ],
   "source": [
    "# Generate a 2-D array with 2 rows containing 30 floats between -100 and 0, exclusive:\n",
    "x = 100 * rng.random((2, 30)) - 100\n",
    "\n",
    "# Display the array.\n",
    "x"
   ]
  },
  {
   "cell_type": "code",
   "execution_count": 13,
   "metadata": {},
   "outputs": [
    {
     "data": {
      "image/png": "[encoded data removed]",
      "text/plain": [
       "<Figure size 720x432 with 1 Axes>"
      ]
     },
     "metadata": {},
     "output_type": "display_data"
    }
   ],
   "source": [
    "# Set the title for the future plot.\n",
    "plt.title(\"Random Method: 2-D array\")\n",
    "\n",
    "sns.set()\n",
    "# Loop through the rows in the array.\n",
    "for i in range(len(x)):\n",
    "    # Build the plot.\n",
    "    plt.hist(x[i], histtype=\"stepfilled\", alpha=0.5)\n",
    "    \n",
    "# Show the plot.    \n",
    "plt.show()"
   ]
  },
  {
   "cell_type": "markdown",
   "metadata": {},
   "source": [
    "<br>\n",
    "\n",
    "- _CHOICE_ <a name=\"choice\"></a>\n",
    "\n",
    "The choice method generates random numbers from a given integer or one-dimensional array (of integers or strings). If not specified otherwise, the output assumes a uniform distribution over all entries in the given array. (refer to [“Distributions” functions](#distributions) )\n",
    "\n",
    " 1. Uniform distribution (default)."
   ]
  },
  {
   "cell_type": "code",
   "execution_count": 14,
   "metadata": {},
   "outputs": [
    {
     "data": {
      "text/plain": [
       "array([3, 3, 8, 2, 1, 6, 9, 9, 8], dtype=int64)"
      ]
     },
     "execution_count": 14,
     "metadata": {},
     "output_type": "execute_result"
    }
   ],
   "source": [
    "# Generate 9 evenly spaced values between 0 and 9 (inclusive) (np.arange(10)).\n",
    "x = rng.choice(10, 9)\n",
    "\n",
    "# Display the array.\n",
    "x"
   ]
  },
  {
   "cell_type": "code",
   "execution_count": 15,
   "metadata": {},
   "outputs": [
    {
     "data": {
      "image/png": "[encoded data removed]",
      "text/plain": [
       "<Figure size 720x432 with 1 Axes>"
      ]
     },
     "metadata": {},
     "output_type": "display_data"
    }
   ],
   "source": [
    "# Set the title for the future plot.\n",
    "plt.title(\"Choice Method: Uniform distribution\")\n",
    "\n",
    "# Change colour scheme.\n",
    "sns.set_palette(\"flare\")\n",
    "\n",
    "# Build the plot.\n",
    "sns.histplot(x)\n",
    "\n",
    "# Show the plot.\n",
    "plt.show()"
   ]
  },
  {
   "cell_type": "code",
   "execution_count": 16,
   "metadata": {},
   "outputs": [
    {
     "data": {
      "text/plain": [
       "array([8, 3, 0, 4, 2, 5, 6, 1, 7], dtype=int64)"
      ]
     },
     "execution_count": 16,
     "metadata": {},
     "output_type": "execute_result"
    }
   ],
   "source": [
    "# Generate 9 UNIQUE random numbers from np.arange(10): \n",
    "x = rng.choice(10, 9, replace=False)\n",
    "\n",
    "# Display the array.\n",
    "x"
   ]
  },
  {
   "cell_type": "code",
   "execution_count": 17,
   "metadata": {},
   "outputs": [
    {
     "data": {
      "image/png": "[encoded data removed]",
      "text/plain": [
       "<Figure size 720x432 with 1 Axes>"
      ]
     },
     "metadata": {},
     "output_type": "display_data"
    }
   ],
   "source": [
    "# Set the title for the future plot.\n",
    "plt.title(\"Choice Method: Uniform distribution of unique numbers\")\n",
    "\n",
    "# Build the plot.\n",
    "sns.histplot(x)\n",
    "\n",
    "# Show the plot.\n",
    "plt.show()"
   ]
  },
  {
   "cell_type": "markdown",
   "metadata": {},
   "source": [
    " 2. Non-uniform distribution. \n",
    " \n",
    " Requires provision of probability $p$ of each entry in a given array to appear in the output. \n",
    " \n",
    " Note that $p$:\n",
    "    - has to be of the same size as a given array;\n",
    "    - sum of $p$ elements has to be 1;\n",
    "    - non-zero entries in $p$ has to be same as size."
   ]
  },
  {
   "cell_type": "code",
   "execution_count": 18,
   "metadata": {},
   "outputs": [
    {
     "data": {
      "text/plain": [
       "array([0, 0, 9, 1, 2, 9, 4, 6, 2], dtype=int64)"
      ]
     },
     "execution_count": 18,
     "metadata": {},
     "output_type": "execute_result"
    }
   ],
   "source": [
    "# Generate 9 evenly spaced values between 0 and 9 (inclusive) (np.arange(10)) with provided p:\n",
    "x = rng.choice(10, 9, p=[0.1, 0.1, 0.1, 0.1, 0.1, 0.2, 0.1, 0.1, 0, 0.1])\n",
    "\n",
    "# Display the array.\n",
    "x"
   ]
  },
  {
   "cell_type": "code",
   "execution_count": 19,
   "metadata": {},
   "outputs": [
    {
     "data": {
      "image/png": "[encoded data removed]",
      "text/plain": [
       "<Figure size 720x432 with 1 Axes>"
      ]
     },
     "metadata": {},
     "output_type": "display_data"
    }
   ],
   "source": [
    "# Set the title for the future plot.\n",
    "plt.title(\"Choice Method: Non-Uniform distribution\")\n",
    "\n",
    "# Build the plot.\n",
    "sns.histplot(x)\n",
    "\n",
    "# Show the plot.\n",
    "plt.show()"
   ]
  },
  {
   "cell_type": "code",
   "execution_count": 20,
   "metadata": {},
   "outputs": [
    {
     "data": {
      "text/plain": [
       "array([7, 1, 6, 2, 5, 0, 4, 3, 9], dtype=int64)"
      ]
     },
     "execution_count": 20,
     "metadata": {},
     "output_type": "execute_result"
    }
   ],
   "source": [
    "# Generate 9 evenly spaced values between 0 and 9 (inclusive) (np.arange(10)) with provided p:\n",
    "x = rng.choice(10, 9, replace=False, p=[0.1, 0.1, 0.1, 0.1, 0.1, 0.2, 0.1, 0.1, 0, 0.1])\n",
    "\n",
    "# Display the array.\n",
    "x"
   ]
  },
  {
   "cell_type": "code",
   "execution_count": 21,
   "metadata": {},
   "outputs": [
    {
     "data": {
      "image/png": "[encoded data removed]",
      "text/plain": [
       "<Figure size 720x432 with 1 Axes>"
      ]
     },
     "metadata": {},
     "output_type": "display_data"
    }
   ],
   "source": [
    "# Set the title for the future plot.\n",
    "plt.title(\"Choice Method: Non-Uniform distribution of unique numbers\")\n",
    "\n",
    "# Build the plot.\n",
    "sns.histplot(x)\n",
    "\n",
    "# Show the plot.\n",
    "plt.show()"
   ]
  },
  {
   "cell_type": "markdown",
   "metadata": {},
   "source": [
    "- _BYTES_ <a name=\"bytes\"></a>\n",
    "\n",
    "This NumPy random method returns random bytes."
   ]
  },
  {
   "cell_type": "code",
   "execution_count": 22,
   "metadata": {},
   "outputs": [
    {
     "data": {
      "text/plain": [
       "b'M\\x1d6\\x98\\xefMp=\\r;\\x9fj\\x9d[l\\tK\\xe3c\\xb1\\x03\\x97H\\xf4C\\xad\\x0e=d\\xec\\xb4\\xb8\\x13M\\x8d>v\\xa7\\xba\\x85r\\x08R+V^t\\xd3\\xfa\\x8e\\xd7n\\xa8S\\xca\\xe5\\xff+bO}\\xd5\\xb1{C\\xfb\\xf6bj;;\\xf0P\\xa3\\xd2U\\x84\\xd0\\x0b\\xb1\\x16\\xb3A\\xf7\\xc6UM\\xd9P\\xc1\\x1e\\xd7\\x19G\\xc51\\xa8\\xbd\\xb2\\x8f'"
      ]
     },
     "execution_count": 22,
     "metadata": {},
     "output_type": "execute_result"
    }
   ],
   "source": [
    "# Generate 100 random bytes:\n",
    "x = rng.bytes(100)\n",
    "\n",
    "# Display the array.\n",
    "x"
   ]
  },
  {
   "cell_type": "markdown",
   "metadata": {},
   "source": [
    "***\n",
    "<br>\n",
    "\n",
    "#### Permutations <a name=\"permutations\"></a>\n",
    "\n",
    "\n",
    "<img align=\"left\" width=\"200\" height=\"300\" src=\"https://upload.wikimedia.org/wikipedia/commons/3/39/Combination_unlocked.png\">"
   ]
  },
  {
   "cell_type": "markdown",
   "metadata": {},
   "source": [
    "Generally speaking, in NumPy, both permutation and shuffle methods randomly shuffle elements in an array, which results in the same output when plotting (see below). However, there are some differences in these methods. \n",
    "\n",
    "The Shuffle method changes arrangement of elements inplace, i.e. in the array itself. On the other hand, the Permutation method produces a shuffled range if integer is passed or a shuffled _copy_ of the array if an array is passed (meaning that the original array is left unchanged).$^4$\n",
    "\n",
    "\n",
    "> 4. [W3Schools: Random Permutations](https://www.w3schools.com/python/numpy_random_permutation.asp)\n"
   ]
  },
  {
   "cell_type": "markdown",
   "metadata": {},
   "source": [
    "_SHUFFLE_ vs _PERMUTATION_ \n",
    "\n",
    "1. One-Dimensional Array"
   ]
  },
  {
   "cell_type": "code",
   "execution_count": 23,
   "metadata": {},
   "outputs": [
    {
     "data": {
      "text/plain": [
       "array([ 28,  43,  58,  68,  17, 123, 117, 176,   6, 115,   9,  22,  59,\n",
       "        66,  73,  32,  49, 145,  33, 177, 197,  14,  46,  39, 118,  51,\n",
       "       168, 130, 102,  12,  21, 151, 155, 181,   0,  85, 178,  19,  57,\n",
       "        50, 111, 135,  37, 194, 187,  54, 198, 141, 110,  35, 122, 120,\n",
       "        29,   5,  36,  56, 154, 147,  78, 150, 129,   4,  83, 136, 105,\n",
       "       195,  69, 125, 128, 144,  23, 142, 191,  55,  10,  11,  86,  25,\n",
       "       143, 152,  16, 104, 112, 184, 119,  24,   2, 121, 108,  20, 163,\n",
       "        60,  88,  75, 158, 162, 124, 192, 180, 148, 138,  99,  92, 131,\n",
       "        65,  26,  71,  45,  89,  18,  41,  76,  31,  84, 165, 113,  38,\n",
       "        77, 174, 171,  52, 156, 160, 182,  95, 173,  67, 164, 127, 132,\n",
       "       172, 133, 114,  34,  87,  62,  27, 139, 134, 167,  64,  63,  79,\n",
       "        74, 188, 193, 106, 100, 185, 199,  97, 140, 196, 186,  44, 189,\n",
       "       183, 149,  30,  93, 157, 169, 190,  40, 109, 161, 126,  72,   8,\n",
       "        15,   3,  91,  53, 146, 166,  80, 101,   7, 179, 137,  47,   1,\n",
       "       159, 175, 107,  82,  96, 116,  90,  61, 103, 170, 153,  42,  48,\n",
       "        70,  94,  13,  98,  81])"
      ]
     },
     "execution_count": 23,
     "metadata": {},
     "output_type": "execute_result"
    }
   ],
   "source": [
    "# Generate an array between 0 and 199, inclusive:\n",
    "x = np.arange(200)\n",
    "\n",
    "# Shuffle its content.\n",
    "rng.shuffle(x)\n",
    "\n",
    "# Display the array.\n",
    "x"
   ]
  },
  {
   "cell_type": "code",
   "execution_count": 24,
   "metadata": {},
   "outputs": [
    {
     "data": {
      "text/plain": [
       "array([ 39, 115, 179,   6, 174,  81, 188, 151,  18,  19, 168,  34, 128,\n",
       "       162,  84, 175,  36,  13, 149,   7,   3, 199,   4,  73,  83, 161,\n",
       "        23,  51,  14,  47, 193, 160, 172, 153, 144, 130,  25, 102,  49,\n",
       "       114,  80, 137, 136, 109,  76, 110,   0, 104, 143,  30, 131,   2,\n",
       "        52,  59, 159,  38,  61,  62,  28,   5, 178,  96, 119, 186,  67,\n",
       "        46, 189,  55,  63,  69, 108,  72,  85, 141, 101,  27, 145, 194,\n",
       "       176, 140,  98,  91, 177, 171, 180,  58,  22, 132, 167, 146,  87,\n",
       "        64,   9, 156, 121, 169,  71,  99, 122, 191, 187,  88, 129, 181,\n",
       "        74, 111, 117,  37,  86, 158, 112, 152, 173,  21,  31,  68,  82,\n",
       "       196, 135, 154, 126, 164, 138, 100, 139,  29, 124,  26,  35, 183,\n",
       "        77, 190,  56, 125, 105,  44,  65, 127,  89, 150,  94, 142, 123,\n",
       "        42, 192,  24,  33,  11,  20,  90,  32,  41, 106,  10, 133,  12,\n",
       "       155,   8, 118,  17, 103,  70,  40,  54,  53,  60,  92, 197, 195,\n",
       "       170,  16,  97,   1, 163,  75,  50, 113,  57, 107,  43,  15,  95,\n",
       "       166, 184,  93, 182,  45, 134, 116,  66, 185, 120, 157, 147, 148,\n",
       "        78, 198,  48,  79, 165])"
      ]
     },
     "execution_count": 24,
     "metadata": {},
     "output_type": "execute_result"
    }
   ],
   "source": [
    "# Permute an array of 200 numbers between 0 and 199, inclusive:\n",
    "y = rng.permutation(200)\n",
    "\n",
    "# Display the array.\n",
    "y"
   ]
  },
  {
   "cell_type": "code",
   "execution_count": 25,
   "metadata": {},
   "outputs": [
    {
     "data": {
      "image/png": "[encoded data removed]",
      "text/plain": [
       "<Figure size 720x432 with 2 Axes>"
      ]
     },
     "metadata": {},
     "output_type": "display_data"
    }
   ],
   "source": [
    "# Change colour scheme.\n",
    "sns.set_palette(\"husl\")\n",
    "\n",
    "# Build the Shuffle plot one the left.\n",
    "plt.subplot(1, 2, 1)\n",
    "sns.histplot(x)\n",
    "\n",
    "# Set the title for the Shuffle plot.\n",
    "plt.title(\"Shuffle: 1-D array\")\n",
    "\n",
    "# Build the Permutation plot one the right.\n",
    "plt.subplot(1, 2, 2)\n",
    "sns.histplot(y)\n",
    "\n",
    "# Set the title for the Permutation plot.\n",
    "plt.title(\"Permutation: 1-D array\")\n",
    "\n",
    "# Show the plot.\n",
    "plt.show()"
   ]
  },
  {
   "cell_type": "markdown",
   "metadata": {},
   "source": [
    "2. Two-Dimensional Array"
   ]
  },
  {
   "cell_type": "code",
   "execution_count": 26,
   "metadata": {
    "scrolled": false
   },
   "outputs": [
    {
     "data": {
      "text/plain": [
       "array([[ 99,  45,  39,  93,   3,  52,  63,  86,  60,  98,   6,  89,  35,\n",
       "         87,  71,  95,  30,  69,  53,  61,  20,  68,  10,  46,  36,  26,\n",
       "         40,  43,  56,  34,  41,  24,  88,  96,  15,  27,  81,  58,   0,\n",
       "         29,  64,   8,   9,  92,  77,  67,  72,  50,  85,  11,  19,  32,\n",
       "         51,  80,  82,  65,  31,  91,  49,  18,  97,  73,  44,   1,  23,\n",
       "         21,  38,  22,  16,  12,  37,   4,   5,   7,  84,  59,  13,  17,\n",
       "         70,  57,  55,  54,  25,  33,  76,  42,  66,  62,  94,   2,  28,\n",
       "         47,  90,  74,  75,  48,  83,  78,  14,  79],\n",
       "       [199, 145, 139, 193, 103, 152, 163, 186, 160, 198, 106, 189, 135,\n",
       "        187, 171, 195, 130, 169, 153, 161, 120, 168, 110, 146, 136, 126,\n",
       "        140, 143, 156, 134, 141, 124, 188, 196, 115, 127, 181, 158, 100,\n",
       "        129, 164, 108, 109, 192, 177, 167, 172, 150, 185, 111, 119, 132,\n",
       "        151, 180, 182, 165, 131, 191, 149, 118, 197, 173, 144, 101, 123,\n",
       "        121, 138, 122, 116, 112, 137, 104, 105, 107, 184, 159, 113, 117,\n",
       "        170, 157, 155, 154, 125, 133, 176, 142, 166, 162, 194, 102, 128,\n",
       "        147, 190, 174, 175, 148, 183, 178, 114, 179]])"
      ]
     },
     "execution_count": 26,
     "metadata": {},
     "output_type": "execute_result"
    }
   ],
   "source": [
    "# Generate a 2-D array with 2 rows of 100 numbers between 0 and 199, inclusive:\n",
    "x = np.arange(200).reshape((2, 100))\n",
    "\n",
    "# Shuffle its content along the axis 1.\n",
    "rng.shuffle(x, axis=1)\n",
    "\n",
    "# Display the array.\n",
    "x"
   ]
  },
  {
   "cell_type": "code",
   "execution_count": 27,
   "metadata": {},
   "outputs": [
    {
     "data": {
      "text/plain": [
       "array([[ 85,  32,  35,  68,  25,  76,  62,   5,  13,  52,  30,   8,  36,\n",
       "          9,  34,  81,  53,  45,  29,  21,  94,  18,  98,  22,  44,  50,\n",
       "         78,  10,  17,  16,  27,  65,  64,  89,  51,  11,  33,  58,  88,\n",
       "         92,  74,  41,   0,  56,  60,  91,  70,  82,  28,  37,  61,   6,\n",
       "         48,  63,  46,  80,  40,  24,  95,   4,  90,  79,  96,  75,  59,\n",
       "         66,  57,  77,  69,  49,  86,  23,  83,  84,  87,  71,  72,  67,\n",
       "         99,   7,  15,  42,  54,   1,  20,  26,  12,  97,   3,  47,  19,\n",
       "         73,  39,  31,  43,  93,  14,  55,  38,   2],\n",
       "       [185, 132, 135, 168, 125, 176, 162, 105, 113, 152, 130, 108, 136,\n",
       "        109, 134, 181, 153, 145, 129, 121, 194, 118, 198, 122, 144, 150,\n",
       "        178, 110, 117, 116, 127, 165, 164, 189, 151, 111, 133, 158, 188,\n",
       "        192, 174, 141, 100, 156, 160, 191, 170, 182, 128, 137, 161, 106,\n",
       "        148, 163, 146, 180, 140, 124, 195, 104, 190, 179, 196, 175, 159,\n",
       "        166, 157, 177, 169, 149, 186, 123, 183, 184, 187, 171, 172, 167,\n",
       "        199, 107, 115, 142, 154, 101, 120, 126, 112, 197, 103, 147, 119,\n",
       "        173, 139, 131, 143, 193, 114, 155, 138, 102]])"
      ]
     },
     "execution_count": 27,
     "metadata": {},
     "output_type": "execute_result"
    }
   ],
   "source": [
    "# Generate a 2-D array with 2 rows of 200 numbers between 0 and 199, inclusive:\n",
    "a = np.arange(200).reshape((2, 100))\n",
    "\n",
    "# Copy the array and shuffle its content along the axis 1.\n",
    "y = rng.permutation(a, axis=1)\n",
    "\n",
    "# Display the array.\n",
    "y"
   ]
  },
  {
   "cell_type": "code",
   "execution_count": 28,
   "metadata": {},
   "outputs": [
    {
     "data": {
      "image/png": "[encoded data removed]",
      "text/plain": [
       "<Figure size 720x432 with 2 Axes>"
      ]
     },
     "metadata": {},
     "output_type": "display_data"
    }
   ],
   "source": [
    "# Build the Shuffle plot one the left.\n",
    "plt.subplot(1, 2, 1)\n",
    "for i in range(len(x)):\n",
    "    # Build the plot.\n",
    "    sns.histplot(x[i])\n",
    "\n",
    "# Set the title for the Shuffle plot.\n",
    "plt.title(\"Shuffle: 2-D array shuffled along the axis\")\n",
    "\n",
    "# Build the Permutation plot the right.\n",
    "plt.subplot(1, 2, 2)\n",
    "for i in range(len(y)):\n",
    "    # Build the plot.\n",
    "    sns.histplot(y[i])\n",
    "\n",
    "# Set the title for the Permutation plot.\n",
    "plt.title(\"Permutation: 2-D array shuffled along the axis\")\n",
    "\n",
    "# Show the plot.    \n",
    "plt.show()"
   ]
  },
  {
   "cell_type": "markdown",
   "metadata": {},
   "source": [
    "***\n",
    "<br>\n",
    "\n",
    "### “DISTRIBUTIONS” functions <a name=\"distributions\"></a>\n",
    "\n",
    "<img align=\"left\" width=\"300\" height=\"300\" src=\"https://cdn1.iconfinder.com/data/icons/data-science-flat-1/64/probability-distribution-normal-curve-statistics-data-512.png\">"
   ]
  },
  {
   "cell_type": "markdown",
   "metadata": {},
   "source": [
    "Probability distribution is a rule or a set of rules that outlines all the possible values that a random variable is likely to take within a given range. The precision of where values will be plotted on the probability distribution within this range depends on many factors, including the distribution's mean, standard deviation etc. [1]\n",
    "\n",
    "Statistically, probability distributions can be divided into two groups: Discrete and Continuous. This division depends on whether the data on which probability is calculated consists of discrete (with a range of countable values) or continuous (with a range of infinite (uncountable) values) variables. [2] [3]\n",
    "\n",
    "> 1. [Investopedia: Probability Distribution](https://www.investopedia.com/terms/p/probabilitydistribution.asp)\n",
    "2. [Statistics How To: Continuous Probability Distribution](https://www.statisticshowto.com/continuous-probability-distribution/)\n",
    "3. [Statistics How To: Discrete Probability Distribution](https://www.statisticshowto.com/discrete-probability-distribution/)\n"
   ]
  },
  {
   "cell_type": "markdown",
   "metadata": {},
   "source": [
    "<br>\n",
    "\n",
    "#### Discrete Probability Distribution <a name=\"discrete\"></a>\n",
    "\n",
    "##### Binomial.  <a name=\"binomial\"></a>\n",
    "\n",
    "A binomial distribution may have two possible outcomes: \"success\" or \"failure\" (hence \"binomial\").\n",
    "\n",
    "There are three properties that binomial distributions must have:\n",
    "\n",
    "1. The number of trials is fixed.\n",
    "2. Each trial is independent. \n",
    "3. The success probability is the same from one trial to another.  [1]\n",
    "\n",
    "There are many real-life instances of binomial distributions. For example, we can calculate a number of \"successes\" of a new medicine tested on a set of patients where the outcome for a given patient is either a success or a failure. [2] \n",
    "\n",
    "> 1. [Statistics How To: Binomial Distribution](https://www.statisticshowto.com/probability-and-statistics/binomial-theorem/binomial-distribution-formula/)\n",
    "2. [Boston University School of Public Health: The Binomial Distribution](https://sphweb.bumc.bu.edu/otlt/mph-modules/bs/bs704_probability/bs704_probability7.html#:~:text=The%20binomial%20distribution%20model%20allows,a%20success%20or%20a%20failure.)"
   ]
  },
  {
   "cell_type": "markdown",
   "metadata": {},
   "source": [
    "_Example: Flip a coin_\n",
    "\n",
    "<img align=\"left\" width=\"140\" height=\"250\" src=\"https://juliakovach.files.wordpress.com/2012/07/coin-toss.png\">\n"
   ]
  },
  {
   "cell_type": "code",
   "execution_count": 29,
   "metadata": {
    "scrolled": true
   },
   "outputs": [
    {
     "data": {
      "text/plain": [
       "array([ 9, 10, 12,  7, 11, 10, 11, 13, 11, 14,  9, 12,  8,  9, 11, 12,  7,\n",
       "       12, 12, 11, 11,  4, 11, 10, 12, 12, 12,  5,  8, 11,  9, 11,  9, 10,\n",
       "        9, 12,  8, 12,  9, 10, 13,  8,  9, 16, 10, 12,  8, 12,  7,  9, 13,\n",
       "        8,  7, 12, 10, 11,  8,  8, 12, 11,  9,  9, 10, 13, 13, 11, 12, 12,\n",
       "       10,  9, 14, 13,  8, 10, 11, 11, 13, 13, 12, 12,  7,  9, 10,  8, 10,\n",
       "        9,  8,  8, 12, 12,  8,  9,  8, 10, 10,  8, 15,  6, 11, 10,  7,  7,\n",
       "        8, 11, 10, 10, 11, 13, 10, 15,  9,  9, 10, 12,  8, 13, 14, 12, 12,\n",
       "       12, 14, 10, 11,  8, 10,  9,  9, 10, 10,  9,  7,  8,  9,  9, 12, 14,\n",
       "       13, 11, 12,  8, 12, 13, 10, 10,  8, 13, 12, 13,  7,  9, 12, 14, 12,\n",
       "        8, 12, 10, 12,  8,  8,  7, 11,  9,  8,  8, 12, 10, 12,  6, 13, 10,\n",
       "        8, 13,  8,  7,  6, 11, 11,  9, 10, 11,  9, 12,  9,  9, 11, 10, 10,\n",
       "       14,  9,  9, 10,  9,  8,  6,  8, 12, 12, 10,  8,  5,  8,  8, 10,  9,\n",
       "        5,  9,  4, 15, 11,  8, 13, 10,  6,  8, 11, 13, 12,  8, 10,  9, 10,\n",
       "       12, 10, 14,  9, 10,  8, 13, 11, 10,  9, 12, 13,  8,  7, 12,  7,  8,\n",
       "        9, 11,  9, 11, 11, 12,  8, 10, 11, 10,  8,  7, 10,  6, 12, 14, 12,\n",
       "       12,  8,  8,  7,  9, 10, 12,  8, 10, 10, 12, 12, 10, 13, 10, 10,  9,\n",
       "       11,  7, 10, 13,  6, 13, 13, 10, 12,  7, 10, 11, 11,  7, 13, 15, 10,\n",
       "       13, 12, 14,  9, 12, 11, 12, 13, 12, 10,  9,  5, 15, 10, 11, 10,  9,\n",
       "       10,  9, 12,  8,  7,  9,  9,  7, 11,  9,  4,  4, 10, 11, 11,  9, 11,\n",
       "        8,  6,  9,  9, 13,  8, 11,  9, 13, 11,  8, 11,  9,  6, 10, 13, 11,\n",
       "        8,  7, 11, 12, 16,  9,  8, 12,  7, 12,  7, 10,  9,  9,  8, 10, 10,\n",
       "        9, 11,  5, 12, 12, 10,  8, 10, 10, 14, 14, 12, 10, 10, 10,  8, 10,\n",
       "        7, 12, 12,  7,  7, 11, 10, 11, 13, 11, 12, 12, 13,  7,  7, 10, 11,\n",
       "        7, 10, 12, 12, 13,  7, 10,  6, 13, 13,  5, 12, 10,  7,  9,  9,  9,\n",
       "       11, 11, 12, 11, 12,  8,  9, 10, 10, 14,  7,  8, 12,  9, 11,  9, 11,\n",
       "       11,  8, 12,  8, 11, 11, 10,  9, 10, 13,  8,  8, 11, 12, 11, 12,  8,\n",
       "        6,  8, 15, 12, 13, 10,  9,  3,  9, 12,  9, 12, 11, 12, 13,  8,  9,\n",
       "       11, 12, 13, 12, 13, 14,  5,  6, 14, 13, 11, 12, 14,  5, 12, 10, 13,\n",
       "        7, 10, 10, 10, 11, 12, 12, 10, 12, 13, 12, 10, 11, 13, 10,  8, 13,\n",
       "        6,  9, 13, 10, 10, 10, 11,  6,  8, 10, 11,  9, 15, 10,  8, 10, 12,\n",
       "       11,  9, 11,  8, 11,  8, 12, 12, 12,  7,  7,  8, 11,  9, 13, 11, 11,\n",
       "       11,  9,  4,  8, 10,  9,  8,  9, 10,  9,  7,  7,  7,  7, 12, 13,  8,\n",
       "        8, 11, 10,  9, 13, 13,  9,  9, 12,  9, 16, 14,  8,  8,  8, 10, 10,\n",
       "       12,  9, 11,  8, 14, 11, 10,  8, 13,  7,  9, 12, 14, 12,  5, 10,  9,\n",
       "        8, 12,  9, 10, 15, 10,  9, 14, 14,  9, 13, 11,  8,  9, 12, 14,  7,\n",
       "       10, 14,  7, 11, 11, 12, 10,  9,  7, 14,  7,  8, 12, 12, 13, 11, 10,\n",
       "        6,  9,  5,  8,  8,  6,  9, 10, 13, 12, 13, 11,  8,  8, 13, 11, 14,\n",
       "       14, 12,  9, 10, 12,  9,  5, 11,  8, 10, 13, 11,  7,  7, 12, 11, 10,\n",
       "        8,  9,  6, 12, 11,  8, 11,  9, 11,  7, 14, 10,  8, 11,  6, 10, 11,\n",
       "       14,  7,  8, 11, 13, 11,  8,  9,  9,  7,  8,  7, 11,  8,  7,  7,  7,\n",
       "       13,  8,  6, 13, 11,  8, 13,  6, 10,  7,  7, 12, 10,  8, 14, 12,  9,\n",
       "       11, 12, 13,  5,  8,  8, 10,  9,  9,  7,  9,  8,  9,  6,  8, 10,  9,\n",
       "       11, 12, 13,  6, 13, 15, 12, 10, 10,  9, 10,  8,  7, 12, 10, 10,  7,\n",
       "       10, 10,  9, 13,  9, 13, 10,  9,  7,  7, 15,  8,  7, 10, 11, 12, 13,\n",
       "       12,  9, 10, 14, 12, 10,  9, 12, 15,  8, 13,  9, 12, 14,  9, 10, 10,\n",
       "        7,  8, 15,  7, 13,  8, 16, 17, 13, 10, 12, 12,  8, 10, 12,  5, 12,\n",
       "       11, 10, 11,  8,  9, 10,  9,  9,  9, 11, 11,  8, 10, 11, 12,  9,  9,\n",
       "       14, 12, 12, 10,  8,  9, 11,  9, 12, 10, 10,  8, 14, 16, 15, 12,  8,\n",
       "       12, 11, 12, 10, 11, 12, 12, 10,  7, 11,  5,  9,  9,  8,  5,  9, 12,\n",
       "       10,  8,  8, 12, 13, 10, 14,  8,  7,  7,  9,  8, 12,  9, 10,  8,  6,\n",
       "        8,  7,  5, 11, 10, 12,  9, 11,  9,  5, 12,  8,  9,  8, 11, 14, 13,\n",
       "       13, 13,  8,  9, 11,  6,  8,  8, 15, 10, 10, 11, 10, 11, 14, 11, 10,\n",
       "        7, 13,  7, 14,  6,  8,  9,  9, 12, 11,  9,  6, 12,  9, 12, 10, 11,\n",
       "       10,  9, 10, 12,  9, 14,  9, 10, 13, 14, 10, 12,  7, 11, 12,  9, 15,\n",
       "        9, 13,  9, 11,  7,  7, 10, 15, 10,  7, 10,  8,  8, 12, 14, 10, 11,\n",
       "        5, 11,  9,  8, 12,  8, 14, 10,  9,  8, 10, 12, 11, 14, 10, 10, 11,\n",
       "        5,  7, 11, 12,  8,  8,  6,  9, 11, 12, 10,  9,  8,  7, 10, 13, 11,\n",
       "       10, 11, 12, 10,  8, 14,  9, 11,  8, 13,  6, 11, 16, 11, 10,  8,  7,\n",
       "        9,  9,  7, 13, 10,  9,  7, 13,  9, 11, 11,  7,  9, 13],\n",
       "      dtype=int64)"
      ]
     },
     "execution_count": 29,
     "metadata": {},
     "output_type": "execute_result"
    }
   ],
   "source": [
    "# Flip a coin 20 times with a probability 0.5 of each trial.\n",
    "n, p = 20, 0.5\n",
    "\n",
    "# Test done 1000 times.\n",
    "x = rng.binomial(n, p, 1000)\n",
    "\n",
    "# Display the number of heads.\n",
    "x"
   ]
  },
  {
   "cell_type": "code",
   "execution_count": 30,
   "metadata": {},
   "outputs": [
    {
     "data": {
      "image/png": "[encoded data removed]",
      "text/plain": [
       "<Figure size 720x432 with 1 Axes>"
      ]
     },
     "metadata": {},
     "output_type": "display_data"
    }
   ],
   "source": [
    "# Change colour scheme.\n",
    "sns.set_palette(\"PuOr\")\n",
    "\n",
    "# Set the title and x label for the future plot.\n",
    "plt.title(f\"Binominal Distribution: Flip a coin {n} times\")\n",
    "plt.xlabel(\"Number of Heads\")\n",
    "\n",
    "# Build the plot.\n",
    "sns.histplot(x, stat=\"probability\")\n",
    "\n",
    "# Show the plot.\n",
    "plt.show()"
   ]
  },
  {
   "cell_type": "markdown",
   "metadata": {},
   "source": [
    "<br>\n",
    "\n",
    "_Example: Test of an antihistamine drug_\n",
    "\n",
    "<img align=\"left\" width=\"220\" height=\"80\" src=\"https://secure.webtoolhub.com/static/resources/icons/set33/254c1686.png\">"
   ]
  },
  {
   "cell_type": "markdown",
   "metadata": {},
   "source": [
    "If the medication is given to 10 patients suffering from allergies, what is the probability of its effectiveness to be exactly exactly 7 when 80% of adults report symptomatic relief with this medication?"
   ]
  },
  {
   "cell_type": "code",
   "execution_count": 31,
   "metadata": {},
   "outputs": [
    {
     "data": {
      "text/plain": [
       "array([7, 7, 9, ..., 6, 9, 6], dtype=int64)"
      ]
     },
     "execution_count": 31,
     "metadata": {},
     "output_type": "execute_result"
    }
   ],
   "source": [
    "# 10 new patients with allergies.\n",
    "n = 10\n",
    "\n",
    "# The probability of success for each person is 0.8.\n",
    "p = 0.8\n",
    "\n",
    "# Calculate the success rate.\n",
    "x = rng.binomial(n, p, 20000)\n",
    "\n",
    "# Display it\n",
    "x"
   ]
  },
  {
   "cell_type": "code",
   "execution_count": 32,
   "metadata": {},
   "outputs": [
    {
     "data": {
      "image/png": "[encoded data removed]",
      "text/plain": [
       "<Figure size 720x432 with 1 Axes>"
      ]
     },
     "metadata": {},
     "output_type": "display_data"
    }
   ],
   "source": [
    "# Set the title and x label for the future plot.\n",
    "plt.title(\"Binominal Distribution: Test of an antihistamine drug\")\n",
    "plt.xlabel(\"Patients\")\n",
    "\n",
    "# Build the plot.\n",
    "sns.histplot(x, stat=\"probability\")\n",
    "\n",
    "# Show the plot.\n",
    "plt.show()"
   ]
  },
  {
   "cell_type": "code",
   "execution_count": 33,
   "metadata": {},
   "outputs": [
    {
     "data": {
      "text/plain": [
       "0.2014"
      ]
     },
     "execution_count": 33,
     "metadata": {},
     "output_type": "execute_result"
    }
   ],
   "source": [
    "# Effectiveness of the grug is 7.\n",
    "s = 7\n",
    "\n",
    "# Calculate the probability when tested 20000 times.\n",
    "x = sum(rng.binomial(n, p, 20000) == s)/20000\n",
    "\n",
    "# Display the probability.\n",
    "x"
   ]
  },
  {
   "cell_type": "markdown",
   "metadata": {},
   "source": [
    "<br>\n",
    "\n",
    "##### Multinomial  <a name=\"multinomial\"></a>\n",
    "\n",
    "A multinomial distribution is generalization of binominal distribution with more than two outcomes (hence multinominal). [1]\n",
    "The multinominal distribution follows the same criteria as the binominal.\n",
    "\n",
    "> 1. [Statistics How To: Multinomial Distribution](https://www.statisticshowto.com/multinomial-distribution/)"
   ]
  },
  {
   "cell_type": "markdown",
   "metadata": {},
   "source": [
    "_Example: Throw a dice_\n",
    "\n",
    "<img align=\"left\" width=\"230\" height=\"80\" src=\"https://upload.wikimedia.org/wikipedia/commons/thumb/3/36/Two_red_dice_01.svg/671px-Two_red_dice_01.svg.png\">"
   ]
  },
  {
   "cell_type": "code",
   "execution_count": 34,
   "metadata": {},
   "outputs": [
    {
     "data": {
      "text/plain": [
       "array([[ 6, 11,  9,  8, 11, 15]], dtype=int64)"
      ]
     },
     "execution_count": 34,
     "metadata": {},
     "output_type": "execute_result"
    }
   ],
   "source": [
    "# Dice with 6 sides.\n",
    "d = [1/6.]\n",
    "\n",
    "# Throw it 60 times.\n",
    "n = 60\n",
    "\n",
    "# Compute a probability.\n",
    "x = rng.multinomial(n, d*6, size=1)\n",
    "\n",
    "# Display it\n",
    "x"
   ]
  },
  {
   "cell_type": "code",
   "execution_count": 35,
   "metadata": {},
   "outputs": [
    {
     "data": {
      "image/png": "[encoded data removed]",
      "text/plain": [
       "<Figure size 720x432 with 1 Axes>"
      ]
     },
     "metadata": {},
     "output_type": "display_data"
    }
   ],
   "source": [
    "# Change colour scheme.\n",
    "sns.set_palette(\"pastel\")\n",
    "\n",
    "# Set the title and x label for the future plot.\n",
    "plt.title(f\"Multinominal Distribution: Throw a dice {n} times\")\n",
    "plt.xlabel(\"Number of times the dice lands on each side\")\n",
    "\n",
    "# Build the plot.\n",
    "plt.hist(x, histtype=\"barstacked\")\n",
    "\n",
    "# New label to match the dice.\n",
    "labels = ['1','2','3','4','5','6']\n",
    "plt.legend(labels, title=\"Dice sides\")\n",
    "\n",
    "# Show the plot.\n",
    "plt.show()"
   ]
  },
  {
   "cell_type": "code",
   "execution_count": 36,
   "metadata": {},
   "outputs": [
    {
     "data": {
      "text/plain": [
       "array([[13, 10,  8, 12, 11,  6],\n",
       "       [10, 15,  8,  8,  8, 11]], dtype=int64)"
      ]
     },
     "execution_count": 36,
     "metadata": {},
     "output_type": "execute_result"
    }
   ],
   "source": [
    "# Throw it 60 times twice\n",
    "x = rng.multinomial(n, d*6, size=2)\n",
    "\n",
    "# Display the probability\n",
    "x"
   ]
  },
  {
   "cell_type": "code",
   "execution_count": 37,
   "metadata": {},
   "outputs": [
    {
     "data": {
      "image/png": "[encoded data removed]",
      "text/plain": [
       "<Figure size 720x432 with 1 Axes>"
      ]
     },
     "metadata": {},
     "output_type": "display_data"
    }
   ],
   "source": [
    "# Set the title and x label for the future plot.\n",
    "plt.title(f\"Multinominal Distribution: Throw a dice {n} times twice\")\n",
    "plt.xlabel(\"Number of times the dice lands on each side\")\n",
    "\n",
    "# Build the plot.\n",
    "plt.hist(x, histtype=\"barstacked\")\n",
    "\n",
    "# New label to match the dice.\n",
    "labels = ['1','2','3','4','5','6']\n",
    "plt.legend(labels, title=\"Dice sides\")\n",
    "\n",
    "# Show the plot.\n",
    "plt.show()"
   ]
  },
  {
   "cell_type": "code",
   "execution_count": 38,
   "metadata": {
    "scrolled": true
   },
   "outputs": [
    {
     "data": {
      "text/plain": [
       "array([16, 10, 17, 15, 17, 25], dtype=int64)"
      ]
     },
     "execution_count": 38,
     "metadata": {},
     "output_type": "execute_result"
    }
   ],
   "source": [
    "# Roll a loaded die (2/7 to land on 6).\n",
    "d = [1/7.]*5 + [2/7.]\n",
    "\n",
    "# Throw it 100 times.\n",
    "n = 100\n",
    "\n",
    "# Project the probability of it landing on 6.\n",
    "x = rng.multinomial(n, d)\n",
    "\n",
    "# Display it\n",
    "x"
   ]
  },
  {
   "cell_type": "code",
   "execution_count": 39,
   "metadata": {},
   "outputs": [
    {
     "data": {
      "image/png": "[encoded data removed]",
      "text/plain": [
       "<Figure size 720x432 with 1 Axes>"
      ]
     },
     "metadata": {},
     "output_type": "display_data"
    }
   ],
   "source": [
    "# Set the title and x label for the future plot.\n",
    "plt.title(f\"Multinominal Distribution: Throw a loaded die {n} times twice\")\n",
    "plt.xlabel(\"Number of times the loaded die lands on 6\")\n",
    "\n",
    "# Build the plot.\n",
    "sns.histplot(x, legend=False, stat=\"probability\")\n",
    "\n",
    "# Show the plot.\n",
    "plt.show()"
   ]
  },
  {
   "cell_type": "markdown",
   "metadata": {},
   "source": [
    "<br>\n",
    "\n",
    "##### Geometric   <a name=\"geometric\"></a>\n",
    "The geometric distribution represents one or more Bernoulli (binominal) trials with all failures excluding the last one, which results in success. Assumptions for the geometric distribution are the same as for binominal. [1] \n",
    "\n",
    "> 1. [Statistics How To: Geometric Distribution](https://www.statisticshowto.com/geometric-distribution/)"
   ]
  },
  {
   "cell_type": "markdown",
   "metadata": {},
   "source": [
    "_Example: Election_\n",
    "\n",
    "<img align=\"left\" width=\"230\" height=\"80\" src=\"https://encrypted-tbn0.gstatic.com/images?q=tbn%3AANd9GcSST1krcuDqRqW5PVb5TUOtmOk7UScWRDL2dtclHIm5VGqe4S0L3sD1WfoNJi5g4hxGDVgqs9sgvv8z69hnu50rs3ex4cv2mdC6z2UrkqA&usqp=CAU&ec=45714080\">"
   ]
  },
  {
   "cell_type": "markdown",
   "metadata": {},
   "source": [
    "If we ask ask people outside a polling station who they voted for, what is the probability of meeting someone that voted for an independent candidate on your 100th try assuuming that your probability of success is 15%."
   ]
  },
  {
   "cell_type": "code",
   "execution_count": 40,
   "metadata": {},
   "outputs": [
    {
     "data": {
      "text/plain": [
       "array([ 3,  2,  2,  4, 18, 12,  2, 24,  6,  3,  4, 10, 26,  6,  1,  4,  3,\n",
       "        4,  1,  9,  3, 11,  5,  2, 22,  7,  2,  1,  5,  7,  1, 12,  2,  1,\n",
       "       13,  3, 10, 14,  2,  3, 20,  2,  1, 18, 11,  2,  5, 11,  3,  2, 13,\n",
       "        8,  7,  2, 18,  4, 15,  7,  1,  4,  4,  3,  2,  1,  4,  4,  6,  4,\n",
       "       10,  1,  6,  1,  2,  2,  7,  3, 10,  7,  5, 28, 14,  5, 20,  7, 28,\n",
       "        3,  2,  9,  8,  3, 10,  5,  4, 13,  2,  7,  7,  8,  3,  5],\n",
       "      dtype=int64)"
      ]
     },
     "execution_count": 40,
     "metadata": {},
     "output_type": "execute_result"
    }
   ],
   "source": [
    "# The probability of an individual success is 0.15.\n",
    "p = 0.15\n",
    "\n",
    "# Do 100 trials.\n",
    "size = 100\n",
    "\n",
    "# Calculate the probability\n",
    "x = rng.geometric(p, size)\n",
    "\n",
    "# Display it\n",
    "x\n"
   ]
  },
  {
   "cell_type": "code",
   "execution_count": 41,
   "metadata": {},
   "outputs": [
    {
     "data": {
      "text/plain": [
       "0.1"
      ]
     },
     "execution_count": 41,
     "metadata": {},
     "output_type": "execute_result"
    }
   ],
   "source": [
    "# How many trials succeeded after a single run?\n",
    "y = (x == 1).sum() / 100.\n",
    "\n",
    "# Display the probability of success.\n",
    "y"
   ]
  },
  {
   "cell_type": "code",
   "execution_count": 42,
   "metadata": {},
   "outputs": [
    {
     "data": {
      "image/png": "[encoded data removed]",
      "text/plain": [
       "<Figure size 720x432 with 1 Axes>"
      ]
     },
     "metadata": {},
     "output_type": "display_data"
    }
   ],
   "source": [
    "# Change colour scheme.\n",
    "sns.set_palette(\"Paired\")\n",
    "\n",
    "# Set the title and x label for the future plot.\n",
    "plt.title(f\"Geometric Distribution: Find an independent candidate on your {size}th try\")\n",
    "\n",
    "# Build the plot.\n",
    "sns.histplot(x, stat=\"probability\", kde=True)\n",
    "\n",
    "# Show the plot.\n",
    "plt.show()"
   ]
  },
  {
   "cell_type": "markdown",
   "metadata": {},
   "source": [
    "##### Hypergeometric  <a name=\"hypergeometric\"></a>"
   ]
  },
  {
   "cell_type": "markdown",
   "metadata": {},
   "source": [
    "##### Poisson  <a name=\"poisson\"></a>"
   ]
  },
  {
   "cell_type": "markdown",
   "metadata": {},
   "source": [
    "***\n",
    "<br>\n",
    "\n",
    "#### Continuous Probability Distribution  <a name=\"continuous\"></a>\n",
    "##### Uniform <a name=\"uniform\"></a>"
   ]
  },
  {
   "cell_type": "code",
   "execution_count": 43,
   "metadata": {},
   "outputs": [],
   "source": [
    "x = rng.uniform(-10,1000,10000)"
   ]
  },
  {
   "cell_type": "code",
   "execution_count": 44,
   "metadata": {},
   "outputs": [
    {
     "data": {
      "text/plain": [
       "(array([1005., 1031.,  982., 1019., 1078.,  985.,  978., 1002.,  907.,\n",
       "        1013.]), array([ -9.61922245,  91.33485371, 192.28892987, 293.24300602,\n",
       "        394.19708218, 495.15115834, 596.1052345 , 697.05931066,\n",
       "        798.01338682, 898.96746298, 999.92153914]), <a list of 10 Patch objects>)"
      ]
     },
     "execution_count": 44,
     "metadata": {},
     "output_type": "execute_result"
    },
    {
     "data": {
      "image/png": "[encoded data removed]",
      "text/plain": [
       "<Figure size 720x432 with 1 Axes>"
      ]
     },
     "metadata": {},
     "output_type": "display_data"
    }
   ],
   "source": [
    "plt.hist(x)"
   ]
  },
  {
   "cell_type": "markdown",
   "metadata": {},
   "source": [
    "##### Normal <a name=\"normal\"></a>"
   ]
  },
  {
   "cell_type": "code",
   "execution_count": 45,
   "metadata": {},
   "outputs": [],
   "source": [
    "x = rng.normal(0, 0.1, 10000) # values centered around 0"
   ]
  },
  {
   "cell_type": "code",
   "execution_count": 46,
   "metadata": {},
   "outputs": [
    {
     "data": {
      "text/plain": [
       "(array([  11.,  104.,  470., 1469., 2604., 2845., 1715.,  631.,  136.,\n",
       "          15.]),\n",
       " array([-0.378021  , -0.30392752, -0.22983404, -0.15574056, -0.08164708,\n",
       "        -0.0075536 ,  0.06653988,  0.14063336,  0.21472684,  0.28882032,\n",
       "         0.3629138 ]),\n",
       " <a list of 10 Patch objects>)"
      ]
     },
     "execution_count": 46,
     "metadata": {},
     "output_type": "execute_result"
    },
    {
     "data": {
      "image/png": "[encoded data removed]",
      "text/plain": [
       "<Figure size 720x432 with 1 Axes>"
      ]
     },
     "metadata": {},
     "output_type": "display_data"
    }
   ],
   "source": [
    "plt.hist(x)"
   ]
  },
  {
   "cell_type": "markdown",
   "metadata": {},
   "source": [
    "##### Lognormal (investment) <a name=\"lognormal\"></a>"
   ]
  },
  {
   "cell_type": "markdown",
   "metadata": {},
   "source": [
    "\n",
    "##### Exponential <a name=\"exponential\"></a>"
   ]
  },
  {
   "cell_type": "markdown",
   "metadata": {},
   "source": [
    "### SEEDS  <a name=\"seeds\"></a> "
   ]
  }
 ],
 "metadata": {
  "kernelspec": {
   "display_name": "Python 3",
   "language": "python",
   "name": "python3"
  },
  "language_info": {
   "codemirror_mode": {
    "name": "ipython",
    "version": 3
   },
   "file_extension": ".py",
   "mimetype": "text/x-python",
   "name": "python",
   "nbconvert_exporter": "python",
   "pygments_lexer": "ipython3",
   "version": "3.7.4"
  }
 },
 "nbformat": 4,
 "nbformat_minor": 2
}
