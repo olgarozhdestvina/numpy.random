{
 "cells": [
  {
   "cell_type": "markdown",
   "metadata": {},
   "source": [
    "# The numpy.random package \n",
    "\n",
    "\n",
    "[ Programming for Data Analysis Module GMIT 2020 ]\n",
    "\n",
    "\n",
    "<img align=\"left\" width=\"200\" height=\"200\" src=\"https://upload.wikimedia.org/wikipedia/commons/thumb/3/31/NumPy_logo_2020.svg/1024px-NumPy_logo_2020.svg.png\">\n"
   ]
  },
  {
   "cell_type": "markdown",
   "metadata": {},
   "source": [
    "Completed by: *Olga Rozhdestvina (G00387844@gmit.ie)*\n",
    "***\n",
    "\n",
    "## Table of Contents\n",
    "* [Purpose of the package](#purpose)\n",
    "* [“Simple random data” and “Permutations” functions](#functions)\n",
    "    * [Simple random data](#srd)\n",
    "        * [Integers](#integers)\n",
    "        * [Random](#random)\n",
    "        * [Choice](#choice)\n",
    "        * [Bytes](#bytes)\n",
    "    * [Permutations](#permutations)\n",
    "* [“Distributions” functions](#distributions)\n",
    "    * [Discrete Probability Distribution](#discrete)\n",
    "        * [Binominal](#binominal)\n",
    "        * [Multinomial](#multinomial)\n",
    "        * [Geometric](#geometric)\n",
    "        * [Poisson](#poisson)\n",
    "    * [Continuous Probability Distribution](#continuous)\n",
    "        * [Uniform](#uniform)\n",
    "        * [Normal](#normal)\n",
    "        * [Logistic](#logistic)\n",
    "        * [Exponential](#exponential)\n",
    "        \n",
    "        \n",
    "* [Seeds](#seeds)\n",
    "\n",
    "***"
   ]
  },
  {
   "cell_type": "markdown",
   "metadata": {},
   "source": [
    "### Purpose of the package <a name=\"purpose\"></a>"
   ]
  },
  {
   "cell_type": "markdown",
   "metadata": {},
   "source": [
    "First of all let's remind ourselves a what random number is. It doesn't mean a different number every time, but a number that can not be logically predicted. And those random numbers that are produced through a generating algorithm are called pseudorandom. [1] The _numpy.random_ package is based on a pseudorandom number generator, or PRNG, and comes as supplemental for [the built-in Python random package](https://docs.python.org/3/library/random.html). It is used for efficient generation of whole arrays of random values from various probability distributions. [2] [3]\n",
    "\n",
    "> 1. [DataCamp: Random Number Generator Using Numpy](https://www.datacamp.com/community/tutorials/numpy-random)\n",
    "2. [Wes McKinney: Python for Data Analysis ](https://www.oreilly.com/library/view/python-for-data/9781449323592/)\n",
    "3. [NumPy: numpy.random](https://numpy.org/doc/stable/reference/random/)"
   ]
  },
  {
   "cell_type": "code",
   "execution_count": 1,
   "metadata": {},
   "outputs": [],
   "source": [
    "# Import the numpy package.\n",
    "import numpy as np\n",
    "# Package for plotting.\n",
    "import matplotlib.pyplot as plt\n",
    "# Another package for plotting.\n",
    "import seaborn as sns\n"
   ]
  },
  {
   "cell_type": "code",
   "execution_count": 2,
   "metadata": {},
   "outputs": [],
   "source": [
    "# Colour scheme and styles for plots.\n",
    "sns.set_theme(palette=\"Set2\", context=\"paper\", font_scale=1.5)\n",
    "\n",
    "# Better sized plots.\n",
    "plt.rcParams['figure.figsize'] = (10, 6)"
   ]
  },
  {
   "cell_type": "code",
   "execution_count": 3,
   "metadata": {},
   "outputs": [],
   "source": [
    "# Get an instance of generator.\n",
    "rng = np.random.default_rng()"
   ]
  },
  {
   "cell_type": "markdown",
   "metadata": {},
   "source": [
    "***\n",
    "<br>\n",
    "\n",
    "### “SIMPLE RANDOM DATA” and “PERMUTATIONS” functions <a name=\"functions\"></a>"
   ]
  },
  {
   "cell_type": "markdown",
   "metadata": {},
   "source": [
    "#### Simple random data <a name=\"srd\"></a>\n",
    "\n",
    "\n",
    "<img align=\"left\" width=\"302\" height=\"420\" src=\"https://www.netquest.com/hubfs/Imported_Blog_Media/smallnumbers-1.png\">\n"
   ]
  },
  {
   "cell_type": "markdown",
   "metadata": {},
   "source": [
    "* _INTEGERS_ <a name=\"integers\"></a>\n",
    " \n",
    "Numpy.random package can be used for generating random integers. The examples below depict that this method can output a single integer, one-dimensional or two-dimensional arrays.\n",
    "\n",
    "1. A single integer"
   ]
  },
  {
   "cell_type": "code",
   "execution_count": 4,
   "metadata": {},
   "outputs": [
    {
     "data": {
      "text/plain": [
       "563"
      ]
     },
     "execution_count": 4,
     "metadata": {},
     "output_type": "execute_result"
    }
   ],
   "source": [
    "# Call the generator to obtain a random integer.\n",
    "x = rng.integers(1000)\n",
    "\n",
    "# Display the number.\n",
    "x"
   ]
  },
  {
   "cell_type": "markdown",
   "metadata": {},
   "source": [
    "2. One-dimensional array"
   ]
  },
  {
   "cell_type": "code",
   "execution_count": 5,
   "metadata": {},
   "outputs": [
    {
     "data": {
      "text/plain": [
       "array([204,  83, 356, 470, 426, 828, 966, 446, 214, 189, 321, 212, 969,\n",
       "       704, 301, 806, 890, 997, 923,  36, 131, 889, 149, 393, 653, 553,\n",
       "       864, 528, 531, 209, 696, 840, 534, 374, 251, 247, 876, 110, 188,\n",
       "       362, 594, 156, 856, 566, 628,  24, 516, 312, 759, 451, 687, 655,\n",
       "       796, 546, 385, 415, 938, 450, 930, 516, 873,  10, 752,   3, 791,\n",
       "       729, 916, 798, 689, 979, 675, 955, 421,  14, 675, 889, 553, 335,\n",
       "       360, 989, 698, 446, 375,  29, 252, 104, 511, 145, 912, 942, 523,\n",
       "       313, 713, 745, 153, 564,  15, 615, 242, 824, 835, 346, 302, 466,\n",
       "       174, 110,   7, 996, 670, 279, 731, 604, 186, 755, 635, 983,  78,\n",
       "        58, 516, 205,  94,   3, 173, 479, 327, 654, 445, 240, 451, 918,\n",
       "        69, 159, 350, 282, 408, 186, 203, 104, 944,  62, 325, 981, 217,\n",
       "       630, 512, 246, 259, 261, 214, 520, 790, 290, 717, 226, 971, 197,\n",
       "       855, 788, 672, 444, 613, 200, 291, 656, 109, 146, 603, 884, 426,\n",
       "        92, 741, 706, 692,   3, 979, 488, 460, 895, 968, 917, 443, 545,\n",
       "       552,  73, 374, 333, 324,  61, 606, 251, 451,  47, 659, 338,  41,\n",
       "       132,  78, 449, 204, 806], dtype=int64)"
      ]
     },
     "execution_count": 5,
     "metadata": {},
     "output_type": "execute_result"
    }
   ],
   "source": [
    "# Generate 200 numbers between 0 and 999, inclusive:\n",
    "x = rng.integers(1000, size=200)\n",
    "\n",
    "# Display the array.\n",
    "x"
   ]
  },
  {
   "cell_type": "code",
   "execution_count": 6,
   "metadata": {},
   "outputs": [
    {
     "data": {
      "image/png": "[encoded data removed]",
      "text/plain": [
       "<Figure size 720x432 with 1 Axes>"
      ]
     },
     "metadata": {},
     "output_type": "display_data"
    }
   ],
   "source": [
    "# Set the title for the future plot.\n",
    "plt.title(\"Integers Method: 1-D array\")\n",
    "\n",
    "# Plot the array.\n",
    "sns.histplot(x)\n",
    "\n",
    "# Show the plot.\n",
    "plt.show()"
   ]
  },
  {
   "cell_type": "markdown",
   "metadata": {},
   "source": [
    "3. Two-dimensional array"
   ]
  },
  {
   "cell_type": "code",
   "execution_count": 7,
   "metadata": {},
   "outputs": [
    {
     "data": {
      "text/plain": [
       "array([[25, 64, 87, 38, 84,  6, 65],\n",
       "       [73, 55, 14,  0, 58, 85, 56],\n",
       "       [21, 90, 62, 30, 73, 57, 36],\n",
       "       [17, 31, 23, 34, 66, 36, 22],\n",
       "       [87, 39, 27, 49, 68, 75, 53]], dtype=int64)"
      ]
     },
     "execution_count": 7,
     "metadata": {},
     "output_type": "execute_result"
    }
   ],
   "source": [
    "# Generate a 2-D array with 5 rows containing 7 integers between 0 and 99, inclusive:\n",
    "x = rng.integers(100, size=(5, 7))\n",
    "\n",
    "# Display the array.\n",
    "x"
   ]
  },
  {
   "cell_type": "code",
   "execution_count": 8,
   "metadata": {},
   "outputs": [
    {
     "data": {
      "image/png": "[encoded data removed]",
      "text/plain": [
       "<Figure size 720x432 with 1 Axes>"
      ]
     },
     "metadata": {},
     "output_type": "display_data"
    }
   ],
   "source": [
    "# Set the title for the future plot.\n",
    "plt.title(\"Integers Method: 2-D array\")\n",
    "\n",
    "# Loop through the rows in the array.\n",
    "\n",
    "sns.set()\n",
    "# Loop through the rows in the array.\n",
    "for i in range(len(x)):\n",
    "    # Build the plot.\n",
    "    plt.hist(x[i], histtype=\"stepfilled\", alpha=0.8)\n",
    "    \n",
    "# Show the plot.    \n",
    "plt.show()"
   ]
  },
  {
   "cell_type": "markdown",
   "metadata": {},
   "source": [
    "<br>\n",
    "\n",
    "- _RANDOM_ <a name=\"random\"></a>\n",
    "\n",
    "With this method numPy produces random floats and output vary from a single float number to one-dimensional or two-dimensional arrays. If not specified otherwise, floats are sampled from the interval between 0.0 and 1.0 (exclusively).\n",
    "\n",
    "1. A single float"
   ]
  },
  {
   "cell_type": "code",
   "execution_count": 9,
   "metadata": {},
   "outputs": [
    {
     "data": {
      "text/plain": [
       "0.9483143716587024"
      ]
     },
     "execution_count": 9,
     "metadata": {},
     "output_type": "execute_result"
    }
   ],
   "source": [
    "# Generate a single float number:\n",
    "x = rng.random()\n",
    "\n",
    "# Display the float.\n",
    "x"
   ]
  },
  {
   "cell_type": "markdown",
   "metadata": {},
   "source": [
    "2. One-dimensional array"
   ]
  },
  {
   "cell_type": "code",
   "execution_count": 10,
   "metadata": {},
   "outputs": [
    {
     "data": {
      "text/plain": [
       "array([0.09382265, 0.62561181, 0.00625807, 0.48991777, 0.10114653,\n",
       "       0.11906353, 0.74470489, 0.95907589, 0.48746878, 0.5388619 ,\n",
       "       0.09750916, 0.69438807, 0.01035178, 0.44322032, 0.81139026,\n",
       "       0.66978072, 0.08155789, 0.66328   , 0.46210872, 0.90549091,\n",
       "       0.14266275, 0.80648888, 0.49577728, 0.21773179, 0.27963818,\n",
       "       0.14145797, 0.97823336, 0.35070285, 0.29963231, 0.11679165,\n",
       "       0.28979218, 0.83951474, 0.08187035, 0.67730493, 0.1075865 ,\n",
       "       0.04319545, 0.15466952, 0.21402441, 0.48420177, 0.80668578])"
      ]
     },
     "execution_count": 10,
     "metadata": {},
     "output_type": "execute_result"
    }
   ],
   "source": [
    "# Generate 40 floats:\n",
    "x = rng.random((40,))\n",
    "\n",
    "# Display the array.\n",
    "x"
   ]
  },
  {
   "cell_type": "code",
   "execution_count": 11,
   "metadata": {},
   "outputs": [
    {
     "data": {
      "image/png": "[encoded data removed]",
      "text/plain": [
       "<Figure size 720x432 with 1 Axes>"
      ]
     },
     "metadata": {},
     "output_type": "display_data"
    }
   ],
   "source": [
    "# Set the title for the future plot.\n",
    "plt.title(\"Random Method: 1-D array\")\n",
    "\n",
    "# Change colour scheme.\n",
    "sns.set_palette(\"rocket\")\n",
    "\n",
    "# Build the plot.\n",
    "sns.histplot(x)\n",
    "\n",
    "# Show the plot.\n",
    "plt.show()"
   ]
  },
  {
   "cell_type": "markdown",
   "metadata": {},
   "source": [
    "3. Two-dimensional array"
   ]
  },
  {
   "cell_type": "code",
   "execution_count": 12,
   "metadata": {},
   "outputs": [
    {
     "data": {
      "text/plain": [
       "array([[ -1.05082032, -66.75285638, -16.59138406, -89.04749009,\n",
       "        -94.82510543, -35.78367049, -71.33399347, -97.92715455,\n",
       "        -57.79230275, -42.5277415 , -76.85163075, -38.53624551,\n",
       "        -36.99820674, -51.82556217, -79.03726283,  -2.09640094,\n",
       "        -27.11636753,  -1.50158092, -53.78659411, -87.43908161,\n",
       "        -59.61761173, -87.36867949,  -0.61986277, -47.20079893,\n",
       "        -30.65698   , -54.84237455, -36.74347678, -12.53273438,\n",
       "        -77.6254079 , -56.58192699],\n",
       "       [-50.78512241, -65.63313467,  -0.11438552, -41.02638587,\n",
       "        -56.40086614, -92.80356587, -66.98907136, -75.48114315,\n",
       "        -93.26723235, -47.9845263 ,  -9.5327135 , -84.0800923 ,\n",
       "        -87.10559269, -90.54510751, -10.99272538, -52.62674021,\n",
       "        -48.85413787, -98.30435195, -63.10530966, -62.65277765,\n",
       "         -6.43340386, -25.68811499, -54.56033108,  -2.21502553,\n",
       "        -51.29207947, -96.32860236, -60.14177918, -50.27766279,\n",
       "         -8.50430753, -62.59962932]])"
      ]
     },
     "execution_count": 12,
     "metadata": {},
     "output_type": "execute_result"
    }
   ],
   "source": [
    "# Generate a 2-D array with 2 rows containing 30 floats between -100 and 0, exclusive:\n",
    "x = 100 * rng.random((2, 30)) - 100\n",
    "\n",
    "# Display the array.\n",
    "x"
   ]
  },
  {
   "cell_type": "code",
   "execution_count": 13,
   "metadata": {},
   "outputs": [
    {
     "data": {
      "image/png": "[encoded data removed]",
      "text/plain": [
       "<Figure size 720x432 with 1 Axes>"
      ]
     },
     "metadata": {},
     "output_type": "display_data"
    }
   ],
   "source": [
    "# Set the title for the future plot.\n",
    "plt.title(\"Random Method: 2-D array\")\n",
    "\n",
    "sns.set()\n",
    "# Loop through the rows in the array.\n",
    "for i in range(len(x)):\n",
    "    # Build the plot.\n",
    "    plt.hist(x[i], histtype=\"stepfilled\", alpha=0.5)\n",
    "    \n",
    "# Show the plot.    \n",
    "plt.show()"
   ]
  },
  {
   "cell_type": "markdown",
   "metadata": {},
   "source": [
    "<br>\n",
    "\n",
    "- _CHOICE_ <a name=\"choice\"></a>\n",
    "\n",
    "The choice method generates random numbers from a given integer or one-dimensional array (of integers or strings). If not specified otherwise, the output assumes a uniform distribution over all entries in the given array. (refer to [“Distributions” functions](#distributions) )\n",
    "\n",
    " 1. Uniform distribution (default)."
   ]
  },
  {
   "cell_type": "code",
   "execution_count": 14,
   "metadata": {},
   "outputs": [
    {
     "data": {
      "text/plain": [
       "array([6, 5, 2, 7, 9, 5, 4, 0, 1], dtype=int64)"
      ]
     },
     "execution_count": 14,
     "metadata": {},
     "output_type": "execute_result"
    }
   ],
   "source": [
    "# Generate 9 evenly spaced values between 0 and 9 (inclusive) (np.arange(10)).\n",
    "x = rng.choice(10, 9)\n",
    "\n",
    "# Display the array.\n",
    "x"
   ]
  },
  {
   "cell_type": "code",
   "execution_count": 15,
   "metadata": {},
   "outputs": [
    {
     "data": {
      "image/png": "[encoded data removed]",
      "text/plain": [
       "<Figure size 720x432 with 1 Axes>"
      ]
     },
     "metadata": {},
     "output_type": "display_data"
    }
   ],
   "source": [
    "# Set the title for the future plot.\n",
    "plt.title(\"Choice Method: Uniform distribution\")\n",
    "\n",
    "# Change colour scheme.\n",
    "sns.set_palette(\"flare\")\n",
    "\n",
    "# Build the plot.\n",
    "sns.histplot(x)\n",
    "\n",
    "# Show the plot.\n",
    "plt.show()"
   ]
  },
  {
   "cell_type": "code",
   "execution_count": 16,
   "metadata": {},
   "outputs": [
    {
     "data": {
      "text/plain": [
       "array([1, 0, 3, 8, 6, 5, 4, 7, 9], dtype=int64)"
      ]
     },
     "execution_count": 16,
     "metadata": {},
     "output_type": "execute_result"
    }
   ],
   "source": [
    "# Generate 9 UNIQUE random numbers from np.arange(10): \n",
    "x = rng.choice(10, 9, replace=False)\n",
    "\n",
    "# Display the array.\n",
    "x"
   ]
  },
  {
   "cell_type": "code",
   "execution_count": 17,
   "metadata": {},
   "outputs": [
    {
     "data": {
      "image/png": "[encoded data removed]",
      "text/plain": [
       "<Figure size 720x432 with 1 Axes>"
      ]
     },
     "metadata": {},
     "output_type": "display_data"
    }
   ],
   "source": [
    "# Set the title for the future plot.\n",
    "plt.title(\"Choice Method: Uniform distribution of unique numbers\")\n",
    "\n",
    "# Build the plot.\n",
    "sns.histplot(x)\n",
    "\n",
    "# Show the plot.\n",
    "plt.show()"
   ]
  },
  {
   "cell_type": "markdown",
   "metadata": {},
   "source": [
    " 2. Non-uniform distribution. \n",
    " \n",
    " Requires provision of probability $p$ of each entry in a given array to appear in the output. \n",
    " \n",
    " Note that $p$:\n",
    "    - has to be of the same size as a given array;\n",
    "    - sum of $p$ elements has to be 1;\n",
    "    - non-zero entries in $p$ has to be same as size."
   ]
  },
  {
   "cell_type": "code",
   "execution_count": 18,
   "metadata": {},
   "outputs": [
    {
     "data": {
      "text/plain": [
       "array([7, 7, 5, 1, 0, 0, 6, 5, 7], dtype=int64)"
      ]
     },
     "execution_count": 18,
     "metadata": {},
     "output_type": "execute_result"
    }
   ],
   "source": [
    "# Generate 9 evenly spaced values between 0 and 9 (inclusive) (np.arange(10)) with provided p:\n",
    "x = rng.choice(10, 9, p=[0.1, 0.1, 0.1, 0.1, 0.1, 0.2, 0.1, 0.1, 0, 0.1])\n",
    "\n",
    "# Display the array.\n",
    "x"
   ]
  },
  {
   "cell_type": "code",
   "execution_count": 19,
   "metadata": {},
   "outputs": [
    {
     "data": {
      "image/png": "[encoded data removed]",
      "text/plain": [
       "<Figure size 720x432 with 1 Axes>"
      ]
     },
     "metadata": {},
     "output_type": "display_data"
    }
   ],
   "source": [
    "# Set the title for the future plot.\n",
    "plt.title(\"Choice Method: Non-Uniform distribution\")\n",
    "\n",
    "# Build the plot.\n",
    "sns.histplot(x)\n",
    "\n",
    "# Show the plot.\n",
    "plt.show()"
   ]
  },
  {
   "cell_type": "code",
   "execution_count": 20,
   "metadata": {},
   "outputs": [
    {
     "data": {
      "text/plain": [
       "array([5, 7, 9, 1, 6, 0, 3, 2, 4], dtype=int64)"
      ]
     },
     "execution_count": 20,
     "metadata": {},
     "output_type": "execute_result"
    }
   ],
   "source": [
    "# Generate 9 evenly spaced values between 0 and 9 (inclusive) (np.arange(10)) with provided p:\n",
    "x = rng.choice(10, 9, replace=False, p=[0.1, 0.1, 0.1, 0.1, 0.1, 0.2, 0.1, 0.1, 0, 0.1])\n",
    "\n",
    "# Display the array.\n",
    "x"
   ]
  },
  {
   "cell_type": "code",
   "execution_count": 21,
   "metadata": {},
   "outputs": [
    {
     "data": {
      "image/png": "[encoded data removed]",
      "text/plain": [
       "<Figure size 720x432 with 1 Axes>"
      ]
     },
     "metadata": {},
     "output_type": "display_data"
    }
   ],
   "source": [
    "# Set the title for the future plot.\n",
    "plt.title(\"Choice Method: Non-Uniform distribution of unique numbers\")\n",
    "\n",
    "# Build the plot.\n",
    "sns.histplot(x)\n",
    "\n",
    "# Show the plot.\n",
    "plt.show()"
   ]
  },
  {
   "cell_type": "markdown",
   "metadata": {},
   "source": [
    "- _BYTES_ <a name=\"bytes\"></a>\n",
    "\n",
    "This NumPy random method returns random bytes."
   ]
  },
  {
   "cell_type": "code",
   "execution_count": 22,
   "metadata": {},
   "outputs": [
    {
     "data": {
      "text/plain": [
       "b'QZ\\r7\\xc81\\xc3\\xa6\\xcfj\\x94\\xc7\\x9f&\\xbek<\\xf4\\x0c\\xbd\\xce\\xf6\\xc9\\xcb@\\xf3\\xd5\\x80R\\xdbN\\x1e\\x98\\x86\\x0b\\xef\\xf9\\x9dR\\x8e\\xdf\\xbd\\xd1fOm\\xde\\x8d\\x0f\\x1b\\xa5Zi|\\x9dHG\\xdc\\x809\\x9c\\xe7\\x08\\x1bh\\x8f\\x82\\x93C\\xdeE=2q\\xf2b\\xa5\\xf8\\xf8!\\xe7\\xbb\\xe0.@\\xe9>H%\\xa52\\n\\xbf\\xd1\\xfew\\xf6W\\x96\\xb5'"
      ]
     },
     "execution_count": 22,
     "metadata": {},
     "output_type": "execute_result"
    }
   ],
   "source": [
    "# Generate 100 random bytes:\n",
    "x = rng.bytes(100)\n",
    "\n",
    "# Display the array.\n",
    "x"
   ]
  },
  {
   "cell_type": "markdown",
   "metadata": {},
   "source": [
    "***\n",
    "<br>\n",
    "\n",
    "#### Permutations <a name=\"permutations\"></a>\n",
    "\n",
    "\n",
    "<img align=\"left\" width=\"200\" height=\"300\" src=\"https://upload.wikimedia.org/wikipedia/commons/3/39/Combination_unlocked.png\">"
   ]
  },
  {
   "cell_type": "markdown",
   "metadata": {},
   "source": [
    "Generally speaking, in NumPy, both permutation and shuffle methods randomly shuffle elements in an array, which results in the same output when plotting (see below). However, there are some differences in these methods. \n",
    "\n",
    "The Shuffle method changes arrangement of elements inplace, i.e. in the array itself. On the other hand, the Permutation method produces a shuffled range if integer is passed or a shuffled _copy_ of the array if an array is passed (meaning that the original array is left unchanged).$^4$\n",
    "\n",
    "\n",
    "> 4. [W3Schools: Random Permutations](https://www.w3schools.com/python/numpy_random_permutation.asp)\n"
   ]
  },
  {
   "cell_type": "markdown",
   "metadata": {},
   "source": [
    "_SHUFFLE_ vs _PERMUTATION_ \n",
    "\n",
    "1. One-Dimensional Array"
   ]
  },
  {
   "cell_type": "code",
   "execution_count": 23,
   "metadata": {},
   "outputs": [
    {
     "data": {
      "text/plain": [
       "array([120,  35, 100, 182,  38,  22, 125,  34,  47, 143, 199,  48, 142,\n",
       "       149, 154, 108,  87,  82, 124, 188,  29,  70, 166,  84, 101,  65,\n",
       "        49,  39,  44,  19, 167, 104,  57, 163, 162,  17,  42,  80,  56,\n",
       "        33, 102, 103, 152, 122, 130, 133,  95,  26,  54,  21, 189, 192,\n",
       "       151, 112,  28, 172,  63,  76, 196,  41,  90, 155, 165, 114,  50,\n",
       "       168,  64, 157,  18, 117, 176,  75, 183,  20,   7,   3,  72, 169,\n",
       "       175,  99, 111,  97, 105,  46, 186, 148, 119, 131, 110, 116,  16,\n",
       "         0,  83, 150,  91, 128,  52,   6,  13, 134, 144, 135,  45, 193,\n",
       "         9, 140, 107,  74, 138,  58,  77,  37, 161, 132,   4, 185,  73,\n",
       "        55, 126, 171, 170, 127,  27, 191, 145,  23,  59,  15,  61, 106,\n",
       "        81,  36, 164, 174,  96, 190,  66,  40, 178,  60,  12,  51,  94,\n",
       "       109,  62,  10,  25,  67,  68, 159, 121,  24,  32, 194,   5,  43,\n",
       "        30, 139,  71,  85,   2,   1, 118, 153, 147, 136,  92,  89, 184,\n",
       "        86, 195, 177, 187,  11, 198,  31, 146,  88,  79,  69, 113, 141,\n",
       "       173, 197, 129, 180, 158,  14,   8, 181,  53, 115, 156, 123,  98,\n",
       "       137, 179,  93, 160,  78])"
      ]
     },
     "execution_count": 23,
     "metadata": {},
     "output_type": "execute_result"
    }
   ],
   "source": [
    "# Generate an array between 0 and 199, inclusive:\n",
    "x = np.arange(200)\n",
    "\n",
    "# Shuffle its content.\n",
    "rng.shuffle(x)\n",
    "\n",
    "# Display the array.\n",
    "x"
   ]
  },
  {
   "cell_type": "code",
   "execution_count": 24,
   "metadata": {},
   "outputs": [
    {
     "data": {
      "text/plain": [
       "array([171,   0,  78, 141, 194,  33, 125, 197, 163, 179,   8, 129,  14,\n",
       "        55, 139,  45, 153,  23, 116,  72,  79,  26, 156,  67, 123, 134,\n",
       "        36,  39,  62, 114,  53, 185, 140,  13,  38,  46,   4, 189, 146,\n",
       "       142,  81,  57,   7,  27,  21, 173, 130, 109, 199,   6, 167,  71,\n",
       "       184,  61, 175, 161,  74,  87, 182, 106,  58,  99,  10, 152, 186,\n",
       "       145,  20, 132, 103, 165, 195, 148,   9, 188,  50, 178,   5,  70,\n",
       "        73,  41, 113,  31,  96, 119,  89, 102,  40, 137, 147, 192,  18,\n",
       "       136,  51, 143, 115,  56,   1, 107, 135, 144, 110, 196, 105, 164,\n",
       "        86, 159, 169,  77,  68, 158, 172,  63,  42, 150, 122, 190,  69,\n",
       "       176, 127,  60, 118,   3,  19,  98, 138, 162,  17,  35,  34,  95,\n",
       "        47, 191,  90,  24, 151,  83, 108,  12, 177, 160,  97,  43, 166,\n",
       "        92, 168,  75, 170, 131,  25, 183, 157,  28,  93,  64, 174,  30,\n",
       "       149,  49,  16,  44,   2,  52,  80, 126, 120, 128,  65, 180,  29,\n",
       "       133,  48, 111, 198, 121,  54,  11, 117,  59,  84,  82,  22,  94,\n",
       "       101,  66, 100,  88,  85, 193,  32, 155, 104, 154, 187, 181,  15,\n",
       "        37, 124,  91,  76, 112])"
      ]
     },
     "execution_count": 24,
     "metadata": {},
     "output_type": "execute_result"
    }
   ],
   "source": [
    "# Permute an array of 200 numbers between 0 and 199, inclusive:\n",
    "y = rng.permutation(200)\n",
    "\n",
    "# Display the array.\n",
    "y"
   ]
  },
  {
   "cell_type": "code",
   "execution_count": 25,
   "metadata": {},
   "outputs": [
    {
     "data": {
      "image/png": "[encoded data removed]",
      "text/plain": [
       "<Figure size 720x432 with 2 Axes>"
      ]
     },
     "metadata": {},
     "output_type": "display_data"
    }
   ],
   "source": [
    "# Change colour scheme.\n",
    "sns.set_palette(\"husl\")\n",
    "\n",
    "# Build the Shuffle plot one the left.\n",
    "plt.subplot(1, 2, 1)\n",
    "sns.histplot(x)\n",
    "\n",
    "# Set the title for the Shuffle plot.\n",
    "plt.title(\"Shuffle: 1-D array\")\n",
    "\n",
    "# Build the Permutation plot one the right.\n",
    "plt.subplot(1, 2, 2)\n",
    "sns.histplot(y)\n",
    "\n",
    "# Set the title for the Permutation plot.\n",
    "plt.title(\"Permutation: 1-D array\")\n",
    "\n",
    "# Show the plot.\n",
    "plt.show()"
   ]
  },
  {
   "cell_type": "markdown",
   "metadata": {},
   "source": [
    "2. Two-Dimensional Array"
   ]
  },
  {
   "cell_type": "code",
   "execution_count": 26,
   "metadata": {
    "scrolled": false
   },
   "outputs": [
    {
     "data": {
      "text/plain": [
       "array([[ 98,  11,  15,  35,  33,  89,  52,  38,  86,  48,  26,   5,  57,\n",
       "         25,  62,  23,  39,  54,  71,  29,  31,  93,  84,  70,  85,   4,\n",
       "          0,  16,  81,  88,  43,  66,  96,  18,  76,  10,   2,  80,  87,\n",
       "         77,  90,  60,  44,  19,  61,  83,  91,   9,   6,  97,  92,  46,\n",
       "         74,  75,  27,  59,  45,  50,  41,  95,  22,  67,  56,   7,  55,\n",
       "         73,  63,  12,  47,  28,  30,  13,  58,  36,  49,  37,  99,  68,\n",
       "         32,  79,  14,  34,  42,  94,  65,   8,  69,  40,  64,  51,  17,\n",
       "         82,  21,   3,  53,  72,  20,  78,   1,  24],\n",
       "       [198, 111, 115, 135, 133, 189, 152, 138, 186, 148, 126, 105, 157,\n",
       "        125, 162, 123, 139, 154, 171, 129, 131, 193, 184, 170, 185, 104,\n",
       "        100, 116, 181, 188, 143, 166, 196, 118, 176, 110, 102, 180, 187,\n",
       "        177, 190, 160, 144, 119, 161, 183, 191, 109, 106, 197, 192, 146,\n",
       "        174, 175, 127, 159, 145, 150, 141, 195, 122, 167, 156, 107, 155,\n",
       "        173, 163, 112, 147, 128, 130, 113, 158, 136, 149, 137, 199, 168,\n",
       "        132, 179, 114, 134, 142, 194, 165, 108, 169, 140, 164, 151, 117,\n",
       "        182, 121, 103, 153, 172, 120, 178, 101, 124]])"
      ]
     },
     "execution_count": 26,
     "metadata": {},
     "output_type": "execute_result"
    }
   ],
   "source": [
    "# Generate a 2-D array with 2 rows of 100 numbers between 0 and 199, inclusive:\n",
    "x = np.arange(200).reshape((2, 100))\n",
    "\n",
    "# Shuffle its content along the axis 1.\n",
    "rng.shuffle(x, axis=1)\n",
    "\n",
    "# Display the array.\n",
    "x"
   ]
  },
  {
   "cell_type": "code",
   "execution_count": 27,
   "metadata": {},
   "outputs": [
    {
     "data": {
      "text/plain": [
       "array([[ 56,  18,  67,  77,  69,  40,  79,   2,  26,  16,  87,  74,  32,\n",
       "         85,  39,  99,  54,  37,  92,   9,  97,  88,  93,  66,  72,  65,\n",
       "         12,  34,   3,  33,  35,   4,  21,  13,  76,  95,  57,  20,  62,\n",
       "         42,  52,  49,  15,  44,  19,  86,  55,  46,  80,  30,  28,   1,\n",
       "         75,  48,  89,   6,  25,  61,  47,   8,  78,  43,  24,  94,  58,\n",
       "         82,  51,  84,  50,  23,  91,  83,   0,  14,  29,  53,  98,  96,\n",
       "         90,   5,   7,  71,  64,  68,  27,  73,  45,  59,  41,  70,  60,\n",
       "         81,  38,  63,  36,  17,  22,  10,  11,  31],\n",
       "       [156, 118, 167, 177, 169, 140, 179, 102, 126, 116, 187, 174, 132,\n",
       "        185, 139, 199, 154, 137, 192, 109, 197, 188, 193, 166, 172, 165,\n",
       "        112, 134, 103, 133, 135, 104, 121, 113, 176, 195, 157, 120, 162,\n",
       "        142, 152, 149, 115, 144, 119, 186, 155, 146, 180, 130, 128, 101,\n",
       "        175, 148, 189, 106, 125, 161, 147, 108, 178, 143, 124, 194, 158,\n",
       "        182, 151, 184, 150, 123, 191, 183, 100, 114, 129, 153, 198, 196,\n",
       "        190, 105, 107, 171, 164, 168, 127, 173, 145, 159, 141, 170, 160,\n",
       "        181, 138, 163, 136, 117, 122, 110, 111, 131]])"
      ]
     },
     "execution_count": 27,
     "metadata": {},
     "output_type": "execute_result"
    }
   ],
   "source": [
    "# Generate a 2-D array with 2 rows of 200 numbers between 0 and 199, inclusive:\n",
    "a = np.arange(200).reshape((2, 100))\n",
    "\n",
    "# Copy the array and shuffle its content along the axis 1.\n",
    "y = rng.permutation(a, axis=1)\n",
    "\n",
    "# Display the array.\n",
    "y"
   ]
  },
  {
   "cell_type": "code",
   "execution_count": 28,
   "metadata": {},
   "outputs": [
    {
     "data": {
      "image/png": "[encoded data removed]",
      "text/plain": [
       "<Figure size 720x432 with 2 Axes>"
      ]
     },
     "metadata": {},
     "output_type": "display_data"
    }
   ],
   "source": [
    "# Build the Shuffle plot one the left.\n",
    "plt.subplot(1, 2, 1)\n",
    "for i in range(len(x)):\n",
    "    # Build the plot.\n",
    "    sns.histplot(x[i])\n",
    "\n",
    "# Set the title for the Shuffle plot.\n",
    "plt.title(\"Shuffle: 2-D array shuffled along the axis\")\n",
    "\n",
    "# Build the Permutation plot the right.\n",
    "plt.subplot(1, 2, 2)\n",
    "for i in range(len(y)):\n",
    "    # Build the plot.\n",
    "    sns.histplot(y[i])\n",
    "\n",
    "# Set the title for the Permutation plot.\n",
    "plt.title(\"Permutation: 2-D array shuffled along the axis\")\n",
    "\n",
    "# Show the plot.    \n",
    "plt.show()"
   ]
  },
  {
   "cell_type": "markdown",
   "metadata": {},
   "source": [
    "***\n",
    "<br>\n",
    "\n",
    "### “DISTRIBUTIONS” functions <a name=\"distributions\"></a>\n",
    "\n",
    "<img align=\"left\" width=\"300\" height=\"300\" src=\"https://cdn1.iconfinder.com/data/icons/data-science-flat-1/64/probability-distribution-normal-curve-statistics-data-512.png\">"
   ]
  },
  {
   "cell_type": "markdown",
   "metadata": {},
   "source": [
    "Probability distribution is a rule or a set of rules that outlines all the possible values that a random variable is likely to take within a given range. The precision of where values will be plotted on the probability distribution within this range depends on many factors, including the distribution's mean, standard deviation etc. [1]\n",
    "\n",
    "Statistically, probability distributions can be divided into two groups: discrete and continuous. This division depends on whether the data on which probability is calculated consists of discrete (with a range of countable values) or continuous (with a range of infinite (uncountable) values) variables. [2] [3]\n",
    "\n",
    "> 1. [Investopedia: Probability Distribution](https://www.investopedia.com/terms/p/probabilitydistribution.asp)\n",
    "2. [Statistics How To: Continuous Probability Distribution](https://www.statisticshowto.com/continuous-probability-distribution/)\n",
    "3. [Statistics How To: Discrete Probability Distribution](https://www.statisticshowto.com/discrete-probability-distribution/)\n"
   ]
  },
  {
   "cell_type": "markdown",
   "metadata": {},
   "source": [
    "<br>\n",
    "\n",
    "#### Discrete Probability Distribution <a name=\"discrete\"></a>\n",
    "\n",
    "##### Binomial.  <a name=\"binomial\"></a>\n",
    "\n",
    "A binomial distribution may have two possible outcomes: \"success\" or \"failure\" (hence \"binomial\").\n",
    "\n",
    "There are three properties that binomial distributions must have:\n",
    "\n",
    "1. The number of trials is fixed.\n",
    "2. Each trial is independent. \n",
    "3. The success probability is the same from one trial to another.  [1]\n",
    "\n",
    "There are many real-life instances of binomial distributions. For example, we can calculate a number of \"successes\" of a new medicine tested on a set of patients where the outcome for a given patient is either a success or a failure. [2] \n",
    "\n",
    "> 1. [Statistics How To: Binomial Distribution](https://www.statisticshowto.com/probability-and-statistics/binomial-theorem/binomial-distribution-formula/)\n",
    "2. [Boston University School of Public Health: The Binomial Distribution](https://sphweb.bumc.bu.edu/otlt/mph-modules/bs/bs704_probability/bs704_probability7.html#:~:text=The%20binomial%20distribution%20model%20allows,a%20success%20or%20a%20failure.)"
   ]
  },
  {
   "cell_type": "markdown",
   "metadata": {},
   "source": [
    "_Example: Flip a coin_\n",
    "\n",
    "<img align=\"left\" width=\"140\" height=\"250\" src=\"https://juliakovach.files.wordpress.com/2012/07/coin-toss.png\">\n"
   ]
  },
  {
   "cell_type": "code",
   "execution_count": 29,
   "metadata": {
    "scrolled": true
   },
   "outputs": [
    {
     "data": {
      "text/plain": [
       "array([ 9,  7, 12, 11, 12, 10, 11,  8,  9,  9, 11,  9,  9,  6,  9,  8, 12,\n",
       "       12,  9, 12, 10, 11,  7,  9,  6, 13,  5, 12, 12, 12, 10, 11, 10, 13,\n",
       "       13, 10, 10,  8, 10,  9,  6,  8, 10, 10,  8,  7,  5, 12,  6,  9,  6,\n",
       "        5, 11,  9, 10, 13,  6, 15, 11,  7, 11,  6,  8,  8,  8, 13,  9,  9,\n",
       "       13, 12, 10,  8,  8, 11, 12, 13, 11, 10,  6,  7,  8, 11, 11, 10, 14,\n",
       "       11, 11, 10,  6,  8,  7, 12,  6,  5, 15,  9, 12,  9,  9,  7, 12,  8,\n",
       "       10, 10, 15, 12, 12, 11,  9,  9, 14, 10,  7,  8, 11, 14,  8, 10, 11,\n",
       "       10, 12, 11, 10, 13, 13, 13,  8,  8, 10,  7, 10,  9, 11,  8, 11,  9,\n",
       "        8,  9, 11,  8, 12, 11, 12, 14, 11, 11, 13,  8, 10,  5,  9,  6,  6,\n",
       "       13, 13, 12,  6, 12, 13, 11,  9,  9,  9,  9, 14, 13, 12,  7, 14, 11,\n",
       "       12, 12, 10,  9,  9,  8, 10,  7, 10,  7,  8, 12, 12, 10,  9, 11, 11,\n",
       "        7,  7,  8, 15, 10, 11, 12,  8, 11, 10, 12, 10, 10,  9,  6, 12, 10,\n",
       "       11, 12, 10, 12, 12,  8,  9, 10,  7, 10, 11,  7, 11,  7,  8, 13, 13,\n",
       "       10, 13, 12,  6,  8, 13, 10,  7, 14,  8, 11, 10,  8, 10, 10, 13,  6,\n",
       "       12, 11, 15, 15, 10, 13, 13,  8, 11,  9, 11, 11,  5, 11,  8,  8,  5,\n",
       "       11,  7,  8, 11,  9, 11,  9, 12, 11,  9,  4,  9, 10,  9, 12,  7, 14,\n",
       "        7, 10, 14, 11,  6,  7,  7,  6, 11, 10,  8,  6,  8, 13, 11, 12, 12,\n",
       "       14, 10,  8, 10, 11, 10,  7,  7,  8, 13, 10,  8, 10,  7, 12, 10,  7,\n",
       "       10, 12,  9, 13, 11, 13, 14, 10, 10, 10, 13, 13,  5,  9, 10, 12, 10,\n",
       "       13, 14,  8,  8, 10,  7, 12, 10,  9, 12, 11, 11, 11, 11,  7, 12,  8,\n",
       "        8, 13, 10, 12,  6, 10,  7, 12,  9,  7, 11, 10,  9, 10, 12, 10, 11,\n",
       "        7,  9, 11, 11, 14, 10,  6, 13, 11, 11, 11,  6,  5, 13,  6, 12, 11,\n",
       "       10,  9, 12,  7,  8, 13,  8, 14,  9, 11, 12,  8, 10, 12,  9, 12,  9,\n",
       "        9,  9, 10, 12, 15, 10, 10,  9,  9, 12, 11, 10,  9,  9,  7, 11,  7,\n",
       "       10,  7, 11, 10, 10,  7,  8, 11, 14, 11, 11, 14,  9,  7, 13,  8,  9,\n",
       "        8, 15,  9, 11,  9,  8,  8,  7, 12, 11,  6,  7,  8,  9, 10, 11,  7,\n",
       "       10,  4,  8,  9,  5, 12, 10,  6,  8, 11, 11, 11, 11, 10, 14, 11, 10,\n",
       "       11, 13, 13, 11, 10, 13, 11,  8, 11, 12,  8, 12, 12,  8,  8, 12,  8,\n",
       "       11, 11,  9,  7, 13, 11, 13,  9,  8,  7, 11,  9, 10, 10,  7, 10, 11,\n",
       "       10,  8, 10, 10, 12, 11,  9, 11,  6, 15, 11,  7, 10,  8,  8, 12, 12,\n",
       "       10,  8, 10,  8,  8, 10, 11, 10,  8, 10,  7, 10,  8, 11, 13, 10, 10,\n",
       "       10, 13, 10, 10, 11, 10,  9, 11, 12, 12,  9, 10, 16,  7,  7, 13, 12,\n",
       "       10, 10,  8, 11, 10, 10,  8, 13, 10,  9, 11, 11, 10,  9, 12,  6, 10,\n",
       "       14,  8,  8, 11, 12, 12,  8, 10,  8,  6, 14, 11, 15,  9, 11, 15,  9,\n",
       "       13,  9, 13,  8,  7, 11,  7, 11,  9,  7, 13,  9,  8,  8, 10,  7,  7,\n",
       "       11, 10, 11,  6, 11, 10, 11, 12,  7,  9, 12,  7,  9, 10, 12,  6, 13,\n",
       "       12,  9, 10, 10,  8,  8, 13, 10,  8,  9,  8,  9, 10, 13,  7,  9,  9,\n",
       "       10, 10, 10, 13, 10, 11, 11, 10,  9,  7, 14, 11, 12,  9,  8,  7,  8,\n",
       "       10, 12,  6,  9,  7, 13, 10,  9,  8, 10,  8,  9, 10,  9, 11, 16,  5,\n",
       "       10, 10,  9,  8, 12,  8, 14,  8,  7, 14, 11, 15, 10, 14, 15,  7, 10,\n",
       "        9, 10, 11, 12,  9, 10, 11,  8,  8, 11, 11, 10,  9, 14, 11, 11, 10,\n",
       "        9,  8,  9, 12,  9, 11,  5, 11, 11, 11, 11,  9,  6,  9,  9,  9,  8,\n",
       "       12,  9, 11,  7,  9, 11, 12, 13, 10, 10, 10, 12, 14, 10, 12,  8, 11,\n",
       "        9, 12,  9, 10, 10, 10,  8, 13, 11,  7,  9, 15,  9,  9, 11, 10, 10,\n",
       "       12,  9, 12,  8, 13, 12, 11, 13,  6,  9, 12,  9,  6,  7, 11, 13,  9,\n",
       "        9, 11,  8,  7,  8, 11, 10, 10,  6,  9, 11, 11, 14, 12,  8, 10, 11,\n",
       "       13, 11,  8,  9, 10, 11, 10, 11, 14, 13,  9,  8, 11, 12, 13, 12, 12,\n",
       "       11, 12,  6, 14,  9, 11,  8, 13,  8,  9, 11, 11,  9, 11, 11, 10,  8,\n",
       "        9, 11, 13, 10,  9, 11, 12,  8, 11, 10, 12,  7, 13, 14,  6, 10, 12,\n",
       "       11, 13, 16,  8, 11,  9,  8, 12,  9, 12,  9,  9,  8, 16, 14, 11, 13,\n",
       "        9, 12,  8,  6,  8, 13,  8,  7, 11,  9,  6,  9, 11, 12, 11, 15, 10,\n",
       "       10,  6, 15, 11,  9, 12,  9, 12, 11, 10, 12,  9,  9, 13, 11,  8,  6,\n",
       "       12,  9,  7, 10,  6, 11, 11, 12,  9, 14, 10, 10, 12,  9,  7, 10,  8,\n",
       "       10,  5,  9, 11,  9,  8, 11,  8,  9,  9, 10, 10, 13, 13,  7,  8, 12,\n",
       "       14, 13, 12, 13,  8,  7, 11, 11,  9, 11,  8, 11, 12,  9, 13, 10,  9,\n",
       "        8, 10, 10, 10,  7, 13, 11, 10, 10,  8, 14, 11, 11, 14,  7, 12,  6,\n",
       "       13, 10,  9,  8,  8,  9, 11, 11, 11, 10, 13, 10,  6, 10, 13,  7,  9,\n",
       "       10, 13,  8,  9,  7,  9,  9,  6,  5, 15,  5,  9,  9,  6, 11, 12,  8,\n",
       "        8, 14, 10,  8, 11, 17, 10,  9,  9,  8, 10,  6,  8,  9],\n",
       "      dtype=int64)"
      ]
     },
     "execution_count": 29,
     "metadata": {},
     "output_type": "execute_result"
    }
   ],
   "source": [
    "# Flip a coin 20 times with a probability 0.5 of each trial.\n",
    "n, p = 20, 0.5\n",
    "\n",
    "# Test done 1000 times.\n",
    "x = rng.binomial(n, p, 1000)\n",
    "\n",
    "# Display the number of heads.\n",
    "x"
   ]
  },
  {
   "cell_type": "code",
   "execution_count": 30,
   "metadata": {},
   "outputs": [
    {
     "data": {
      "image/png": "[encoded data removed]",
      "text/plain": [
       "<Figure size 720x432 with 1 Axes>"
      ]
     },
     "metadata": {},
     "output_type": "display_data"
    }
   ],
   "source": [
    "# Change colour scheme.\n",
    "sns.set_palette(\"PuOr\")\n",
    "\n",
    "# Set the title and x label for the future plot.\n",
    "plt.title(f\"Binominal Distribution: Flip a coin {n} times\")\n",
    "plt.xlabel(\"Number of Heads\")\n",
    "\n",
    "# Build the plot.\n",
    "sns.histplot(x, stat=\"probability\")\n",
    "\n",
    "# Show the plot.\n",
    "plt.show()"
   ]
  },
  {
   "cell_type": "markdown",
   "metadata": {},
   "source": [
    "<br>\n",
    "\n",
    "_Example: Test of an antihistamine drug_\n",
    "\n",
    "<img align=\"left\" width=\"220\" height=\"80\" src=\"https://secure.webtoolhub.com/static/resources/icons/set33/254c1686.png\">"
   ]
  },
  {
   "cell_type": "markdown",
   "metadata": {},
   "source": [
    "If the medication is given to 10 patients suffering from allergies, what is the probability of its effectiveness to be exactly exactly 7 when 80% of adults report symptomatic relief with this medication?"
   ]
  },
  {
   "cell_type": "code",
   "execution_count": 31,
   "metadata": {},
   "outputs": [
    {
     "data": {
      "text/plain": [
       "array([ 9,  6, 10, ...,  9,  8,  8], dtype=int64)"
      ]
     },
     "execution_count": 31,
     "metadata": {},
     "output_type": "execute_result"
    }
   ],
   "source": [
    "# 10 new patients with allergies.\n",
    "n = 10\n",
    "\n",
    "# The probability of success for each person is 0.8.\n",
    "p = 0.8\n",
    "\n",
    "# Calculate the success rate.\n",
    "x = rng.binomial(n, p, 20000)\n",
    "\n",
    "# Display it\n",
    "x"
   ]
  },
  {
   "cell_type": "code",
   "execution_count": 32,
   "metadata": {},
   "outputs": [
    {
     "data": {
      "image/png": "[encoded data removed]",
      "text/plain": [
       "<Figure size 720x432 with 1 Axes>"
      ]
     },
     "metadata": {},
     "output_type": "display_data"
    }
   ],
   "source": [
    "# Set the title and x label for the future plot.\n",
    "plt.title(\"Binominal Distribution: Test of an antihistamine drug\")\n",
    "plt.xlabel(\"Patients\")\n",
    "\n",
    "# Build the plot.\n",
    "sns.histplot(x, stat=\"probability\")\n",
    "\n",
    "# Show the plot.\n",
    "plt.show()"
   ]
  },
  {
   "cell_type": "code",
   "execution_count": 33,
   "metadata": {},
   "outputs": [
    {
     "data": {
      "text/plain": [
       "0.1999"
      ]
     },
     "execution_count": 33,
     "metadata": {},
     "output_type": "execute_result"
    }
   ],
   "source": [
    "# Effectiveness of the grug is 7.\n",
    "s = 7\n",
    "\n",
    "# Calculate the probability when tested 20000 times.\n",
    "x = sum(rng.binomial(n, p, 20000) == s)/20000\n",
    "\n",
    "# Display the probability.\n",
    "x"
   ]
  },
  {
   "cell_type": "markdown",
   "metadata": {},
   "source": [
    "<br>\n",
    "\n",
    "##### Multinomial  <a name=\"multinomial\"></a>\n",
    "\n",
    "A multinomial distribution is generalization of binominal distribution with more than two outcomes (hence multinominal). [1]\n",
    "The multinominal distribution follows the same criteria as the binominal.\n",
    "\n",
    "> 1. [Statistics How To: Multinomial Distribution](https://www.statisticshowto.com/multinomial-distribution/)"
   ]
  },
  {
   "cell_type": "markdown",
   "metadata": {},
   "source": [
    "_Example: Throw a dice_\n",
    "\n",
    "<img align=\"left\" width=\"230\" height=\"80\" src=\"https://upload.wikimedia.org/wikipedia/commons/thumb/3/36/Two_red_dice_01.svg/671px-Two_red_dice_01.svg.png\">"
   ]
  },
  {
   "cell_type": "code",
   "execution_count": 34,
   "metadata": {},
   "outputs": [
    {
     "data": {
      "text/plain": [
       "array([[10, 14,  9, 12,  5, 10]], dtype=int64)"
      ]
     },
     "execution_count": 34,
     "metadata": {},
     "output_type": "execute_result"
    }
   ],
   "source": [
    "# Dice with 6 sides.\n",
    "d = [1/6.]\n",
    "\n",
    "# Throw it 60 times.\n",
    "n = 60\n",
    "\n",
    "# Compute a probability.\n",
    "x = rng.multinomial(n, d*6, size=1)\n",
    "\n",
    "# Display it\n",
    "x"
   ]
  },
  {
   "cell_type": "code",
   "execution_count": 35,
   "metadata": {},
   "outputs": [
    {
     "data": {
      "image/png": "[encoded data removed]",
      "text/plain": [
       "<Figure size 720x432 with 1 Axes>"
      ]
     },
     "metadata": {},
     "output_type": "display_data"
    }
   ],
   "source": [
    "# Change colour scheme.\n",
    "sns.set_palette(\"pastel\")\n",
    "\n",
    "# Set the title and x label for the future plot.\n",
    "plt.title(f\"Multinominal Distribution: Throw a dice {n} times\")\n",
    "plt.xlabel(\"Number of times the dice lands on each side\")\n",
    "\n",
    "# Build the plot.\n",
    "plt.hist(x, histtype=\"barstacked\")\n",
    "\n",
    "# New label to match the dice.\n",
    "labels = ['1','2','3','4','5','6']\n",
    "plt.legend(labels, title=\"Dice sides\")\n",
    "\n",
    "# Show the plot.\n",
    "plt.show()"
   ]
  },
  {
   "cell_type": "code",
   "execution_count": 36,
   "metadata": {},
   "outputs": [
    {
     "data": {
      "text/plain": [
       "array([[ 7, 12, 11,  8, 10, 12],\n",
       "       [ 7, 11,  9, 11, 12, 10]], dtype=int64)"
      ]
     },
     "execution_count": 36,
     "metadata": {},
     "output_type": "execute_result"
    }
   ],
   "source": [
    "# Throw it 60 times twice\n",
    "x = rng.multinomial(n, d*6, size=2)\n",
    "\n",
    "# Display the probability\n",
    "x"
   ]
  },
  {
   "cell_type": "code",
   "execution_count": 37,
   "metadata": {},
   "outputs": [
    {
     "data": {
      "image/png": "[encoded data removed]",
      "text/plain": [
       "<Figure size 720x432 with 1 Axes>"
      ]
     },
     "metadata": {},
     "output_type": "display_data"
    }
   ],
   "source": [
    "# Set the title and x label for the future plot.\n",
    "plt.title(f\"Multinominal Distribution: Throw a dice {n} times twice\")\n",
    "plt.xlabel(\"Number of times the dice lands on each side\")\n",
    "\n",
    "# Build the plot.\n",
    "plt.hist(x, histtype=\"barstacked\")\n",
    "\n",
    "# New label to match the dice.\n",
    "labels = ['1','2','3','4','5','6']\n",
    "plt.legend(labels, title=\"Dice sides\")\n",
    "\n",
    "# Show the plot.\n",
    "plt.show()"
   ]
  },
  {
   "cell_type": "code",
   "execution_count": 38,
   "metadata": {
    "scrolled": true
   },
   "outputs": [
    {
     "data": {
      "text/plain": [
       "array([17, 16, 18, 12, 11, 26], dtype=int64)"
      ]
     },
     "execution_count": 38,
     "metadata": {},
     "output_type": "execute_result"
    }
   ],
   "source": [
    "# Roll a loaded die (2/7 to land on 6).\n",
    "d = [1/7.]*5 + [2/7.]\n",
    "\n",
    "# Throw it 100 times.\n",
    "n = 100\n",
    "\n",
    "# Project the probability of it landing on 6.\n",
    "x = rng.multinomial(n, d)\n",
    "\n",
    "# Display it\n",
    "x"
   ]
  },
  {
   "cell_type": "code",
   "execution_count": 39,
   "metadata": {},
   "outputs": [
    {
     "data": {
      "image/png": "[encoded data removed]",
      "text/plain": [
       "<Figure size 720x432 with 1 Axes>"
      ]
     },
     "metadata": {},
     "output_type": "display_data"
    }
   ],
   "source": [
    "# Set the title and x label for the future plot.\n",
    "plt.title(f\"Multinominal Distribution: Throw a loaded die {n} times twice\")\n",
    "plt.xlabel(\"Number of times the loaded die lands on 6\")\n",
    "\n",
    "# Build the plot.\n",
    "sns.histplot(x, legend=False, stat=\"probability\")\n",
    "\n",
    "# Show the plot.\n",
    "plt.show()"
   ]
  },
  {
   "cell_type": "markdown",
   "metadata": {},
   "source": [
    "<br>\n",
    "\n",
    "##### Geometric   <a name=\"geometric\"></a>\n",
    "The geometric distribution represents one or more Bernoulli (binominal) trials with all failures excluding the last one, which results in success. Assumptions for the geometric distribution are the same as for binominal. [1] \n",
    "\n",
    "The geometic distribution is used for modeling situations that require knowing likely number of trials until success, and thus has applications to econometrics, return on investment, population modeling, and so on. [2] \n",
    "\n",
    "> 1. [Statistics How To: Geometric Distribution](https://www.statisticshowto.com/geometric-distribution/)\n",
    "2. [Brilliant: Geometric Distribution](https://brilliant.org/wiki/geometric-distribution/)"
   ]
  },
  {
   "cell_type": "markdown",
   "metadata": {},
   "source": [
    "_Example: Election_\n",
    "\n",
    "<img align=\"left\" width=\"230\" height=\"80\" src=\"https://encrypted-tbn0.gstatic.com/images?q=tbn%3AANd9GcSST1krcuDqRqW5PVb5TUOtmOk7UScWRDL2dtclHIm5VGqe4S0L3sD1WfoNJi5g4hxGDVgqs9sgvv8z69hnu50rs3ex4cv2mdC6z2UrkqA&usqp=CAU&ec=45714080\">"
   ]
  },
  {
   "cell_type": "markdown",
   "metadata": {},
   "source": [
    "If we ask ask people outside a polling station who they voted for, what is the probability of meeting someone that voted for an independent candidate on your 100th try assuuming that your probability of success is 15%."
   ]
  },
  {
   "cell_type": "code",
   "execution_count": 40,
   "metadata": {},
   "outputs": [
    {
     "data": {
      "text/plain": [
       "array([ 3, 13,  1,  1,  4, 20, 22,  4,  2, 19,  4, 13,  3,  1,  5,  9, 12,\n",
       "        1, 14, 13,  3,  7,  3,  9, 10,  4,  6,  1, 17, 23, 11,  8,  6,  2,\n",
       "       18,  7,  1,  8,  5,  3,  4,  2,  3,  1,  4,  5,  8, 21,  1,  9,  1,\n",
       "        6,  3,  1,  1, 17, 10, 17,  4, 13, 21, 10,  8,  8,  3,  6,  1,  8,\n",
       "       30,  2, 11,  1,  1,  3,  9,  3, 12, 12,  8, 14,  4,  4,  2,  1, 14,\n",
       "        2,  1, 25,  3, 18, 10, 24,  6, 13,  2, 14,  9,  1,  4,  3],\n",
       "      dtype=int64)"
      ]
     },
     "execution_count": 40,
     "metadata": {},
     "output_type": "execute_result"
    }
   ],
   "source": [
    "# The probability of an individual success is 0.15.\n",
    "p = 0.15\n",
    "\n",
    "# Do 100 trials.\n",
    "size = 100\n",
    "\n",
    "# Calculate the probability\n",
    "x = rng.geometric(p, size)\n",
    "\n",
    "# Display it\n",
    "x\n"
   ]
  },
  {
   "cell_type": "code",
   "execution_count": 41,
   "metadata": {},
   "outputs": [
    {
     "data": {
      "text/plain": [
       "0.17"
      ]
     },
     "execution_count": 41,
     "metadata": {},
     "output_type": "execute_result"
    }
   ],
   "source": [
    "# How many trials succeeded after a single run?\n",
    "y = (x == 1).sum() / 100.\n",
    "\n",
    "# Display the probability of success.\n",
    "y"
   ]
  },
  {
   "cell_type": "code",
   "execution_count": 42,
   "metadata": {},
   "outputs": [
    {
     "data": {
      "image/png": "[encoded data removed]",
      "text/plain": [
       "<Figure size 720x432 with 1 Axes>"
      ]
     },
     "metadata": {},
     "output_type": "display_data"
    }
   ],
   "source": [
    "# Change colour scheme.\n",
    "sns.set_palette(\"Paired\")\n",
    "\n",
    "# Set the title and x label for the future plot.\n",
    "plt.title(f\"Geometric Distribution: Find an independent candidate on your {size}th try\")\n",
    "\n",
    "# Build the plot.\n",
    "sns.histplot(x, stat=\"probability\", kde=True)\n",
    "\n",
    "# Show the plot.\n",
    "plt.show()"
   ]
  },
  {
   "cell_type": "markdown",
   "metadata": {},
   "source": [
    "##### Poisson  <a name=\"poisson\"></a>\n",
    "\n",
    "The poisson distribution is used for prediction of the number of events happening in a fixed time period, given the average number of times the event happens over that time period. [1]\n",
    "\n",
    "The Poisson distribution is often used in biology (e.g. in mutation detection), finance, business (e.g. to make forecasts), disaster readiness, and other time-independent spheres.\n",
    "\n",
    "There is a number of conditions for poisson distribution:\n",
    "\n",
    "1. An event can occur any number of times during a fixed time period.\n",
    "2. Each event is independent. \n",
    "3. The occurance rate doesn't change based on time.\n",
    "4. Occurance of an event is directly proportional to the length of the time period. [2]\n",
    "\n",
    "> 1. [Statistics How To: Poisson Distribution](https://www.statisticshowto.com/poisson-distribution/)\n",
    "2. [Brilliant: Poisson Distribution](https://brilliant.org/wiki/poisson-distribution/#:~:text=the%20number%20of%20Airbus%20330,over%20a%20given%20production%20time)"
   ]
  },
  {
   "cell_type": "markdown",
   "metadata": {},
   "source": [
    "***\n",
    "<br>\n",
    "\n",
    "#### Continuous Probability Distribution  <a name=\"continuous\"></a>\n",
    "##### Uniform <a name=\"uniform\"></a>"
   ]
  },
  {
   "cell_type": "code",
   "execution_count": 43,
   "metadata": {},
   "outputs": [],
   "source": [
    "x = rng.uniform(-10,1000,10000)"
   ]
  },
  {
   "cell_type": "code",
   "execution_count": 44,
   "metadata": {},
   "outputs": [
    {
     "data": {
      "text/plain": [
       "(array([ 983., 1024.,  978.,  993., 1013.,  972., 1011.,  984.,  974.,\n",
       "        1068.]), array([ -9.96293079,  91.0268515 , 192.01663379, 293.00641608,\n",
       "        393.99619836, 494.98598065, 595.97576294, 696.96554523,\n",
       "        797.95532752, 898.94510981, 999.9348921 ]), <a list of 10 Patch objects>)"
      ]
     },
     "execution_count": 44,
     "metadata": {},
     "output_type": "execute_result"
    },
    {
     "data": {
      "image/png": "[encoded data removed]",
      "text/plain": [
       "<Figure size 720x432 with 1 Axes>"
      ]
     },
     "metadata": {},
     "output_type": "display_data"
    }
   ],
   "source": [
    "plt.hist(x)"
   ]
  },
  {
   "cell_type": "markdown",
   "metadata": {},
   "source": [
    "##### Normal <a name=\"normal\"></a>"
   ]
  },
  {
   "cell_type": "code",
   "execution_count": 45,
   "metadata": {},
   "outputs": [],
   "source": [
    "x = rng.normal(0, 0.1, 10000) # values centered around 0"
   ]
  },
  {
   "cell_type": "code",
   "execution_count": 46,
   "metadata": {},
   "outputs": [
    {
     "data": {
      "text/plain": [
       "(array([6.000e+00, 7.500e+01, 5.370e+02, 1.890e+03, 3.319e+03, 2.823e+03,\n",
       "        1.093e+03, 2.290e+02, 2.500e+01, 3.000e+00]),\n",
       " array([-0.41630303, -0.32883805, -0.24137307, -0.15390809, -0.06644311,\n",
       "         0.02102187,  0.10848685,  0.19595183,  0.28341681,  0.37088179,\n",
       "         0.45834677]),\n",
       " <a list of 10 Patch objects>)"
      ]
     },
     "execution_count": 46,
     "metadata": {},
     "output_type": "execute_result"
    },
    {
     "data": {
      "image/png": "[encoded data removed]",
      "text/plain": [
       "<Figure size 720x432 with 1 Axes>"
      ]
     },
     "metadata": {},
     "output_type": "display_data"
    }
   ],
   "source": [
    "plt.hist(x)"
   ]
  },
  {
   "cell_type": "markdown",
   "metadata": {},
   "source": [
    "##### Logistic <a name=\"logistic\"></a>"
   ]
  },
  {
   "cell_type": "markdown",
   "metadata": {},
   "source": [
    "\n",
    "##### Exponential <a name=\"exponential\"></a>"
   ]
  },
  {
   "cell_type": "markdown",
   "metadata": {},
   "source": [
    "### SEEDS  <a name=\"seeds\"></a> "
   ]
  }
 ],
 "metadata": {
  "kernelspec": {
   "display_name": "Python 3",
   "language": "python",
   "name": "python3"
  },
  "language_info": {
   "codemirror_mode": {
    "name": "ipython",
    "version": 3
   },
   "file_extension": ".py",
   "mimetype": "text/x-python",
   "name": "python",
   "nbconvert_exporter": "python",
   "pygments_lexer": "ipython3",
   "version": "3.7.4"
  }
 },
 "nbformat": 4,
 "nbformat_minor": 2
}
