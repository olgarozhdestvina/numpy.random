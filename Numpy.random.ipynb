{
 "cells": [
  {
   "cell_type": "markdown",
   "metadata": {},
   "source": [
    "# The numpy.random package \n",
    "\n",
    "\n",
    "[ Programming for Data Analysis Module GMIT 2020 ]\n",
    "\n",
    "\n",
    "<img align=\"left\" width=\"200\" height=\"200\" src=\"https://upload.wikimedia.org/wikipedia/commons/thumb/3/31/NumPy_logo_2020.svg/1024px-NumPy_logo_2020.svg.png\">\n"
   ]
  },
  {
   "cell_type": "markdown",
   "metadata": {},
   "source": [
    "Completed by: *Olga Rozhdestvina (G00387844@gmit.ie)*\n",
    "***\n",
    "\n",
    "## Table of Contents\n",
    "* [Purpose of the package](#purpose)\n",
    "* [“Simple random data” and “Permutations” functions](#functions)\n",
    "    * [Simple random data](#srd)\n",
    "        * [Integers](#integers)\n",
    "        * [Random](#random)\n",
    "        * [Choice](#choice)\n",
    "        * [Bytes](#bytes)\n",
    "    * [Permutations](#permutations)\n",
    "* [“Distributions” functions](#distributions)\n",
    "    * [Discrete Probability Distribution](#discrete)\n",
    "        * [Binominal](#binominal)\n",
    "        * [Multinomial](#multinomial)\n",
    "        * [Geometric](#geometric)\n",
    "        * [Poisson](#poisson)\n",
    "    * [Continuous Probability Distribution](#continuous)\n",
    "        * [Normal](#normal)\n",
    "        * [Chi-Square](#chisquare)\n",
    "        * [Logistic](#logistic)\n",
    "        * [Exponential](#exponential)\n",
    "        \n",
    "        \n",
    "* [Seeds](#seeds)\n",
    "\n",
    "***"
   ]
  },
  {
   "cell_type": "markdown",
   "metadata": {},
   "source": [
    "### Purpose of the package <a name=\"purpose\"></a>"
   ]
  },
  {
   "cell_type": "markdown",
   "metadata": {},
   "source": [
    "First of all let's remind ourselves a what random number is. It doesn't mean a different number every time, but a number that can not be logically predicted. And those random numbers that are produced through a generating algorithm are called pseudorandom. [1] The _numpy.random_ package is based on a pseudorandom number generator, or PRNG, and comes as supplemental for [the built-in Python random package](https://docs.python.org/3/library/random.html). It is used for efficient generation of whole arrays of random values from various probability distributions. [2] [3]\n",
    "\n",
    "> 1. [DataCamp: Random Number Generator Using Numpy](https://www.datacamp.com/community/tutorials/numpy-random)\n",
    "2. [Wes McKinney: Python for Data Analysis ](https://www.oreilly.com/library/view/python-for-data/9781449323592/)\n",
    "3. [NumPy: numpy.random](https://numpy.org/doc/stable/reference/random/)"
   ]
  },
  {
   "cell_type": "code",
   "execution_count": 1,
   "metadata": {},
   "outputs": [],
   "source": [
    "# Import the numpy package.\n",
    "import numpy as np\n",
    "# Package for plotting.\n",
    "import matplotlib.pyplot as plt\n",
    "# Another package for plotting.\n",
    "import seaborn as sns\n"
   ]
  },
  {
   "cell_type": "code",
   "execution_count": 2,
   "metadata": {},
   "outputs": [],
   "source": [
    "# Colour scheme and styles for plots.\n",
    "sns.set_theme(palette=\"Set2\", context=\"paper\", font_scale=1.5)\n",
    "\n",
    "# Better sized plots.\n",
    "plt.rcParams['figure.figsize'] = (10, 6)"
   ]
  },
  {
   "cell_type": "code",
   "execution_count": 3,
   "metadata": {},
   "outputs": [],
   "source": [
    "# Get an instance of generator.\n",
    "rng = np.random.default_rng()"
   ]
  },
  {
   "cell_type": "markdown",
   "metadata": {},
   "source": [
    "***\n",
    "<br>\n",
    "\n",
    "### “SIMPLE RANDOM DATA” and “PERMUTATIONS” functions <a name=\"functions\"></a>"
   ]
  },
  {
   "cell_type": "markdown",
   "metadata": {},
   "source": [
    "#### Simple random data <a name=\"srd\"></a>\n",
    "\n",
    "\n",
    "<img align=\"left\" width=\"302\" height=\"420\" src=\"https://www.netquest.com/hubfs/Imported_Blog_Media/smallnumbers-1.png\">\n"
   ]
  },
  {
   "cell_type": "markdown",
   "metadata": {},
   "source": [
    "* _INTEGERS_ <a name=\"integers\"></a>\n",
    " \n",
    "Numpy.random package can be used for generating random integers. The examples below depict that this method can output a single integer, one-dimensional or two-dimensional arrays.\n",
    "\n",
    "1. A single integer"
   ]
  },
  {
   "cell_type": "code",
   "execution_count": 4,
   "metadata": {},
   "outputs": [
    {
     "data": {
      "text/plain": [
       "234"
      ]
     },
     "execution_count": 4,
     "metadata": {},
     "output_type": "execute_result"
    }
   ],
   "source": [
    "# Call the generator to obtain a random integer.\n",
    "x = rng.integers(1000)\n",
    "\n",
    "# Display the number.\n",
    "x"
   ]
  },
  {
   "cell_type": "markdown",
   "metadata": {},
   "source": [
    "2. One-dimensional array"
   ]
  },
  {
   "cell_type": "code",
   "execution_count": 5,
   "metadata": {},
   "outputs": [
    {
     "data": {
      "text/plain": [
       "array([746, 339,  24, 562, 871, 842, 948, 289, 767, 393, 360, 975, 699,\n",
       "       138, 383, 527, 385, 424, 434, 511,  63, 915, 260, 898, 729, 857,\n",
       "       859,  42, 558, 281,  64, 257, 656, 290,  57, 296, 281, 925, 146,\n",
       "        18, 983, 652, 716, 276, 936, 354, 142, 238,  89, 354, 683, 276,\n",
       "       433, 363, 243, 253, 901, 732, 124,  84, 856, 212, 543, 924, 140,\n",
       "        46, 797, 839, 420, 640, 274,  72, 264, 820, 315, 469, 404, 315,\n",
       "       488,  15, 907,   3,  30,  15, 789, 766, 527, 572, 946, 469, 540,\n",
       "       147,  30, 534, 796,  18, 897, 742, 915, 165, 585, 483,  98, 776,\n",
       "       918, 449, 418, 885,  23, 247, 283,  48, 596,  62, 875,  76, 193,\n",
       "       494,  81, 316, 562, 752, 325, 216, 759, 652, 658, 230, 818, 892,\n",
       "       435, 345, 434, 963, 790, 386,  72, 973,   5, 379, 622, 391, 525,\n",
       "       149, 461, 582, 742, 897,   0, 684, 843,  70, 866, 542, 826, 272,\n",
       "       476, 318, 260, 188, 132, 857, 828, 331, 956, 742, 883,  22, 969,\n",
       "       272, 749, 523, 765, 313, 177, 208, 533, 615, 538,  34, 225, 762,\n",
       "       788, 813, 205, 895, 687, 977, 464, 800, 830, 811, 255,  66, 185,\n",
       "       153, 996,  46, 497, 359], dtype=int64)"
      ]
     },
     "execution_count": 5,
     "metadata": {},
     "output_type": "execute_result"
    }
   ],
   "source": [
    "# Generate 200 numbers between 0 and 999, inclusive:\n",
    "x = rng.integers(1000, size=200)\n",
    "\n",
    "# Display the array.\n",
    "x"
   ]
  },
  {
   "cell_type": "code",
   "execution_count": 6,
   "metadata": {},
   "outputs": [
    {
     "data": {
      "image/png": "[encoded data removed]",
      "text/plain": [
       "<Figure size 720x432 with 1 Axes>"
      ]
     },
     "metadata": {},
     "output_type": "display_data"
    }
   ],
   "source": [
    "# Set the title for the future plot.\n",
    "plt.title(\"Integers Method: 1-D array\")\n",
    "\n",
    "# Plot the array.\n",
    "sns.histplot(x)\n",
    "\n",
    "# Show the plot.\n",
    "plt.show()"
   ]
  },
  {
   "cell_type": "markdown",
   "metadata": {},
   "source": [
    "3. Two-dimensional array"
   ]
  },
  {
   "cell_type": "code",
   "execution_count": 7,
   "metadata": {},
   "outputs": [
    {
     "data": {
      "text/plain": [
       "array([[ 2, 14, 54, 45, 19, 41, 69],\n",
       "       [83, 79, 72, 46, 18, 43, 21],\n",
       "       [ 3, 49, 96, 39, 75, 83, 94],\n",
       "       [95,  8,  7,  8, 18, 10, 28],\n",
       "       [ 5, 39, 63, 67,  9, 30, 32]], dtype=int64)"
      ]
     },
     "execution_count": 7,
     "metadata": {},
     "output_type": "execute_result"
    }
   ],
   "source": [
    "# Generate a 2-D array with 5 rows containing 7 integers between 0 and 99, inclusive:\n",
    "x = rng.integers(100, size=(5, 7))\n",
    "\n",
    "# Display the array.\n",
    "x"
   ]
  },
  {
   "cell_type": "code",
   "execution_count": 8,
   "metadata": {},
   "outputs": [
    {
     "data": {
      "image/png": "[encoded data removed]",
      "text/plain": [
       "<Figure size 720x432 with 1 Axes>"
      ]
     },
     "metadata": {},
     "output_type": "display_data"
    }
   ],
   "source": [
    "# Set the title for the future plot.\n",
    "plt.title(\"Integers Method: 2-D array\")\n",
    "\n",
    "# Loop through the rows in the array.\n",
    "\n",
    "sns.set()\n",
    "# Loop through the rows in the array.\n",
    "for i in range(len(x)):\n",
    "    # Build the plot.\n",
    "    plt.hist(x[i], histtype=\"stepfilled\", alpha=0.8)\n",
    "    \n",
    "# Show the plot.    \n",
    "plt.show()"
   ]
  },
  {
   "cell_type": "markdown",
   "metadata": {},
   "source": [
    "<br>\n",
    "\n",
    "- _RANDOM_ <a name=\"random\"></a>\n",
    "\n",
    "With this method numPy produces random floats and output vary from a single float number to one-dimensional or two-dimensional arrays. If not specified otherwise, floats are sampled from the interval between 0.0 and 1.0 (exclusively).\n",
    "\n",
    "1. A single float"
   ]
  },
  {
   "cell_type": "code",
   "execution_count": 9,
   "metadata": {},
   "outputs": [
    {
     "data": {
      "text/plain": [
       "0.2655881199721296"
      ]
     },
     "execution_count": 9,
     "metadata": {},
     "output_type": "execute_result"
    }
   ],
   "source": [
    "# Generate a single float number:\n",
    "x = rng.random()\n",
    "\n",
    "# Display the float.\n",
    "x"
   ]
  },
  {
   "cell_type": "markdown",
   "metadata": {},
   "source": [
    "2. One-dimensional array"
   ]
  },
  {
   "cell_type": "code",
   "execution_count": 10,
   "metadata": {},
   "outputs": [
    {
     "data": {
      "text/plain": [
       "array([0.41849724, 0.34236165, 0.21846164, 0.90266924, 0.67427911,\n",
       "       0.30251005, 0.12126683, 0.49284288, 0.22924012, 0.81326499,\n",
       "       0.73642522, 0.61570174, 0.58924899, 0.85557526, 0.01996519,\n",
       "       0.0352236 , 0.26965065, 0.81603419, 0.05020067, 0.79109504,\n",
       "       0.45854232, 0.36283502, 0.83895781, 0.71387796, 0.53782959,\n",
       "       0.53574113, 0.19113452, 0.44999537, 0.50570105, 0.01961003,\n",
       "       0.79077401, 0.28062059, 0.93214629, 0.8956461 , 0.24980675,\n",
       "       0.86134   , 0.62567761, 0.54193036, 0.66251477, 0.88560861])"
      ]
     },
     "execution_count": 10,
     "metadata": {},
     "output_type": "execute_result"
    }
   ],
   "source": [
    "# Generate 40 floats:\n",
    "x = rng.random((40,))\n",
    "\n",
    "# Display the array.\n",
    "x"
   ]
  },
  {
   "cell_type": "code",
   "execution_count": 11,
   "metadata": {},
   "outputs": [
    {
     "data": {
      "image/png": "[encoded data removed]",
      "text/plain": [
       "<Figure size 720x432 with 1 Axes>"
      ]
     },
     "metadata": {},
     "output_type": "display_data"
    }
   ],
   "source": [
    "# Set the title for the future plot.\n",
    "plt.title(\"Random Method: 1-D array\")\n",
    "\n",
    "# Change colour scheme.\n",
    "sns.set_palette(\"rocket\")\n",
    "\n",
    "# Build the plot.\n",
    "sns.histplot(x)\n",
    "\n",
    "# Show the plot.\n",
    "plt.show()"
   ]
  },
  {
   "cell_type": "markdown",
   "metadata": {},
   "source": [
    "3. Two-dimensional array"
   ]
  },
  {
   "cell_type": "code",
   "execution_count": 12,
   "metadata": {},
   "outputs": [
    {
     "data": {
      "text/plain": [
       "array([[-42.47802396, -19.06089109, -66.38578448, -91.06652746,\n",
       "        -41.01485895, -17.87139247, -19.3935282 , -14.35835154,\n",
       "        -96.46677477, -17.95052648, -87.44495454,  -2.94750019,\n",
       "        -94.11542821,  -9.53701662, -82.31780061, -98.85483797,\n",
       "        -77.48695995, -72.45812357, -12.1505518 , -97.07109346,\n",
       "        -10.60450591, -58.4226765 , -79.6033835 , -41.61531191,\n",
       "        -29.56033999, -10.30448769, -44.5870256 , -58.10723375,\n",
       "        -25.08792124, -37.47542385],\n",
       "       [-23.56399836, -27.76466438, -50.84876033,  -3.87798282,\n",
       "        -51.09243489, -28.01494792, -71.09657841, -69.00842403,\n",
       "        -29.10683119, -80.26127358, -43.8765961 , -91.50713962,\n",
       "        -78.45607119, -55.76880321, -61.69671257, -58.42352597,\n",
       "        -58.35839035, -55.94000478, -71.72864637, -96.64573076,\n",
       "        -60.26295839, -86.37209683, -61.50531735, -65.65388365,\n",
       "        -93.55559302, -29.88422813,  -1.63348244, -68.63048666,\n",
       "        -34.2544066 , -11.28577501]])"
      ]
     },
     "execution_count": 12,
     "metadata": {},
     "output_type": "execute_result"
    }
   ],
   "source": [
    "# Generate a 2-D array with 2 rows containing 30 floats between -100 and 0, exclusive:\n",
    "x = 100 * rng.random((2, 30)) - 100\n",
    "\n",
    "# Display the array.\n",
    "x"
   ]
  },
  {
   "cell_type": "code",
   "execution_count": 13,
   "metadata": {},
   "outputs": [
    {
     "data": {
      "image/png": "[encoded data removed]",
      "text/plain": [
       "<Figure size 720x432 with 1 Axes>"
      ]
     },
     "metadata": {},
     "output_type": "display_data"
    }
   ],
   "source": [
    "# Set the title for the future plot.\n",
    "plt.title(\"Random Method: 2-D array\")\n",
    "\n",
    "sns.set()\n",
    "# Loop through the rows in the array.\n",
    "for i in range(len(x)):\n",
    "    # Build the plot.\n",
    "    plt.hist(x[i], histtype=\"stepfilled\", alpha=0.5)\n",
    "    \n",
    "# Show the plot.    \n",
    "plt.show()"
   ]
  },
  {
   "cell_type": "markdown",
   "metadata": {},
   "source": [
    "<br>\n",
    "\n",
    "- _CHOICE_ <a name=\"choice\"></a>\n",
    "\n",
    "The choice method generates random numbers from a given integer or one-dimensional array (of integers or strings). If not specified otherwise, the output assumes a uniform distribution over all entries in the given array. (refer to [“Distributions” functions](#distributions) )\n",
    "\n",
    " 1. Uniform distribution (default)."
   ]
  },
  {
   "cell_type": "code",
   "execution_count": 14,
   "metadata": {},
   "outputs": [
    {
     "data": {
      "text/plain": [
       "array([1, 5, 9, 6, 4, 6, 2, 1, 8], dtype=int64)"
      ]
     },
     "execution_count": 14,
     "metadata": {},
     "output_type": "execute_result"
    }
   ],
   "source": [
    "# Generate 9 evenly spaced values between 0 and 9 (inclusive) (np.arange(10)).\n",
    "x = rng.choice(10, 9)\n",
    "\n",
    "# Display the array.\n",
    "x"
   ]
  },
  {
   "cell_type": "code",
   "execution_count": 15,
   "metadata": {},
   "outputs": [
    {
     "data": {
      "image/png": "[encoded data removed]",
      "text/plain": [
       "<Figure size 720x432 with 1 Axes>"
      ]
     },
     "metadata": {},
     "output_type": "display_data"
    }
   ],
   "source": [
    "# Set the title for the future plot.\n",
    "plt.title(\"Choice Method: Uniform distribution\")\n",
    "\n",
    "# Change colour scheme.\n",
    "sns.set_palette(\"flare\")\n",
    "\n",
    "# Build the plot.\n",
    "sns.histplot(x)\n",
    "\n",
    "# Show the plot.\n",
    "plt.show()"
   ]
  },
  {
   "cell_type": "code",
   "execution_count": 16,
   "metadata": {},
   "outputs": [
    {
     "data": {
      "text/plain": [
       "array([4, 8, 7, 6, 3, 0, 2, 9, 1], dtype=int64)"
      ]
     },
     "execution_count": 16,
     "metadata": {},
     "output_type": "execute_result"
    }
   ],
   "source": [
    "# Generate 9 UNIQUE random numbers from np.arange(10): \n",
    "x = rng.choice(10, 9, replace=False)\n",
    "\n",
    "# Display the array.\n",
    "x"
   ]
  },
  {
   "cell_type": "code",
   "execution_count": 17,
   "metadata": {},
   "outputs": [
    {
     "data": {
      "image/png": "[encoded data removed]",
      "text/plain": [
       "<Figure size 720x432 with 1 Axes>"
      ]
     },
     "metadata": {},
     "output_type": "display_data"
    }
   ],
   "source": [
    "# Set the title for the future plot.\n",
    "plt.title(\"Choice Method: Uniform distribution of unique numbers\")\n",
    "\n",
    "# Build the plot.\n",
    "sns.histplot(x)\n",
    "\n",
    "# Show the plot.\n",
    "plt.show()"
   ]
  },
  {
   "cell_type": "markdown",
   "metadata": {},
   "source": [
    " 2. Non-uniform distribution. \n",
    " \n",
    " Requires provision of probability $p$ of each entry in a given array to appear in the output. \n",
    " \n",
    " Note that $p$:\n",
    "    - has to be of the same size as a given array;\n",
    "    - sum of $p$ elements has to be 1;\n",
    "    - non-zero entries in $p$ has to be same as size."
   ]
  },
  {
   "cell_type": "code",
   "execution_count": 18,
   "metadata": {},
   "outputs": [
    {
     "data": {
      "text/plain": [
       "array([2, 7, 1, 5, 2, 9, 0, 1, 6], dtype=int64)"
      ]
     },
     "execution_count": 18,
     "metadata": {},
     "output_type": "execute_result"
    }
   ],
   "source": [
    "# Generate 9 evenly spaced values between 0 and 9 (inclusive) (np.arange(10)) with provided p:\n",
    "x = rng.choice(10, 9, p=[0.1, 0.1, 0.1, 0.1, 0.1, 0.2, 0.1, 0.1, 0, 0.1])\n",
    "\n",
    "# Display the array.\n",
    "x"
   ]
  },
  {
   "cell_type": "code",
   "execution_count": 19,
   "metadata": {},
   "outputs": [
    {
     "data": {
      "image/png": "[encoded data removed]",
      "text/plain": [
       "<Figure size 720x432 with 1 Axes>"
      ]
     },
     "metadata": {},
     "output_type": "display_data"
    }
   ],
   "source": [
    "# Set the title for the future plot.\n",
    "plt.title(\"Choice Method: Non-Uniform distribution\")\n",
    "\n",
    "# Build the plot.\n",
    "sns.histplot(x)\n",
    "\n",
    "# Show the plot.\n",
    "plt.show()"
   ]
  },
  {
   "cell_type": "code",
   "execution_count": 20,
   "metadata": {},
   "outputs": [
    {
     "data": {
      "text/plain": [
       "array([5, 6, 2, 0, 1, 9, 4, 7, 3], dtype=int64)"
      ]
     },
     "execution_count": 20,
     "metadata": {},
     "output_type": "execute_result"
    }
   ],
   "source": [
    "# Generate 9 evenly spaced values between 0 and 9 (inclusive) (np.arange(10)) with provided p:\n",
    "x = rng.choice(10, 9, replace=False, p=[0.1, 0.1, 0.1, 0.1, 0.1, 0.2, 0.1, 0.1, 0, 0.1])\n",
    "\n",
    "# Display the array.\n",
    "x"
   ]
  },
  {
   "cell_type": "code",
   "execution_count": 21,
   "metadata": {},
   "outputs": [
    {
     "data": {
      "image/png": "[encoded data removed]",
      "text/plain": [
       "<Figure size 720x432 with 1 Axes>"
      ]
     },
     "metadata": {},
     "output_type": "display_data"
    }
   ],
   "source": [
    "# Set the title for the future plot.\n",
    "plt.title(\"Choice Method: Non-Uniform distribution of unique numbers\")\n",
    "\n",
    "# Build the plot.\n",
    "sns.histplot(x)\n",
    "\n",
    "# Show the plot.\n",
    "plt.show()"
   ]
  },
  {
   "cell_type": "markdown",
   "metadata": {},
   "source": [
    "- _BYTES_ <a name=\"bytes\"></a>\n",
    "\n",
    "This NumPy random method returns random bytes."
   ]
  },
  {
   "cell_type": "code",
   "execution_count": 22,
   "metadata": {},
   "outputs": [
    {
     "data": {
      "text/plain": [
       "b'{\\xa2\\x02\\xa5\\xfb\\xd7e\\xdf\\xc78\\xa9`\\x9cR\\xb8{\\x7fi\\xaab\\x07/\\xf5\\xb6G\\x04\\xdf\\xe0\\tOT\\xd26\\xdc\\xa0\\xaan\"wU\\x02\\x89\\x01\\xc9\\x94)S\\xa0\\xf2x\\x93\\xaf\\xa8r\\x00\\xc8\\xc0R\\xda(0>}\\x00\\x87\\x94zF\\xaaB\\xd7bhY,-\\xbcvP \\xa2\\xe0!\\x14\\x8ed\\xe1\\xb4\\xdb4\\x05\\x9a\\xf1EC#\\x18\\x9c\\xe9\\xef'"
      ]
     },
     "execution_count": 22,
     "metadata": {},
     "output_type": "execute_result"
    }
   ],
   "source": [
    "# Generate 100 random bytes:\n",
    "x = rng.bytes(100)\n",
    "\n",
    "# Display the array.\n",
    "x"
   ]
  },
  {
   "cell_type": "markdown",
   "metadata": {},
   "source": [
    "***\n",
    "<br>\n",
    "\n",
    "#### Permutations <a name=\"permutations\"></a>\n",
    "\n",
    "\n",
    "<img align=\"left\" width=\"200\" height=\"300\" src=\"https://upload.wikimedia.org/wikipedia/commons/3/39/Combination_unlocked.png\">"
   ]
  },
  {
   "cell_type": "markdown",
   "metadata": {},
   "source": [
    "Generally speaking, in NumPy, both permutation and shuffle methods randomly shuffle elements in an array, which results in the same output when plotting (see below). However, there are some differences in these methods. \n",
    "\n",
    "The Shuffle method changes arrangement of elements inplace, i.e. in the array itself. On the other hand, the Permutation method produces a shuffled range if integer is passed or a shuffled _copy_ of the array if an array is passed (meaning that the original array is left unchanged).$^4$\n",
    "\n",
    "\n",
    "> 4. [W3Schools: Random Permutations](https://www.w3schools.com/python/numpy_random_permutation.asp)\n"
   ]
  },
  {
   "cell_type": "markdown",
   "metadata": {},
   "source": [
    "_SHUFFLE_ vs _PERMUTATION_ \n",
    "\n",
    "1. One-Dimensional Array"
   ]
  },
  {
   "cell_type": "code",
   "execution_count": 23,
   "metadata": {},
   "outputs": [
    {
     "data": {
      "text/plain": [
       "array([ 86,  93,  73,  87,  12, 156,  50,  48, 190, 122,  52,  28, 173,\n",
       "       124, 191,  24, 168, 161, 102,  21, 144,   7, 116, 125, 108, 117,\n",
       "       152,  70,  96, 179,  92,  34,   0, 198, 104, 172,  66,  41, 180,\n",
       "        57, 195,  82,  20,  43, 165,  58, 111,  19,  75,  89,  97, 153,\n",
       "        13, 183, 193, 148, 150,  47, 164,  56, 138,  35, 171, 112, 143,\n",
       "        65, 130, 109, 199,   4,   9, 154, 196, 177, 160, 113, 123, 163,\n",
       "        80,  51, 107,  83,   3,  71,  79, 174, 133,  33,  49,  85, 189,\n",
       "        77, 126,  22,   5,  69, 176, 145, 159, 170, 120, 162, 103, 127,\n",
       "        54,   1, 115,  55,  46,  42,  25,  84,  90,  68,  38,  11, 129,\n",
       "       146, 166,  95,  81, 182,  39, 187, 101, 135, 142, 114, 139, 157,\n",
       "       197,  44, 136,  78, 131,  16,  30,  40, 134, 137,  18, 118,  23,\n",
       "       158, 175,  91,  32, 110, 140,  59,  63, 119,  67,  17,   2,  64,\n",
       "        31, 128, 105,  74,  99,  37,  98,  53, 185, 151,  88, 184,  26,\n",
       "        45, 194, 167,  29, 178, 155, 147,  10,  61, 192,  27, 121,   6,\n",
       "        72, 149, 186,  15,  94, 141, 169, 100, 181, 188, 132,  14,  76,\n",
       "        62,  36,   8, 106,  60])"
      ]
     },
     "execution_count": 23,
     "metadata": {},
     "output_type": "execute_result"
    }
   ],
   "source": [
    "# Generate an array between 0 and 199, inclusive:\n",
    "x = np.arange(200)\n",
    "\n",
    "# Shuffle its content.\n",
    "rng.shuffle(x)\n",
    "\n",
    "# Display the array.\n",
    "x"
   ]
  },
  {
   "cell_type": "code",
   "execution_count": 24,
   "metadata": {},
   "outputs": [
    {
     "data": {
      "text/plain": [
       "array([ 35, 161, 171,  37,  14, 194, 178,  76, 120, 174, 123, 176,   8,\n",
       "       190,  82, 142, 197, 147, 101,  73, 172, 125, 100,  48,  50,  59,\n",
       "        29,   4,  53,  27,  87,  91, 181,  77,  89,  61,  44,   5, 134,\n",
       "       177,   2, 157,  95, 159, 127,   6,  51, 137, 170,  93,  63, 122,\n",
       "        90,  38,  34, 188,  22, 138,  21, 189,  62, 131,  72, 106, 158,\n",
       "       193,   7, 118,  57, 124, 128, 141, 152,  15, 104,  42,  69,  78,\n",
       "        98, 187,  36,  85, 182,  43, 180,  64,  68, 114, 105, 163,  94,\n",
       "        75,  80,  40, 140, 150, 149,  10, 143,   3, 111,  99, 148, 154,\n",
       "        46,  84,  24, 191, 146, 195, 151, 116, 113, 121, 173, 130,  56,\n",
       "        60,  13, 112, 153, 184, 117, 139, 132, 183, 168, 102, 129, 175,\n",
       "         0, 103,  39,  45,   1,  23,  17,  25,  12,  54, 166, 199, 144,\n",
       "        65, 167, 198, 126,  31, 109,  47,  30,  33, 165,  86,  92,  32,\n",
       "       185, 155, 135,  11,  96,  26,  71, 115, 164, 169,  20,  88,  16,\n",
       "        67, 186, 133,  55, 192, 156,  19, 136, 110,  52, 119,  18,  79,\n",
       "        49, 179,  81,  74,  83,  97,  41, 196,  28,  66,  70, 145,   9,\n",
       "       162, 107, 108,  58, 160])"
      ]
     },
     "execution_count": 24,
     "metadata": {},
     "output_type": "execute_result"
    }
   ],
   "source": [
    "# Permute an array of 200 numbers between 0 and 199, inclusive:\n",
    "y = rng.permutation(200)\n",
    "\n",
    "# Display the array.\n",
    "y"
   ]
  },
  {
   "cell_type": "code",
   "execution_count": 25,
   "metadata": {},
   "outputs": [
    {
     "data": {
      "image/png": "[encoded data removed]",
      "text/plain": [
       "<Figure size 720x432 with 2 Axes>"
      ]
     },
     "metadata": {},
     "output_type": "display_data"
    }
   ],
   "source": [
    "# Change colour scheme.\n",
    "sns.set_palette(\"husl\")\n",
    "\n",
    "# Build the Shuffle plot one the left.\n",
    "plt.subplot(1, 2, 1)\n",
    "sns.histplot(x)\n",
    "\n",
    "# Set the title for the Shuffle plot.\n",
    "plt.title(\"Shuffle: 1-D array\")\n",
    "\n",
    "# Build the Permutation plot one the right.\n",
    "plt.subplot(1, 2, 2)\n",
    "sns.histplot(y)\n",
    "\n",
    "# Set the title for the Permutation plot.\n",
    "plt.title(\"Permutation: 1-D array\")\n",
    "\n",
    "# Show the plot.\n",
    "plt.show()"
   ]
  },
  {
   "cell_type": "markdown",
   "metadata": {},
   "source": [
    "2. Two-Dimensional Array"
   ]
  },
  {
   "cell_type": "code",
   "execution_count": 26,
   "metadata": {
    "scrolled": false
   },
   "outputs": [
    {
     "data": {
      "text/plain": [
       "array([[ 53,  90,  52,  64,  61,  45,  16,  67,  71,  46,  25,  93,  78,\n",
       "         20,  12,  85,  62,  37,  47,  21,  49,  54,  22,   7,  73,  82,\n",
       "         83,   6,  30,  29,  80,  77,  18,  97,  44,  13,  84,  92,  76,\n",
       "         51,  72,  15,  31,   8,  74,  48,  39,  57,   4,  19,   9,  50,\n",
       "         34,  86,  99,  70,  95,  26,  27,  35,  79,  55,  56,  40,  43,\n",
       "         14,  58,  10,  42,  36,  87,   0,  41,  33,  96,  91,  69,  28,\n",
       "         81,  38,  17,   1,  23,  60,   3,  65,  59,   2,  98,  11,  32,\n",
       "         63,  88,  24,   5,  75,  89,  66,  68,  94],\n",
       "       [153, 190, 152, 164, 161, 145, 116, 167, 171, 146, 125, 193, 178,\n",
       "        120, 112, 185, 162, 137, 147, 121, 149, 154, 122, 107, 173, 182,\n",
       "        183, 106, 130, 129, 180, 177, 118, 197, 144, 113, 184, 192, 176,\n",
       "        151, 172, 115, 131, 108, 174, 148, 139, 157, 104, 119, 109, 150,\n",
       "        134, 186, 199, 170, 195, 126, 127, 135, 179, 155, 156, 140, 143,\n",
       "        114, 158, 110, 142, 136, 187, 100, 141, 133, 196, 191, 169, 128,\n",
       "        181, 138, 117, 101, 123, 160, 103, 165, 159, 102, 198, 111, 132,\n",
       "        163, 188, 124, 105, 175, 189, 166, 168, 194]])"
      ]
     },
     "execution_count": 26,
     "metadata": {},
     "output_type": "execute_result"
    }
   ],
   "source": [
    "# Generate a 2-D array with 2 rows of 100 numbers between 0 and 199, inclusive:\n",
    "x = np.arange(200).reshape((2, 100))\n",
    "\n",
    "# Shuffle its content along the axis 1.\n",
    "rng.shuffle(x, axis=1)\n",
    "\n",
    "# Display the array.\n",
    "x"
   ]
  },
  {
   "cell_type": "code",
   "execution_count": 27,
   "metadata": {},
   "outputs": [
    {
     "data": {
      "text/plain": [
       "array([[ 26,  32,  25,  24,  13,  50,  85,   9,  15,  22,  97,  35,  86,\n",
       "         34,  71,  52,  95,  18,  96,  12,  58,  99,  33,  17,  27,  61,\n",
       "         31,  81,  48,  84,  90,  59,   0,   7,  20,  45,  51,  76,  10,\n",
       "         57,  28,   6,  21,  87,  91,  92,   5,  93,  65,   3,  98,  70,\n",
       "          1,  78,  62,  30,  42,  43,  94,  29,  44,  11,  41,  89,  55,\n",
       "         23,  36,  14,   2,  73,  39,  80,  37,  72,  67,  77,  47,  74,\n",
       "         49,  46,  82,  53,  54,  63,  40,  60,  16,   4,   8,  83,  79,\n",
       "         64,  68,  38,  75,  88,  66,  69,  19,  56],\n",
       "       [126, 132, 125, 124, 113, 150, 185, 109, 115, 122, 197, 135, 186,\n",
       "        134, 171, 152, 195, 118, 196, 112, 158, 199, 133, 117, 127, 161,\n",
       "        131, 181, 148, 184, 190, 159, 100, 107, 120, 145, 151, 176, 110,\n",
       "        157, 128, 106, 121, 187, 191, 192, 105, 193, 165, 103, 198, 170,\n",
       "        101, 178, 162, 130, 142, 143, 194, 129, 144, 111, 141, 189, 155,\n",
       "        123, 136, 114, 102, 173, 139, 180, 137, 172, 167, 177, 147, 174,\n",
       "        149, 146, 182, 153, 154, 163, 140, 160, 116, 104, 108, 183, 179,\n",
       "        164, 168, 138, 175, 188, 166, 169, 119, 156]])"
      ]
     },
     "execution_count": 27,
     "metadata": {},
     "output_type": "execute_result"
    }
   ],
   "source": [
    "# Generate a 2-D array with 2 rows of 200 numbers between 0 and 199, inclusive:\n",
    "a = np.arange(200).reshape((2, 100))\n",
    "\n",
    "# Copy the array and shuffle its content along the axis 1.\n",
    "y = rng.permutation(a, axis=1)\n",
    "\n",
    "# Display the array.\n",
    "y"
   ]
  },
  {
   "cell_type": "code",
   "execution_count": 28,
   "metadata": {},
   "outputs": [
    {
     "data": {
      "image/png": "[encoded data removed]",
      "text/plain": [
       "<Figure size 720x432 with 2 Axes>"
      ]
     },
     "metadata": {},
     "output_type": "display_data"
    }
   ],
   "source": [
    "# Build the Shuffle plot one the left.\n",
    "plt.subplot(1, 2, 1)\n",
    "for i in range(len(x)):\n",
    "    # Build the plot.\n",
    "    sns.histplot(x[i])\n",
    "\n",
    "# Set the title for the Shuffle plot.\n",
    "plt.title(\"Shuffle: 2-D array shuffled along the axis\")\n",
    "\n",
    "# Build the Permutation plot the right.\n",
    "plt.subplot(1, 2, 2)\n",
    "for i in range(len(y)):\n",
    "    # Build the plot.\n",
    "    sns.histplot(y[i])\n",
    "\n",
    "# Set the title for the Permutation plot.\n",
    "plt.title(\"Permutation: 2-D array shuffled along the axis\")\n",
    "\n",
    "# Show the plot.    \n",
    "plt.show()"
   ]
  },
  {
   "cell_type": "markdown",
   "metadata": {},
   "source": [
    "***\n",
    "<br>\n",
    "\n",
    "### “DISTRIBUTIONS” functions <a name=\"distributions\"></a>\n",
    "\n",
    "<img align=\"left\" width=\"300\" height=\"300\" src=\"https://cdn1.iconfinder.com/data/icons/data-science-flat-1/64/probability-distribution-normal-curve-statistics-data-512.png\">"
   ]
  },
  {
   "cell_type": "markdown",
   "metadata": {},
   "source": [
    "Probability distribution is a rule or a set of rules that outlines all the possible values that a random variable is likely to take within a given range. The precision of where values will be plotted on the probability distribution within this range depends on many factors, including the distribution's mean, standard deviation etc. [1]\n",
    "\n",
    "Statistically, probability distributions can be divided into two groups: discrete and continuous. This division depends on whether the data on which probability is calculated consists of discrete (with a range of countable values) or continuous (with a range of infinite (uncountable) values) variables. [2] [3]\n",
    "\n",
    "> 1. [Investopedia: Probability Distribution](https://www.investopedia.com/terms/p/probabilitydistribution.asp)\n",
    "2. [Statistics How To: Continuous Probability Distribution](https://www.statisticshowto.com/continuous-probability-distribution/)\n",
    "3. [Statistics How To: Discrete Probability Distribution](https://www.statisticshowto.com/discrete-probability-distribution/)\n"
   ]
  },
  {
   "cell_type": "markdown",
   "metadata": {},
   "source": [
    "<br>\n",
    "\n",
    "#### Discrete Probability Distribution <a name=\"discrete\"></a>\n",
    "\n",
    "<br>\n",
    "\n",
    "##### Binomial  <a name=\"binomial\"></a>\n",
    "\n",
    "A binomial distribution may have two possible outcomes: \"success\" or \"failure\" (hence \"binomial\").\n",
    "\n",
    "There are three properties that binomial distributions must have:\n",
    "\n",
    "1. The number of trials is fixed.\n",
    "2. Each trial is independent. \n",
    "3. The success probability is the same from one trial to another.  [1]\n",
    "\n",
    "There are many real-life instances of binomial distributions. For example, we can calculate a number of \"successes\" of a new medicine tested on a set of patients where the outcome for a given patient is either a success or a failure. [2] \n",
    "\n",
    "> 1. [Statistics How To: Binomial Distribution](https://www.statisticshowto.com/probability-and-statistics/binomial-theorem/binomial-distribution-formula/)\n",
    "2. [Boston University School of Public Health: The Binomial Distribution](https://sphweb.bumc.bu.edu/otlt/mph-modules/bs/bs704_probability/bs704_probability7.html#:~:text=The%20binomial%20distribution%20model%20allows,a%20success%20or%20a%20failure.)\n",
    "\n",
    "_Example: Flip a coin_\n",
    "\n",
    "<img align=\"left\" width=\"140\" height=\"250\" src=\"https://juliakovach.files.wordpress.com/2012/07/coin-toss.png\">"
   ]
  },
  {
   "cell_type": "code",
   "execution_count": 29,
   "metadata": {
    "scrolled": true
   },
   "outputs": [
    {
     "data": {
      "text/plain": [
       "array([14,  9,  8, 14, 11,  9,  6, 15,  8, 10,  9, 10, 12,  7,  8, 10, 10,\n",
       "       18,  8, 12,  8,  9, 12,  9, 11,  9,  8,  9,  9, 10, 12, 11,  9, 12,\n",
       "       11, 10,  8, 10, 11,  7, 10, 12, 14,  9,  9, 15,  8, 11, 10, 12,  9,\n",
       "        4, 10, 11, 10,  9, 12, 13,  8,  6, 10, 11,  6, 10,  7,  8, 12,  8,\n",
       "       10, 11, 13,  8,  9, 11, 11, 13, 13, 12,  8, 13, 13, 10, 11, 14,  8,\n",
       "        8,  8,  8,  8,  9, 10,  7, 10,  8, 15, 14,  9, 12,  6,  6,  7, 12,\n",
       "       10, 10, 10, 13,  8, 10,  7,  7,  5, 12, 12,  8, 11,  8,  5, 10,  9,\n",
       "       11,  9, 13, 12, 14,  8,  7, 11,  7,  7, 13,  5, 12,  3, 10, 10, 10,\n",
       "       11, 11, 11,  6, 10,  9,  8,  7, 12, 11, 10, 11, 10, 10,  5,  9, 11,\n",
       "        9, 11, 14,  8, 11,  8, 14,  8,  8, 11, 14,  9,  7, 10, 12, 14, 14,\n",
       "       12, 11, 12, 11,  7, 12,  9, 12, 10,  8, 13,  8, 10, 10, 12, 10,  8,\n",
       "       13, 10, 13, 13,  7, 10, 13, 12, 11, 11, 10,  8,  7, 11,  9,  8, 10,\n",
       "        6, 11,  6,  8,  8, 15, 10, 13,  7,  9,  9, 11, 11, 11, 11, 11,  7,\n",
       "        9, 15,  9, 11, 11, 10,  6, 12, 13, 10, 13,  7, 11, 10, 11,  9, 13,\n",
       "        8, 10,  7, 11, 13, 12, 10, 11, 10,  9, 13, 10,  8, 10, 10, 11, 10,\n",
       "       14,  7,  9,  9, 10, 11,  8,  9, 13, 10, 11, 10, 12,  9, 10, 11,  8,\n",
       "       12, 11,  6, 15,  7,  8, 11, 13,  8, 10,  5, 12, 10, 12, 12,  5,  8,\n",
       "        9, 13, 13, 12, 10, 12, 11, 10,  9,  6, 13, 10,  8, 10, 13,  8, 14,\n",
       "       10, 10, 13, 10, 11,  9,  6, 12, 14, 10, 11, 11, 11, 10,  7,  6, 12,\n",
       "        8,  7, 11, 12,  6, 12, 16,  9, 12,  9,  9, 12,  7, 13, 10, 12,  7,\n",
       "       11, 14,  8,  7, 10,  7, 13, 10, 12, 10,  8, 11, 10,  9,  5, 14,  8,\n",
       "        6,  8, 12,  7, 11, 12, 11, 12, 13,  9,  8, 11, 10,  9, 11,  8,  7,\n",
       "       12, 12,  9, 12, 10, 10,  9,  7,  8, 10,  7, 10,  8, 10,  8, 12,  9,\n",
       "       10, 10,  9,  9, 14,  8, 11,  8, 12, 10, 11,  9, 10, 13, 11, 10,  8,\n",
       "       10, 12, 11, 12,  9, 11,  8, 14, 11, 11, 11, 14, 10,  9,  8, 12, 10,\n",
       "       10, 11,  8, 10,  9,  9,  9, 10,  8, 12,  8, 10,  8, 10,  9, 12,  9,\n",
       "        9,  9, 12, 10, 11, 11, 12, 10, 10,  8, 13,  9, 12, 11, 10, 11,  6,\n",
       "        9, 11,  9,  8, 10, 10, 10, 10, 10, 15,  8, 10, 12, 10, 11, 11, 12,\n",
       "       13,  7, 12,  5, 11, 12, 10,  8, 14, 10, 13, 10,  8,  9,  9, 10, 10,\n",
       "       12, 10,  7, 10,  9, 13,  7, 12, 12, 10,  9, 10, 13,  9, 14, 10, 11,\n",
       "        9, 12, 10, 14, 10, 12, 10,  7, 14,  8, 15, 11, 11,  9, 11, 14, 11,\n",
       "        9, 12,  5, 12, 11, 15,  9,  8,  8,  8, 11,  7, 12, 10,  8, 15, 12,\n",
       "       11,  7, 12, 12, 12, 12, 11,  9, 11,  9, 12, 12, 10, 13, 12, 11, 11,\n",
       "       11, 11, 13,  9,  8,  6, 13, 12,  7,  8, 11, 11,  8,  9, 13, 11, 10,\n",
       "        5,  7,  8, 11, 11, 11, 12, 11, 11, 10, 15, 10,  7, 11, 11, 10,  9,\n",
       "       12, 10,  8, 11, 11, 10, 11, 11,  6, 10, 10, 13, 12, 13,  6, 10,  9,\n",
       "       13, 11,  9,  9, 10, 12,  7,  8, 12, 10,  8,  9, 10,  9,  8, 15, 11,\n",
       "        7,  8,  8,  8, 11,  9,  7,  9, 10,  9, 12, 12, 10,  9, 12,  9, 11,\n",
       "       10, 10,  9,  5, 12, 12, 10, 13, 11, 14, 11, 10, 10, 13, 13,  6, 15,\n",
       "       12,  8, 10, 10, 14, 14, 11,  8, 15,  9,  8,  5, 12,  9,  7, 10,  8,\n",
       "        7, 15,  8,  8, 14, 11, 11, 10,  8,  8,  9,  7, 10,  9, 12, 12, 12,\n",
       "       10, 11, 10,  9,  9,  9,  9, 10, 12,  8,  9,  8,  9, 11,  9,  9, 12,\n",
       "       13,  9, 13,  7, 10, 10,  7, 13,  8, 11, 10, 10,  9,  9, 12,  8, 12,\n",
       "        7, 13, 11,  9, 10, 13,  9, 10, 11,  9,  9, 11, 13,  9,  7,  9, 11,\n",
       "        9, 10, 11, 10,  9, 14, 11, 11,  6,  8, 10,  5,  9,  9, 11, 12,  9,\n",
       "        8,  5,  9,  7,  5, 11, 11, 11, 10, 11,  7,  7,  6,  8,  8, 10, 11,\n",
       "        8, 11, 11,  8,  6,  9,  9,  8, 13, 13, 12,  8, 10, 10, 11,  8, 10,\n",
       "       12, 10, 10, 12,  5, 11,  9, 11,  9, 10,  6, 10,  8, 11, 13, 11,  9,\n",
       "        9, 12, 13, 12, 11, 10, 11, 12, 12, 10,  9, 14,  8,  9, 12, 11, 13,\n",
       "        9,  9, 11, 10, 12,  9,  6,  7,  8, 13, 11,  8, 11,  8,  8, 13, 10,\n",
       "        8,  8,  7,  8, 10, 11,  8, 10, 12,  9, 11, 10,  8, 12, 10,  8,  7,\n",
       "       13,  9, 12, 11, 10, 10, 11,  9, 11, 12,  9, 10, 10,  6, 11,  9, 13,\n",
       "       12, 12,  8, 14, 12, 10,  9,  8, 11, 10, 13,  9, 11, 11,  9,  7,  8,\n",
       "        7, 13,  6, 12, 14, 14, 12,  8, 12, 13, 10,  8, 10,  6,  5, 12, 10,\n",
       "        9,  6,  8,  9,  9, 11,  8, 13,  9, 10, 11,  8, 12,  6, 11, 12,  8,\n",
       "       11, 11, 14, 12,  9, 15, 13, 13, 13,  7,  7, 10, 10, 13, 12, 12, 10,\n",
       "        9,  8, 11, 10,  9, 11, 10, 12, 15,  6, 11,  9, 11, 11, 14, 11,  7,\n",
       "       11,  8,  8, 10, 12, 11,  9,  7,  9, 12,  9,  7,  9, 12,  8, 10,  9,\n",
       "       12,  9,  6,  9, 12,  8,  7,  4, 14, 10, 11, 10,  8,  9],\n",
       "      dtype=int64)"
      ]
     },
     "execution_count": 29,
     "metadata": {},
     "output_type": "execute_result"
    }
   ],
   "source": [
    "# Flip a coin 20 times with a probability 0.5 of each trial.\n",
    "n, p = 20, 0.5\n",
    "\n",
    "# Test done 1000 times.\n",
    "x = rng.binomial(n, p, 1000)\n",
    "\n",
    "# Display the number of heads.\n",
    "x"
   ]
  },
  {
   "cell_type": "code",
   "execution_count": 30,
   "metadata": {},
   "outputs": [
    {
     "data": {
      "image/png": "[encoded data removed]",
      "text/plain": [
       "<Figure size 720x432 with 1 Axes>"
      ]
     },
     "metadata": {},
     "output_type": "display_data"
    }
   ],
   "source": [
    "# Change colour scheme.\n",
    "sns.set_palette(\"PuOr\")\n",
    "\n",
    "# Set the title and x label for the future plot.\n",
    "plt.title(f\"Binominal Distribution: Flip a coin {n} times\")\n",
    "plt.xlabel(\"Number of Heads\")\n",
    "\n",
    "# Build the plot.\n",
    "sns.histplot(x, stat=\"probability\")\n",
    "\n",
    "# Show the plot.\n",
    "plt.show()"
   ]
  },
  {
   "cell_type": "markdown",
   "metadata": {},
   "source": [
    "<br>\n",
    "\n",
    "_Example: Test of an antihistamine drug_\n",
    "\n",
    "<img align=\"left\" width=\"220\" height=\"80\" src=\"https://secure.webtoolhub.com/static/resources/icons/set33/254c1686.png\">"
   ]
  },
  {
   "cell_type": "markdown",
   "metadata": {},
   "source": [
    "If the medication is given to 10 patients suffering from allergies, what is the probability of its effectiveness to be exactly exactly 7 when 80% of adults report symptomatic relief with this medication?"
   ]
  },
  {
   "cell_type": "code",
   "execution_count": 31,
   "metadata": {},
   "outputs": [
    {
     "data": {
      "text/plain": [
       "array([ 7, 10,  8, ...,  9,  9,  9], dtype=int64)"
      ]
     },
     "execution_count": 31,
     "metadata": {},
     "output_type": "execute_result"
    }
   ],
   "source": [
    "# 10 new patients with allergies.\n",
    "n = 10\n",
    "\n",
    "# The probability of success for each person is 0.8.\n",
    "p = 0.8\n",
    "\n",
    "# Calculate the success rate.\n",
    "x = rng.binomial(n, p, 20000)\n",
    "\n",
    "# Display it\n",
    "x"
   ]
  },
  {
   "cell_type": "code",
   "execution_count": 32,
   "metadata": {},
   "outputs": [
    {
     "data": {
      "image/png": "[encoded data removed]",
      "text/plain": [
       "<Figure size 720x432 with 1 Axes>"
      ]
     },
     "metadata": {},
     "output_type": "display_data"
    }
   ],
   "source": [
    "# Set the title and x label for the future plot.\n",
    "plt.title(\"Binominal Distribution: Test of an antihistamine drug\")\n",
    "plt.xlabel(\"Patients\")\n",
    "\n",
    "# Build the plot.\n",
    "sns.histplot(x, stat=\"probability\")\n",
    "\n",
    "# Show the plot.\n",
    "plt.show()"
   ]
  },
  {
   "cell_type": "code",
   "execution_count": 33,
   "metadata": {},
   "outputs": [
    {
     "data": {
      "text/plain": [
       "0.205"
      ]
     },
     "execution_count": 33,
     "metadata": {},
     "output_type": "execute_result"
    }
   ],
   "source": [
    "# Effectiveness of the grug is 7.\n",
    "s = 7\n",
    "\n",
    "# Calculate the probability when tested 20000 times.\n",
    "x = sum(rng.binomial(n, p, 20000) == s)/20000\n",
    "\n",
    "# Display the probability.\n",
    "x"
   ]
  },
  {
   "cell_type": "markdown",
   "metadata": {},
   "source": [
    "<br>\n",
    "\n",
    "##### Multinomial  <a name=\"multinomial\"></a>\n",
    "\n",
    "A multinomial distribution is generalization of binominal distribution with more than two outcomes (hence multinominal). [1]\n",
    "The distribution follows the same criteria as the binominal.\n",
    "\n",
    "> 1. [Statistics How To: Multinomial Distribution](https://www.statisticshowto.com/multinomial-distribution/)\n",
    "\n",
    "_Example: Throw a dice_\n",
    "\n",
    "<img align=\"left\" width=\"230\" height=\"80\" src=\"https://upload.wikimedia.org/wikipedia/commons/thumb/3/36/Two_red_dice_01.svg/671px-Two_red_dice_01.svg.png\">"
   ]
  },
  {
   "cell_type": "code",
   "execution_count": 34,
   "metadata": {},
   "outputs": [
    {
     "data": {
      "text/plain": [
       "array([[ 7,  8, 12, 18,  6,  9]], dtype=int64)"
      ]
     },
     "execution_count": 34,
     "metadata": {},
     "output_type": "execute_result"
    }
   ],
   "source": [
    "# Dice with 6 sides.\n",
    "d = [1/6.]\n",
    "\n",
    "# Throw it 60 times.\n",
    "n = 60\n",
    "\n",
    "# Compute a probability.\n",
    "x = rng.multinomial(n, d*6, size=1)\n",
    "\n",
    "# Display it\n",
    "x"
   ]
  },
  {
   "cell_type": "code",
   "execution_count": 35,
   "metadata": {},
   "outputs": [
    {
     "data": {
      "image/png": "[encoded data removed]",
      "text/plain": [
       "<Figure size 720x432 with 1 Axes>"
      ]
     },
     "metadata": {},
     "output_type": "display_data"
    }
   ],
   "source": [
    "# Change colour scheme.\n",
    "sns.set_palette(\"pastel\")\n",
    "\n",
    "# Set the title and x label for the future plot.\n",
    "plt.title(f\"Multinominal Distribution: Throw a dice {n} times\")\n",
    "plt.xlabel(\"Number of times the dice lands on each side\")\n",
    "\n",
    "# Build the plot.\n",
    "plt.hist(x, histtype=\"barstacked\")\n",
    "\n",
    "# New label to match the dice.\n",
    "labels = ['1','2','3','4','5','6']\n",
    "plt.legend(labels, title=\"Dice sides\")\n",
    "\n",
    "# Show the plot.\n",
    "plt.show()"
   ]
  },
  {
   "cell_type": "code",
   "execution_count": 36,
   "metadata": {},
   "outputs": [
    {
     "data": {
      "text/plain": [
       "array([[14, 16,  8, 10,  4,  8],\n",
       "       [11, 10,  4, 11, 15,  9]], dtype=int64)"
      ]
     },
     "execution_count": 36,
     "metadata": {},
     "output_type": "execute_result"
    }
   ],
   "source": [
    "# Throw it 60 times twice\n",
    "x = rng.multinomial(n, d*6, size=2)\n",
    "\n",
    "# Display the probability\n",
    "x"
   ]
  },
  {
   "cell_type": "code",
   "execution_count": 37,
   "metadata": {},
   "outputs": [
    {
     "data": {
      "image/png": "[encoded data removed]",
      "text/plain": [
       "<Figure size 720x432 with 1 Axes>"
      ]
     },
     "metadata": {},
     "output_type": "display_data"
    }
   ],
   "source": [
    "# Set the title and x label for the future plot.\n",
    "plt.title(f\"Multinominal Distribution: Throw a dice {n} times twice\")\n",
    "plt.xlabel(\"Number of times the dice lands on each side\")\n",
    "\n",
    "# Build the plot.\n",
    "plt.hist(x, histtype=\"barstacked\")\n",
    "\n",
    "# New label to match the dice.\n",
    "labels = ['1','2','3','4','5','6']\n",
    "plt.legend(labels, title=\"Dice sides\")\n",
    "\n",
    "# Show the plot.\n",
    "plt.show()"
   ]
  },
  {
   "cell_type": "code",
   "execution_count": 38,
   "metadata": {
    "scrolled": true
   },
   "outputs": [
    {
     "data": {
      "text/plain": [
       "array([11, 15, 18, 17, 14, 25], dtype=int64)"
      ]
     },
     "execution_count": 38,
     "metadata": {},
     "output_type": "execute_result"
    }
   ],
   "source": [
    "# Roll a loaded die (2/7 to land on 6).\n",
    "d = [1/7.]*5 + [2/7.]\n",
    "\n",
    "# Throw it 100 times.\n",
    "n = 100\n",
    "\n",
    "# Project the probability of it landing on 6.\n",
    "x = rng.multinomial(n, d)\n",
    "\n",
    "# Display it\n",
    "x"
   ]
  },
  {
   "cell_type": "code",
   "execution_count": 39,
   "metadata": {},
   "outputs": [
    {
     "data": {
      "image/png": "[encoded data removed]",
      "text/plain": [
       "<Figure size 720x432 with 1 Axes>"
      ]
     },
     "metadata": {},
     "output_type": "display_data"
    }
   ],
   "source": [
    "# Set the title and x label for the future plot.\n",
    "plt.title(f\"Multinominal Distribution: Throw a loaded die {n} times twice\")\n",
    "plt.xlabel(\"Number of times the loaded die lands on 6\")\n",
    "\n",
    "# Build the plot.\n",
    "sns.histplot(x, legend=False, stat=\"probability\")\n",
    "\n",
    "# Show the plot.\n",
    "plt.show()"
   ]
  },
  {
   "cell_type": "markdown",
   "metadata": {},
   "source": [
    "<br>\n",
    "\n",
    "##### Geometric   <a name=\"geometric\"></a>\n",
    "A geometric distribution represents one or more Bernoulli (binominal) trials with all failures excluding the last one, which results in success. Assumptions for the geometric distribution are the same as for binominal. [1] \n",
    "\n",
    "The distribution is used for modeling situations that require knowing the likely number of trials until success, and thus has applications in econometrics, return on investment, population modeling, and so on. [2] \n",
    "\n",
    "> 1. [Statistics How To: Geometric Distribution](https://www.statisticshowto.com/geometric-distribution/)\n",
    "2. [Brilliant: Geometric Distribution](https://brilliant.org/wiki/geometric-distribution/)\n",
    "\n",
    "_Example: Election_\n",
    "\n",
    "<img align=\"left\" width=\"230\" height=\"80\" src=\"https://encrypted-tbn0.gstatic.com/images?q=tbn%3AANd9GcSST1krcuDqRqW5PVb5TUOtmOk7UScWRDL2dtclHIm5VGqe4S0L3sD1WfoNJi5g4hxGDVgqs9sgvv8z69hnu50rs3ex4cv2mdC6z2UrkqA&usqp=CAU&ec=45714080\">"
   ]
  },
  {
   "cell_type": "markdown",
   "metadata": {},
   "source": [
    "If we ask ask people outside a polling station who they voted for, what is the probability of meeting someone that voted for an independent candidate on your 100th try assuuming that your probability of success is 15%."
   ]
  },
  {
   "cell_type": "code",
   "execution_count": 40,
   "metadata": {},
   "outputs": [
    {
     "data": {
      "text/plain": [
       "array([ 2, 20, 12,  1,  7,  6,  7,  1,  5, 11,  4, 16,  1, 12,  6, 10,  8,\n",
       "       16,  5,  1,  3,  1,  2,  6,  4, 11, 10,  6,  5,  1,  4,  1,  1,  8,\n",
       "       17, 12,  2,  2,  5, 20,  3, 28,  1,  3,  1, 10,  4,  2,  3,  1,  4,\n",
       "        4,  8,  6,  5, 12, 25,  9, 11, 27,  1, 11, 41,  3, 10, 20,  3,  2,\n",
       "        1, 15, 10,  6,  1,  6, 18, 13,  7,  3,  3,  9,  3,  1, 12, 10,  5,\n",
       "        7,  6,  6, 15,  9,  1,  2,  1,  2,  4,  2,  1,  2, 22,  2],\n",
       "      dtype=int64)"
      ]
     },
     "execution_count": 40,
     "metadata": {},
     "output_type": "execute_result"
    }
   ],
   "source": [
    "# The probability of an individual success is 0.15.\n",
    "p = 0.15\n",
    "\n",
    "# Do 100 trials.\n",
    "size = 100\n",
    "\n",
    "# Calculate the probability\n",
    "x = rng.geometric(p, size)\n",
    "\n",
    "# Display it\n",
    "x\n"
   ]
  },
  {
   "cell_type": "code",
   "execution_count": 41,
   "metadata": {},
   "outputs": [
    {
     "data": {
      "image/png": "[encoded data removed]",
      "text/plain": [
       "<Figure size 720x432 with 1 Axes>"
      ]
     },
     "metadata": {},
     "output_type": "display_data"
    }
   ],
   "source": [
    "# Change colour scheme.\n",
    "sns.set_palette(\"Paired\")\n",
    "\n",
    "# Set the title and x label for the future plot.\n",
    "plt.title(f\"Geometric Distribution: Find an independent candidate on your {size}th try\")\n",
    "\n",
    "# Build the plot.\n",
    "sns.histplot(x, stat=\"probability\", kde=True)\n",
    "\n",
    "# Show the plot.\n",
    "plt.show()"
   ]
  },
  {
   "cell_type": "code",
   "execution_count": 42,
   "metadata": {},
   "outputs": [
    {
     "data": {
      "text/plain": [
       "0.18"
      ]
     },
     "execution_count": 42,
     "metadata": {},
     "output_type": "execute_result"
    }
   ],
   "source": [
    "# How many trials succeeded after a single run?\n",
    "y = (x == 1).sum() / 100.\n",
    "\n",
    "# Display the probability of success.\n",
    "y"
   ]
  },
  {
   "cell_type": "markdown",
   "metadata": {},
   "source": [
    "##### Poisson  <a name=\"poisson\"></a>\n",
    "\n",
    "A poisson distribution is used in predicting the number of events happening in a fixed time period, given the average number of times the event happens over that time period. [1]\n",
    "\n",
    "The distribution is often used in biology (e.g. in mutation detection), finance, business (e.g. to make forecasts), disaster readiness etc.\n",
    "\n",
    "There are a number of conditions for poisson distribution:\n",
    "\n",
    "1. An event can occur any number of times during a fixed time period.\n",
    "2. Each event is independent. \n",
    "3. The occurence rate doesn't change based on time.\n",
    "4. Occurence of an event is directly proportional to the length of the time period. [2]\n",
    "\n",
    "> 1. [Statistics How To: Poisson Distribution](https://www.statisticshowto.com/poisson-distribution/)\n",
    "2. [Brilliant: Poisson Distribution](https://brilliant.org/wiki/poisson-distribution/#:~:text=the%20number%20of%20Airbus%20330,over%20a%20given%20production%20time)\n",
    "\n",
    "_Exmaple: Storm occurence_\n",
    "\n",
    "<img align=\"left\" width=\"180\" height=\"80\" src=\"https://simpleicon.com/wp-content/uploads/storm.png\">"
   ]
  },
  {
   "cell_type": "markdown",
   "metadata": {},
   "source": [
    "The average number of major storms in your city is 2 per year. What is the probability that exactly 3 storms will hit your city next year?"
   ]
  },
  {
   "cell_type": "code",
   "execution_count": 43,
   "metadata": {},
   "outputs": [
    {
     "data": {
      "text/plain": [
       "array([2, 2, 1, ..., 3, 6, 2], dtype=int64)"
      ]
     },
     "execution_count": 43,
     "metadata": {},
     "output_type": "execute_result"
    }
   ],
   "source": [
    "# Draw samples from the distribution tested 10000:\n",
    "x = rng.poisson(2, 10000)\n",
    "\n",
    "# Display the array\n",
    "x"
   ]
  },
  {
   "cell_type": "code",
   "execution_count": 44,
   "metadata": {
    "scrolled": false
   },
   "outputs": [
    {
     "data": {
      "image/png": "[encoded data removed]",
      "text/plain": [
       "<Figure size 720x432 with 1 Axes>"
      ]
     },
     "metadata": {},
     "output_type": "display_data"
    }
   ],
   "source": [
    "# Change colour scheme.\n",
    "sns.set_palette(\"PRGn\")\n",
    "\n",
    "# Set the title and x label for the future plot.\n",
    "plt.title(\"Poisson Distribution: Possiblity of Storm\")\n",
    "\n",
    "# Build the plot.\n",
    "sns.histplot(x, stat=\"probability\")\n",
    "\n",
    "# Show the plot.\n",
    "plt.show()"
   ]
  },
  {
   "cell_type": "code",
   "execution_count": 45,
   "metadata": {},
   "outputs": [
    {
     "data": {
      "text/plain": [
       "0.1816"
      ]
     },
     "execution_count": 45,
     "metadata": {},
     "output_type": "execute_result"
    }
   ],
   "source": [
    "# Calculate the probability of 3 storms.\n",
    "y = sum(x == 3)/10000\n",
    "\n",
    "# Display the probability.\n",
    "y"
   ]
  },
  {
   "cell_type": "markdown",
   "metadata": {},
   "source": [
    "***\n",
    "<br>\n",
    "\n",
    "#### Continuous Probability Distribution  <a name=\"continuous\"></a>\n",
    "\n",
    "<br>\n",
    "\n",
    "##### Normal <a name=\"normal\"></a> \n",
    "\n",
    "A normal (or Gaussian) distribution classically describes a bell-shaped curve and is fully characterized by its mean and standard deviation. It is the most frequently used, and because it approximates many natural phenomena so faithfully, it is used as a standard of reference for a wide range of probability problems in finance, investing, science, engineering etc [1]\n",
    "\n",
    "> 1. [Investopedia: Probability Distribution](https://www.investopedia.com/terms/p/probabilitydistribution.asp)\n",
    "\n",
    "_Example: Women's Shoes_\n",
    "\n",
    "<img align=\"left\" width=\"180\" height=\"80\" src=\"https://i.pinimg.com/originals/11/c9/fa/11c9fa859c9e9402067f03054e62ea57.png\">"
   ]
  },
  {
   "cell_type": "markdown",
   "metadata": {},
   "source": [
    "Assuming that women’s shoe sizes are normally distributed with a mean of 8 and a standard deviation of 1.5, the factory makes 10,000 pairs of one style. How many shoes of size 9 the manufacturer should make?  [2]\n",
    "> 2. [StudiousGuys: 9 Real Life Examples Of Normal Distribution](https://mathstat.slu.edu/~may/ExcelCalculus/sec-7-6-NormalDistribution.html)"
   ]
  },
  {
   "cell_type": "code",
   "execution_count": 46,
   "metadata": {},
   "outputs": [
    {
     "data": {
      "text/plain": [
       "array([ 9.39429844,  8.3340856 , 10.31026646, ...,  9.43770292,\n",
       "        8.54740831,  9.30337881])"
      ]
     },
     "execution_count": 46,
     "metadata": {},
     "output_type": "execute_result"
    }
   ],
   "source": [
    "# Mean is 8, standard deviation is 1.5.\n",
    "m, std = 8, 1.5\n",
    "\n",
    "# Compute 10000 numbers.\n",
    "x = rng.normal(m, std, 10000)\n",
    "\n",
    "# Display the probability.\n",
    "x"
   ]
  },
  {
   "cell_type": "code",
   "execution_count": 47,
   "metadata": {
    "scrolled": false
   },
   "outputs": [
    {
     "data": {
      "image/png": "[encoded data removed]",
      "text/plain": [
       "<Figure size 720x432 with 1 Axes>"
      ]
     },
     "metadata": {},
     "output_type": "display_data"
    }
   ],
   "source": [
    "# Change colour scheme.\n",
    "sns.set_palette(\"RdYlBu\")\n",
    "\n",
    "# Set the title and x label for the future plot.\n",
    "plt.title(\"Normal Distribution: Women Shoes\")\n",
    "\n",
    "# Build the plot.\n",
    "sns.histplot(x, stat=\"probability\")\n",
    "\n",
    "# Show the plot.\n",
    "plt.show()"
   ]
  },
  {
   "cell_type": "code",
   "execution_count": 48,
   "metadata": {
    "scrolled": true
   },
   "outputs": [
    {
     "data": {
      "text/plain": [
       "0.012414096717604295"
      ]
     },
     "execution_count": 48,
     "metadata": {},
     "output_type": "execute_result"
    }
   ],
   "source": [
    "# Verify the mean and the variance:\n",
    "abs(m - np.mean(x))"
   ]
  },
  {
   "cell_type": "code",
   "execution_count": 49,
   "metadata": {
    "scrolled": true
   },
   "outputs": [
    {
     "data": {
      "text/plain": [
       "0.007325586453415411"
      ]
     },
     "execution_count": 49,
     "metadata": {},
     "output_type": "execute_result"
    }
   ],
   "source": [
    "# Verify the standard deviation:\n",
    "abs(std - np.std(x, ddof=1))"
   ]
  },
  {
   "cell_type": "code",
   "execution_count": 50,
   "metadata": {},
   "outputs": [
    {
     "data": {
      "text/plain": [
       "2078"
      ]
     },
     "execution_count": 50,
     "metadata": {},
     "output_type": "execute_result"
    }
   ],
   "source": [
    "# Calculate how many pairs of shoes sized between 8.5 and 9.5.\n",
    "l = []\n",
    "for i in x:\n",
    "    if 8.5 < i < 9.5:\n",
    "        l.append(i)\n",
    "\n",
    "# Display the number of shoes.\n",
    "len(l)"
   ]
  },
  {
   "cell_type": "markdown",
   "metadata": {},
   "source": [
    "<br>\n",
    "\n",
    "##### Chi-Square <a name=\"chisquare\"></a>\n",
    "\n",
    "A chi-square distribution is a distribution of the chi-square statistic and constructed so that the total area under the curve is equal to 1. For example, random samples are drawn from a normal distribution and summed, and the sum then squared to arrive at the chi-square distribution. \n",
    "\n",
    "The distribution must have the following properties:\n",
    "\n",
    "1. The number of degrees of freedom is also the distribution mean, and the greater it is, the more the chi-square curve looks like a normal distribution.\n",
    "2. The variance is equal to two times the number of degrees of freedom. [1]\n",
    "\n",
    "The chi-squared distribution has many uses in statistics, for example, in testing deviations of differences in expected and observed frequencies and in a goodness of fit test (chi-square test). [2]\n",
    "\n",
    "> 1. [Stat Trek: Chi-Square Distribution](https://stattrek.com/probability-distributions/chi-square.aspx)\n",
    "2. [Statistics How To: Chi-Square Distribution](https://www.statisticshowto.com/probability-and-statistics/chi-square/)\n",
    "\n",
    "_Example: Smartphone Batteries_\n",
    "    \n",
    "    \n",
    "<img align=\"left\" width=\"180\" height=\"80\" src=\"https://images.vexels.com/media/users/3/136865/isolated/preview/7221ccf73801a7e9729d11d505fcff2b-smartphone-on-hand-by-vexels.png\">"
   ]
  },
  {
   "cell_type": "markdown",
   "metadata": {},
   "source": [
    "A smartphone battery manufacturer has developed a product with average 60 minutes on a single charge. They decide to run a quality control test by selecting 7 batteries randomly. What would be the chi-square distribution represented by this test?"
   ]
  },
  {
   "cell_type": "code",
   "execution_count": 51,
   "metadata": {},
   "outputs": [
    {
     "data": {
      "text/plain": [
       "array([ 2.11378481,  2.02901917,  3.51910048,  7.69799507,  6.95851695,\n",
       "       10.26770638,  3.94945013,  4.97488712,  6.27441733,  8.8394512 ,\n",
       "        4.02031727,  3.73359564,  9.45773976,  6.46414068,  4.49516461,\n",
       "        4.42750233,  2.75376706,  2.08761712, 10.66013732,  7.65906729,\n",
       "        2.57999649,  5.70769177,  8.0799586 ,  3.90365161,  6.50740254,\n",
       "        5.2107708 ,  4.61168261,  6.67269798,  5.07452153,  9.43815501,\n",
       "        5.05477262,  4.53990929, 16.77285497,  6.77946195,  1.85682025,\n",
       "        2.8734845 ,  5.12105762,  7.67193451,  3.80166902,  8.10844511,\n",
       "        1.62644762,  1.47041305,  1.50611949, 15.41835481,  6.68914365,\n",
       "       13.80127274,  5.19325141,  2.47683097,  2.76728844,  3.28746258,\n",
       "        4.84482104,  7.49788568,  6.34872613,  3.40447152,  8.00102928,\n",
       "        6.4632762 ,  5.8067695 ,  7.08982109,  3.21252906,  5.71943874,\n",
       "        7.40177517,  7.98854664,  2.52891384,  3.62031508,  4.86304625,\n",
       "        4.65020931,  2.45727673,  7.22580064,  1.83685033,  3.4739441 ,\n",
       "        6.17916865,  6.63773443,  2.49522076,  7.28860385,  3.41014359,\n",
       "        1.24032763,  3.08000509,  4.35033798,  5.76907122, 10.0167519 ,\n",
       "        2.87251741,  2.85792876, 11.71659107, 12.35379438,  4.90415767,\n",
       "       14.66981545,  4.03512843,  4.12074915,  5.15262228,  4.42206908,\n",
       "        7.87548655,  8.81070019, 11.31047397, 10.05362384,  3.16593939,\n",
       "        4.93550409,  4.01506502, 18.39898699,  8.72945489,  3.29160247])"
      ]
     },
     "execution_count": 51,
     "metadata": {},
     "output_type": "execute_result"
    }
   ],
   "source": [
    "# 100 samples.\n",
    "n = 100\n",
    "\n",
    "# The degrees of freedom.\n",
    "df = 6\n",
    "\n",
    "# Draw samples.\n",
    "x = rng.chisquare(df, n)\n",
    "\n",
    "# Display the distribution.\n",
    "x"
   ]
  },
  {
   "cell_type": "code",
   "execution_count": 52,
   "metadata": {
    "scrolled": false
   },
   "outputs": [
    {
     "data": {
      "image/png": "[encoded data removed]",
      "text/plain": [
       "<Figure size 720x432 with 1 Axes>"
      ]
     },
     "metadata": {},
     "output_type": "display_data"
    }
   ],
   "source": [
    "# Change colour scheme.\n",
    "sns.set_palette(\"cool_r\")\n",
    "\n",
    "# Set the title and x label for the future plot.\n",
    "plt.title(\"Chi-Squared Distribution: Smartphone Batteries\")\n",
    "\n",
    "sns.histplot(x, stat=\"probability\", kde=True)\n",
    "\n",
    "# Show the plot.\n",
    "plt.show()"
   ]
  },
  {
   "cell_type": "markdown",
   "metadata": {},
   "source": [
    "<br>\n",
    "\n",
    "##### Logistic <a name=\"logistic\"></a>\n",
    "\n",
    "A logistic distribution is used for modeling growth and logistic regression. It has a shape similar to a normal bell-shaped curve: symmetrical and unimodal. However, the logistic tends to have slightly wider tails. [1]\n",
    "\n",
    "Since it is more consistent and provides better insight into the likelihood of extreme events it finds it application in physical sciences, medicine, epidemiology, sports modeling, finance etc. [2]\n",
    "\n",
    "> 1. [Statistics How To: Logistic Distribution](https://www.statisticshowto.com/logistic-distribution/)\n",
    "2. [ScienceDirect: Logistic Distribution](https://www.sciencedirect.com/topics/mathematics/logistic-distribution)\n",
    "\n",
    "_Example: Heart Valve_\n",
    "    \n",
    "<img align=\"left\" width=\"250\" height=\"50\" src=\"https://www.clker.com//cliparts/V/1/Q/Z/f/M/voice-pulse-hi.png\">"
   ]
  },
  {
   "cell_type": "markdown",
   "metadata": {},
   "source": [
    "The lifetime of 10 mechanical heart valves were tested over 28 months to their failure. The computed parameters of likelihood of the pump failing due to the valve are: $\\mu$ (location) 22.34 and $s$ (scale) 6.15. [3]\n",
    "\n",
    "> 3. [Reliawiki: Logistic Distribution Example](http://reliawiki.com/index.php/Logistic_Distribution_Example)"
   ]
  },
  {
   "cell_type": "code",
   "execution_count": 53,
   "metadata": {
    "scrolled": true
   },
   "outputs": [
    {
     "data": {
      "text/plain": [
       "array([ 24.15391597,  37.85118959,  24.61446301,  18.29834275,\n",
       "        32.70449024,  14.11802377,  22.92993834,  30.01297029,\n",
       "        30.03908339,  33.42921711,   1.60772904,   9.19710049,\n",
       "        19.47027632,  27.64616652,  21.9952936 ,  24.6961981 ,\n",
       "        30.73515476,  14.38336407,  17.35604747,  19.20761367,\n",
       "        -1.10769754,  17.9227037 ,  16.55288849,  19.94615757,\n",
       "        32.54694779,   9.99558852,  23.87874076,  16.6849014 ,\n",
       "         8.11279136,   9.47639044,  15.49543959,  19.22234421,\n",
       "        26.68446461,  29.54748881,  12.07009334,  33.1047721 ,\n",
       "        75.6121934 ,  31.35606981,  19.11484942,  31.86029999,\n",
       "        24.18496355,  21.68070158,  47.45068887,  14.44325689,\n",
       "        26.41414187,  18.31791678,  17.71841468,  20.57354463,\n",
       "         0.12991552,  21.10746945,  29.93163084,  14.11472415,\n",
       "        23.28008271,  49.50987888,   4.50554354,  30.80436606,\n",
       "        37.52165111,  40.83694704,  29.47545725,  13.90049722,\n",
       "        35.30643822,  21.61347539,  22.14817213,   1.62067297,\n",
       "        24.73494703,  17.22851647,  27.67267667,  45.42310607,\n",
       "        33.83210011,  34.53297596,   5.50137452,  15.99368677,\n",
       "        26.34698141,  17.78668783,  11.01214291,  27.33270804,\n",
       "        32.74996017,  15.19722568,   7.43935465,   7.27602484,\n",
       "        27.04545807,  30.62754211,  26.63608561,  21.22737849,\n",
       "        14.72891461,  21.91976227,  11.79875233,  23.62088432,\n",
       "        16.76547847,   5.04659441,  33.27062683,  22.09472266,\n",
       "        35.47500457,  18.13790164,  21.40142318,  29.98292598,\n",
       "        25.5663026 ,  15.47938257,  11.50098262,  24.57190501,\n",
       "        30.86927447,  32.33385081,  39.28118954,  37.7704897 ,\n",
       "         9.29306422,  13.91672502,  30.6677447 ,  27.13593832,\n",
       "        -1.76379664,  27.74282571,  24.72067249,  31.4593637 ,\n",
       "        25.80852199,  26.64466784,  35.85039384,  26.29191203,\n",
       "        19.40580426,  49.21986454,  36.22844184,  20.40378313,\n",
       "        23.731827  ,  45.07598632,  41.42078622,  14.50069703,\n",
       "         6.20231809,  30.32187202,  25.87093262,  34.03547518,\n",
       "        11.53314354,  13.39362013,  26.2712518 ,  31.99355802,\n",
       "        17.282796  ,  17.0157754 ,  26.46274835,  21.72760452,\n",
       "         3.7877733 ,  14.17659735,  18.80912734,   5.27796518,\n",
       "        28.68542439,   8.96379611,  42.12930773,  22.12819827,\n",
       "        21.04921117,  51.8022443 ,  18.99640807,  44.57732157,\n",
       "        30.64256746,  15.64000568,  17.42237646,  31.23820633,\n",
       "        28.72997967,  21.92650798,  20.75617059,  13.48337874,\n",
       "        15.7909095 ,  25.83726862,  18.62627936,  21.36556602,\n",
       "        19.07489118,  25.13233664,  17.78010383,  -3.71602596,\n",
       "        16.93773909,  31.98210724,  11.59938233,  17.1969112 ,\n",
       "        12.87784832,  13.6583468 ,  27.82156081,  22.01815373,\n",
       "        42.09902192,   1.30236203,  34.51745081,  51.73908863,\n",
       "        52.65239959,  38.67660013,  26.82992391,  34.1410068 ,\n",
       "         0.75870834,  46.63788639,  21.4463157 ,  16.08170519,\n",
       "        31.06234097,  24.50479179,  25.58517556,  28.14075509,\n",
       "        38.5644452 ,  21.87478998,  -3.71806798,  54.17961963,\n",
       "        53.39763454,  25.15868531,   5.62683836,  32.19178061,\n",
       "        19.11540484,  10.86456929,  30.12439896,  28.59317709,\n",
       "        23.04451718,  29.63649428,  29.1112308 ,  29.25664295,\n",
       "        25.77643902,  22.04912509,  30.63249174,   2.86870875,\n",
       "        18.13711607,  11.58288173,  23.78119618,  17.13888913,\n",
       "         7.03599122,  13.33432519,  25.78796072,  29.0800775 ,\n",
       "        26.09985248,  19.9420663 ,  32.68357344,  16.88421711,\n",
       "        24.0108823 ,  11.94569758,  16.58741367,  17.67494654,\n",
       "         0.91153175,  11.68979104,  16.70541228,   0.78823789,\n",
       "         9.50280373,  27.82353537,  23.51833746,  17.80173618,\n",
       "        16.71266026,  22.57898048,  29.88589161,  15.75229724,\n",
       "        39.61000383,  19.17075357,  27.47549868,  13.22701977,\n",
       "         2.64224626,  34.8774135 ,  25.21254842,   5.63570749,\n",
       "        37.05727468,  15.56796246,  13.88000823,  26.43100893,\n",
       "        18.02846114,  28.54721777,  26.37494878,  20.93840411,\n",
       "        18.82153675,  23.34123896,  18.45870984,  21.27133899,\n",
       "        21.76538572, -14.08242589,  19.61483625,   6.5013553 ,\n",
       "        15.0573923 ,  17.04936526,  19.58976004,  29.48429741,\n",
       "        27.90218412,  22.06258697,  13.31287386,  19.50847211,\n",
       "        21.93937054,  34.86833491,  24.52802598,   2.12722868,\n",
       "         3.85530692,  24.76452343,  14.51946513,  19.88759834,\n",
       "        27.56085383,  27.577428  ,  22.69344109,  41.31873186,\n",
       "        26.08507084,  -5.5851671 ,  30.87190655,  32.52544917,\n",
       "        17.75443936,  21.74434413,  35.62969595,   9.05060124,\n",
       "        23.61774306,  35.15520973,  21.75751622,  15.91584539,\n",
       "        18.56123286,  38.05968384,  45.11999073,  21.0895875 ,\n",
       "        22.20739933,  15.45818875,  25.14673914,  36.32607937,\n",
       "        31.9450463 ,  30.0238439 ,  19.22258472,  36.31215255,\n",
       "        13.60749873,  40.7953444 ,  24.78518074,  12.43912518,\n",
       "        16.12280749,  14.81049368,  44.99993881,  35.01773062,\n",
       "        30.53319765,   9.83107742,  10.41648978,  30.91317037,\n",
       "        17.06290568,   5.02719277,  28.50224248,  30.09277902,\n",
       "        18.63292798,  23.9926843 ,  33.22936371,   3.87596091,\n",
       "        31.52216598,  34.62320747,  27.31728308,  24.05438767,\n",
       "        23.96439754,  16.13377607,  46.7235583 ,  17.05826788,\n",
       "        22.3153432 ,  28.88105713,  16.40527304,  20.77281937,\n",
       "        11.8294171 ,  22.04233537,  17.74602262,   4.53107234,\n",
       "        49.84298721,  20.34879915,  34.17672391,  17.12594418,\n",
       "        19.75514245,   2.69272985,  15.10809774,  23.69582096,\n",
       "        14.00777238,  22.36507562,  15.02615356,  16.0397371 ,\n",
       "         7.45926192,   0.28145168,  21.63030846,  18.21954691,\n",
       "        -0.5074348 ,  24.3431679 ,  22.15043014,  41.63048143,\n",
       "        33.77123131,  11.46144426,  20.67323768,  28.52209554,\n",
       "        33.22879393,  33.65700246,  25.21609384,   0.32574545,\n",
       "        28.93627415,  16.12487036,  25.84639597,  11.60239487,\n",
       "        28.10556211,   4.48207239,  32.36240943,  33.41888701,\n",
       "        19.65506743,   4.91013677,  22.02204455,  21.50601189,\n",
       "        24.73885541,  31.49650303,  28.05295719,  26.24336991,\n",
       "         8.62322983,  21.59559672,  29.89758634,  20.84602287,\n",
       "        20.11660895,  14.71885824,  12.01290857,  37.62386955,\n",
       "        39.59784942,  20.54951526,  11.61523035,  22.60616332,\n",
       "        26.24630431,  22.26257509,  34.35974116,  11.47277495,\n",
       "        13.19282598,  40.3324934 ,  33.52422635,  30.13217749,\n",
       "        18.06988442,  22.99281744,  10.09794981,  17.99059841,\n",
       "        35.73664858,  15.6272845 ,   3.41058204,  28.93146513,\n",
       "        20.04180009,  25.06573034,  25.2715965 ,  30.81528273,\n",
       "        21.70009805,  14.20086281,  24.57192522,  10.24408449,\n",
       "        15.92979214,  23.49826726,  35.96523161,  20.21856689,\n",
       "        32.49018182,  15.17024732,  23.31668284,  35.0238384 ,\n",
       "        20.64238561,  11.0126791 ,  13.31971343,  34.63892246,\n",
       "        13.058911  ,  11.02328318,  23.14011801,  61.90920766,\n",
       "        26.53039596,  27.19900127,  17.54887469,  13.09834675,\n",
       "        29.48573434,   8.48266991,  13.83679111,  20.31090375,\n",
       "        16.38255571,  25.19302931,  17.68062614,  12.42167607,\n",
       "        41.97357409,   2.59376005,  28.3847679 ,   3.19881848,\n",
       "        18.60526615,  34.06635429,  11.56874257,  38.73963321,\n",
       "        17.53343128,  53.77961829,  23.01879865,  16.17918723,\n",
       "        35.31802727,   6.32151909,  23.69180095,   0.3058219 ,\n",
       "        34.13957832,  20.91593593,  27.59626749,  16.97191755,\n",
       "        35.8221116 ,  21.08707619,  27.19689395,  31.7561701 ,\n",
       "        16.94989375,  19.74358846,  24.90469163,  14.24039805,\n",
       "        19.5698932 ,  23.65895868,  15.42892436,  28.44060688,\n",
       "        26.99185059,  27.47517518,  27.0553962 , -21.81806995,\n",
       "        27.62047432,  24.99842654,  22.88804137,  24.24262764,\n",
       "        39.20478297,  36.93424964,  32.79728685,  19.21828967,\n",
       "        17.44842873,  29.42706275,  30.77567104,  17.39689099,\n",
       "        19.3557133 ,  -0.88223963,  19.56154756,  24.30908519,\n",
       "        19.85118265,   7.81360117,   7.96776171,  16.87791613,\n",
       "        11.18977052,  -0.84219513,  24.96241192,  32.14785169,\n",
       "        18.31198669,  22.16602281,  18.43018033,  23.46538462,\n",
       "        23.42136941,  24.55902419,  23.53317515,  23.92968779,\n",
       "        13.80526307,  17.93871261,  37.13525532,  28.01178943,\n",
       "        22.49230281,  18.73056713,  10.13999809,  31.19971224,\n",
       "        43.59803058,  22.37616063,  13.91502606,  14.26117476,\n",
       "        15.32868648,  20.49330363,  29.94955186,  21.30504888,\n",
       "        24.06575405,  23.50178448,  16.81149598,  21.00752279,\n",
       "        33.94545154,  30.42671192,  19.28732356,  18.21354287,\n",
       "        21.81512255,   0.82609267,  15.52907774,  33.22601447,\n",
       "        29.83600622,  17.01004335,  24.62365204,  26.27351598,\n",
       "        11.768714  ,  12.05422782,  26.25740724,  18.7241206 ,\n",
       "         6.42984405,  26.02183578,   1.33137812,  25.52266864,\n",
       "        30.75434852,  20.62289702,  30.50728296,  13.43898129,\n",
       "        32.35481534,   8.37258711,  14.97077898,  22.10542547,\n",
       "        -2.1898097 ,  12.73156527,  30.71789567,  19.64682378,\n",
       "        22.7774185 ,  19.29194659,  13.17709825,  16.54054529,\n",
       "        12.42713977,  10.72210093,  30.03504099,  35.08530912,\n",
       "        36.26049598,  19.19770625,  -1.89621619,  17.68684577,\n",
       "        27.8067967 ,  29.53683771,  33.4867649 ,   7.27463902,\n",
       "        30.19134402,  25.6621725 ,  34.92126934,  25.80078845,\n",
       "        22.82299212,  33.95103619,  12.84531068,  28.73094659,\n",
       "        14.90869196,  40.53297135,  19.46846697,  28.63187161,\n",
       "        30.92472559,  -2.77639171,  28.32897398,   1.40790459,\n",
       "        32.35471008,  15.11005222,  32.06499244,  29.97106234,\n",
       "        17.52008263,   8.1607117 ,  14.73627919,  32.85450021,\n",
       "        32.2814189 ,  25.53428095,  18.63998431,  26.43309231,\n",
       "        19.48498975,  31.81170642,  17.7615955 ,  26.04899909,\n",
       "        13.98306377,  10.10995788,  26.1907476 ,  23.36280688,\n",
       "        15.78058264,  14.93881882,  15.67965854,  21.18937099,\n",
       "         8.05771092,  14.78702636,  27.19464599,  22.91563318,\n",
       "        12.9945808 ,  21.43937182,  34.37103985,   4.25605168,\n",
       "        11.5941946 ,  27.72816558,  16.44370978,  38.48297323,\n",
       "        31.85598258,  11.38245551,   4.04836242,  32.5777439 ,\n",
       "        22.52050994,   7.97351628,  24.96878913,  26.13748427,\n",
       "        32.69180322,  18.66985338,   5.4765301 ,  38.77142165,\n",
       "        34.05301204,  24.66764933,  24.49476022,  33.48043799,\n",
       "         3.09540534,  28.31488342,  40.85553881,  20.17913847,\n",
       "        19.23851004,  -7.48763734,  23.11085438,  26.05993509,\n",
       "        19.61236738,   5.26357643,  15.47774669,  26.39713265,\n",
       "        17.58413411,  20.0103127 ,  18.63870636,   2.02478939,\n",
       "        18.88369073,  10.36607766,  25.13886473,  12.6034205 ,\n",
       "        38.01067602,   5.66293945,  19.65358528,  32.65996086,\n",
       "        10.74545489,  22.5707132 ,  38.03692792,  26.61794249,\n",
       "        25.55926963,  17.17073721,  10.11190258,  25.52513484,\n",
       "        15.21137513,  19.73405373,  30.90965972,  16.06716264,\n",
       "        31.14535438,  15.40476813,  10.18409217,   9.26792374,\n",
       "        41.40920555,  18.3352339 ,  13.34255763,  19.90101147,\n",
       "        23.04182787,  27.44154661,  11.00765072,  11.53183591,\n",
       "        31.66294087,  18.77629797,   8.44883581,  17.16810965,\n",
       "        24.38102378,  23.04099349,  20.59596233,  24.92142088,\n",
       "        34.58002603,  24.71132306,  24.40212795,  18.61431834,\n",
       "        26.24026478,  22.69300968,  32.64287296,   1.23190738,\n",
       "        39.32123722,  31.15260723,  38.71293895,  20.18139281,\n",
       "         5.26433938,  22.9074446 ,  30.57972246,  19.3052251 ,\n",
       "        29.39601982,  21.30021116,  30.32724978,  31.63903313,\n",
       "        10.86459933,  10.7244848 ,  16.53671837,  35.61510208,\n",
       "        29.13061359,  42.04816944,  31.66178367,  14.70060852,\n",
       "        17.37529983,  26.03790557,  21.55536081,  23.50457213,\n",
       "         9.78415596,   3.46269191,  22.93645643,  19.32125867,\n",
       "        42.66708051,  24.11171003,  -0.48877518,  26.29050786,\n",
       "        35.96869641,  22.10801139,  35.98361214,  11.38154979,\n",
       "        42.83427473,  50.02608481,  18.7658696 ,  11.00915351,\n",
       "        35.69864529,  19.77467266,  25.47577062,  30.58818215,\n",
       "        23.91999843,  34.98459195,  30.45731739,  -4.76107676,\n",
       "         6.4488879 ,  19.50482933,  18.52461201,  19.80621719,\n",
       "        23.69666968,  18.51586156,  31.94384704,  16.58775062,\n",
       "        16.48629346,  27.27251019,  19.90469729,   7.57594274,\n",
       "         8.94303402,   9.04745262,   4.63777466,  18.80592868,\n",
       "         5.89042485,  31.24852659,  -1.21106531,  37.69188214,\n",
       "        21.71031761,  25.4330783 ,  17.82251653,  30.93895817,\n",
       "        13.32886392,  17.60870806,  26.19395914,  22.64813757,\n",
       "        14.05769214,  26.43436478,  28.64243927,  14.15207931,\n",
       "        21.73134771,  25.11405421,  14.5757668 ,  16.09040113,\n",
       "        19.81022201,  15.05594199,  17.41900586,  34.27912926,\n",
       "        29.08739964,  31.34499217,  32.9729795 ,   8.38796926,\n",
       "        13.85131812,  15.06199497,  21.04713377,  14.95231403,\n",
       "        10.74070019,  24.4994556 ,  11.10254526,  21.18725933,\n",
       "        16.8415025 ,  35.66138746,  25.53183617,  11.82624774,\n",
       "        26.79852321,  10.68274819,  16.32087925,  28.39835394,\n",
       "        23.02076964,  19.1120849 ,  33.65016488,  17.92425128,\n",
       "        14.41684714,  25.13216097,  21.43877796,  15.84683792,\n",
       "         7.75446427,  13.58254667,  25.23111282,  24.02648575,\n",
       "        24.11575777,  28.94396364,  31.78102971,  26.89459472,\n",
       "        14.35586041,  26.87405743,  29.6632746 ,  38.33400374,\n",
       "        17.14210319,  15.6559917 ,  20.2227459 ,  36.59880091,\n",
       "        41.1392854 ,  13.62254642,  13.20738042,   9.94029697,\n",
       "         8.70116175,  15.83879062,  40.23700551,  24.09788011,\n",
       "        22.19292586,  19.99561037,  13.1529205 ,  23.80167338,\n",
       "        21.17441132,  29.39435792,  34.40719499,  -1.26712715,\n",
       "       -13.24604832,  34.76413852,  24.06194546,  25.7631353 ,\n",
       "        27.91202233,  28.22655393,  24.71394977,   4.64656991,\n",
       "        19.24386325,  18.6385144 ,  37.12716708,  36.42765811,\n",
       "        19.57393545,  25.43661825,  27.15222941,  21.17196146,\n",
       "        29.93991446,  15.73301435,  30.10783943,  15.09267404,\n",
       "        13.95566164,  24.90607734,  30.17305784,  16.68884885,\n",
       "        22.88106453,   5.66517324,  18.52682051,  17.66426636,\n",
       "        23.8032948 ,  21.33470424,  32.63884031,   8.16712149,\n",
       "        19.69712264,  27.8205202 ,  30.39009165,  -0.36783453,\n",
       "        15.90700107,   5.14932243,  17.46887481,  23.84628892,\n",
       "        27.06227871,  21.03014845,  13.70136371,  35.55096438,\n",
       "        39.09368369,  18.98573089,  22.25580052,  18.22095126,\n",
       "        47.33476534,  23.38452921,  12.16630384,  18.1135524 ,\n",
       "        11.38344654,  42.64782313,  21.93695046,  20.59361869,\n",
       "        29.00973133,  19.7326972 ,  34.41465129,  21.63227696,\n",
       "        24.65270836,  12.58270958,  23.46596903,  23.36473883,\n",
       "        18.422598  ,  38.02277747,  22.62316112,  12.32251195,\n",
       "         9.84281204,  22.95995564,  28.65180734,  33.65555596,\n",
       "         7.49052057,  23.08666653,  12.44384832,  19.38378392,\n",
       "        17.8266698 ,  19.21569352,  40.83913138,  11.63040245,\n",
       "        20.48026754,  23.93094465,  33.36500219,  37.00324992,\n",
       "        24.0191297 ,  21.56202841,  29.35556588,  34.79598421,\n",
       "        12.98033418,   7.44731817,  16.81740238,   9.09470675,\n",
       "         4.44907129,  -0.53954132,  60.11575796,  26.05441209,\n",
       "        36.1241638 ,  24.27528029,  33.38031165,  21.57554767,\n",
       "        21.81549241,  26.07731764,  25.42767246,  15.53579123,\n",
       "         3.09624257,   4.66455458,  26.31187103,  13.67913656,\n",
       "        34.55370154,  23.06848673,  21.13486751,  23.48837712,\n",
       "        42.01863573,  26.81423873,  32.45230849,  17.54580955,\n",
       "        24.31748735,  12.49499861,  16.0530164 ,  13.7511101 ,\n",
       "        23.59564729,  13.02431239,  21.85652871,  48.6365351 ,\n",
       "        26.78423202,   6.2581199 ,  31.30477247,  12.57680255,\n",
       "        20.18335731,  11.30559033,  24.81020768,  10.65251138,\n",
       "        28.64840062,  30.45299275,  49.88344591,  26.40621799])"
      ]
     },
     "execution_count": 53,
     "metadata": {},
     "output_type": "execute_result"
    }
   ],
   "source": [
    "# location and scale \n",
    "loc, scale = 22.34, 6.15\n",
    "\n",
    "# Draw 1000 samples from a distribution\n",
    "x = rng.logistic(loc, scale, 1000)\n",
    "\n",
    "# Display the distribution\n",
    "x"
   ]
  },
  {
   "cell_type": "code",
   "execution_count": 54,
   "metadata": {
    "scrolled": false
   },
   "outputs": [
    {
     "data": {
      "image/png": "[encoded data removed]",
      "text/plain": [
       "<Figure size 720x432 with 1 Axes>"
      ]
     },
     "metadata": {},
     "output_type": "display_data"
    }
   ],
   "source": [
    "# Change colour scheme.\n",
    "sns.set_palette(\"gist_rainbow\")\n",
    "\n",
    "# Set the title and x label for the future plot.\n",
    "plt.title(\"Logistic Distribution: Heart Valve\")\n",
    "\n",
    "# Build the plot\n",
    "sns.histplot(x, stat=\"probability\", kde=True)\n",
    "\n",
    "# Show the plot.\n",
    "plt.show()"
   ]
  },
  {
   "cell_type": "markdown",
   "metadata": {},
   "source": [
    "<br>\n",
    "\n",
    "##### Exponential <a name=\"exponential\"></a>\n",
    "\n",
    "An exponential distribution is a continuous counterpart of a geometric distribution. It often models the amount of time between successive events over a continuous time interval. It is frequently used to approximate the longevity of electrical or mechanical devices, to measure the distance between DNA mutations, or between road accidents on a given road, etc. [1]\n",
    "\n",
    "> 1. [Wikipedia: Exponential distribution](https://en.wikipedia.org/wiki/Exponential_distribution)\n",
    "\n",
    "_Example: Customer Service_\n",
    "\n",
    "<img align=\"left\" width=\"220\" height=\"80\" src=\"https://img.pngio.com/george-coomer-for-boyle-county-clerk-in-kentucky-clerk-png-512_512.png\">"
   ]
  },
  {
   "cell_type": "markdown",
   "metadata": {},
   "source": [
    "The average a postal clerk spends with each customer is 4 minutes. What is the probability him/her to spend with a customer 5 minutes? [2]\n",
    "\n",
    ">2. [lumen: The Exponential Distribution](https://courses.lumenlearning.com/introstats1/chapter/the-exponential-distribution/)"
   ]
  },
  {
   "cell_type": "code",
   "execution_count": 55,
   "metadata": {},
   "outputs": [
    {
     "data": {
      "text/plain": [
       "array([1.55803802e-01, 2.91889684e+00, 2.04254739e+00, 3.75102156e+00,\n",
       "       8.16747837e-01, 8.73850674e+00, 2.59196502e+00, 5.20863012e+00,\n",
       "       1.50495078e+00, 1.18693965e+00, 1.45044095e+00, 4.49777015e+00,\n",
       "       5.92038192e+00, 2.24290782e+00, 4.45226134e-01, 5.66980383e+00,\n",
       "       1.40537351e+00, 5.07874687e-01, 1.19954316e+01, 1.01286054e+01,\n",
       "       5.88924823e+00, 5.12156203e+00, 1.57189829e+00, 2.46277467e+00,\n",
       "       2.08831349e-01, 1.43873733e+00, 1.47533794e+01, 6.37232212e+00,\n",
       "       4.25929521e+00, 1.77884266e+01, 2.04267753e-01, 2.83276725e+00,\n",
       "       1.02329016e+01, 3.74131944e+00, 9.99538451e-01, 1.63259265e+00,\n",
       "       2.05375621e+00, 9.22319822e+00, 3.92708165e+00, 4.55877035e+00,\n",
       "       1.88986500e+00, 2.99271320e+00, 1.26069812e+00, 1.55507887e+00,\n",
       "       2.42602321e+00, 1.26978149e-01, 3.00683002e+00, 6.25057120e+00,\n",
       "       4.20466484e+00, 3.08871366e+00, 1.10905373e+00, 9.60974790e+00,\n",
       "       5.39542797e+00, 5.65908027e-01, 1.07022759e+01, 1.04486431e+01,\n",
       "       1.46876469e+00, 2.63387236e+00, 5.30289533e-01, 2.35606401e+00,\n",
       "       2.10946026e+01, 8.20178262e-01, 2.42714120e+00, 1.32685945e+00,\n",
       "       8.53939255e+00, 1.12288309e+00, 1.49900011e+00, 8.82818717e+00,\n",
       "       7.84243570e+00, 2.27468772e+00, 5.22247198e+00, 3.86544208e-01,\n",
       "       3.62280677e+00, 1.13558434e+01, 6.67247290e-01, 2.60933610e+00,\n",
       "       3.36102331e+00, 5.21328152e+00, 6.28720954e-01, 7.67600669e+00,\n",
       "       5.34993771e+00, 9.67805059e-01, 7.19307470e+00, 2.09731299e+00,\n",
       "       2.97294559e+00, 6.86102317e+00, 4.76380890e+00, 1.03540415e+01,\n",
       "       6.36283593e+00, 1.15716270e+00, 4.49121760e+00, 2.24783217e+00,\n",
       "       4.13148398e+00, 2.35956379e+00, 3.24777968e-01, 3.65697043e+00,\n",
       "       2.01650654e+00, 4.00439652e+00, 4.54567476e-01, 6.38072142e+00,\n",
       "       2.42277570e+00, 1.30659181e+00, 6.42920524e-02, 1.78561896e+00,\n",
       "       1.23132757e+00, 2.86255720e+00, 2.46163654e+00, 1.78616984e-01,\n",
       "       2.19033719e+00, 2.39778802e-01, 2.33936212e+00, 9.46504336e-01,\n",
       "       1.57401998e+00, 5.17411350e+00, 8.26682670e+00, 4.20643999e+00,\n",
       "       2.17567801e+00, 9.47180718e+00, 2.87931799e+00, 6.76941390e+00,\n",
       "       4.86440651e-01, 4.36220873e+00, 1.20639005e-01, 4.70110407e+00,\n",
       "       1.12940156e+01, 5.23430100e+00, 3.05204824e+00, 1.03897696e+00,\n",
       "       4.17197042e+00, 5.16860888e-01, 1.96161723e+00, 9.03863376e-01,\n",
       "       7.79203967e+00, 1.40200659e+00, 1.31063655e+00, 7.35926309e-05,\n",
       "       1.99871499e-01, 6.53803396e+00, 3.06172880e+00, 2.64347857e+00,\n",
       "       1.35532215e+00, 2.35690288e+00, 1.29224367e-01, 5.33938457e+00,\n",
       "       5.89252888e-01, 9.35079905e+00, 4.47570006e+00, 2.05207282e+00,\n",
       "       4.92549767e+00, 3.14519091e+00, 1.91426225e-01, 2.50457419e+00,\n",
       "       6.80849705e+00, 9.11095392e-02, 1.49609723e+00, 7.49570356e-01,\n",
       "       9.19158812e-01, 1.23708251e+01, 4.58291341e+00, 5.66181397e-01,\n",
       "       7.49723289e+00, 1.18689835e+00, 1.58634446e+00, 2.02128215e+00,\n",
       "       3.18655228e+00, 2.65582459e+00, 1.13872666e+01, 1.25004687e+01,\n",
       "       6.23257676e+00, 5.47449137e-01, 6.93214915e-02, 1.21356083e-01,\n",
       "       4.35608370e+00, 1.06126752e+00, 1.16631053e+01, 1.62047608e+00,\n",
       "       3.32727320e+00, 3.74385802e+00, 1.04291521e+00, 5.17497241e-01,\n",
       "       1.18009921e+00, 2.46645160e+00, 1.26886166e+01, 2.11905992e+00,\n",
       "       3.49333458e+00, 2.36749361e+00, 7.51080279e-01, 5.40466307e+00,\n",
       "       7.95777928e-01, 5.91185318e+00, 2.96269845e-03, 1.84223774e+01,\n",
       "       6.41034390e+00, 1.68923454e+00, 1.96816198e+00, 1.14485934e+00,\n",
       "       1.22042581e+00, 1.01213738e+00, 8.33560609e-02, 6.63352519e+00,\n",
       "       3.89285409e+00, 3.34226924e+00, 8.46319147e+00, 2.41957041e+00,\n",
       "       4.71538405e+00, 7.47498542e+00, 1.98818948e+00, 4.81008086e+00,\n",
       "       8.01613473e+00, 8.00949950e-01, 1.44619356e+01, 2.49458941e+00,\n",
       "       9.39303544e+00, 3.28713881e+00, 4.04749839e+00, 2.95447592e+00,\n",
       "       7.65307935e+00, 9.16620633e-01, 1.69464494e+00, 2.47044150e+00,\n",
       "       1.86178100e+00, 5.29443359e-01, 9.53079738e-01, 2.63967131e+00,\n",
       "       1.85510473e+00, 5.42038129e+00, 7.25693071e+00, 3.58279538e+00,\n",
       "       7.32688220e-01, 1.47560981e+00, 1.25172390e+01, 6.56181560e-01,\n",
       "       6.90253022e-01, 1.54159639e+00, 3.47078798e+00, 5.28661850e+00,\n",
       "       1.88313156e+00, 1.78882471e+00, 3.43818556e-01, 1.38129655e+01,\n",
       "       6.42456022e-02, 9.92690096e-02, 4.84768050e+00, 3.66932029e+00,\n",
       "       8.81962447e-01, 2.95554003e+00, 8.59299881e+00, 4.70631339e+00,\n",
       "       8.20904411e-02, 5.53777119e+00, 3.06893866e+00, 2.30225221e+00,\n",
       "       4.83379222e+00, 7.27890450e+00, 7.12201422e-02, 6.69649367e+00,\n",
       "       8.73957655e-01, 9.64937502e+00, 3.55492485e+00, 4.15972739e+00,\n",
       "       1.16523309e+00, 6.07790570e+00, 1.79154582e+01, 1.10965255e+01,\n",
       "       8.33948820e+00, 4.29416789e+00, 4.92912709e+00, 8.51715429e+00,\n",
       "       9.05253366e+00, 1.93865682e+00, 9.14764334e-01, 2.13426662e+00,\n",
       "       7.80871591e+00, 4.94643977e-01, 1.78781738e+00, 3.01956110e+00,\n",
       "       3.74472588e+00, 3.66849362e+00, 1.28449567e+01, 3.18057479e+00,\n",
       "       2.14331031e+00, 2.96197481e+00, 2.91808966e+00, 3.98100319e-01,\n",
       "       5.15462473e+00, 3.18358017e+00, 4.66031723e+00, 1.37546746e+00,\n",
       "       2.01675810e+00, 4.33618983e+01, 5.75377562e-01, 4.20980494e+00,\n",
       "       1.55965690e+00, 2.95401188e+00, 3.81576105e+00, 5.20068818e+00,\n",
       "       7.37319178e-01, 3.36267407e+00, 1.29683308e+00, 5.77999445e+00,\n",
       "       3.12421951e+00, 1.40117379e+01, 2.49390544e+00, 2.91757363e+00,\n",
       "       7.04944479e-02, 1.02474347e+00, 3.43520772e+00, 9.02117404e+00,\n",
       "       3.70497972e-01, 6.69544278e+00, 1.19956060e-01, 2.10058062e+00,\n",
       "       3.56486733e-01, 3.82943650e+00, 3.02916619e-01, 3.62109033e+00,\n",
       "       1.26598490e+00, 3.91136394e+00, 4.28362665e+00, 6.41179477e+00,\n",
       "       6.21951485e+00, 6.49176791e-01, 1.11596177e+00, 2.47025649e+00,\n",
       "       2.83157839e+00, 1.21711585e+01, 3.51297991e-01, 1.96029734e+00,\n",
       "       2.14667417e+00, 2.11236899e+00, 1.90190622e+00, 8.33483931e-01,\n",
       "       7.12911918e+00, 3.27098056e-01, 1.96733265e+00, 1.95949341e+00,\n",
       "       6.58570803e+00, 1.38232979e-01, 1.02776517e+01, 9.59641631e-01,\n",
       "       3.10298320e+00, 2.01063614e+00, 8.12199503e+00, 3.23280465e-01,\n",
       "       7.18952948e+00, 1.01264321e+00, 8.65365991e+00, 6.86034124e+00,\n",
       "       5.47301670e+00, 1.44937265e+00, 2.51341477e+00, 3.75063808e+00,\n",
       "       1.56122803e+00, 3.22208089e+00, 1.62896797e+01, 3.24536657e+00,\n",
       "       1.22912717e+00, 8.17171071e-01, 4.28028300e+00, 5.49866401e+00,\n",
       "       2.28711056e+00, 3.90096913e+00, 3.13436705e+00, 1.51755487e+00,\n",
       "       1.13199837e+01, 8.99640944e+00, 4.78231683e+00, 2.47534733e+00,\n",
       "       2.70452921e+00, 6.01299798e+00, 2.55336971e+00, 2.08982534e+00,\n",
       "       2.86447324e+00, 7.71451497e+00, 3.48280356e-01, 7.34616868e+00,\n",
       "       7.46721003e+00, 1.05221713e+00, 2.86960354e+00, 1.89537925e+00,\n",
       "       2.48033604e-01, 3.59763309e+00, 1.58495135e+01, 5.40694722e+00,\n",
       "       9.10503174e-02, 1.64811192e-01, 5.82699952e+00, 5.09052405e-01,\n",
       "       2.18480575e+00, 1.57585018e+01, 3.16799795e+00, 4.25407043e+00,\n",
       "       5.68836492e-01, 5.13166215e+00, 1.07678943e+01, 4.53248649e-01,\n",
       "       5.81912849e-01, 6.47692489e-01, 4.14763023e+00, 5.29889551e+00,\n",
       "       1.33472209e+00, 9.14537142e+00, 3.61005532e+00, 6.89970642e+00,\n",
       "       1.28237367e-01, 5.45868523e+00, 1.25163327e+00, 1.28432819e+00,\n",
       "       9.00534375e-02, 6.15808706e+00, 1.76999283e+01, 2.60083027e+00,\n",
       "       2.56711309e+00, 1.91905096e+01, 1.44259104e+01, 3.87896758e+00,\n",
       "       1.60268209e+00, 2.99508824e+00, 2.50024156e+00, 2.87589433e+00,\n",
       "       5.19445263e+00, 6.64134490e+00, 9.85607794e+00, 6.75853239e-01,\n",
       "       7.03819895e+00, 7.12310659e+00, 1.74769751e+00, 3.04039945e-01,\n",
       "       6.69041269e+00, 4.07150717e+00, 2.02827056e-01, 1.48303680e+00,\n",
       "       1.45043063e+00, 6.69539606e+00, 5.46179562e+00, 6.98820489e+00,\n",
       "       9.12940668e+00, 8.93258254e-01, 5.92418855e-01, 5.53610130e+00,\n",
       "       3.73523480e+00, 1.40032004e+00, 3.04327321e+00, 3.92663021e+00,\n",
       "       7.46307379e-01, 3.36818175e-01, 7.33283413e-01, 8.67119486e+00,\n",
       "       4.19730216e+00, 9.24258654e-01, 4.57631390e+00, 1.12965764e+01,\n",
       "       9.05096287e+00, 8.96877421e-01, 2.58062684e+00, 6.37941965e+00,\n",
       "       6.61539528e+00, 5.99881868e-01, 3.71196890e+00, 3.70167136e+00,\n",
       "       7.07620228e-01, 2.62946767e+00, 3.78054030e+00, 8.31301858e-01,\n",
       "       1.14049766e+01, 1.69342812e+01, 5.30762931e+00, 1.52259401e+00,\n",
       "       7.64838922e+00, 1.54914465e-01, 6.61475184e-01, 1.39630412e+00,\n",
       "       1.40437167e+01, 7.25070177e-01, 1.88520168e+00, 4.92072461e+00,\n",
       "       7.49414529e-01, 2.74173134e+00, 2.65426655e+00, 3.24078049e+00,\n",
       "       3.03624026e+00, 2.60860660e+00, 2.69363786e+00, 5.86263470e-01,\n",
       "       9.62417938e+00, 5.88274608e+00, 1.11964117e+00, 1.86319362e+00,\n",
       "       1.71589579e+00, 3.78578491e+00, 4.64673118e+00, 2.99368820e+00,\n",
       "       4.21366391e+00, 6.48016551e-01, 6.18119507e+00, 9.79832226e-01,\n",
       "       9.45138707e-01, 7.03647702e-01, 1.96971454e+00, 4.55711017e+00])"
      ]
     },
     "execution_count": 55,
     "metadata": {},
     "output_type": "execute_result"
    }
   ],
   "source": [
    "# Draw 500 samples with average 4 minutes spend on each client\n",
    "x = rng.exponential(4, 500)\n",
    "\n",
    "# Display the distribution\n",
    "x"
   ]
  },
  {
   "cell_type": "code",
   "execution_count": 56,
   "metadata": {
    "scrolled": false
   },
   "outputs": [
    {
     "data": {
      "image/png": "[encoded data removed]",
      "text/plain": [
       "<Figure size 720x432 with 1 Axes>"
      ]
     },
     "metadata": {},
     "output_type": "display_data"
    }
   ],
   "source": [
    "# Change colour scheme.\n",
    "sns.set_palette(\"plasma\")\n",
    "\n",
    "# Set the title and x label for the future plot.\n",
    "plt.title(\"Exponential Distribution: Customer Service\")\n",
    "\n",
    "# Get axis handle\n",
    "ax = plt.gca()\n",
    "\n",
    "# Build a plot.\n",
    "sns.histplot(x, stat=\"probability\", kde=True)\n",
    "\n",
    "# Show the plot.\n",
    "plt.show()"
   ]
  },
  {
   "cell_type": "code",
   "execution_count": 57,
   "metadata": {
    "scrolled": true
   },
   "outputs": [
    {
     "data": {
      "text/plain": [
       "0.07884704509757377"
      ]
     },
     "execution_count": 57,
     "metadata": {},
     "output_type": "execute_result"
    }
   ],
   "source": [
    "# Below is apadted from https://stackoverflow.com/questions/20130768/retrieve-xy-data-from-matplotlib-figure\n",
    "\n",
    "# Get the first line.\n",
    "line = ax.lines[0]\n",
    "\n",
    "# Retrieve the x and y data.\n",
    "x = line.get_xdata(orig=True)\n",
    "y = line.get_ydata(orig=True)\n",
    "\n",
    "# Check the probability of the clerk spending 5 minutes with a client.\n",
    "np.interp(5,x,y)"
   ]
  },
  {
   "cell_type": "markdown",
   "metadata": {},
   "source": [
    "### SEEDS  <a name=\"seeds\"></a> "
   ]
  },
  {
   "cell_type": "code",
   "execution_count": null,
   "metadata": {},
   "outputs": [],
   "source": []
  }
 ],
 "metadata": {
  "kernelspec": {
   "display_name": "Python 3",
   "language": "python",
   "name": "python3"
  },
  "language_info": {
   "codemirror_mode": {
    "name": "ipython",
    "version": 3
   },
   "file_extension": ".py",
   "mimetype": "text/x-python",
   "name": "python",
   "nbconvert_exporter": "python",
   "pygments_lexer": "ipython3",
   "version": "3.7.4"
  }
 },
 "nbformat": 4,
 "nbformat_minor": 2
}
