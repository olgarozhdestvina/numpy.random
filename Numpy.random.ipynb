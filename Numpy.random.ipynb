{
 "cells": [
  {
   "cell_type": "markdown",
   "metadata": {},
   "source": [
    "# The numpy.random package \n",
    "\n",
    "\n",
    "[ Programming for Data Analysis Module GMIT 2020 ]\n",
    "\n",
    "\n",
    "<img align=\"left\" width=\"200\" height=\"200\" src=\"https://upload.wikimedia.org/wikipedia/commons/thumb/3/31/NumPy_logo_2020.svg/1024px-NumPy_logo_2020.svg.png\">\n"
   ]
  },
  {
   "cell_type": "markdown",
   "metadata": {},
   "source": [
    "Completed by: *Olga Rozhdestvina (G00387844@gmit.ie)*\n",
    "***\n",
    "\n",
    "## Table of Contents\n",
    "* [Purpose of the package](#purpose)\n",
    "* [“Simple random data” and “Permutations” functions](#functions)\n",
    "    * [Simple random data](#srd)\n",
    "        * [Integers](#integers)\n",
    "        * [Random](#random)\n",
    "        * [Choice](#choice)\n",
    "        * [Bytes](#bytes)\n",
    "    * [Permutations](#permutations)\n",
    "* [“Distributions” functions](#distributions)\n",
    "    * [Discrete Probability Distribution](#discrete)\n",
    "        * [Binominal](#binominal)\n",
    "        * [Multinomial](#multinomial)\n",
    "        * [Geometric](#geometric)\n",
    "        * [Poisson](#poisson)\n",
    "    * [Continuous Probability Distribution](#continuous)\n",
    "        * [Normal](#normal)\n",
    "        * [Chi-Square](#chisquare)\n",
    "        * [Logistic](#logistic)\n",
    "        * [Exponential](#exponential)\n",
    "        \n",
    "        \n",
    "* [Seeds](#seeds)\n",
    "\n",
    "***"
   ]
  },
  {
   "cell_type": "markdown",
   "metadata": {},
   "source": [
    "### Purpose of the package <a name=\"purpose\"></a>"
   ]
  },
  {
   "cell_type": "markdown",
   "metadata": {},
   "source": [
    "First of all let's remind ourselves a what random number is. It doesn't mean a different number every time, but a number that can not be logically predicted. And those random numbers that are produced through a generating algorithm are called pseudorandom. [1] The _numpy.random_ package is based on a pseudorandom number generator, or PRNG, and comes as supplemental for [the built-in Python random package](https://docs.python.org/3/library/random.html). It is used for efficient generation of whole arrays of random values from various probability distributions. [2] [3]\n",
    "\n",
    "> 1. [DataCamp: Random Number Generator Using Numpy](https://www.datacamp.com/community/tutorials/numpy-random)\n",
    "2. [Wes McKinney: Python for Data Analysis ](https://www.oreilly.com/library/view/python-for-data/9781449323592/)\n",
    "3. [NumPy: numpy.random](https://numpy.org/doc/stable/reference/random/)"
   ]
  },
  {
   "cell_type": "code",
   "execution_count": 1,
   "metadata": {},
   "outputs": [],
   "source": [
    "# Import the numpy package.\n",
    "import numpy as np\n",
    "# Package for plotting.\n",
    "import matplotlib.pyplot as plt\n",
    "# Another package for plotting.\n",
    "import seaborn as sns\n"
   ]
  },
  {
   "cell_type": "code",
   "execution_count": 2,
   "metadata": {},
   "outputs": [],
   "source": [
    "# Colour scheme and styles for plots.\n",
    "sns.set_theme(palette=\"Set2\", context=\"paper\", font_scale=1.5)\n",
    "\n",
    "# Better sized plots.\n",
    "plt.rcParams['figure.figsize'] = (10, 6)"
   ]
  },
  {
   "cell_type": "code",
   "execution_count": 3,
   "metadata": {},
   "outputs": [],
   "source": [
    "# Get an instance of generator.\n",
    "rng = np.random.default_rng()"
   ]
  },
  {
   "cell_type": "markdown",
   "metadata": {},
   "source": [
    "***\n",
    "<br>\n",
    "\n",
    "### “SIMPLE RANDOM DATA” and “PERMUTATIONS” functions <a name=\"functions\"></a>"
   ]
  },
  {
   "cell_type": "markdown",
   "metadata": {},
   "source": [
    "#### Simple random data <a name=\"srd\"></a>\n",
    "\n",
    "\n",
    "<img align=\"left\" width=\"302\" height=\"420\" src=\"https://www.netquest.com/hubfs/Imported_Blog_Media/smallnumbers-1.png\">\n"
   ]
  },
  {
   "cell_type": "markdown",
   "metadata": {},
   "source": [
    "* _INTEGERS_ <a name=\"integers\"></a>\n",
    " \n",
    "Numpy.random package can be used for generating random integers. The examples below depict that this method can output a single integer, one-dimensional or two-dimensional arrays.\n",
    "\n",
    "1. A single integer"
   ]
  },
  {
   "cell_type": "code",
   "execution_count": 4,
   "metadata": {},
   "outputs": [
    {
     "data": {
      "text/plain": [
       "498"
      ]
     },
     "execution_count": 4,
     "metadata": {},
     "output_type": "execute_result"
    }
   ],
   "source": [
    "# Call the generator to obtain a random integer.\n",
    "x = rng.integers(1000)\n",
    "\n",
    "# Display the number.\n",
    "x"
   ]
  },
  {
   "cell_type": "markdown",
   "metadata": {},
   "source": [
    "2. One-dimensional array"
   ]
  },
  {
   "cell_type": "code",
   "execution_count": 5,
   "metadata": {},
   "outputs": [
    {
     "data": {
      "text/plain": [
       "array([605, 883, 390, 286, 687, 599, 851, 667, 566, 388, 459, 977, 236,\n",
       "       580, 464, 445, 590, 177, 329, 915, 593, 151, 875, 750, 795, 977,\n",
       "       705, 473, 873, 315, 173, 482, 816, 969, 486, 791, 468, 572, 875,\n",
       "       297, 530, 772, 495,  94, 368, 541, 512, 449, 338, 873, 833, 240,\n",
       "        93, 729, 248,  94, 872, 762, 332, 428, 455,  75, 424, 721,  58,\n",
       "       559, 135, 459, 674,  72,  12, 530, 898,  59, 812, 784, 330, 855,\n",
       "       954, 113, 934, 569, 873, 619, 844, 438, 834, 810, 548, 839, 385,\n",
       "       101, 648,   3, 757, 702, 518, 740, 841, 726, 430, 660, 142, 523,\n",
       "       613, 861, 818, 568, 866, 449, 387, 470,  82, 560,  50, 975, 731,\n",
       "       815, 479, 299,  61, 803,  33, 406,   2, 611, 517, 613, 273, 895,\n",
       "       853, 800, 407, 853, 351, 589, 492, 462, 518, 362, 618, 429, 192,\n",
       "       764, 764, 779,  82, 121,  34, 689,  75, 567, 286, 885, 214, 744,\n",
       "       235, 124, 589, 797, 182,  98, 576, 509, 406, 115, 230, 279, 391,\n",
       "       647,   6, 656, 586, 639, 890,  79, 238, 378,  97, 951, 684, 388,\n",
       "       810, 580,   1, 196, 442, 516,  77, 232,  12, 884, 202, 633, 430,\n",
       "       119, 773, 470, 495, 418], dtype=int64)"
      ]
     },
     "execution_count": 5,
     "metadata": {},
     "output_type": "execute_result"
    }
   ],
   "source": [
    "# Generate 200 numbers between 0 and 999, inclusive:\n",
    "x = rng.integers(1000, size=200)\n",
    "\n",
    "# Display the array.\n",
    "x"
   ]
  },
  {
   "cell_type": "code",
   "execution_count": 6,
   "metadata": {},
   "outputs": [
    {
     "data": {
      "image/png": "[encoded data removed]",
      "text/plain": [
       "<Figure size 720x432 with 1 Axes>"
      ]
     },
     "metadata": {},
     "output_type": "display_data"
    }
   ],
   "source": [
    "# Set the title for the future plot.\n",
    "plt.title(\"Integers Method: 1-D array\")\n",
    "\n",
    "# Plot the array.\n",
    "sns.histplot(x)\n",
    "\n",
    "# Show the plot.\n",
    "plt.show()"
   ]
  },
  {
   "cell_type": "markdown",
   "metadata": {},
   "source": [
    "3. Two-dimensional array"
   ]
  },
  {
   "cell_type": "code",
   "execution_count": 7,
   "metadata": {},
   "outputs": [
    {
     "data": {
      "text/plain": [
       "array([[72,  1, 65,  1, 60, 16, 40],\n",
       "       [22, 99, 23, 92, 58, 68,  8],\n",
       "       [79, 90, 54, 87, 40, 20, 41],\n",
       "       [12,  5, 39, 19, 21, 67,  7],\n",
       "       [37, 87, 45,  3,  9,  9, 56]], dtype=int64)"
      ]
     },
     "execution_count": 7,
     "metadata": {},
     "output_type": "execute_result"
    }
   ],
   "source": [
    "# Generate a 2-D array with 5 rows containing 7 integers between 0 and 99, inclusive:\n",
    "x = rng.integers(100, size=(5, 7))\n",
    "\n",
    "# Display the array.\n",
    "x"
   ]
  },
  {
   "cell_type": "code",
   "execution_count": 8,
   "metadata": {},
   "outputs": [
    {
     "data": {
      "image/png": "[encoded data removed]",
      "text/plain": [
       "<Figure size 720x432 with 1 Axes>"
      ]
     },
     "metadata": {},
     "output_type": "display_data"
    }
   ],
   "source": [
    "# Set the title for the future plot.\n",
    "plt.title(\"Integers Method: 2-D array\")\n",
    "\n",
    "# Loop through the rows in the array.\n",
    "\n",
    "sns.set()\n",
    "# Loop through the rows in the array.\n",
    "for i in range(len(x)):\n",
    "    # Build the plot.\n",
    "    plt.hist(x[i], histtype=\"stepfilled\", alpha=0.8)\n",
    "    \n",
    "# Show the plot.    \n",
    "plt.show()"
   ]
  },
  {
   "cell_type": "markdown",
   "metadata": {},
   "source": [
    "<br>\n",
    "\n",
    "- _RANDOM_ <a name=\"random\"></a>\n",
    "\n",
    "With this method numPy produces random floats and output vary from a single float number to one-dimensional or two-dimensional arrays. If not specified otherwise, floats are sampled from the interval between 0.0 and 1.0 (exclusively).\n",
    "\n",
    "1. A single float"
   ]
  },
  {
   "cell_type": "code",
   "execution_count": 9,
   "metadata": {},
   "outputs": [
    {
     "data": {
      "text/plain": [
       "0.6400748532864704"
      ]
     },
     "execution_count": 9,
     "metadata": {},
     "output_type": "execute_result"
    }
   ],
   "source": [
    "# Generate a single float number:\n",
    "x = rng.random()\n",
    "\n",
    "# Display the float.\n",
    "x"
   ]
  },
  {
   "cell_type": "markdown",
   "metadata": {},
   "source": [
    "2. One-dimensional array"
   ]
  },
  {
   "cell_type": "code",
   "execution_count": 10,
   "metadata": {},
   "outputs": [
    {
     "data": {
      "text/plain": [
       "array([0.83610376, 0.41593914, 0.32029673, 0.79328247, 0.48448604,\n",
       "       0.45614864, 0.21416852, 0.17636818, 0.28512958, 0.68160348,\n",
       "       0.38191383, 0.55973004, 0.46753383, 0.42300863, 0.87671062,\n",
       "       0.3380729 , 0.84571542, 0.13211541, 0.74728352, 0.78103904,\n",
       "       0.3832406 , 0.83664966, 0.58979942, 0.22808145, 0.75185154,\n",
       "       0.03485924, 0.52818876, 0.84413106, 0.56134776, 0.47984953,\n",
       "       0.12368543, 0.75166016, 0.6179165 , 0.1557232 , 0.96794299,\n",
       "       0.56557105, 0.01149334, 0.42488801, 0.08245114, 0.17351821])"
      ]
     },
     "execution_count": 10,
     "metadata": {},
     "output_type": "execute_result"
    }
   ],
   "source": [
    "# Generate 40 floats:\n",
    "x = rng.random((40,))\n",
    "\n",
    "# Display the array.\n",
    "x"
   ]
  },
  {
   "cell_type": "code",
   "execution_count": 11,
   "metadata": {},
   "outputs": [
    {
     "data": {
      "image/png": "[encoded data removed]",
      "text/plain": [
       "<Figure size 720x432 with 1 Axes>"
      ]
     },
     "metadata": {},
     "output_type": "display_data"
    }
   ],
   "source": [
    "# Set the title for the future plot.\n",
    "plt.title(\"Random Method: 1-D array\")\n",
    "\n",
    "# Change colour scheme.\n",
    "sns.set_palette(\"rocket\")\n",
    "\n",
    "# Build the plot.\n",
    "sns.histplot(x)\n",
    "\n",
    "# Show the plot.\n",
    "plt.show()"
   ]
  },
  {
   "cell_type": "markdown",
   "metadata": {},
   "source": [
    "3. Two-dimensional array"
   ]
  },
  {
   "cell_type": "code",
   "execution_count": 12,
   "metadata": {},
   "outputs": [
    {
     "data": {
      "text/plain": [
       "array([[-27.04236587, -16.44301749, -26.60800615,  -5.77128073,\n",
       "        -95.22725185,  -5.46755354, -90.40634431, -43.33457039,\n",
       "        -19.34833611,  -2.48155839, -69.13687728, -64.96150946,\n",
       "        -86.51529298, -12.28769686, -76.2853247 , -34.21830869,\n",
       "        -44.91205107, -31.84252083, -43.14426526, -30.57901175,\n",
       "        -90.96312739, -25.99498665, -79.58202703, -74.56492912,\n",
       "        -80.46933271,  -3.31757065, -38.58030807, -83.03879011,\n",
       "        -28.94112482, -13.07416436],\n",
       "       [-57.76954747,  -5.2699049 , -11.1397953 , -11.93350726,\n",
       "        -28.53208581, -22.46481066, -68.01537379, -58.97984566,\n",
       "        -35.45995028, -85.98976677, -44.07260158, -29.7026928 ,\n",
       "        -44.22968252, -31.01066679, -27.20827608, -43.27072464,\n",
       "        -32.73551849, -87.90772763, -38.1976513 , -16.2068117 ,\n",
       "        -14.39737747, -32.32344531, -60.54588638, -65.91503779,\n",
       "        -59.85101437, -56.58013721, -23.00562222, -87.61766341,\n",
       "        -49.78160253,  -7.80407986]])"
      ]
     },
     "execution_count": 12,
     "metadata": {},
     "output_type": "execute_result"
    }
   ],
   "source": [
    "# Generate a 2-D array with 2 rows containing 30 floats between -100 and 0, exclusive:\n",
    "x = 100 * rng.random((2, 30)) - 100\n",
    "\n",
    "# Display the array.\n",
    "x"
   ]
  },
  {
   "cell_type": "code",
   "execution_count": 13,
   "metadata": {},
   "outputs": [
    {
     "data": {
      "image/png": "[encoded data removed]",
      "text/plain": [
       "<Figure size 720x432 with 1 Axes>"
      ]
     },
     "metadata": {},
     "output_type": "display_data"
    }
   ],
   "source": [
    "# Set the title for the future plot.\n",
    "plt.title(\"Random Method: 2-D array\")\n",
    "\n",
    "sns.set()\n",
    "# Loop through the rows in the array.\n",
    "for i in range(len(x)):\n",
    "    # Build the plot.\n",
    "    plt.hist(x[i], histtype=\"stepfilled\", alpha=0.5)\n",
    "    \n",
    "# Show the plot.    \n",
    "plt.show()"
   ]
  },
  {
   "cell_type": "markdown",
   "metadata": {},
   "source": [
    "<br>\n",
    "\n",
    "- _CHOICE_ <a name=\"choice\"></a>\n",
    "\n",
    "The choice method generates random numbers from a given integer or one-dimensional array (of integers or strings). If not specified otherwise, the output assumes a uniform distribution over all entries in the given array. (refer to [“Distributions” functions](#distributions) )\n",
    "\n",
    " 1. Uniform distribution (default)."
   ]
  },
  {
   "cell_type": "code",
   "execution_count": 14,
   "metadata": {},
   "outputs": [
    {
     "data": {
      "text/plain": [
       "array([2, 3, 0, 8, 0, 4, 6, 0, 4], dtype=int64)"
      ]
     },
     "execution_count": 14,
     "metadata": {},
     "output_type": "execute_result"
    }
   ],
   "source": [
    "# Generate 9 evenly spaced values between 0 and 9 (inclusive) (np.arange(10)).\n",
    "x = rng.choice(10, 9)\n",
    "\n",
    "# Display the array.\n",
    "x"
   ]
  },
  {
   "cell_type": "code",
   "execution_count": 15,
   "metadata": {},
   "outputs": [
    {
     "data": {
      "image/png": "[encoded data removed]",
      "text/plain": [
       "<Figure size 720x432 with 1 Axes>"
      ]
     },
     "metadata": {},
     "output_type": "display_data"
    }
   ],
   "source": [
    "# Set the title for the future plot.\n",
    "plt.title(\"Choice Method: Uniform distribution\")\n",
    "\n",
    "# Change colour scheme.\n",
    "sns.set_palette(\"flare\")\n",
    "\n",
    "# Build the plot.\n",
    "sns.histplot(x)\n",
    "\n",
    "# Show the plot.\n",
    "plt.show()"
   ]
  },
  {
   "cell_type": "code",
   "execution_count": 16,
   "metadata": {},
   "outputs": [
    {
     "data": {
      "text/plain": [
       "array([9, 6, 1, 5, 3, 2, 8, 4, 7], dtype=int64)"
      ]
     },
     "execution_count": 16,
     "metadata": {},
     "output_type": "execute_result"
    }
   ],
   "source": [
    "# Generate 9 UNIQUE random numbers from np.arange(10): \n",
    "x = rng.choice(10, 9, replace=False)\n",
    "\n",
    "# Display the array.\n",
    "x"
   ]
  },
  {
   "cell_type": "code",
   "execution_count": 17,
   "metadata": {},
   "outputs": [
    {
     "data": {
      "image/png": "[encoded data removed]",
      "text/plain": [
       "<Figure size 720x432 with 1 Axes>"
      ]
     },
     "metadata": {},
     "output_type": "display_data"
    }
   ],
   "source": [
    "# Set the title for the future plot.\n",
    "plt.title(\"Choice Method: Uniform distribution of unique numbers\")\n",
    "\n",
    "# Build the plot.\n",
    "sns.histplot(x)\n",
    "\n",
    "# Show the plot.\n",
    "plt.show()"
   ]
  },
  {
   "cell_type": "markdown",
   "metadata": {},
   "source": [
    " 2. Non-uniform distribution. \n",
    " \n",
    " Requires provision of probability $p$ of each entry in a given array to appear in the output. \n",
    " \n",
    " Note that $p$:\n",
    "    - has to be of the same size as a given array;\n",
    "    - sum of $p$ elements has to be 1;\n",
    "    - non-zero entries in $p$ has to be same as size."
   ]
  },
  {
   "cell_type": "code",
   "execution_count": 18,
   "metadata": {},
   "outputs": [
    {
     "data": {
      "text/plain": [
       "array([4, 3, 6, 2, 6, 3, 6, 5, 7], dtype=int64)"
      ]
     },
     "execution_count": 18,
     "metadata": {},
     "output_type": "execute_result"
    }
   ],
   "source": [
    "# Generate 9 evenly spaced values between 0 and 9 (inclusive) (np.arange(10)) with provided p:\n",
    "x = rng.choice(10, 9, p=[0.1, 0.1, 0.1, 0.1, 0.1, 0.2, 0.1, 0.1, 0, 0.1])\n",
    "\n",
    "# Display the array.\n",
    "x"
   ]
  },
  {
   "cell_type": "code",
   "execution_count": 19,
   "metadata": {},
   "outputs": [
    {
     "data": {
      "image/png": "[encoded data removed]",
      "text/plain": [
       "<Figure size 720x432 with 1 Axes>"
      ]
     },
     "metadata": {},
     "output_type": "display_data"
    }
   ],
   "source": [
    "# Set the title for the future plot.\n",
    "plt.title(\"Choice Method: Non-Uniform distribution\")\n",
    "\n",
    "# Build the plot.\n",
    "sns.histplot(x)\n",
    "\n",
    "# Show the plot.\n",
    "plt.show()"
   ]
  },
  {
   "cell_type": "code",
   "execution_count": 20,
   "metadata": {},
   "outputs": [
    {
     "data": {
      "text/plain": [
       "array([9, 7, 0, 1, 5, 2, 4, 3, 6], dtype=int64)"
      ]
     },
     "execution_count": 20,
     "metadata": {},
     "output_type": "execute_result"
    }
   ],
   "source": [
    "# Generate 9 evenly spaced values between 0 and 9 (inclusive) (np.arange(10)) with provided p:\n",
    "x = rng.choice(10, 9, replace=False, p=[0.1, 0.1, 0.1, 0.1, 0.1, 0.2, 0.1, 0.1, 0, 0.1])\n",
    "\n",
    "# Display the array.\n",
    "x"
   ]
  },
  {
   "cell_type": "code",
   "execution_count": 21,
   "metadata": {},
   "outputs": [
    {
     "data": {
      "image/png": "[encoded data removed]",
      "text/plain": [
       "<Figure size 720x432 with 1 Axes>"
      ]
     },
     "metadata": {},
     "output_type": "display_data"
    }
   ],
   "source": [
    "# Set the title for the future plot.\n",
    "plt.title(\"Choice Method: Non-Uniform distribution of unique numbers\")\n",
    "\n",
    "# Build the plot.\n",
    "sns.histplot(x)\n",
    "\n",
    "# Show the plot.\n",
    "plt.show()"
   ]
  },
  {
   "cell_type": "markdown",
   "metadata": {},
   "source": [
    "- _BYTES_ <a name=\"bytes\"></a>\n",
    "\n",
    "This NumPy random method returns random bytes."
   ]
  },
  {
   "cell_type": "code",
   "execution_count": 22,
   "metadata": {},
   "outputs": [
    {
     "data": {
      "text/plain": [
       "b\"\\x80\\xcc\\x1f\\xd8\\xf8\\xf1]\\xc9\\xb8\\xfc9\\xd0\\xe4Fs\\x19\\xe4G\\x1dc}9\\x8dJ\\xed?1\\xbf\\xdd\\x06K\\xf6u\\xcba\\xf0 \\xd3*\\xab\\xf0\\x1f\\xf0>\\x03iD\\xdd\\x9cz\\x94p\\xaaX4A\\x83\\x84'\\xbaqJ\\xaf\\xb2\\x0f\\x94p\\xf4\\xfe4t9G\\xa4\\x9fCv\\xd3u,\\xcf\\x03.\\xaaW\\xdd,\\xb1\\xdd\\xf0\\xf5\\xd3\\x01\\xb0h@h\\xafwq\""
      ]
     },
     "execution_count": 22,
     "metadata": {},
     "output_type": "execute_result"
    }
   ],
   "source": [
    "# Generate 100 random bytes:\n",
    "x = rng.bytes(100)\n",
    "\n",
    "# Display the array.\n",
    "x"
   ]
  },
  {
   "cell_type": "markdown",
   "metadata": {},
   "source": [
    "***\n",
    "<br>\n",
    "\n",
    "#### Permutations <a name=\"permutations\"></a>\n",
    "\n",
    "\n",
    "<img align=\"left\" width=\"200\" height=\"300\" src=\"https://upload.wikimedia.org/wikipedia/commons/3/39/Combination_unlocked.png\">"
   ]
  },
  {
   "cell_type": "markdown",
   "metadata": {},
   "source": [
    "Generally speaking, in NumPy, both permutation and shuffle methods randomly shuffle elements in an array, which results in the same output when plotting (see below). However, there are some differences in these methods. \n",
    "\n",
    "The Shuffle method changes arrangement of elements inplace, i.e. in the array itself. On the other hand, the Permutation method produces a shuffled range if integer is passed or a shuffled _copy_ of the array if an array is passed (meaning that the original array is left unchanged).$^4$\n",
    "\n",
    "\n",
    "> 4. [W3Schools: Random Permutations](https://www.w3schools.com/python/numpy_random_permutation.asp)\n"
   ]
  },
  {
   "cell_type": "markdown",
   "metadata": {},
   "source": [
    "_SHUFFLE_ vs _PERMUTATION_ \n",
    "\n",
    "1. One-Dimensional Array"
   ]
  },
  {
   "cell_type": "code",
   "execution_count": 23,
   "metadata": {},
   "outputs": [
    {
     "data": {
      "text/plain": [
       "array([ 61, 103, 121,  24, 101,  40,   9, 197,  51,   2, 138,  19,  82,\n",
       "       157, 196, 199,   5, 198,  70, 127, 120,  74, 112, 191, 128, 165,\n",
       "         0,  16, 146,  11,  65, 172,  71, 192,  56, 145,  95,  84, 176,\n",
       "        12, 180,  93,  86,  34,   3, 166, 134, 195, 164,  14, 105,  97,\n",
       "        72,  17, 171,  53, 122, 107, 133, 119, 177,  77, 147,  83,  21,\n",
       "        31,  54,  58, 161,  99, 181, 115,  45,  32,  92, 194,  62,  22,\n",
       "       158,  85, 148,  50,  88,  44, 123, 126, 185, 106,  25,  37,  10,\n",
       "        63, 130, 124, 152,  15, 117, 153, 143,  35, 140,  49, 149, 151,\n",
       "       159, 183, 175, 137,   8, 163, 182,  38,  33,   7, 110,  27,  55,\n",
       "        69, 118,  96,  39,  42, 190,  46, 141,  81,  68,  91,  94, 178,\n",
       "       193,  73, 116, 131, 162,   6, 189,  18,   4, 174, 111,  80,  13,\n",
       "        64,  48, 109,  20, 167, 156,  89,  41,  28,  36, 150, 155,  87,\n",
       "       169,  78, 114, 173, 168, 188, 102,  66,  60, 186,  43, 179, 170,\n",
       "        30,  52, 187,  67, 100, 142,  29, 144, 135,  23,  57, 132,  26,\n",
       "        47,  75, 136, 154, 108, 139, 129, 160, 113,   1,  98,  76, 184,\n",
       "       125,  59,  79,  90, 104])"
      ]
     },
     "execution_count": 23,
     "metadata": {},
     "output_type": "execute_result"
    }
   ],
   "source": [
    "# Generate an array between 0 and 199, inclusive:\n",
    "x = np.arange(200)\n",
    "\n",
    "# Shuffle its content.\n",
    "rng.shuffle(x)\n",
    "\n",
    "# Display the array.\n",
    "x"
   ]
  },
  {
   "cell_type": "code",
   "execution_count": 24,
   "metadata": {},
   "outputs": [
    {
     "data": {
      "text/plain": [
       "array([174, 110,   7, 129,  29, 150, 117, 198,  94,   3,  60, 180,  12,\n",
       "         2, 124, 143, 103,  48, 146, 109, 123, 122,  85, 194, 105,  63,\n",
       "       173, 181,  56, 193, 141,  82,  22,  41, 119, 155, 111,  20, 172,\n",
       "        43,  24, 118, 182,  54, 168,  49, 185,  39, 191, 131,  25,  10,\n",
       "        67, 170, 199,  58, 149,  47, 140,  79, 134,  53, 196,  69, 100,\n",
       "        88, 166,  16,  50,  68, 130,   8,  28, 160, 136, 128,  98,   0,\n",
       "       116,  77, 154, 167, 107,   6, 139,  70,  95, 115, 187,  89, 102,\n",
       "        78,  99, 164, 177,   4,  44,  76,  72,  51,  31,  92, 138, 195,\n",
       "        45,  66, 120,  34, 183, 106, 176, 121,  18,  26, 144, 152, 125,\n",
       "       184,  14, 165,  81,  46, 197, 175, 113,  91, 112,  57,  32, 156,\n",
       "        83,  74, 178, 132, 137,  90,  30, 135,   5, 148,  87, 186, 101,\n",
       "        64, 127, 161,  15, 189,  21,  11,  84,  61, 145, 104,  80,  33,\n",
       "        59,  62, 188,  36, 163,  55, 171,  96, 157, 153,  71, 151,  42,\n",
       "       159,  86, 114,  27,  37, 147, 126,  35, 179, 108,  38,  19, 158,\n",
       "       162,  52, 190, 133,   1,   9, 192,  93,  23, 142,  40,  73,  75,\n",
       "        13,  65, 169,  17,  97])"
      ]
     },
     "execution_count": 24,
     "metadata": {},
     "output_type": "execute_result"
    }
   ],
   "source": [
    "# Permute an array of 200 numbers between 0 and 199, inclusive:\n",
    "y = rng.permutation(200)\n",
    "\n",
    "# Display the array.\n",
    "y"
   ]
  },
  {
   "cell_type": "code",
   "execution_count": 25,
   "metadata": {},
   "outputs": [
    {
     "data": {
      "image/png": "[encoded data removed]",
      "text/plain": [
       "<Figure size 720x432 with 2 Axes>"
      ]
     },
     "metadata": {},
     "output_type": "display_data"
    }
   ],
   "source": [
    "# Change colour scheme.\n",
    "sns.set_palette(\"husl\")\n",
    "\n",
    "# Build the Shuffle plot one the left.\n",
    "plt.subplot(1, 2, 1)\n",
    "sns.histplot(x)\n",
    "\n",
    "# Set the title for the Shuffle plot.\n",
    "plt.title(\"Shuffle: 1-D array\")\n",
    "\n",
    "# Build the Permutation plot one the right.\n",
    "plt.subplot(1, 2, 2)\n",
    "sns.histplot(y)\n",
    "\n",
    "# Set the title for the Permutation plot.\n",
    "plt.title(\"Permutation: 1-D array\")\n",
    "\n",
    "# Show the plot.\n",
    "plt.show()"
   ]
  },
  {
   "cell_type": "markdown",
   "metadata": {},
   "source": [
    "2. Two-Dimensional Array"
   ]
  },
  {
   "cell_type": "code",
   "execution_count": 26,
   "metadata": {
    "scrolled": false
   },
   "outputs": [
    {
     "data": {
      "text/plain": [
       "array([[  6,  84,  30,  21,  19,  55,  33,  34,  49,  79,  10,  57,  48,\n",
       "         69,  82,  71,  75,  93,  65,  44,  89,   1,  72,  20,  46,  14,\n",
       "         68,  92,  12,  26,  80,  59,  37,  60,  40,  87,  88,  91,  25,\n",
       "         78,  56,  83,  53,   4,  54,  97,  98,  50,  24,  17,   2,  43,\n",
       "         13,  52,  51,  86,  76,  18,   5,  66,  16,  23,  28,  99,  47,\n",
       "          9,  64,  39,  94,   8,   7,  96,  38,  41,  85,  22,   0,  11,\n",
       "         15,  42,  67,  36,  63,  74,  35,  81,  29,  90,   3,  32,  77,\n",
       "         61,  31,  95,  27,  73,  70,  62,  58,  45],\n",
       "       [106, 184, 130, 121, 119, 155, 133, 134, 149, 179, 110, 157, 148,\n",
       "        169, 182, 171, 175, 193, 165, 144, 189, 101, 172, 120, 146, 114,\n",
       "        168, 192, 112, 126, 180, 159, 137, 160, 140, 187, 188, 191, 125,\n",
       "        178, 156, 183, 153, 104, 154, 197, 198, 150, 124, 117, 102, 143,\n",
       "        113, 152, 151, 186, 176, 118, 105, 166, 116, 123, 128, 199, 147,\n",
       "        109, 164, 139, 194, 108, 107, 196, 138, 141, 185, 122, 100, 111,\n",
       "        115, 142, 167, 136, 163, 174, 135, 181, 129, 190, 103, 132, 177,\n",
       "        161, 131, 195, 127, 173, 170, 162, 158, 145]])"
      ]
     },
     "execution_count": 26,
     "metadata": {},
     "output_type": "execute_result"
    }
   ],
   "source": [
    "# Generate a 2-D array with 2 rows of 100 numbers between 0 and 199, inclusive:\n",
    "x = np.arange(200).reshape((2, 100))\n",
    "\n",
    "# Shuffle its content along the axis 1.\n",
    "rng.shuffle(x, axis=1)\n",
    "\n",
    "# Display the array.\n",
    "x"
   ]
  },
  {
   "cell_type": "code",
   "execution_count": 27,
   "metadata": {},
   "outputs": [
    {
     "data": {
      "text/plain": [
       "array([[ 65,  82,  51,  93,  92,   0,  60,  31,  85,   3,  14,  48,  84,\n",
       "         87,  98,   8,  11,  91,   7,  22,  69,  26,  36,  55,  68,  88,\n",
       "         52,  66,  81,  50,  29,   6,  10,  83,  96,  39,  27,  90,  47,\n",
       "         21,  49,   4,  34,  12,   5,   9,  32,  28,  23,  38,  80,  37,\n",
       "         24,  41,  13,  35,  15,  71,  56,  77,  57,  67,  58,  97,  46,\n",
       "         62,  78,  94,  44,  25,  16,  30,  43,  61,  40,  18,  73,  86,\n",
       "         95,  72,  70,  54,  17,  53,  74,  75,  45,   2,  33,  79,  59,\n",
       "         64,  99,   1,  89,  19,  63,  76,  20,  42],\n",
       "       [165, 182, 151, 193, 192, 100, 160, 131, 185, 103, 114, 148, 184,\n",
       "        187, 198, 108, 111, 191, 107, 122, 169, 126, 136, 155, 168, 188,\n",
       "        152, 166, 181, 150, 129, 106, 110, 183, 196, 139, 127, 190, 147,\n",
       "        121, 149, 104, 134, 112, 105, 109, 132, 128, 123, 138, 180, 137,\n",
       "        124, 141, 113, 135, 115, 171, 156, 177, 157, 167, 158, 197, 146,\n",
       "        162, 178, 194, 144, 125, 116, 130, 143, 161, 140, 118, 173, 186,\n",
       "        195, 172, 170, 154, 117, 153, 174, 175, 145, 102, 133, 179, 159,\n",
       "        164, 199, 101, 189, 119, 163, 176, 120, 142]])"
      ]
     },
     "execution_count": 27,
     "metadata": {},
     "output_type": "execute_result"
    }
   ],
   "source": [
    "# Generate a 2-D array with 2 rows of 200 numbers between 0 and 199, inclusive:\n",
    "a = np.arange(200).reshape((2, 100))\n",
    "\n",
    "# Copy the array and shuffle its content along the axis 1.\n",
    "y = rng.permutation(a, axis=1)\n",
    "\n",
    "# Display the array.\n",
    "y"
   ]
  },
  {
   "cell_type": "code",
   "execution_count": 28,
   "metadata": {},
   "outputs": [
    {
     "data": {
      "image/png": "[encoded data removed]",
      "text/plain": [
       "<Figure size 720x432 with 2 Axes>"
      ]
     },
     "metadata": {},
     "output_type": "display_data"
    }
   ],
   "source": [
    "# Build the Shuffle plot one the left.\n",
    "plt.subplot(1, 2, 1)\n",
    "for i in range(len(x)):\n",
    "    # Build the plot.\n",
    "    sns.histplot(x[i])\n",
    "\n",
    "# Set the title for the Shuffle plot.\n",
    "plt.title(\"Shuffle: 2-D array shuffled along the axis\")\n",
    "\n",
    "# Build the Permutation plot the right.\n",
    "plt.subplot(1, 2, 2)\n",
    "for i in range(len(y)):\n",
    "    # Build the plot.\n",
    "    sns.histplot(y[i])\n",
    "\n",
    "# Set the title for the Permutation plot.\n",
    "plt.title(\"Permutation: 2-D array shuffled along the axis\")\n",
    "\n",
    "# Show the plot.    \n",
    "plt.show()"
   ]
  },
  {
   "cell_type": "markdown",
   "metadata": {},
   "source": [
    "***\n",
    "<br>\n",
    "\n",
    "### “DISTRIBUTIONS” functions <a name=\"distributions\"></a>\n",
    "\n",
    "<img align=\"left\" width=\"300\" height=\"300\" src=\"https://cdn1.iconfinder.com/data/icons/data-science-flat-1/64/probability-distribution-normal-curve-statistics-data-512.png\">"
   ]
  },
  {
   "cell_type": "markdown",
   "metadata": {},
   "source": [
    "Probability distribution is a rule or a set of rules that outlines all the possible values that a random variable is likely to take within a given range. The precision of where values will be plotted on the probability distribution within this range depends on many factors, including the distribution's mean, standard deviation etc. [1]\n",
    "\n",
    "Statistically, probability distributions can be divided into two groups: discrete and continuous. This division depends on whether the data on which probability is calculated consists of discrete (with a range of countable values) or continuous (with a range of infinite (uncountable) values) variables. [2] [3]\n",
    "\n",
    "> 1. [Investopedia: Probability Distribution](https://www.investopedia.com/terms/p/probabilitydistribution.asp)\n",
    "2. [Statistics How To: Continuous Probability Distribution](https://www.statisticshowto.com/continuous-probability-distribution/)\n",
    "3. [Statistics How To: Discrete Probability Distribution](https://www.statisticshowto.com/discrete-probability-distribution/)\n"
   ]
  },
  {
   "cell_type": "markdown",
   "metadata": {},
   "source": [
    "<br>\n",
    "\n",
    "#### Discrete Probability Distribution <a name=\"discrete\"></a>\n",
    "\n",
    "<br>\n",
    "\n",
    "##### Binomial  <a name=\"binomial\"></a>\n",
    "\n",
    "A binomial distribution may have two possible outcomes: \"success\" or \"failure\" (hence \"binomial\").\n",
    "\n",
    "There are three properties that binomial distributions must have:\n",
    "\n",
    "1. The number of trials is fixed.\n",
    "2. Each trial is independent. \n",
    "3. The success probability is the same from one trial to another.  [1]\n",
    "\n",
    "There are many real-life instances of binomial distributions. For example, we can calculate a number of \"successes\" of a new medicine tested on a set of patients where the outcome for a given patient is either a success or a failure. [2] \n",
    "\n",
    "> 1. [Statistics How To: Binomial Distribution](https://www.statisticshowto.com/probability-and-statistics/binomial-theorem/binomial-distribution-formula/)\n",
    "2. [Boston University School of Public Health: The Binomial Distribution](https://sphweb.bumc.bu.edu/otlt/mph-modules/bs/bs704_probability/bs704_probability7.html#:~:text=The%20binomial%20distribution%20model%20allows,a%20success%20or%20a%20failure.)\n",
    "\n",
    "_Example: Flip a coin_\n",
    "\n",
    "<img align=\"left\" width=\"140\" height=\"250\" src=\"https://juliakovach.files.wordpress.com/2012/07/coin-toss.png\">"
   ]
  },
  {
   "cell_type": "code",
   "execution_count": 29,
   "metadata": {
    "scrolled": true
   },
   "outputs": [
    {
     "data": {
      "text/plain": [
       "array([ 8,  9, 12, 10, 11, 10,  9, 12,  9, 10,  9,  7,  9,  7,  9, 10, 10,\n",
       "        8,  7,  9, 15, 12,  9,  8, 14, 14, 12, 14, 12, 14, 11, 11,  8, 12,\n",
       "        9, 10,  8, 10, 10, 10, 13, 10, 10,  8, 13, 13,  8, 13,  8,  8, 10,\n",
       "        7, 12, 10, 10, 10,  7, 10, 11,  9,  9,  9, 11,  8, 13,  5, 10, 11,\n",
       "        8,  8,  9,  8,  9, 15, 10, 11, 14,  7, 12, 13,  9,  8,  8, 10, 12,\n",
       "        9,  9, 13,  5, 10, 11, 12,  6, 14,  8, 10,  8, 10, 14,  9, 11, 13,\n",
       "       13, 10, 10, 13, 10,  8,  9, 10,  7,  9, 11,  6, 13, 13, 13,  7, 10,\n",
       "        9,  9,  9, 11, 11, 12, 11,  7, 13, 15,  7,  8,  8,  7,  9,  8, 11,\n",
       "        8, 11,  8, 10,  8, 13, 11, 12,  9,  9, 14,  7, 10,  9,  8, 11, 11,\n",
       "       17, 14,  9,  7, 13, 14, 10, 10, 10, 14, 13, 12, 12, 12,  7,  9,  6,\n",
       "       10, 13, 13,  7, 10,  9,  8,  7, 10, 11, 13,  8, 10, 10,  9, 14, 10,\n",
       "        7,  9, 13, 12, 13,  7, 14, 12, 13, 14, 14,  8, 15, 10,  9,  8, 12,\n",
       "        7,  8, 10, 11, 11, 10, 10, 11, 11,  9, 12, 13,  7, 10, 15, 11,  6,\n",
       "       13, 10, 10, 14, 10, 10,  9, 12, 10, 11, 10, 11,  8, 11, 10, 11,  9,\n",
       "        9, 11,  9,  8,  7, 16,  8,  9, 12, 11,  9, 11, 11,  9,  8, 13, 13,\n",
       "       12, 10,  6, 10, 10,  9,  9, 13, 10, 12, 12, 13, 10,  9, 11, 11, 12,\n",
       "        6,  9,  9,  9,  8, 11,  8,  7, 10,  8,  9, 10, 11,  7, 12,  8,  8,\n",
       "        9,  8, 10, 12, 12,  9, 12,  7, 10, 11,  9, 15, 10, 12,  9, 11,  9,\n",
       "        7, 12,  6, 12, 10, 16, 10,  9, 11,  6,  8,  8,  9,  9, 12, 13, 12,\n",
       "       10, 10,  8, 13, 11, 12, 13, 12, 15,  7,  9,  6, 11,  4,  9, 12, 11,\n",
       "        8,  7, 13,  9, 13, 10,  4,  9, 11,  6, 10, 11, 10,  9, 10, 11, 12,\n",
       "       11, 12, 14,  7, 11,  8, 13, 12,  6, 11,  7, 10, 14, 11,  5, 10, 13,\n",
       "        9, 10, 12,  9, 12,  9,  8,  9, 12,  8, 15, 12, 13,  7,  7, 11, 15,\n",
       "       13, 10,  9, 11,  9, 11, 10, 10, 10, 12,  9, 10, 13, 11, 12, 12, 11,\n",
       "       10, 10, 10, 10, 11,  8, 12, 12,  9,  9,  6,  9, 10, 11, 12, 13,  8,\n",
       "       12,  9,  5, 12, 16, 10, 11,  8, 10, 14, 11,  8,  9, 12,  9, 12,  7,\n",
       "       10,  8, 11, 10,  8,  9,  6, 12,  8, 11, 10,  8,  7, 12, 10, 12, 10,\n",
       "       10,  7, 10, 12, 10,  8, 10,  9, 14, 13,  8, 10, 10,  9, 10,  9, 13,\n",
       "        8,  8,  9,  9, 10, 11, 11,  8, 12, 13,  7,  9,  8,  9,  8,  7,  9,\n",
       "        8,  7, 12,  9,  9, 12,  9, 10,  7, 10, 13,  9,  8,  8,  8,  7, 13,\n",
       "       11, 12, 10,  4, 13, 11, 11, 11,  9,  7,  6,  9, 10,  8, 12,  7, 10,\n",
       "       12, 10, 11, 10,  8, 10,  7,  9, 11, 14,  8,  6, 11, 12,  7, 11,  8,\n",
       "       12, 10,  8, 10,  9, 11, 11,  7, 13, 10, 10,  9, 11,  5,  8, 10,  8,\n",
       "        9, 10, 13, 13, 10, 10,  9, 10, 11, 11, 11,  9, 10, 12,  7,  9, 13,\n",
       "       10, 11,  9,  6, 10,  9, 11, 12, 11,  9,  6, 10,  9, 14, 10,  6,  8,\n",
       "        6, 11, 12, 10,  9, 10, 13,  9,  9, 12, 11,  8,  9, 12,  7, 11, 14,\n",
       "       12, 11,  8, 11,  9, 10,  9, 11,  9, 12,  9,  9, 11,  9, 11,  8, 10,\n",
       "       11,  8,  8,  9,  9,  8, 10,  8, 10, 10,  9, 13, 10, 10, 10, 13, 11,\n",
       "        9,  4, 13, 12, 11, 11, 10, 10, 11, 12, 14, 12, 12, 13, 13,  9, 12,\n",
       "        8, 15, 10, 10,  9, 13,  9, 11,  9, 10,  8,  9, 11,  8, 11, 14, 10,\n",
       "       10, 11,  6, 10, 12,  8, 13, 11,  9, 10, 11, 12, 14, 11, 12, 11, 12,\n",
       "        6,  6,  9, 15,  9,  9,  6, 11,  7, 10, 10,  6,  5, 11, 14,  7, 10,\n",
       "       12,  9,  6,  7, 13,  9,  9, 11,  8,  9, 10, 11,  9, 13,  8, 10,  8,\n",
       "       10, 10,  7,  7, 10, 14,  4, 12,  9,  8, 11,  8, 10, 10, 10, 10, 10,\n",
       "       11,  5,  8, 10,  8, 10, 10,  9,  7,  8, 12, 11,  6, 14, 12, 12, 13,\n",
       "       11, 13, 10, 11,  8,  8, 10, 11,  8, 11,  7,  9, 14, 11,  7, 12, 10,\n",
       "       11, 10, 11, 14,  9,  8, 11, 12, 13,  8,  8,  6,  9,  7, 10,  8, 15,\n",
       "       12, 11,  8, 13,  7,  9, 15, 12, 15,  9, 14, 12,  7,  7, 10, 11, 13,\n",
       "        6, 12, 10, 10,  9, 10, 13, 10, 11, 10, 11,  8, 13, 13,  9,  8, 11,\n",
       "       14, 12, 12,  7, 10, 11, 10,  6,  8,  9, 12,  7,  9, 11, 10, 10,  9,\n",
       "        9,  8,  8, 11, 12,  7,  8,  9,  6, 10,  9, 13,  8,  8, 10, 11,  9,\n",
       "       13, 11,  7, 11, 13, 11, 10,  7, 12, 10, 10,  9,  5,  9, 13, 11,  6,\n",
       "        6,  9,  7,  7,  7,  9, 11, 11,  5, 13, 10, 11, 11,  9, 12, 12,  8,\n",
       "        9, 10, 11, 10,  8,  8,  7, 12, 11, 14,  7, 10, 14, 11, 14,  6, 10,\n",
       "       12, 15,  8, 11, 10, 10,  9,  7, 11,  8, 10,  7, 10,  9,  8, 12, 14,\n",
       "        6,  9, 12, 10, 12, 12, 10,  9,  7, 11,  9, 14, 14, 10, 12,  8,  9,\n",
       "       14, 12, 12, 10, 11, 11, 11,  6, 15, 11,  7,  9, 12,  9,  5, 12,  9,\n",
       "       11,  7,  9,  7, 15, 12,  7,  9, 11,  9,  8,  7, 10, 12, 10,  7,  6,\n",
       "       11,  6,  9,  8,  9, 13,  9, 13, 13, 10,  9, 10, 11,  8],\n",
       "      dtype=int64)"
      ]
     },
     "execution_count": 29,
     "metadata": {},
     "output_type": "execute_result"
    }
   ],
   "source": [
    "# Flip a coin 20 times with a probability 0.5 of each trial.\n",
    "n, p = 20, 0.5\n",
    "\n",
    "# Test done 1000 times.\n",
    "x = rng.binomial(n, p, 1000)\n",
    "\n",
    "# Display the number of heads.\n",
    "x"
   ]
  },
  {
   "cell_type": "code",
   "execution_count": 30,
   "metadata": {},
   "outputs": [
    {
     "data": {
      "image/png": "[encoded data removed]",
      "text/plain": [
       "<Figure size 720x432 with 1 Axes>"
      ]
     },
     "metadata": {},
     "output_type": "display_data"
    }
   ],
   "source": [
    "# Change colour scheme.\n",
    "sns.set_palette(\"PuOr\")\n",
    "\n",
    "# Set the title and x label for the future plot.\n",
    "plt.title(f\"Binominal Distribution: Flip a coin {n} times\")\n",
    "plt.xlabel(\"Number of Heads\")\n",
    "\n",
    "# Build the plot.\n",
    "sns.histplot(x, stat=\"probability\")\n",
    "\n",
    "# Show the plot.\n",
    "plt.show()"
   ]
  },
  {
   "cell_type": "markdown",
   "metadata": {},
   "source": [
    "<br>\n",
    "\n",
    "_Example: Test of an antihistamine drug_\n",
    "\n",
    "<img align=\"left\" width=\"220\" height=\"80\" src=\"https://secure.webtoolhub.com/static/resources/icons/set33/254c1686.png\">"
   ]
  },
  {
   "cell_type": "markdown",
   "metadata": {},
   "source": [
    "If the medication is given to 10 patients suffering from allergies, what is the probability of its effectiveness to be exactly exactly 7 when 80% of adults report symptomatic relief with this medication?"
   ]
  },
  {
   "cell_type": "code",
   "execution_count": 31,
   "metadata": {},
   "outputs": [
    {
     "data": {
      "text/plain": [
       "array([9, 9, 9, ..., 9, 8, 8], dtype=int64)"
      ]
     },
     "execution_count": 31,
     "metadata": {},
     "output_type": "execute_result"
    }
   ],
   "source": [
    "# 10 new patients with allergies.\n",
    "n = 10\n",
    "\n",
    "# The probability of success for each person is 0.8.\n",
    "p = 0.8\n",
    "\n",
    "# Calculate the success rate.\n",
    "x = rng.binomial(n, p, 20000)\n",
    "\n",
    "# Display it\n",
    "x"
   ]
  },
  {
   "cell_type": "code",
   "execution_count": 32,
   "metadata": {},
   "outputs": [
    {
     "data": {
      "image/png": "[encoded data removed]",
      "text/plain": [
       "<Figure size 720x432 with 1 Axes>"
      ]
     },
     "metadata": {},
     "output_type": "display_data"
    }
   ],
   "source": [
    "# Set the title and x label for the future plot.\n",
    "plt.title(\"Binominal Distribution: Test of an antihistamine drug\")\n",
    "plt.xlabel(\"Patients\")\n",
    "\n",
    "# Build the plot.\n",
    "sns.histplot(x, stat=\"probability\")\n",
    "\n",
    "# Show the plot.\n",
    "plt.show()"
   ]
  },
  {
   "cell_type": "code",
   "execution_count": 33,
   "metadata": {},
   "outputs": [
    {
     "data": {
      "text/plain": [
       "0.2012"
      ]
     },
     "execution_count": 33,
     "metadata": {},
     "output_type": "execute_result"
    }
   ],
   "source": [
    "# Effectiveness of the grug is 7.\n",
    "s = 7\n",
    "\n",
    "# Calculate the probability when tested 20000 times.\n",
    "x = sum(rng.binomial(n, p, 20000) == s)/20000\n",
    "\n",
    "# Display the probability.\n",
    "x"
   ]
  },
  {
   "cell_type": "markdown",
   "metadata": {},
   "source": [
    "<br>\n",
    "\n",
    "##### Multinomial  <a name=\"multinomial\"></a>\n",
    "\n",
    "A multinomial distribution is generalization of binominal distribution with more than two outcomes (hence multinominal). [1]\n",
    "The multinominal distribution follows the same criteria as the binominal.\n",
    "\n",
    "> 1. [Statistics How To: Multinomial Distribution](https://www.statisticshowto.com/multinomial-distribution/)\n",
    "\n",
    "_Example: Throw a dice_\n",
    "\n",
    "<img align=\"left\" width=\"230\" height=\"80\" src=\"https://upload.wikimedia.org/wikipedia/commons/thumb/3/36/Two_red_dice_01.svg/671px-Two_red_dice_01.svg.png\">"
   ]
  },
  {
   "cell_type": "code",
   "execution_count": 34,
   "metadata": {},
   "outputs": [
    {
     "data": {
      "text/plain": [
       "array([[ 9, 14,  5,  4, 14, 14]], dtype=int64)"
      ]
     },
     "execution_count": 34,
     "metadata": {},
     "output_type": "execute_result"
    }
   ],
   "source": [
    "# Dice with 6 sides.\n",
    "d = [1/6.]\n",
    "\n",
    "# Throw it 60 times.\n",
    "n = 60\n",
    "\n",
    "# Compute a probability.\n",
    "x = rng.multinomial(n, d*6, size=1)\n",
    "\n",
    "# Display it\n",
    "x"
   ]
  },
  {
   "cell_type": "code",
   "execution_count": 35,
   "metadata": {},
   "outputs": [
    {
     "data": {
      "image/png": "[encoded data removed]",
      "text/plain": [
       "<Figure size 720x432 with 1 Axes>"
      ]
     },
     "metadata": {},
     "output_type": "display_data"
    }
   ],
   "source": [
    "# Change colour scheme.\n",
    "sns.set_palette(\"pastel\")\n",
    "\n",
    "# Set the title and x label for the future plot.\n",
    "plt.title(f\"Multinominal Distribution: Throw a dice {n} times\")\n",
    "plt.xlabel(\"Number of times the dice lands on each side\")\n",
    "\n",
    "# Build the plot.\n",
    "plt.hist(x, histtype=\"barstacked\")\n",
    "\n",
    "# New label to match the dice.\n",
    "labels = ['1','2','3','4','5','6']\n",
    "plt.legend(labels, title=\"Dice sides\")\n",
    "\n",
    "# Show the plot.\n",
    "plt.show()"
   ]
  },
  {
   "cell_type": "code",
   "execution_count": 36,
   "metadata": {},
   "outputs": [
    {
     "data": {
      "text/plain": [
       "array([[ 9,  7, 14,  4, 13, 13],\n",
       "       [ 8, 11, 13, 14,  6,  8]], dtype=int64)"
      ]
     },
     "execution_count": 36,
     "metadata": {},
     "output_type": "execute_result"
    }
   ],
   "source": [
    "# Throw it 60 times twice\n",
    "x = rng.multinomial(n, d*6, size=2)\n",
    "\n",
    "# Display the probability\n",
    "x"
   ]
  },
  {
   "cell_type": "code",
   "execution_count": 37,
   "metadata": {},
   "outputs": [
    {
     "data": {
      "image/png": "[encoded data removed]",
      "text/plain": [
       "<Figure size 720x432 with 1 Axes>"
      ]
     },
     "metadata": {},
     "output_type": "display_data"
    }
   ],
   "source": [
    "# Set the title and x label for the future plot.\n",
    "plt.title(f\"Multinominal Distribution: Throw a dice {n} times twice\")\n",
    "plt.xlabel(\"Number of times the dice lands on each side\")\n",
    "\n",
    "# Build the plot.\n",
    "plt.hist(x, histtype=\"barstacked\")\n",
    "\n",
    "# New label to match the dice.\n",
    "labels = ['1','2','3','4','5','6']\n",
    "plt.legend(labels, title=\"Dice sides\")\n",
    "\n",
    "# Show the plot.\n",
    "plt.show()"
   ]
  },
  {
   "cell_type": "code",
   "execution_count": 38,
   "metadata": {
    "scrolled": true
   },
   "outputs": [
    {
     "data": {
      "text/plain": [
       "array([15, 15, 16, 15, 15, 24], dtype=int64)"
      ]
     },
     "execution_count": 38,
     "metadata": {},
     "output_type": "execute_result"
    }
   ],
   "source": [
    "# Roll a loaded die (2/7 to land on 6).\n",
    "d = [1/7.]*5 + [2/7.]\n",
    "\n",
    "# Throw it 100 times.\n",
    "n = 100\n",
    "\n",
    "# Project the probability of it landing on 6.\n",
    "x = rng.multinomial(n, d)\n",
    "\n",
    "# Display it\n",
    "x"
   ]
  },
  {
   "cell_type": "code",
   "execution_count": 39,
   "metadata": {},
   "outputs": [
    {
     "data": {
      "image/png": "[encoded data removed]",
      "text/plain": [
       "<Figure size 720x432 with 1 Axes>"
      ]
     },
     "metadata": {},
     "output_type": "display_data"
    }
   ],
   "source": [
    "# Set the title and x label for the future plot.\n",
    "plt.title(f\"Multinominal Distribution: Throw a loaded die {n} times twice\")\n",
    "plt.xlabel(\"Number of times the loaded die lands on 6\")\n",
    "\n",
    "# Build the plot.\n",
    "sns.histplot(x, legend=False, stat=\"probability\")\n",
    "\n",
    "# Show the plot.\n",
    "plt.show()"
   ]
  },
  {
   "cell_type": "markdown",
   "metadata": {},
   "source": [
    "<br>\n",
    "\n",
    "##### Geometric   <a name=\"geometric\"></a>\n",
    "The geometric distribution represents one or more Bernoulli (binominal) trials with all failures excluding the last one, which results in success. Assumptions for the geometric distribution are the same as for binominal. [1] \n",
    "\n",
    "The geometic distribution is used for modeling situations that require knowing likely number of trials until success, and thus has applications to econometrics, return on investment, population modeling, and so on. [2] \n",
    "\n",
    "> 1. [Statistics How To: Geometric Distribution](https://www.statisticshowto.com/geometric-distribution/)\n",
    "2. [Brilliant: Geometric Distribution](https://brilliant.org/wiki/geometric-distribution/)\n",
    "\n",
    "_Example: Election_\n",
    "\n",
    "<img align=\"left\" width=\"230\" height=\"80\" src=\"https://encrypted-tbn0.gstatic.com/images?q=tbn%3AANd9GcSST1krcuDqRqW5PVb5TUOtmOk7UScWRDL2dtclHIm5VGqe4S0L3sD1WfoNJi5g4hxGDVgqs9sgvv8z69hnu50rs3ex4cv2mdC6z2UrkqA&usqp=CAU&ec=45714080\">"
   ]
  },
  {
   "cell_type": "markdown",
   "metadata": {},
   "source": [
    "If we ask ask people outside a polling station who they voted for, what is the probability of meeting someone that voted for an independent candidate on your 100th try assuuming that your probability of success is 15%."
   ]
  },
  {
   "cell_type": "code",
   "execution_count": 40,
   "metadata": {},
   "outputs": [
    {
     "data": {
      "text/plain": [
       "array([ 3,  1,  4,  4,  8,  6, 44,  1,  4,  1,  7,  6,  7,  4,  3,  4, 17,\n",
       "        7,  7, 12, 14,  1,  6,  2, 16, 11,  2, 10,  3,  9,  1,  9,  7,  3,\n",
       "        4,  3, 13,  5,  4,  2,  3,  6,  2,  4,  1,  4, 19,  4,  1,  6,  2,\n",
       "       10,  4,  4,  3,  7, 14,  1,  7,  1, 11,  2,  2,  3,  8, 16, 16,  4,\n",
       "        3, 12,  2,  4,  1,  4,  2,  2, 10,  5, 11,  2,  6,  2,  2,  5,  1,\n",
       "        4, 10,  3,  5, 13,  4,  2,  5,  8,  3,  5,  4, 18,  2, 13],\n",
       "      dtype=int64)"
      ]
     },
     "execution_count": 40,
     "metadata": {},
     "output_type": "execute_result"
    }
   ],
   "source": [
    "# The probability of an individual success is 0.15.\n",
    "p = 0.15\n",
    "\n",
    "# Do 100 trials.\n",
    "size = 100\n",
    "\n",
    "# Calculate the probability\n",
    "x = rng.geometric(p, size)\n",
    "\n",
    "# Display it\n",
    "x\n"
   ]
  },
  {
   "cell_type": "code",
   "execution_count": 41,
   "metadata": {},
   "outputs": [
    {
     "data": {
      "image/png": "[encoded data removed]",
      "text/plain": [
       "<Figure size 720x432 with 1 Axes>"
      ]
     },
     "metadata": {},
     "output_type": "display_data"
    }
   ],
   "source": [
    "# Change colour scheme.\n",
    "sns.set_palette(\"Paired\")\n",
    "\n",
    "# Set the title and x label for the future plot.\n",
    "plt.title(f\"Geometric Distribution: Find an independent candidate on your {size}th try\")\n",
    "\n",
    "# Build the plot.\n",
    "sns.histplot(x, stat=\"probability\", kde=True)\n",
    "\n",
    "# Show the plot.\n",
    "plt.show()"
   ]
  },
  {
   "cell_type": "code",
   "execution_count": 42,
   "metadata": {},
   "outputs": [
    {
     "data": {
      "text/plain": [
       "0.11"
      ]
     },
     "execution_count": 42,
     "metadata": {},
     "output_type": "execute_result"
    }
   ],
   "source": [
    "# How many trials succeeded after a single run?\n",
    "y = (x == 1).sum() / 100.\n",
    "\n",
    "# Display the probability of success.\n",
    "y"
   ]
  },
  {
   "cell_type": "markdown",
   "metadata": {},
   "source": [
    "##### Poisson  <a name=\"poisson\"></a>\n",
    "\n",
    "The poisson distribution is used for prediction of the number of events happening in a fixed time period, given the average number of times the event happens over that time period. [1]\n",
    "\n",
    "The Poisson distribution is often used in biology (e.g. in mutation detection), finance, business (e.g. to make forecasts), disaster readiness, and other time-independent spheres.\n",
    "\n",
    "There is a number of conditions for poisson distribution:\n",
    "\n",
    "1. An event can occur any number of times during a fixed time period.\n",
    "2. Each event is independent. \n",
    "3. The occurence rate doesn't change based on time.\n",
    "4. Occurence of an event is directly proportional to the length of the time period. [2]\n",
    "\n",
    "> 1. [Statistics How To: Poisson Distribution](https://www.statisticshowto.com/poisson-distribution/)\n",
    "2. [Brilliant: Poisson Distribution](https://brilliant.org/wiki/poisson-distribution/#:~:text=the%20number%20of%20Airbus%20330,over%20a%20given%20production%20time)\n",
    "\n",
    "_Exmaple: Storm occurence_\n",
    "\n",
    "<img align=\"left\" width=\"180\" height=\"80\" src=\"https://simpleicon.com/wp-content/uploads/storm.png\">"
   ]
  },
  {
   "cell_type": "markdown",
   "metadata": {},
   "source": [
    "The average number of major storms in your city is 2 per year. What is the probability that exactly 3 storms will hit your city next year?"
   ]
  },
  {
   "cell_type": "code",
   "execution_count": 43,
   "metadata": {},
   "outputs": [
    {
     "data": {
      "text/plain": [
       "array([4, 2, 1, ..., 5, 3, 3], dtype=int64)"
      ]
     },
     "execution_count": 43,
     "metadata": {},
     "output_type": "execute_result"
    }
   ],
   "source": [
    "# Draw samples from the distribution tested 10000:\n",
    "x = rng.poisson(2, 10000)\n",
    "\n",
    "# Display the array\n",
    "x"
   ]
  },
  {
   "cell_type": "code",
   "execution_count": 44,
   "metadata": {
    "scrolled": false
   },
   "outputs": [
    {
     "data": {
      "image/png": "[encoded data removed]",
      "text/plain": [
       "<Figure size 720x432 with 1 Axes>"
      ]
     },
     "metadata": {},
     "output_type": "display_data"
    }
   ],
   "source": [
    "# Change colour scheme.\n",
    "sns.set_palette(\"PRGn\")\n",
    "\n",
    "# Set the title and x label for the future plot.\n",
    "plt.title(\"Poisson Distribution: Possiblity of Storm\")\n",
    "\n",
    "# Build the plot.\n",
    "sns.histplot(x, stat=\"probability\")\n",
    "\n",
    "# Show the plot.\n",
    "plt.show()"
   ]
  },
  {
   "cell_type": "code",
   "execution_count": 45,
   "metadata": {},
   "outputs": [
    {
     "data": {
      "text/plain": [
       "0.1804"
      ]
     },
     "execution_count": 45,
     "metadata": {},
     "output_type": "execute_result"
    }
   ],
   "source": [
    "# Calculate the probability of 3 storms.\n",
    "y = sum(x == 3)/10000\n",
    "\n",
    "# Display the probability.\n",
    "y"
   ]
  },
  {
   "cell_type": "markdown",
   "metadata": {},
   "source": [
    "***\n",
    "<br>\n",
    "\n",
    "#### Continuous Probability Distribution  <a name=\"continuous\"></a>\n",
    "\n",
    "<br>\n",
    "\n",
    "##### Normal <a name=\"normal\"></a> \n",
    "\n",
    "The normal (or Gaussian) distribution is a bell-shaped distribution fully characterized by its mean and standard deviation. It is the most commonly used distribution and because it approximates many natural phenomena so well, it is used as a standard of reference for many probability problems in finance, investing, science, engineering etc [1]\n",
    "\n",
    "> 1. [Investopedia: Probability Distribution](https://www.investopedia.com/terms/p/probabilitydistribution.asp)\n",
    "\n",
    "_Example: Women Shoes_\n",
    "\n",
    "<img align=\"left\" width=\"180\" height=\"80\" src=\"https://i.pinimg.com/originals/11/c9/fa/11c9fa859c9e9402067f03054e62ea57.png\">"
   ]
  },
  {
   "cell_type": "markdown",
   "metadata": {},
   "source": [
    "Assuming that women’s shoe sizes are normally distributed with a mean of 8 and a standard deviation of 1.5, the factory makes 10,000 pairs of one style. How many shoes of size 9 the manufacturer should make?  [2]\n",
    "> 2. [StudiousGuys: 9 Real Life Examples Of Normal Distribution](https://mathstat.slu.edu/~may/ExcelCalculus/sec-7-6-NormalDistribution.html)"
   ]
  },
  {
   "cell_type": "code",
   "execution_count": 46,
   "metadata": {},
   "outputs": [
    {
     "data": {
      "text/plain": [
       "array([ 7.27370296,  9.61112195,  8.16311621, ..., 10.66622807,\n",
       "        7.76303098,  5.65359593])"
      ]
     },
     "execution_count": 46,
     "metadata": {},
     "output_type": "execute_result"
    }
   ],
   "source": [
    "# Mean is 8, standard deviation is 1.5.\n",
    "m, std = 8, 1.5\n",
    "\n",
    "# Compute 10000 numbers.\n",
    "x = rng.normal(m, std, 10000)\n",
    "\n",
    "# Display the probability.\n",
    "x"
   ]
  },
  {
   "cell_type": "code",
   "execution_count": 47,
   "metadata": {
    "scrolled": false
   },
   "outputs": [
    {
     "data": {
      "image/png": "[encoded data removed]",
      "text/plain": [
       "<Figure size 720x432 with 1 Axes>"
      ]
     },
     "metadata": {},
     "output_type": "display_data"
    }
   ],
   "source": [
    "# Change colour scheme.\n",
    "sns.set_palette(\"RdYlBu\")\n",
    "\n",
    "# Set the title and x label for the future plot.\n",
    "plt.title(\"Normal Distribution: Women Shoes\")\n",
    "\n",
    "# Build the plot.\n",
    "sns.histplot(x, stat=\"probability\")\n",
    "\n",
    "# Show the plot.\n",
    "plt.show()"
   ]
  },
  {
   "cell_type": "code",
   "execution_count": 48,
   "metadata": {
    "scrolled": true
   },
   "outputs": [
    {
     "data": {
      "text/plain": [
       "0.02951865146480248"
      ]
     },
     "execution_count": 48,
     "metadata": {},
     "output_type": "execute_result"
    }
   ],
   "source": [
    "# Verify the mean and the variance:\n",
    "abs(m - np.mean(x))"
   ]
  },
  {
   "cell_type": "code",
   "execution_count": 49,
   "metadata": {
    "scrolled": true
   },
   "outputs": [
    {
     "data": {
      "text/plain": [
       "0.0030534881752204424"
      ]
     },
     "execution_count": 49,
     "metadata": {},
     "output_type": "execute_result"
    }
   ],
   "source": [
    "# Verify the standard deviation:\n",
    "abs(std - np.std(x, ddof=1))"
   ]
  },
  {
   "cell_type": "code",
   "execution_count": 50,
   "metadata": {},
   "outputs": [
    {
     "data": {
      "text/plain": [
       "2089"
      ]
     },
     "execution_count": 50,
     "metadata": {},
     "output_type": "execute_result"
    }
   ],
   "source": [
    "# Calculate how many pairs of shoes sized between 8.5 and 9.5.\n",
    "l = []\n",
    "for i in x:\n",
    "    if 8.5 < i < 9.5:\n",
    "        l.append(i)\n",
    "\n",
    "# Display the number of shoes.\n",
    "len(l)"
   ]
  },
  {
   "cell_type": "markdown",
   "metadata": {},
   "source": [
    "<br>\n",
    "\n",
    "##### Chi-Square <a name=\"chisquare\"></a>"
   ]
  },
  {
   "cell_type": "markdown",
   "metadata": {},
   "source": [
    "<br>\n",
    "\n",
    "##### Logistic <a name=\"logistic\"></a>"
   ]
  },
  {
   "cell_type": "markdown",
   "metadata": {},
   "source": [
    "<br>\n",
    "\n",
    "##### Exponential <a name=\"exponential\"></a>"
   ]
  },
  {
   "cell_type": "markdown",
   "metadata": {},
   "source": [
    "### SEEDS  <a name=\"seeds\"></a> "
   ]
  }
 ],
 "metadata": {
  "kernelspec": {
   "display_name": "Python 3",
   "language": "python",
   "name": "python3"
  },
  "language_info": {
   "codemirror_mode": {
    "name": "ipython",
    "version": 3
   },
   "file_extension": ".py",
   "mimetype": "text/x-python",
   "name": "python",
   "nbconvert_exporter": "python",
   "pygments_lexer": "ipython3",
   "version": "3.7.4"
  }
 },
 "nbformat": 4,
 "nbformat_minor": 2
}
