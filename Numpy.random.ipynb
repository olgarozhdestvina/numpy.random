{
 "cells": [
  {
   "cell_type": "markdown",
   "metadata": {},
   "source": [
    "# The numpy.random package \n",
    "\n",
    "\n",
    "[ Programming for Data Analysis Module GMIT 2020 ]\n",
    "\n",
    "\n",
    "<img align=\"left\" width=\"200\" height=\"200\" src=\"https://upload.wikimedia.org/wikipedia/commons/thumb/3/31/NumPy_logo_2020.svg/1024px-NumPy_logo_2020.svg.png\">\n"
   ]
  },
  {
   "cell_type": "markdown",
   "metadata": {},
   "source": [
    "Completed by: *Olga Rozhdestvina (G00387844@gmit.ie)*\n",
    "***\n",
    "\n",
    "## Table of Contents\n",
    "* [Purpose of the package](#purpose)\n",
    "* [“Simple random data” and “Permutations” functions](#functions)\n",
    "    * [Simple random data](#srd)\n",
    "        * [Integers](#integers)\n",
    "        * [Random](#random)\n",
    "        * [Choice](#choice)\n",
    "        * [Bytes](#bytes)\n",
    "    * [Permutations](#permutations)\n",
    "* [“Distributions” functions](#distributions)\n",
    "    * [Discrete Probability Distribution](#discrete)\n",
    "        * [Binominal](#binominal)\n",
    "        * [Multinomial](#multinomial)\n",
    "        * [Geometric](#geometric)\n",
    "        * [Poisson](#poisson)\n",
    "    * [Continuous Probability Distribution](#continuous)\n",
    "        * [Normal](#normal)\n",
    "        * [Chi-Square](#chisquare)\n",
    "        * [Logistic](#logistic)\n",
    "        * [Exponential](#exponential)\n",
    "        \n",
    "        \n",
    "* [Seeds](#seeds)\n",
    "\n",
    "***"
   ]
  },
  {
   "cell_type": "markdown",
   "metadata": {},
   "source": [
    "### Purpose of the package <a name=\"purpose\"></a>"
   ]
  },
  {
   "cell_type": "markdown",
   "metadata": {},
   "source": [
    "First of all let's remind ourselves a what random number is. It doesn't mean a different number every time, but a number that can not be logically predicted. And those random numbers that are produced through a generating algorithm are called pseudorandom. [1] The _numpy.random_ package is based on a pseudorandom number generator, or PRNG, and comes as supplemental for [the built-in Python random package](https://docs.python.org/3/library/random.html). It is used for efficient generation of whole arrays of random values from various probability distributions. [2] [3]\n",
    "\n",
    "> 1. [DataCamp: Random Number Generator Using Numpy](https://www.datacamp.com/community/tutorials/numpy-random)\n",
    "2. [Wes McKinney: Python for Data Analysis ](https://www.oreilly.com/library/view/python-for-data/9781449323592/)\n",
    "3. [NumPy: numpy.random](https://numpy.org/doc/stable/reference/random/)"
   ]
  },
  {
   "cell_type": "code",
   "execution_count": 1,
   "metadata": {},
   "outputs": [],
   "source": [
    "# Import the numpy package.\n",
    "import numpy as np\n",
    "# Package for plotting.\n",
    "import matplotlib.pyplot as plt\n",
    "# Another package for plotting.\n",
    "import seaborn as sns\n"
   ]
  },
  {
   "cell_type": "code",
   "execution_count": 2,
   "metadata": {},
   "outputs": [],
   "source": [
    "# Colour scheme and styles for plots.\n",
    "sns.set_theme(palette=\"Set2\", context=\"paper\", font_scale=1.5)\n",
    "\n",
    "# Better sized plots.\n",
    "plt.rcParams['figure.figsize'] = (10, 6)"
   ]
  },
  {
   "cell_type": "code",
   "execution_count": 3,
   "metadata": {},
   "outputs": [],
   "source": [
    "# Get an instance of generator.\n",
    "rng = np.random.default_rng()"
   ]
  },
  {
   "cell_type": "markdown",
   "metadata": {},
   "source": [
    "***\n",
    "<br>\n",
    "\n",
    "### “SIMPLE RANDOM DATA” and “PERMUTATIONS” functions <a name=\"functions\"></a>"
   ]
  },
  {
   "cell_type": "markdown",
   "metadata": {},
   "source": [
    "#### Simple random data <a name=\"srd\"></a>\n",
    "\n",
    "\n",
    "<img align=\"left\" width=\"302\" height=\"420\" src=\"https://www.netquest.com/hubfs/Imported_Blog_Media/smallnumbers-1.png\">\n"
   ]
  },
  {
   "cell_type": "markdown",
   "metadata": {},
   "source": [
    "* _INTEGERS_ <a name=\"integers\"></a>\n",
    " \n",
    "Numpy.random package can be used for generating random integers. The examples below depict that this method can output a single integer, one-dimensional or two-dimensional arrays.\n",
    "\n",
    "1. A single integer"
   ]
  },
  {
   "cell_type": "code",
   "execution_count": 4,
   "metadata": {},
   "outputs": [
    {
     "data": {
      "text/plain": [
       "839"
      ]
     },
     "execution_count": 4,
     "metadata": {},
     "output_type": "execute_result"
    }
   ],
   "source": [
    "# Call the generator to obtain a random integer.\n",
    "x = rng.integers(1000)\n",
    "\n",
    "# Display the number.\n",
    "x"
   ]
  },
  {
   "cell_type": "markdown",
   "metadata": {},
   "source": [
    "2. One-dimensional array"
   ]
  },
  {
   "cell_type": "code",
   "execution_count": 5,
   "metadata": {},
   "outputs": [
    {
     "data": {
      "text/plain": [
       "array([480, 940, 415,  57, 431, 631, 435, 408, 118, 926,  23, 996, 875,\n",
       "       262, 125, 420, 788, 495, 468, 212, 944,  15, 309, 571, 125, 593,\n",
       "       945, 125, 491,  66, 632, 156, 987, 483, 474, 282, 973, 483, 355,\n",
       "       379, 312, 714, 747, 688, 919, 693,  14, 163,  51, 938, 962, 739,\n",
       "       670, 940, 196, 753, 255, 338, 650, 240, 632,  24, 436, 266, 485,\n",
       "       923, 312, 268, 295, 887, 335, 345, 795, 135, 963,  19, 473, 146,\n",
       "       895, 966, 302, 746, 557, 120, 479, 371, 865, 706, 976, 677, 355,\n",
       "       204, 723, 280, 783, 780, 419, 461, 930, 990, 892, 990, 546, 969,\n",
       "       885, 309, 899,  70, 715, 978, 318, 181, 359, 612, 572, 527, 960,\n",
       "       263, 292, 633, 925,  87, 790, 971, 890, 128, 227,  26, 177, 885,\n",
       "       810, 614, 662, 190, 593, 820, 380, 859, 134, 874, 707, 902, 846,\n",
       "       496,  60, 903, 407, 969, 894, 990, 711, 413, 175,  74, 766, 546,\n",
       "       414, 472, 383, 768, 644, 574, 209, 957, 871, 750, 561, 774, 882,\n",
       "       613, 626, 408, 984, 438, 984, 130, 300, 714, 389, 608, 932, 436,\n",
       "       304, 939, 872, 946, 833, 997, 812, 531, 688, 444, 372,  24, 712,\n",
       "       851, 466, 896, 321, 449], dtype=int64)"
      ]
     },
     "execution_count": 5,
     "metadata": {},
     "output_type": "execute_result"
    }
   ],
   "source": [
    "# Generate 200 numbers between 0 and 999, inclusive:\n",
    "x = rng.integers(1000, size=200)\n",
    "\n",
    "# Display the array.\n",
    "x"
   ]
  },
  {
   "cell_type": "code",
   "execution_count": 6,
   "metadata": {},
   "outputs": [
    {
     "data": {
      "image/png": "[encoded data removed]",
      "text/plain": [
       "<Figure size 720x432 with 1 Axes>"
      ]
     },
     "metadata": {},
     "output_type": "display_data"
    }
   ],
   "source": [
    "# Set the title for the future plot.\n",
    "plt.title(\"Integers Method: 1-D array\")\n",
    "\n",
    "# Plot the array.\n",
    "sns.histplot(x)\n",
    "\n",
    "# Show the plot.\n",
    "plt.show()"
   ]
  },
  {
   "cell_type": "markdown",
   "metadata": {},
   "source": [
    "3. Two-dimensional array"
   ]
  },
  {
   "cell_type": "code",
   "execution_count": 7,
   "metadata": {},
   "outputs": [
    {
     "data": {
      "text/plain": [
       "array([[ 8, 44, 28,  6, 43, 22,  7],\n",
       "       [65, 67, 13, 52, 37, 90, 97],\n",
       "       [57, 13, 87, 81, 79,  5, 31],\n",
       "       [14, 32, 95, 18, 15, 52,  3],\n",
       "       [ 4, 55, 65, 46, 69, 71, 79]], dtype=int64)"
      ]
     },
     "execution_count": 7,
     "metadata": {},
     "output_type": "execute_result"
    }
   ],
   "source": [
    "# Generate a 2-D array with 5 rows containing 7 integers between 0 and 99, inclusive:\n",
    "x = rng.integers(100, size=(5, 7))\n",
    "\n",
    "# Display the array.\n",
    "x"
   ]
  },
  {
   "cell_type": "code",
   "execution_count": 8,
   "metadata": {},
   "outputs": [
    {
     "data": {
      "image/png": "[encoded data removed]",
      "text/plain": [
       "<Figure size 720x432 with 1 Axes>"
      ]
     },
     "metadata": {},
     "output_type": "display_data"
    }
   ],
   "source": [
    "# Set the title for the future plot.\n",
    "plt.title(\"Integers Method: 2-D array\")\n",
    "\n",
    "# Loop through the rows in the array.\n",
    "\n",
    "sns.set()\n",
    "# Loop through the rows in the array.\n",
    "for i in range(len(x)):\n",
    "    # Build the plot.\n",
    "    plt.hist(x[i], histtype=\"stepfilled\", alpha=0.8)\n",
    "    \n",
    "# Show the plot.    \n",
    "plt.show()"
   ]
  },
  {
   "cell_type": "markdown",
   "metadata": {},
   "source": [
    "<br>\n",
    "\n",
    "- _RANDOM_ <a name=\"random\"></a>\n",
    "\n",
    "With this method numPy produces random floats and output vary from a single float number to one-dimensional or two-dimensional arrays. If not specified otherwise, floats are sampled from the interval between 0.0 and 1.0 (exclusively).\n",
    "\n",
    "1. A single float"
   ]
  },
  {
   "cell_type": "code",
   "execution_count": 9,
   "metadata": {},
   "outputs": [
    {
     "data": {
      "text/plain": [
       "0.44569305348423105"
      ]
     },
     "execution_count": 9,
     "metadata": {},
     "output_type": "execute_result"
    }
   ],
   "source": [
    "# Generate a single float number:\n",
    "x = rng.random()\n",
    "\n",
    "# Display the float.\n",
    "x"
   ]
  },
  {
   "cell_type": "markdown",
   "metadata": {},
   "source": [
    "2. One-dimensional array"
   ]
  },
  {
   "cell_type": "code",
   "execution_count": 10,
   "metadata": {},
   "outputs": [
    {
     "data": {
      "text/plain": [
       "array([0.65589301, 0.57039742, 0.52749945, 0.78146302, 0.0013107 ,\n",
       "       0.80443585, 0.35405388, 0.51584348, 0.02749149, 0.29780783,\n",
       "       0.09871183, 0.44722313, 0.94011911, 0.46609691, 0.9330621 ,\n",
       "       0.88767007, 0.35454993, 0.22225754, 0.63494647, 0.78054902,\n",
       "       0.44401787, 0.60266915, 0.97269671, 0.45628948, 0.73863672,\n",
       "       0.18743854, 0.29323835, 0.64185173, 0.8283027 , 0.72825961,\n",
       "       0.42741029, 0.67832054, 0.6526878 , 0.60501295, 0.43521353,\n",
       "       0.63680808, 0.34561236, 0.30355822, 0.66970234, 0.94356656])"
      ]
     },
     "execution_count": 10,
     "metadata": {},
     "output_type": "execute_result"
    }
   ],
   "source": [
    "# Generate 40 floats:\n",
    "x = rng.random((40,))\n",
    "\n",
    "# Display the array.\n",
    "x"
   ]
  },
  {
   "cell_type": "code",
   "execution_count": 11,
   "metadata": {},
   "outputs": [
    {
     "data": {
      "image/png": "[encoded data removed]",
      "text/plain": [
       "<Figure size 720x432 with 1 Axes>"
      ]
     },
     "metadata": {},
     "output_type": "display_data"
    }
   ],
   "source": [
    "# Set the title for the future plot.\n",
    "plt.title(\"Random Method: 1-D array\")\n",
    "\n",
    "# Change colour scheme.\n",
    "sns.set_palette(\"rocket\")\n",
    "\n",
    "# Build the plot.\n",
    "sns.histplot(x)\n",
    "\n",
    "# Show the plot.\n",
    "plt.show()"
   ]
  },
  {
   "cell_type": "markdown",
   "metadata": {},
   "source": [
    "3. Two-dimensional array"
   ]
  },
  {
   "cell_type": "code",
   "execution_count": 12,
   "metadata": {},
   "outputs": [
    {
     "data": {
      "text/plain": [
       "array([[-75.23898309,  -3.43450228,  -6.90137686, -58.58080784,\n",
       "        -76.15922899, -29.07583195, -39.55814019, -72.634411  ,\n",
       "        -35.02683547, -30.48380021, -75.08547621, -32.29968014,\n",
       "        -93.60217935, -20.24139903, -71.53844786, -23.19762621,\n",
       "        -57.79625958, -14.26918822, -17.48771776,  -8.06024314,\n",
       "        -96.85045743, -92.19092334, -60.68069987, -11.8208658 ,\n",
       "        -40.63288861, -33.096723  , -14.50839938, -24.12995179,\n",
       "        -91.75105665, -43.7942687 ],\n",
       "       [ -7.70793997,  -2.38816403,  -7.85319442, -45.96287795,\n",
       "        -28.9234422 , -70.8979464 , -67.6712458 , -11.63542745,\n",
       "        -10.95085313, -49.9090058 , -49.88246634, -20.57254698,\n",
       "        -43.78148329, -55.44439094, -70.55557705, -30.77141469,\n",
       "        -17.96685759, -87.54542765, -13.71583877, -63.73700798,\n",
       "        -57.1466053 , -24.05251325, -63.70463981, -22.77133292,\n",
       "        -21.41251075, -74.15005963, -85.02074572, -34.22717038,\n",
       "        -60.5202321 , -66.78354044]])"
      ]
     },
     "execution_count": 12,
     "metadata": {},
     "output_type": "execute_result"
    }
   ],
   "source": [
    "# Generate a 2-D array with 2 rows containing 30 floats between -100 and 0, exclusive:\n",
    "x = 100 * rng.random((2, 30)) - 100\n",
    "\n",
    "# Display the array.\n",
    "x"
   ]
  },
  {
   "cell_type": "code",
   "execution_count": 13,
   "metadata": {},
   "outputs": [
    {
     "data": {
      "image/png": "[encoded data removed]",
      "text/plain": [
       "<Figure size 720x432 with 1 Axes>"
      ]
     },
     "metadata": {},
     "output_type": "display_data"
    }
   ],
   "source": [
    "# Set the title for the future plot.\n",
    "plt.title(\"Random Method: 2-D array\")\n",
    "\n",
    "sns.set()\n",
    "# Loop through the rows in the array.\n",
    "for i in range(len(x)):\n",
    "    # Build the plot.\n",
    "    plt.hist(x[i], histtype=\"stepfilled\", alpha=0.5)\n",
    "    \n",
    "# Show the plot.    \n",
    "plt.show()"
   ]
  },
  {
   "cell_type": "markdown",
   "metadata": {},
   "source": [
    "<br>\n",
    "\n",
    "- _CHOICE_ <a name=\"choice\"></a>\n",
    "\n",
    "The choice method generates random numbers from a given integer or one-dimensional array (of integers or strings). If not specified otherwise, the output assumes a uniform distribution over all entries in the given array. (refer to [“Distributions” functions](#distributions) )\n",
    "\n",
    " 1. Uniform distribution (default)."
   ]
  },
  {
   "cell_type": "code",
   "execution_count": 14,
   "metadata": {},
   "outputs": [
    {
     "data": {
      "text/plain": [
       "array([9, 9, 0, 1, 7, 0, 8, 2, 4], dtype=int64)"
      ]
     },
     "execution_count": 14,
     "metadata": {},
     "output_type": "execute_result"
    }
   ],
   "source": [
    "# Generate 9 evenly spaced values between 0 and 9 (inclusive) (np.arange(10)).\n",
    "x = rng.choice(10, 9)\n",
    "\n",
    "# Display the array.\n",
    "x"
   ]
  },
  {
   "cell_type": "code",
   "execution_count": 15,
   "metadata": {},
   "outputs": [
    {
     "data": {
      "image/png": "[encoded data removed]",
      "text/plain": [
       "<Figure size 720x432 with 1 Axes>"
      ]
     },
     "metadata": {},
     "output_type": "display_data"
    }
   ],
   "source": [
    "# Set the title for the future plot.\n",
    "plt.title(\"Choice Method: Uniform distribution\")\n",
    "\n",
    "# Change colour scheme.\n",
    "sns.set_palette(\"flare\")\n",
    "\n",
    "# Build the plot.\n",
    "sns.histplot(x)\n",
    "\n",
    "# Show the plot.\n",
    "plt.show()"
   ]
  },
  {
   "cell_type": "code",
   "execution_count": 16,
   "metadata": {},
   "outputs": [
    {
     "data": {
      "text/plain": [
       "array([0, 5, 8, 7, 3, 4, 2, 9, 1], dtype=int64)"
      ]
     },
     "execution_count": 16,
     "metadata": {},
     "output_type": "execute_result"
    }
   ],
   "source": [
    "# Generate 9 UNIQUE random numbers from np.arange(10): \n",
    "x = rng.choice(10, 9, replace=False)\n",
    "\n",
    "# Display the array.\n",
    "x"
   ]
  },
  {
   "cell_type": "code",
   "execution_count": 17,
   "metadata": {},
   "outputs": [
    {
     "data": {
      "image/png": "[encoded data removed]",
      "text/plain": [
       "<Figure size 720x432 with 1 Axes>"
      ]
     },
     "metadata": {},
     "output_type": "display_data"
    }
   ],
   "source": [
    "# Set the title for the future plot.\n",
    "plt.title(\"Choice Method: Uniform distribution of unique numbers\")\n",
    "\n",
    "# Build the plot.\n",
    "sns.histplot(x)\n",
    "\n",
    "# Show the plot.\n",
    "plt.show()"
   ]
  },
  {
   "cell_type": "markdown",
   "metadata": {},
   "source": [
    " 2. Non-uniform distribution. \n",
    " \n",
    " Requires provision of probability $p$ of each entry in a given array to appear in the output. \n",
    " \n",
    " Note that $p$:\n",
    "    - has to be of the same size as a given array;\n",
    "    - sum of $p$ elements has to be 1;\n",
    "    - non-zero entries in $p$ has to be same as size."
   ]
  },
  {
   "cell_type": "code",
   "execution_count": 18,
   "metadata": {},
   "outputs": [
    {
     "data": {
      "text/plain": [
       "array([6, 0, 1, 1, 3, 2, 5, 1, 5], dtype=int64)"
      ]
     },
     "execution_count": 18,
     "metadata": {},
     "output_type": "execute_result"
    }
   ],
   "source": [
    "# Generate 9 evenly spaced values between 0 and 9 (inclusive) (np.arange(10)) with provided p:\n",
    "x = rng.choice(10, 9, p=[0.1, 0.1, 0.1, 0.1, 0.1, 0.2, 0.1, 0.1, 0, 0.1])\n",
    "\n",
    "# Display the array.\n",
    "x"
   ]
  },
  {
   "cell_type": "code",
   "execution_count": 19,
   "metadata": {},
   "outputs": [
    {
     "data": {
      "image/png": "[encoded data removed]",
      "text/plain": [
       "<Figure size 720x432 with 1 Axes>"
      ]
     },
     "metadata": {},
     "output_type": "display_data"
    }
   ],
   "source": [
    "# Set the title for the future plot.\n",
    "plt.title(\"Choice Method: Non-Uniform distribution\")\n",
    "\n",
    "# Build the plot.\n",
    "sns.histplot(x)\n",
    "\n",
    "# Show the plot.\n",
    "plt.show()"
   ]
  },
  {
   "cell_type": "code",
   "execution_count": 20,
   "metadata": {},
   "outputs": [
    {
     "data": {
      "text/plain": [
       "array([1, 6, 7, 5, 2, 4, 0, 3, 9], dtype=int64)"
      ]
     },
     "execution_count": 20,
     "metadata": {},
     "output_type": "execute_result"
    }
   ],
   "source": [
    "# Generate 9 evenly spaced values between 0 and 9 (inclusive) (np.arange(10)) with provided p:\n",
    "x = rng.choice(10, 9, replace=False, p=[0.1, 0.1, 0.1, 0.1, 0.1, 0.2, 0.1, 0.1, 0, 0.1])\n",
    "\n",
    "# Display the array.\n",
    "x"
   ]
  },
  {
   "cell_type": "code",
   "execution_count": 21,
   "metadata": {},
   "outputs": [
    {
     "data": {
      "image/png": "[encoded data removed]",
      "text/plain": [
       "<Figure size 720x432 with 1 Axes>"
      ]
     },
     "metadata": {},
     "output_type": "display_data"
    }
   ],
   "source": [
    "# Set the title for the future plot.\n",
    "plt.title(\"Choice Method: Non-Uniform distribution of unique numbers\")\n",
    "\n",
    "# Build the plot.\n",
    "sns.histplot(x)\n",
    "\n",
    "# Show the plot.\n",
    "plt.show()"
   ]
  },
  {
   "cell_type": "markdown",
   "metadata": {},
   "source": [
    "- _BYTES_ <a name=\"bytes\"></a>\n",
    "\n",
    "This NumPy random method returns random bytes."
   ]
  },
  {
   "cell_type": "code",
   "execution_count": 22,
   "metadata": {},
   "outputs": [
    {
     "data": {
      "text/plain": [
       "b'h\\xe3\\xba)\\xce\\xa9\\x0b5-\\xf6|\\xfc\\xd0@\\x9c\\xee=\\xe1\\xe9\"\\xf0\\xf2\\x1dz\\x8e\\xc0\\xc5[C\\x94\\x0fT\\xb1o\\xbb\\xf7\\x92\\xac\\xe2\\xc5#\\xc0\\x85\\xc5\\x07\\t\\xb2}\\xbd\\xec+]\\xe5\\xbb\\x92\\xda\\xf1\\xc6\\x88\\x07\\xb48f\\xf5\\xa3%\\xb5\\xe9@3\\xd7\\xd6Z\\xc3\\xf6\\xca\\x02\\xd3\\xdd\\x95\\xc9\\x0bY=\\x82|@\\xa4\\xbaR\\x08hs\\xdd2\\x9cp\\n\\xb6\\xf6'"
      ]
     },
     "execution_count": 22,
     "metadata": {},
     "output_type": "execute_result"
    }
   ],
   "source": [
    "# Generate 100 random bytes:\n",
    "x = rng.bytes(100)\n",
    "\n",
    "# Display the array.\n",
    "x"
   ]
  },
  {
   "cell_type": "markdown",
   "metadata": {},
   "source": [
    "***\n",
    "<br>\n",
    "\n",
    "#### Permutations <a name=\"permutations\"></a>\n",
    "\n",
    "\n",
    "<img align=\"left\" width=\"200\" height=\"300\" src=\"https://upload.wikimedia.org/wikipedia/commons/3/39/Combination_unlocked.png\">"
   ]
  },
  {
   "cell_type": "markdown",
   "metadata": {},
   "source": [
    "Generally speaking, in NumPy, both permutation and shuffle methods randomly shuffle elements in an array, which results in the same output when plotting (see below). However, there are some differences in these methods. \n",
    "\n",
    "The Shuffle method changes arrangement of elements inplace, i.e. in the array itself. On the other hand, the Permutation method produces a shuffled range if integer is passed or a shuffled _copy_ of the array if an array is passed (meaning that the original array is left unchanged).$^4$\n",
    "\n",
    "\n",
    "> 4. [W3Schools: Random Permutations](https://www.w3schools.com/python/numpy_random_permutation.asp)\n"
   ]
  },
  {
   "cell_type": "markdown",
   "metadata": {},
   "source": [
    "_SHUFFLE_ vs _PERMUTATION_ \n",
    "\n",
    "1. One-Dimensional Array"
   ]
  },
  {
   "cell_type": "code",
   "execution_count": 23,
   "metadata": {},
   "outputs": [
    {
     "data": {
      "text/plain": [
       "array([166,  80,  55, 142,  88, 103,  59,  39,  90, 170,  65,   7, 150,\n",
       "       128,  43,   2, 176, 157,  44,  45,  12, 113, 180,  68, 198, 184,\n",
       "       123, 114,  37,  36,  47,  18, 158, 152,  48,  58,  97,  56, 186,\n",
       "       101,  60,  24,  53,  62,   3,  87,  73, 146,  84,  94, 199,   1,\n",
       "       164, 177, 155,  61,  77,   4, 107,  81,  79,  27,  26,  71,   9,\n",
       "        11, 182, 141,  78, 167,  89, 190,  17, 121,  66, 168, 115, 147,\n",
       "        35, 189, 118,  32, 124, 181, 160,  98, 144, 135, 187,  40, 151,\n",
       "         5, 197,  38, 137, 156, 127, 133,  13,  82,  93,  29,  14, 132,\n",
       "        10, 126,  16,  95, 193, 117,  83, 175, 161,  41, 105, 143,  70,\n",
       "        30,   6,  69,  86, 163, 138, 195, 125,  52,  46, 178, 196, 188,\n",
       "        34, 140, 154, 194, 169, 129, 122,   8,  21, 165,  54,  57, 171,\n",
       "        74,  76, 136, 179,  49, 108, 134, 104, 153, 192,  67, 130, 173,\n",
       "       120, 139,  19,  85, 145,  23,  63,  99, 109, 162,  42, 174, 149,\n",
       "        28,  15,  96, 112,  33, 116,  75, 183,  22, 185, 100,   0,  20,\n",
       "        31, 148,  72, 106,  91, 191,  25, 172, 102, 111,  50, 159,  64,\n",
       "        51,  92, 131, 110, 119])"
      ]
     },
     "execution_count": 23,
     "metadata": {},
     "output_type": "execute_result"
    }
   ],
   "source": [
    "# Generate an array between 0 and 199, inclusive:\n",
    "x = np.arange(200)\n",
    "\n",
    "# Shuffle its content.\n",
    "rng.shuffle(x)\n",
    "\n",
    "# Display the array.\n",
    "x"
   ]
  },
  {
   "cell_type": "code",
   "execution_count": 24,
   "metadata": {},
   "outputs": [
    {
     "data": {
      "text/plain": [
       "array([182, 153,  36, 116,  18,  10,  64, 135, 178,  40, 110, 122,  77,\n",
       "       155, 140, 134, 171,  32, 179, 189, 100,  78,  88,  21,   1,  55,\n",
       "        81, 168,  92, 139, 160,  72, 108, 113, 152, 127, 188, 149, 163,\n",
       "        14, 129, 161,  80, 174, 119, 145, 159,  69, 180,  46, 137, 154,\n",
       "         9,  33,  71, 109, 162,  75, 133, 117,  44,  87, 106, 191,  11,\n",
       "       148,  43,  85, 173,  95, 151,  20,  96,  67,  48,  74, 199,  59,\n",
       "       146, 118,  27,   8, 124,  90,  51, 156, 165, 176, 132, 105,  50,\n",
       "        60, 185, 197, 107, 175,  25, 141, 128,  76,   0, 170,  29, 147,\n",
       "        61,  99, 130, 136,  66, 167, 125,  98,  19,  68,  53,  42,  30,\n",
       "       142,   2, 198, 172, 112,  89,  34,  86,  54,  23, 183, 114, 115,\n",
       "        63,  70,  93, 144, 186,  31,  57, 194,  39,  97, 103, 193,   6,\n",
       "        58, 187,  41,  28, 158, 181,  13,  49, 150,  26,  15, 101, 157,\n",
       "        47, 121,  38, 166, 131, 123,  91,  84,  37,  24, 111, 164, 195,\n",
       "        79, 169,  73,   5, 184,  22,   7, 104,  17,  56,  94, 126, 102,\n",
       "       192, 138,   4,  65,  62,  45, 143,   3,  83,  16,  35,  12,  82,\n",
       "       196, 177, 190,  52, 120])"
      ]
     },
     "execution_count": 24,
     "metadata": {},
     "output_type": "execute_result"
    }
   ],
   "source": [
    "# Permute an array of 200 numbers between 0 and 199, inclusive:\n",
    "y = rng.permutation(200)\n",
    "\n",
    "# Display the array.\n",
    "y"
   ]
  },
  {
   "cell_type": "code",
   "execution_count": 25,
   "metadata": {},
   "outputs": [
    {
     "data": {
      "image/png": "[encoded data removed]",
      "text/plain": [
       "<Figure size 720x432 with 2 Axes>"
      ]
     },
     "metadata": {},
     "output_type": "display_data"
    }
   ],
   "source": [
    "# Change colour scheme.\n",
    "sns.set_palette(\"husl\")\n",
    "\n",
    "# Build the Shuffle plot one the left.\n",
    "plt.subplot(1, 2, 1)\n",
    "sns.histplot(x)\n",
    "\n",
    "# Set the title for the Shuffle plot.\n",
    "plt.title(\"Shuffle: 1-D array\")\n",
    "\n",
    "# Build the Permutation plot one the right.\n",
    "plt.subplot(1, 2, 2)\n",
    "sns.histplot(y)\n",
    "\n",
    "# Set the title for the Permutation plot.\n",
    "plt.title(\"Permutation: 1-D array\")\n",
    "\n",
    "# Show the plot.\n",
    "plt.show()"
   ]
  },
  {
   "cell_type": "markdown",
   "metadata": {},
   "source": [
    "2. Two-Dimensional Array"
   ]
  },
  {
   "cell_type": "code",
   "execution_count": 26,
   "metadata": {
    "scrolled": false
   },
   "outputs": [
    {
     "data": {
      "text/plain": [
       "array([[ 65,  16,  92,  37,  48,  66,  96,  29,  17,  52,  21,  19,  36,\n",
       "         62,  75,  47,  40,  45,   7,  95,  84,  23,  72,  15,   8,  87,\n",
       "         38,  12,   2,  76,  11,  71,  26,  83,  50,  89,  74,  82,  49,\n",
       "         64,  20,  79,  51,  33,  86,  91,  42,   4,  58,  57,  68,   1,\n",
       "         60,  22,  18,  81,   3,  94,  69,  88,   6,  44,  63,   9,  61,\n",
       "         59,  53,  25,  97,  10,  32,   5,  99,   0,  55,  80,  93,  73,\n",
       "         98,  77,  43,  85,  27,  90,  35,  34,  30,  31,  13,  41,  67,\n",
       "         24,  56,  28,  46,  70,  39,  78,  54,  14],\n",
       "       [165, 116, 192, 137, 148, 166, 196, 129, 117, 152, 121, 119, 136,\n",
       "        162, 175, 147, 140, 145, 107, 195, 184, 123, 172, 115, 108, 187,\n",
       "        138, 112, 102, 176, 111, 171, 126, 183, 150, 189, 174, 182, 149,\n",
       "        164, 120, 179, 151, 133, 186, 191, 142, 104, 158, 157, 168, 101,\n",
       "        160, 122, 118, 181, 103, 194, 169, 188, 106, 144, 163, 109, 161,\n",
       "        159, 153, 125, 197, 110, 132, 105, 199, 100, 155, 180, 193, 173,\n",
       "        198, 177, 143, 185, 127, 190, 135, 134, 130, 131, 113, 141, 167,\n",
       "        124, 156, 128, 146, 170, 139, 178, 154, 114]])"
      ]
     },
     "execution_count": 26,
     "metadata": {},
     "output_type": "execute_result"
    }
   ],
   "source": [
    "# Generate a 2-D array with 2 rows of 100 numbers between 0 and 199, inclusive:\n",
    "x = np.arange(200).reshape((2, 100))\n",
    "\n",
    "# Shuffle its content along the axis 1.\n",
    "rng.shuffle(x, axis=1)\n",
    "\n",
    "# Display the array.\n",
    "x"
   ]
  },
  {
   "cell_type": "code",
   "execution_count": 27,
   "metadata": {},
   "outputs": [
    {
     "data": {
      "text/plain": [
       "array([[ 98,   5,  19,   8,  80,  12,  59,  73,  25,  67,  41,  29,  15,\n",
       "         99,  43,   1,  11,  18,  42,  56,  91,  47,  32,  65,  61,  87,\n",
       "          9,  82,  60,  24,  26,  72,  13,  40,  48,  51,  33,  63,  45,\n",
       "         28,  36,  35,  77,  52,  23,  20,  81,  57,  16,  88,  27,  55,\n",
       "         49,  93,  71,   2,  38,  92,  96,  69,  79,  94,  78,  14,  37,\n",
       "         17,  70,  46,   0,  62,  53,  50,  58,  68,  97,  74,  21,   6,\n",
       "         44,  84,  86,  95,  34,  10,  31,  90,  76,  39,  89,  83,  64,\n",
       "          7,  85,  66,   3,  54,  22,   4,  75,  30],\n",
       "       [198, 105, 119, 108, 180, 112, 159, 173, 125, 167, 141, 129, 115,\n",
       "        199, 143, 101, 111, 118, 142, 156, 191, 147, 132, 165, 161, 187,\n",
       "        109, 182, 160, 124, 126, 172, 113, 140, 148, 151, 133, 163, 145,\n",
       "        128, 136, 135, 177, 152, 123, 120, 181, 157, 116, 188, 127, 155,\n",
       "        149, 193, 171, 102, 138, 192, 196, 169, 179, 194, 178, 114, 137,\n",
       "        117, 170, 146, 100, 162, 153, 150, 158, 168, 197, 174, 121, 106,\n",
       "        144, 184, 186, 195, 134, 110, 131, 190, 176, 139, 189, 183, 164,\n",
       "        107, 185, 166, 103, 154, 122, 104, 175, 130]])"
      ]
     },
     "execution_count": 27,
     "metadata": {},
     "output_type": "execute_result"
    }
   ],
   "source": [
    "# Generate a 2-D array with 2 rows of 200 numbers between 0 and 199, inclusive:\n",
    "a = np.arange(200).reshape((2, 100))\n",
    "\n",
    "# Copy the array and shuffle its content along the axis 1.\n",
    "y = rng.permutation(a, axis=1)\n",
    "\n",
    "# Display the array.\n",
    "y"
   ]
  },
  {
   "cell_type": "code",
   "execution_count": 28,
   "metadata": {},
   "outputs": [
    {
     "data": {
      "image/png": "[encoded data removed]",
      "text/plain": [
       "<Figure size 720x432 with 2 Axes>"
      ]
     },
     "metadata": {},
     "output_type": "display_data"
    }
   ],
   "source": [
    "# Build the Shuffle plot one the left.\n",
    "plt.subplot(1, 2, 1)\n",
    "for i in range(len(x)):\n",
    "    # Build the plot.\n",
    "    sns.histplot(x[i])\n",
    "\n",
    "# Set the title for the Shuffle plot.\n",
    "plt.title(\"Shuffle: 2-D array shuffled along the axis\")\n",
    "\n",
    "# Build the Permutation plot the right.\n",
    "plt.subplot(1, 2, 2)\n",
    "for i in range(len(y)):\n",
    "    # Build the plot.\n",
    "    sns.histplot(y[i])\n",
    "\n",
    "# Set the title for the Permutation plot.\n",
    "plt.title(\"Permutation: 2-D array shuffled along the axis\")\n",
    "\n",
    "# Show the plot.    \n",
    "plt.show()"
   ]
  },
  {
   "cell_type": "markdown",
   "metadata": {},
   "source": [
    "***\n",
    "<br>\n",
    "\n",
    "### “DISTRIBUTIONS” functions <a name=\"distributions\"></a>\n",
    "\n",
    "<img align=\"left\" width=\"300\" height=\"300\" src=\"https://cdn1.iconfinder.com/data/icons/data-science-flat-1/64/probability-distribution-normal-curve-statistics-data-512.png\">"
   ]
  },
  {
   "cell_type": "markdown",
   "metadata": {},
   "source": [
    "Probability distribution is a rule or a set of rules that outlines all the possible values that a random variable is likely to take within a given range. The precision of where values will be plotted on the probability distribution within this range depends on many factors, including the distribution's mean, standard deviation etc. [1]\n",
    "\n",
    "Statistically, probability distributions can be divided into two groups: discrete and continuous. This division depends on whether the data on which probability is calculated consists of discrete (with a range of countable values) or continuous (with a range of infinite (uncountable) values) variables. [2] [3]\n",
    "\n",
    "> 1. [Investopedia: Probability Distribution](https://www.investopedia.com/terms/p/probabilitydistribution.asp)\n",
    "2. [Statistics How To: Continuous Probability Distribution](https://www.statisticshowto.com/continuous-probability-distribution/)\n",
    "3. [Statistics How To: Discrete Probability Distribution](https://www.statisticshowto.com/discrete-probability-distribution/)\n"
   ]
  },
  {
   "cell_type": "markdown",
   "metadata": {},
   "source": [
    "<br>\n",
    "\n",
    "#### Discrete Probability Distribution <a name=\"discrete\"></a>\n",
    "\n",
    "<br>\n",
    "\n",
    "##### Binomial  <a name=\"binomial\"></a>\n",
    "\n",
    "A binomial distribution may have two possible outcomes: \"success\" or \"failure\" (hence \"binomial\").\n",
    "\n",
    "There are three properties that binomial distributions must have:\n",
    "\n",
    "1. The number of trials is fixed.\n",
    "2. Each trial is independent. \n",
    "3. The success probability is the same from one trial to another.  [1]\n",
    "\n",
    "There are many real-life instances of binomial distributions. For example, we can calculate a number of \"successes\" of a new medicine tested on a set of patients where the outcome for a given patient is either a success or a failure. [2] \n",
    "\n",
    "> 1. [Statistics How To: Binomial Distribution](https://www.statisticshowto.com/probability-and-statistics/binomial-theorem/binomial-distribution-formula/)\n",
    "2. [Boston University School of Public Health: The Binomial Distribution](https://sphweb.bumc.bu.edu/otlt/mph-modules/bs/bs704_probability/bs704_probability7.html#:~:text=The%20binomial%20distribution%20model%20allows,a%20success%20or%20a%20failure.)\n",
    "\n",
    "_Example: Flip a coin_\n",
    "\n",
    "<img align=\"left\" width=\"140\" height=\"250\" src=\"https://juliakovach.files.wordpress.com/2012/07/coin-toss.png\">"
   ]
  },
  {
   "cell_type": "code",
   "execution_count": 29,
   "metadata": {
    "scrolled": true
   },
   "outputs": [
    {
     "data": {
      "text/plain": [
       "array([11,  8, 14, 12,  5, 11,  8, 11, 12, 10,  5,  7,  9,  8, 12,  8, 11,\n",
       "       12,  8,  8, 12, 10, 10, 10,  9,  9, 12,  6,  8,  6,  9,  8, 11, 11,\n",
       "       13,  6,  8,  6,  7, 11, 10, 15,  9, 11, 12, 10,  6, 12,  5, 10,  8,\n",
       "        9, 10, 12,  8,  9, 10,  9,  7,  9,  8, 13,  7, 13,  7,  9, 11, 12,\n",
       "        7, 10,  6, 11, 13,  6,  8, 11, 11, 13,  8,  7, 14, 15, 12, 10, 11,\n",
       "       13,  9, 10,  9, 10,  8,  8, 10, 14,  9,  8,  8,  9,  8,  6,  8,  7,\n",
       "       12,  9, 11,  9,  6, 12, 11, 11, 11,  8, 11, 10,  9, 11,  8, 13,  7,\n",
       "       11, 13,  8, 12, 13, 10, 10,  9,  9,  8, 11, 14, 10, 11, 10, 15,  8,\n",
       "       12, 11,  8,  9, 11, 10,  9, 10,  4, 10, 10, 10, 10,  9, 12,  8,  8,\n",
       "        9, 12,  9, 11,  9, 10, 12,  9,  9, 13,  7, 14,  7, 11,  9, 12,  9,\n",
       "       12, 11,  7, 10, 15, 10,  7,  8, 11, 10,  7,  5,  5, 12, 10, 10, 13,\n",
       "       10,  9, 11,  8,  7,  6, 14,  9,  9,  9, 10,  8,  7, 10, 11, 11, 11,\n",
       "       11, 13, 13,  8, 13,  7,  8, 11, 14,  9, 13,  9,  9, 11, 10,  9,  9,\n",
       "       10,  9,  9, 10, 13, 12, 10,  6,  9,  9,  8, 14,  9,  9,  9,  8, 11,\n",
       "        8, 12,  6,  9, 11, 10, 10, 11,  8,  9,  7, 12,  9,  9,  9, 12,  7,\n",
       "       14, 11,  6, 15, 10, 10,  8, 11,  8,  6,  7,  8, 11, 13, 12, 11,  9,\n",
       "        7,  9, 10, 13, 12,  9, 11, 13, 12,  7, 11, 11,  9,  9, 12, 11,  8,\n",
       "       11,  9,  9,  5, 14, 12, 11,  7, 14, 16,  9, 12,  8,  8, 10, 14, 11,\n",
       "       11,  8, 11,  9, 11,  9, 10, 11, 13, 11, 11,  7,  6, 11, 11, 12,  8,\n",
       "       11, 12,  5, 10, 10,  9,  8, 10, 11, 11, 11, 12, 11, 14, 13,  7,  8,\n",
       "        9,  5,  8,  7, 11, 10, 13,  8,  9, 14, 10,  9, 12,  8, 12,  7,  6,\n",
       "        6,  9, 13, 11, 11, 15, 12, 10,  9,  9,  7, 11, 13, 10, 11,  5,  9,\n",
       "       13,  8, 11,  9, 12, 12,  8,  8, 14, 10, 12,  8,  4,  7, 10, 10,  9,\n",
       "        9, 11, 11, 12, 10,  9,  7, 13, 10, 10,  9, 10,  8, 11, 11, 12,  9,\n",
       "        9,  9, 12, 15, 10,  9, 15,  7,  8, 10,  8,  9,  7, 11, 10,  8, 10,\n",
       "       11, 13, 12,  7, 11, 14,  5,  8,  9, 10,  8,  9, 11, 13,  8, 11, 10,\n",
       "       11,  9, 11, 11,  7, 12,  6, 10,  8, 12,  8, 12, 12,  7, 13,  8, 11,\n",
       "       13,  7, 10, 14,  8, 10,  8,  7, 12, 13,  9, 12, 13, 11,  6, 11, 11,\n",
       "       10, 10,  9, 11,  6, 12,  7,  6, 11, 12, 10, 12, 12, 12,  7, 10,  9,\n",
       "        9, 10,  7, 13,  9, 13,  6,  8,  7, 10,  8,  9, 12,  9,  8,  7, 12,\n",
       "       13, 10, 10, 14, 10,  8, 13, 11,  7, 10, 10,  8, 13,  5, 11, 12,  7,\n",
       "       10,  8, 12, 15,  8,  8,  7, 10, 14, 12, 11, 11,  9,  9,  9, 13,  8,\n",
       "        9, 10, 10,  9,  8,  9, 17,  7,  6, 10, 12,  9, 11, 13, 13, 10, 12,\n",
       "        9,  9, 12, 11, 15, 11, 13, 13, 11,  7, 12, 10, 10, 11, 14,  6, 13,\n",
       "       11,  9, 11, 10,  7,  6, 12,  3,  9,  5, 12,  6,  8,  8, 10,  8,  9,\n",
       "        9, 10, 10,  8, 10,  8, 10,  6,  7,  9,  9, 12, 13,  4, 10, 11,  5,\n",
       "       11, 14,  6, 12, 11,  8,  9, 14, 13,  7,  8,  9,  9, 11, 10,  6,  9,\n",
       "       14, 13, 11,  9,  9, 10,  7,  8,  6, 10, 12, 11,  9, 13, 11,  9, 11,\n",
       "       13,  8, 10,  8, 14,  8, 11, 13, 11, 11, 11, 14, 13, 11, 13,  8, 10,\n",
       "        9,  9, 10, 13,  9, 13, 15, 12,  5,  8, 13, 13,  8,  6, 10,  6,  6,\n",
       "        7, 13, 12, 14,  8, 10,  9, 12,  9,  9, 10, 11,  8, 10, 12, 16,  9,\n",
       "        8, 11, 11, 12, 10,  8, 10,  8,  9,  9,  8,  9, 10, 13, 10, 11, 11,\n",
       "       11,  8, 12,  4, 11, 10, 11,  7, 13, 11, 10, 10,  8,  7, 15, 17,  8,\n",
       "        7,  8, 11, 15, 11, 11,  9,  8, 12, 11, 11, 12, 13, 11, 14, 10,  9,\n",
       "       10, 13,  7, 14, 10, 10, 11, 11, 11,  9, 10, 10,  9,  7, 11, 10, 12,\n",
       "       11,  7,  8, 10, 10, 11,  8, 10,  8,  9, 11, 10, 12,  8,  8, 12,  8,\n",
       "       12, 11, 10, 12, 14,  9,  8,  9, 10, 10,  6, 11,  9,  9,  8,  9,  8,\n",
       "       10, 12,  9, 12, 13, 11, 13, 12, 10, 10,  6, 13, 11, 11, 11, 11, 10,\n",
       "        9,  7,  7,  7, 11, 11, 13,  7,  5, 14, 13, 12,  8, 11, 12, 13, 11,\n",
       "       11, 13,  8,  9,  8, 10, 11,  8,  9,  8, 10,  9, 11,  7, 12,  7,  8,\n",
       "       11, 12,  9,  8, 12, 13, 12, 10,  9,  8, 12,  8,  9, 13, 13,  9,  7,\n",
       "        6, 11, 10,  9, 11,  7,  9,  7,  6,  9,  9, 10,  9,  9,  4, 12, 10,\n",
       "       10,  7, 11,  9, 12, 10, 13, 14, 12, 10, 12, 10,  9, 10,  8,  6, 12,\n",
       "        9, 11, 12, 10, 11,  3, 12, 11,  9, 15, 13, 10, 13, 11,  8,  7,  9,\n",
       "       10, 11,  9,  8, 13,  8, 13,  8, 12, 10, 10, 11, 10,  8,  9,  8,  6,\n",
       "       11, 13, 10, 14,  7,  7,  9, 15, 11, 14,  8, 13,  6, 12, 11, 11, 10,\n",
       "       11,  7,  9,  9,  7, 10,  9, 13, 11, 11, 10, 10, 12, 10, 11,  8, 12,\n",
       "       11, 12,  9,  9, 15, 10,  8, 11,  6,  9,  9, 10, 14, 11, 12, 11, 13,\n",
       "       12, 11,  4, 12, 12, 11,  8, 10,  9, 11, 11,  9,  6, 10],\n",
       "      dtype=int64)"
      ]
     },
     "execution_count": 29,
     "metadata": {},
     "output_type": "execute_result"
    }
   ],
   "source": [
    "# Flip a coin 20 times with a probability 0.5 of each trial.\n",
    "n, p = 20, 0.5\n",
    "\n",
    "# Test done 1000 times.\n",
    "x = rng.binomial(n, p, 1000)\n",
    "\n",
    "# Display the number of heads.\n",
    "x"
   ]
  },
  {
   "cell_type": "code",
   "execution_count": 30,
   "metadata": {},
   "outputs": [
    {
     "data": {
      "image/png": "[encoded data removed]",
      "text/plain": [
       "<Figure size 720x432 with 1 Axes>"
      ]
     },
     "metadata": {},
     "output_type": "display_data"
    }
   ],
   "source": [
    "# Change colour scheme.\n",
    "sns.set_palette(\"PuOr\")\n",
    "\n",
    "# Set the title and x label for the future plot.\n",
    "plt.title(f\"Binominal Distribution: Flip a coin {n} times\")\n",
    "plt.xlabel(\"Number of Heads\")\n",
    "\n",
    "# Build the plot.\n",
    "sns.histplot(x, stat=\"probability\")\n",
    "\n",
    "# Show the plot.\n",
    "plt.show()"
   ]
  },
  {
   "cell_type": "markdown",
   "metadata": {},
   "source": [
    "<br>\n",
    "\n",
    "_Example: Test of an antihistamine drug_\n",
    "\n",
    "<img align=\"left\" width=\"220\" height=\"80\" src=\"https://secure.webtoolhub.com/static/resources/icons/set33/254c1686.png\">"
   ]
  },
  {
   "cell_type": "markdown",
   "metadata": {},
   "source": [
    "If the medication is given to 10 patients suffering from allergies, what is the probability of its effectiveness to be exactly exactly 7 when 80% of adults report symptomatic relief with this medication?"
   ]
  },
  {
   "cell_type": "code",
   "execution_count": 31,
   "metadata": {},
   "outputs": [
    {
     "data": {
      "text/plain": [
       "array([ 8,  8,  8, ..., 10,  9,  7], dtype=int64)"
      ]
     },
     "execution_count": 31,
     "metadata": {},
     "output_type": "execute_result"
    }
   ],
   "source": [
    "# 10 new patients with allergies.\n",
    "n = 10\n",
    "\n",
    "# The probability of success for each person is 0.8.\n",
    "p = 0.8\n",
    "\n",
    "# Calculate the success rate.\n",
    "x = rng.binomial(n, p, 20000)\n",
    "\n",
    "# Display it\n",
    "x"
   ]
  },
  {
   "cell_type": "code",
   "execution_count": 32,
   "metadata": {},
   "outputs": [
    {
     "data": {
      "image/png": "[encoded data removed]",
      "text/plain": [
       "<Figure size 720x432 with 1 Axes>"
      ]
     },
     "metadata": {},
     "output_type": "display_data"
    }
   ],
   "source": [
    "# Set the title and x label for the future plot.\n",
    "plt.title(\"Binominal Distribution: Test of an antihistamine drug\")\n",
    "plt.xlabel(\"Patients\")\n",
    "\n",
    "# Build the plot.\n",
    "sns.histplot(x, stat=\"probability\")\n",
    "\n",
    "# Show the plot.\n",
    "plt.show()"
   ]
  },
  {
   "cell_type": "code",
   "execution_count": 33,
   "metadata": {},
   "outputs": [
    {
     "data": {
      "text/plain": [
       "0.202"
      ]
     },
     "execution_count": 33,
     "metadata": {},
     "output_type": "execute_result"
    }
   ],
   "source": [
    "# Effectiveness of the grug is 7.\n",
    "s = 7\n",
    "\n",
    "# Calculate the probability when tested 20000 times.\n",
    "x = sum(rng.binomial(n, p, 20000) == s)/20000\n",
    "\n",
    "# Display the probability.\n",
    "x"
   ]
  },
  {
   "cell_type": "markdown",
   "metadata": {},
   "source": [
    "<br>\n",
    "\n",
    "##### Multinomial  <a name=\"multinomial\"></a>\n",
    "\n",
    "A multinomial distribution is generalization of binominal distribution with more than two outcomes (hence multinominal). [1]\n",
    "The distribution follows the same criteria as the binominal.\n",
    "\n",
    "> 1. [Statistics How To: Multinomial Distribution](https://www.statisticshowto.com/multinomial-distribution/)\n",
    "\n",
    "_Example: Throw a dice_\n",
    "\n",
    "<img align=\"left\" width=\"230\" height=\"80\" src=\"https://upload.wikimedia.org/wikipedia/commons/thumb/3/36/Two_red_dice_01.svg/671px-Two_red_dice_01.svg.png\">"
   ]
  },
  {
   "cell_type": "code",
   "execution_count": 34,
   "metadata": {},
   "outputs": [
    {
     "data": {
      "text/plain": [
       "array([[ 6,  9, 15,  9, 13,  8]], dtype=int64)"
      ]
     },
     "execution_count": 34,
     "metadata": {},
     "output_type": "execute_result"
    }
   ],
   "source": [
    "# Dice with 6 sides.\n",
    "d = [1/6.]\n",
    "\n",
    "# Throw it 60 times.\n",
    "n = 60\n",
    "\n",
    "# Compute a probability.\n",
    "x = rng.multinomial(n, d*6, size=1)\n",
    "\n",
    "# Display it\n",
    "x"
   ]
  },
  {
   "cell_type": "code",
   "execution_count": 35,
   "metadata": {},
   "outputs": [
    {
     "data": {
      "image/png": "[encoded data removed]",
      "text/plain": [
       "<Figure size 720x432 with 1 Axes>"
      ]
     },
     "metadata": {},
     "output_type": "display_data"
    }
   ],
   "source": [
    "# Change colour scheme.\n",
    "sns.set_palette(\"pastel\")\n",
    "\n",
    "# Set the title and x label for the future plot.\n",
    "plt.title(f\"Multinominal Distribution: Throw a dice {n} times\")\n",
    "plt.xlabel(\"Number of times the dice lands on each side\")\n",
    "\n",
    "# Build the plot.\n",
    "plt.hist(x, histtype=\"barstacked\")\n",
    "\n",
    "# New label to match the dice.\n",
    "labels = ['1','2','3','4','5','6']\n",
    "plt.legend(labels, title=\"Dice sides\")\n",
    "\n",
    "# Show the plot.\n",
    "plt.show()"
   ]
  },
  {
   "cell_type": "code",
   "execution_count": 36,
   "metadata": {},
   "outputs": [
    {
     "data": {
      "text/plain": [
       "array([[11,  4, 15, 11, 11,  8],\n",
       "       [13,  8, 10, 15,  4, 10]], dtype=int64)"
      ]
     },
     "execution_count": 36,
     "metadata": {},
     "output_type": "execute_result"
    }
   ],
   "source": [
    "# Throw it 60 times twice\n",
    "x = rng.multinomial(n, d*6, size=2)\n",
    "\n",
    "# Display the probability\n",
    "x"
   ]
  },
  {
   "cell_type": "code",
   "execution_count": 37,
   "metadata": {},
   "outputs": [
    {
     "data": {
      "image/png": "[encoded data removed]",
      "text/plain": [
       "<Figure size 720x432 with 1 Axes>"
      ]
     },
     "metadata": {},
     "output_type": "display_data"
    }
   ],
   "source": [
    "# Set the title and x label for the future plot.\n",
    "plt.title(f\"Multinominal Distribution: Throw a dice {n} times twice\")\n",
    "plt.xlabel(\"Number of times the dice lands on each side\")\n",
    "\n",
    "# Build the plot.\n",
    "plt.hist(x, histtype=\"barstacked\")\n",
    "\n",
    "# New label to match the dice.\n",
    "labels = ['1','2','3','4','5','6']\n",
    "plt.legend(labels, title=\"Dice sides\")\n",
    "\n",
    "# Show the plot.\n",
    "plt.show()"
   ]
  },
  {
   "cell_type": "code",
   "execution_count": 38,
   "metadata": {
    "scrolled": true
   },
   "outputs": [
    {
     "data": {
      "text/plain": [
       "array([10, 11, 15, 19, 13, 32], dtype=int64)"
      ]
     },
     "execution_count": 38,
     "metadata": {},
     "output_type": "execute_result"
    }
   ],
   "source": [
    "# Roll a loaded die (2/7 to land on 6).\n",
    "d = [1/7.]*5 + [2/7.]\n",
    "\n",
    "# Throw it 100 times.\n",
    "n = 100\n",
    "\n",
    "# Project the probability of it landing on 6.\n",
    "x = rng.multinomial(n, d)\n",
    "\n",
    "# Display it\n",
    "x"
   ]
  },
  {
   "cell_type": "code",
   "execution_count": 39,
   "metadata": {},
   "outputs": [
    {
     "data": {
      "image/png": "[encoded data removed]",
      "text/plain": [
       "<Figure size 720x432 with 1 Axes>"
      ]
     },
     "metadata": {},
     "output_type": "display_data"
    }
   ],
   "source": [
    "# Set the title and x label for the future plot.\n",
    "plt.title(f\"Multinominal Distribution: Throw a loaded die {n} times twice\")\n",
    "plt.xlabel(\"Number of times the loaded die lands on 6\")\n",
    "\n",
    "# Build the plot.\n",
    "sns.histplot(x, legend=False, stat=\"probability\")\n",
    "\n",
    "# Show the plot.\n",
    "plt.show()"
   ]
  },
  {
   "cell_type": "markdown",
   "metadata": {},
   "source": [
    "<br>\n",
    "\n",
    "##### Geometric   <a name=\"geometric\"></a>\n",
    "A geometric distribution represents one or more Bernoulli (binominal) trials with all failures excluding the last one, which results in success. Assumptions for the geometric distribution are the same as for binominal. [1] \n",
    "\n",
    "The distribution is used for modeling situations that require knowing the likely number of trials until success, and thus has applications in econometrics, return on investment, population modeling, and so on. [2] \n",
    "\n",
    "> 1. [Statistics How To: Geometric Distribution](https://www.statisticshowto.com/geometric-distribution/)\n",
    "2. [Brilliant: Geometric Distribution](https://brilliant.org/wiki/geometric-distribution/)\n",
    "\n",
    "_Example: Election_\n",
    "\n",
    "<img align=\"left\" width=\"230\" height=\"80\" src=\"https://encrypted-tbn0.gstatic.com/images?q=tbn%3AANd9GcSST1krcuDqRqW5PVb5TUOtmOk7UScWRDL2dtclHIm5VGqe4S0L3sD1WfoNJi5g4hxGDVgqs9sgvv8z69hnu50rs3ex4cv2mdC6z2UrkqA&usqp=CAU&ec=45714080\">"
   ]
  },
  {
   "cell_type": "markdown",
   "metadata": {},
   "source": [
    "If we ask ask people outside a polling station who they voted for, what is the probability of meeting someone that voted for an independent candidate on your 100th try assuuming that your probability of success is 15%."
   ]
  },
  {
   "cell_type": "code",
   "execution_count": 40,
   "metadata": {},
   "outputs": [
    {
     "data": {
      "text/plain": [
       "array([ 3,  1,  6, 10,  5, 18,  1,  1,  1, 14,  6,  1,  3, 13,  9,  2, 17,\n",
       "       10,  4,  1,  2, 18,  3,  5,  7,  9,  2,  4,  9,  4,  4, 18, 14,  6,\n",
       "        1, 18,  1,  1,  1,  3,  9, 11,  6,  3, 14,  1,  3,  6, 24, 23, 14,\n",
       "        1,  1,  2, 16,  5,  1,  6,  2, 12,  7,  3, 17, 27, 10,  4, 14, 16,\n",
       "        3,  9,  2,  8,  7,  1,  5,  3, 11,  5,  1,  8,  3, 14,  6, 14,  5,\n",
       "        1,  1, 13,  2,  4, 13, 24,  8,  4,  1,  3,  1,  1,  8,  6],\n",
       "      dtype=int64)"
      ]
     },
     "execution_count": 40,
     "metadata": {},
     "output_type": "execute_result"
    }
   ],
   "source": [
    "# The probability of an individual success is 0.15.\n",
    "p = 0.15\n",
    "\n",
    "# Do 100 trials.\n",
    "size = 100\n",
    "\n",
    "# Calculate the probability\n",
    "x = rng.geometric(p, size)\n",
    "\n",
    "# Display it\n",
    "x\n"
   ]
  },
  {
   "cell_type": "code",
   "execution_count": 41,
   "metadata": {},
   "outputs": [
    {
     "data": {
      "image/png": "[encoded data removed]",
      "text/plain": [
       "<Figure size 720x432 with 1 Axes>"
      ]
     },
     "metadata": {},
     "output_type": "display_data"
    }
   ],
   "source": [
    "# Change colour scheme.\n",
    "sns.set_palette(\"Paired\")\n",
    "\n",
    "# Set the title and x label for the future plot.\n",
    "plt.title(f\"Geometric Distribution: Find an independent candidate on your {size}th try\")\n",
    "\n",
    "# Build the plot.\n",
    "sns.histplot(x, stat=\"probability\", kde=True)\n",
    "\n",
    "# Show the plot.\n",
    "plt.show()"
   ]
  },
  {
   "cell_type": "code",
   "execution_count": 42,
   "metadata": {},
   "outputs": [
    {
     "data": {
      "text/plain": [
       "0.21"
      ]
     },
     "execution_count": 42,
     "metadata": {},
     "output_type": "execute_result"
    }
   ],
   "source": [
    "# How many trials succeeded after a single run?\n",
    "y = (x == 1).sum() / 100.\n",
    "\n",
    "# Display the probability of success.\n",
    "y"
   ]
  },
  {
   "cell_type": "markdown",
   "metadata": {},
   "source": [
    "##### Poisson  <a name=\"poisson\"></a>\n",
    "\n",
    "A poisson distribution is used in predicting the number of events happening in a fixed time period, given the average number of times the event happens over that time period. [1]\n",
    "\n",
    "The distribution is often used in biology (e.g. in mutation detection), finance, business (e.g. to make forecasts), disaster readiness etc.\n",
    "\n",
    "There are a number of conditions for poisson distribution:\n",
    "\n",
    "1. An event can occur any number of times during a fixed time period.\n",
    "2. Each event is independent. \n",
    "3. The occurence rate doesn't change based on time.\n",
    "4. Occurence of an event is directly proportional to the length of the time period. [2]\n",
    "\n",
    "> 1. [Statistics How To: Poisson Distribution](https://www.statisticshowto.com/poisson-distribution/)\n",
    "2. [Brilliant: Poisson Distribution](https://brilliant.org/wiki/poisson-distribution/#:~:text=the%20number%20of%20Airbus%20330,over%20a%20given%20production%20time)\n",
    "\n",
    "_Exmaple: Storm occurence_\n",
    "\n",
    "<img align=\"left\" width=\"180\" height=\"80\" src=\"https://simpleicon.com/wp-content/uploads/storm.png\">"
   ]
  },
  {
   "cell_type": "markdown",
   "metadata": {},
   "source": [
    "The average number of major storms in your city is 2 per year. What is the probability that exactly 3 storms will hit your city next year?"
   ]
  },
  {
   "cell_type": "code",
   "execution_count": 43,
   "metadata": {},
   "outputs": [
    {
     "data": {
      "text/plain": [
       "array([2, 2, 1, ..., 1, 1, 5], dtype=int64)"
      ]
     },
     "execution_count": 43,
     "metadata": {},
     "output_type": "execute_result"
    }
   ],
   "source": [
    "# Draw samples from the distribution tested 10000:\n",
    "x = rng.poisson(2, 10000)\n",
    "\n",
    "# Display the array\n",
    "x"
   ]
  },
  {
   "cell_type": "code",
   "execution_count": 44,
   "metadata": {
    "scrolled": false
   },
   "outputs": [
    {
     "data": {
      "image/png": "[encoded data removed]",
      "text/plain": [
       "<Figure size 720x432 with 1 Axes>"
      ]
     },
     "metadata": {},
     "output_type": "display_data"
    }
   ],
   "source": [
    "# Change colour scheme.\n",
    "sns.set_palette(\"PRGn\")\n",
    "\n",
    "# Set the title and x label for the future plot.\n",
    "plt.title(\"Poisson Distribution: Possiblity of Storm\")\n",
    "\n",
    "# Build the plot.\n",
    "sns.histplot(x, stat=\"probability\")\n",
    "\n",
    "# Show the plot.\n",
    "plt.show()"
   ]
  },
  {
   "cell_type": "code",
   "execution_count": 45,
   "metadata": {},
   "outputs": [
    {
     "data": {
      "text/plain": [
       "0.1769"
      ]
     },
     "execution_count": 45,
     "metadata": {},
     "output_type": "execute_result"
    }
   ],
   "source": [
    "# Calculate the probability of 3 storms.\n",
    "y = sum(x == 3)/10000\n",
    "\n",
    "# Display the probability.\n",
    "y"
   ]
  },
  {
   "cell_type": "markdown",
   "metadata": {},
   "source": [
    "***\n",
    "<br>\n",
    "\n",
    "#### Continuous Probability Distribution  <a name=\"continuous\"></a>\n",
    "\n",
    "<br>\n",
    "\n",
    "##### Normal <a name=\"normal\"></a> \n",
    "\n",
    "A normal (or Gaussian) distribution classically describes a bell-shaped curve and is fully characterized by its mean and standard deviation. It is the most frequently used, and because it approximates many natural phenomena so faithfully, it is used as a standard of reference for a wide range of probability problems in finance, investing, science, engineering etc [1]\n",
    "\n",
    "> 1. [Investopedia: Probability Distribution](https://www.investopedia.com/terms/p/probabilitydistribution.asp)\n",
    "\n",
    "_Example: Women's Shoes_\n",
    "\n",
    "<img align=\"left\" width=\"180\" height=\"80\" src=\"https://i.pinimg.com/originals/11/c9/fa/11c9fa859c9e9402067f03054e62ea57.png\">"
   ]
  },
  {
   "cell_type": "markdown",
   "metadata": {},
   "source": [
    "Assuming that women’s shoe sizes are normally distributed with a mean of 8 and a standard deviation of 1.5, the factory makes 10,000 pairs of one style. How many shoes of size 9 the manufacturer should make?  [2]\n",
    "> 2. [StudiousGuys: 9 Real Life Examples Of Normal Distribution](https://mathstat.slu.edu/~may/ExcelCalculus/sec-7-6-NormalDistribution.html)"
   ]
  },
  {
   "cell_type": "code",
   "execution_count": 46,
   "metadata": {},
   "outputs": [
    {
     "data": {
      "text/plain": [
       "array([ 7.47659075,  5.93119095,  8.76295122, ..., 10.82284135,\n",
       "        8.23635272,  9.43144689])"
      ]
     },
     "execution_count": 46,
     "metadata": {},
     "output_type": "execute_result"
    }
   ],
   "source": [
    "# Mean is 8, standard deviation is 1.5.\n",
    "m, std = 8, 1.5\n",
    "\n",
    "# Compute 10000 numbers.\n",
    "x = rng.normal(m, std, 10000)\n",
    "\n",
    "# Display the probability.\n",
    "x"
   ]
  },
  {
   "cell_type": "code",
   "execution_count": 47,
   "metadata": {
    "scrolled": false
   },
   "outputs": [
    {
     "data": {
      "image/png": "[encoded data removed]",
      "text/plain": [
       "<Figure size 720x432 with 1 Axes>"
      ]
     },
     "metadata": {},
     "output_type": "display_data"
    }
   ],
   "source": [
    "# Change colour scheme.\n",
    "sns.set_palette(\"RdYlBu\")\n",
    "\n",
    "# Set the title and x label for the future plot.\n",
    "plt.title(\"Normal Distribution: Women Shoes\")\n",
    "\n",
    "# Build the plot.\n",
    "sns.histplot(x, stat=\"probability\")\n",
    "\n",
    "# Show the plot.\n",
    "plt.show()"
   ]
  },
  {
   "cell_type": "code",
   "execution_count": 48,
   "metadata": {
    "scrolled": true
   },
   "outputs": [
    {
     "data": {
      "text/plain": [
       "0.030602498449774806"
      ]
     },
     "execution_count": 48,
     "metadata": {},
     "output_type": "execute_result"
    }
   ],
   "source": [
    "# Verify the mean and the variance:\n",
    "abs(m - np.mean(x))"
   ]
  },
  {
   "cell_type": "code",
   "execution_count": 49,
   "metadata": {
    "scrolled": true
   },
   "outputs": [
    {
     "data": {
      "text/plain": [
       "0.0009561552199601753"
      ]
     },
     "execution_count": 49,
     "metadata": {},
     "output_type": "execute_result"
    }
   ],
   "source": [
    "# Verify the standard deviation:\n",
    "abs(std - np.std(x, ddof=1))"
   ]
  },
  {
   "cell_type": "code",
   "execution_count": 50,
   "metadata": {},
   "outputs": [
    {
     "data": {
      "text/plain": [
       "2117"
      ]
     },
     "execution_count": 50,
     "metadata": {},
     "output_type": "execute_result"
    }
   ],
   "source": [
    "# Calculate how many pairs of shoes sized between 8.5 and 9.5.\n",
    "l = []\n",
    "for i in x:\n",
    "    if 8.5 < i < 9.5:\n",
    "        l.append(i)\n",
    "\n",
    "# Display the number of shoes.\n",
    "len(l)"
   ]
  },
  {
   "cell_type": "markdown",
   "metadata": {},
   "source": [
    "<br>\n",
    "\n",
    "##### Chi-Square <a name=\"chisquare\"></a>\n",
    "\n",
    "A chi-square distribution is a distribution of the chi-square statistic and constructed so that the total area under the curve is equal to 1. For example, random samples are drawn from a normal distribution and summed, and the sum then squared to arrive at the chi-square distribution. \n",
    "\n",
    "The distribution must have the following properties:\n",
    "\n",
    "1. The number of degrees of freedom is also the distribution mean, and the greater it is, the more the chi-square curve looks like a normal distribution.\n",
    "2. The variance is equal to two times the number of degrees of freedom. [1]\n",
    "\n",
    "The chi-squared distribution has many uses in statistics, for example, in testing deviations of differences in expected and observed frequencies and in a goodness of fit test (chi-square test). [2]\n",
    "\n",
    "> 1. [Stat Trek: Chi-Square Distribution](https://stattrek.com/probability-distributions/chi-square.aspx)\n",
    "2. [Statistics How To: Chi-Square Distribution](https://www.statisticshowto.com/probability-and-statistics/chi-square/)\n",
    "\n",
    "_Example: Smartphone Batteries_\n",
    "    \n",
    "    \n",
    "<img align=\"left\" width=\"180\" height=\"80\" src=\"https://images.vexels.com/media/users/3/136865/isolated/preview/7221ccf73801a7e9729d11d505fcff2b-smartphone-on-hand-by-vexels.png\">"
   ]
  },
  {
   "cell_type": "markdown",
   "metadata": {},
   "source": [
    "A smartphone battery manufacturer has developed a product with average 60 minutes on a single charge. They decide to run a quality control test by selecting 7 batteries randomly. What would be the chi-square distribution represented by this test?"
   ]
  },
  {
   "cell_type": "code",
   "execution_count": 51,
   "metadata": {},
   "outputs": [
    {
     "data": {
      "text/plain": [
       "array([ 9.73464255,  6.61186229,  4.09907967,  4.69702697,  4.78665389,\n",
       "        9.63510491,  1.81058978,  6.8267854 ,  4.36459316,  6.1507668 ,\n",
       "        8.50187203,  3.72092991,  4.27238179,  6.00312679, 13.02462016,\n",
       "        2.70443224,  8.79071778,  1.88449736, 11.62135521,  2.27557122,\n",
       "        1.39883512, 15.10711123,  3.77816362,  2.70635876,  2.05872645,\n",
       "        5.08175062,  1.98228954,  4.75230784,  6.43894907,  7.62145358,\n",
       "        2.2603172 ,  2.88575783,  0.81375427,  2.36992368,  3.77004669,\n",
       "        7.67955469,  0.42614326,  5.92845783,  3.15871436,  1.85415588,\n",
       "        4.64943772,  1.83734234,  8.85362862, 14.33425315,  7.04237391,\n",
       "       10.48771792,  6.522997  , 12.65198072,  2.36223727, 14.37567489,\n",
       "        9.37997619,  0.51700449, 13.97383296,  2.38900318,  8.61415886,\n",
       "        8.40610499,  7.25943535, 12.39397797,  2.11046855,  7.28222059,\n",
       "       10.62238955,  2.19151415,  3.80331642,  5.94972924,  4.72506478,\n",
       "        4.36718458,  7.42047732,  5.2623282 , 16.23404263,  3.318912  ,\n",
       "        8.56965803, 12.53681039,  5.59764664,  7.81930819,  4.40679459,\n",
       "        1.16736523,  4.5530176 , 11.82148434,  1.58159042,  6.53538578,\n",
       "        6.59255583,  2.47694522,  5.09270973,  4.76903817,  4.85716382,\n",
       "       10.54734052,  3.99374301,  7.16409053,  9.38655943,  2.6891084 ,\n",
       "        3.13821899,  6.97255077,  7.38185659,  2.24602467,  7.59688272,\n",
       "        4.51457008,  7.33169903,  5.5418526 , 11.34954613, 10.60953492])"
      ]
     },
     "execution_count": 51,
     "metadata": {},
     "output_type": "execute_result"
    }
   ],
   "source": [
    "# 100 samples.\n",
    "n = 100\n",
    "\n",
    "# The degrees of freedom.\n",
    "df = 6\n",
    "\n",
    "# Draw samples.\n",
    "x = rng.chisquare(df, n)\n",
    "\n",
    "# Display the distribution.\n",
    "x"
   ]
  },
  {
   "cell_type": "code",
   "execution_count": 52,
   "metadata": {
    "scrolled": false
   },
   "outputs": [
    {
     "data": {
      "image/png": "[encoded data removed]",
      "text/plain": [
       "<Figure size 720x432 with 1 Axes>"
      ]
     },
     "metadata": {},
     "output_type": "display_data"
    }
   ],
   "source": [
    "# Change colour scheme.\n",
    "sns.set_palette(\"cool_r\")\n",
    "\n",
    "# Set the title and x label for the future plot.\n",
    "plt.title(\"Chi-Squared Distribution: Smartphone Batteries\")\n",
    "\n",
    "sns.histplot(x, stat=\"probability\", kde=True)\n",
    "\n",
    "# Show the plot.\n",
    "plt.show()"
   ]
  },
  {
   "cell_type": "markdown",
   "metadata": {},
   "source": [
    "<br>\n",
    "\n",
    "##### Logistic <a name=\"logistic\"></a>\n",
    "\n",
    "A logistic distribution is used for modeling growth and logistic regression. It has a shape similar to a normal bell-shaped curve: symmetrical and unimodal. However, the logistic tends to have slightly wider tails. [1]\n",
    "\n",
    "Since it is more consistent and provides better insight into the likelihood of extreme events it finds it application in physical sciences, medicine, epidemiology, sports modeling, finance etc. [2]\n",
    "\n",
    "> 1. [Statistics How To: Logistic Distribution](https://www.statisticshowto.com/logistic-distribution/)\n",
    "2. [ScienceDirect: Logistic Distribution](https://www.sciencedirect.com/topics/mathematics/logistic-distribution)\n",
    "\n",
    "_Example: Heart Valve_\n",
    "    \n",
    "<img align=\"left\" width=\"250\" height=\"50\" src=\"https://www.clker.com//cliparts/V/1/Q/Z/f/M/voice-pulse-hi.png\">"
   ]
  },
  {
   "cell_type": "markdown",
   "metadata": {},
   "source": [
    "The lifetime of 10 mechanical heart valves were tested over 28 months to their failure. The computed parameters of likelihood of the pump failing due to the valve are: $\\mu$ (location) 22.34 and $s$ (scale) 6.15. [3]\n",
    "\n",
    "> 3. [Reliawiki: Logistic Distribution Example](http://reliawiki.com/index.php/Logistic_Distribution_Example)"
   ]
  },
  {
   "cell_type": "code",
   "execution_count": 53,
   "metadata": {
    "scrolled": true
   },
   "outputs": [
    {
     "data": {
      "text/plain": [
       "array([ 14.68779113,  31.25048143,   6.87531829,  12.7512317 ,\n",
       "        26.93847756,  19.57944599,  27.45122098,  49.54000281,\n",
       "        20.72744299,  34.91755213,  24.48645709,  12.34886512,\n",
       "        16.40558584,  16.26837359,  25.46097719,  41.99834863,\n",
       "        21.02908819,  19.74956945,  22.51729632,  27.51807999,\n",
       "        28.96740508,  29.2779588 ,  32.70322898,  22.42852375,\n",
       "        15.58748606,  27.35824915,  20.38457679,  21.39087773,\n",
       "        25.3456629 ,  30.94956637,  29.3170856 ,  21.23919639,\n",
       "         9.59242574,  23.53345689,  40.15529015,  35.55204677,\n",
       "        23.38238967,   1.37980032,  10.76653356,   9.10986273,\n",
       "        18.64874532,  19.76587119,  12.79073338,  22.70110315,\n",
       "        -5.38330343,  20.0076091 ,  28.38684237,  29.82806518,\n",
       "        13.49562368,  26.24859563,  -9.54342635,  17.37863895,\n",
       "        38.0056614 ,   4.66878782,  27.30125782,  13.73872425,\n",
       "        20.68912424,  18.45599897,  25.53868342,  50.62158411,\n",
       "        25.78971888,  28.08433782,   7.07709195,   9.69096034,\n",
       "        27.16669953,  22.24943371,  32.07344486,  17.21983381,\n",
       "        22.64664223,  10.07803382,  20.82368552,   8.89988474,\n",
       "        43.6667351 ,  -6.90904251,  20.1758403 ,   1.2413161 ,\n",
       "        16.32286079,  18.09781045,  38.40640492,  26.68192909,\n",
       "        29.87292483, -16.72158915,  29.46887625,  22.10055856,\n",
       "        14.06603403,  27.10912891,  20.6168271 ,  18.96993596,\n",
       "        21.78220628,  18.18362079,  19.34053738,  24.13501722,\n",
       "        31.69853339,  12.19636643,  17.53721406,  25.43714451,\n",
       "        20.98267106,  17.79461836,  27.71753223,  34.77774702,\n",
       "         9.18379004,  11.76287926,  26.40653758,  19.00677827,\n",
       "        20.94927575,  20.12557708,  11.64094559,  16.16005667,\n",
       "        20.91968834,  34.90426743,  28.27552896,  29.55166867,\n",
       "        30.19810034,  25.29451636,  30.04359493,  20.27533986,\n",
       "        17.63979134,  31.80118292,  22.01446234,  36.93035094,\n",
       "        28.30706206,  29.27059861,  16.0289539 ,  33.82028282,\n",
       "        31.40263877,  19.17476203,  23.65330465,  20.14362454,\n",
       "        35.54137247,  19.58508909,  42.49292796,  29.59488175,\n",
       "        38.32192306,   8.14996071,  40.72836442,  11.54961704,\n",
       "        19.05012503,  10.28242407,  26.24524176,  21.80613049,\n",
       "        29.51269976,  20.92783272,  13.21712385,  40.18611195,\n",
       "        18.92677233,  22.35712527,  35.97860954,  20.73150807,\n",
       "        29.81707302,  12.39501506,  23.96808366,  14.05432835,\n",
       "        28.13045486,  18.19599764,  25.75616357,  11.88704894,\n",
       "        26.99986491,  23.13452755,  15.81414424,  30.09120575,\n",
       "        13.29159511,  15.44671915,  21.69411526,   8.56955826,\n",
       "        14.93133253,  22.00192672,  34.2124278 ,  26.67993782,\n",
       "        17.32146041,  11.81320583,  24.0029037 ,  12.13151112,\n",
       "        29.23724036,  26.3922274 ,  28.79933409,  15.50830066,\n",
       "        15.94484506,  27.26674932,  23.45059916,  36.91658399,\n",
       "        37.00624784,  35.47604529, -11.81656795,  17.53733131,\n",
       "        32.11232509,  51.09459647,  20.63830402,  43.40930093,\n",
       "        23.17021808,   4.79224523,  27.49425447,  44.06105559,\n",
       "        18.85414078,  11.74288577,  11.88641125,  13.44802717,\n",
       "        25.52892166,  26.69519967,  27.20904939,   6.12316393,\n",
       "        27.21468202,  17.66263619,  16.47458853,  17.95730348,\n",
       "        25.5356664 ,  23.16635207,  26.89233544,  27.1981758 ,\n",
       "        22.93106644,  14.70554193,  42.54177104,  18.54953682,\n",
       "         8.89987258,  13.95266993,  28.88314612,  25.26475909,\n",
       "        23.14329259,  30.12657231,  22.40110904,   3.84225395,\n",
       "         7.94239419,  -4.06220262,  26.67502195,  37.23647551,\n",
       "        29.81345512,  36.03096277,  18.4619343 ,  37.23214646,\n",
       "        27.61120727,  22.25789054,   7.40946766,  26.04526977,\n",
       "         6.61008813,  20.32943601,  18.84249631,  39.25614656,\n",
       "        34.50234667,  32.19806572,  17.31837947,  46.18800715,\n",
       "        32.40632782,  10.37833501,  21.5781671 ,  16.22386191,\n",
       "        19.84862551,  13.59328166,  18.98989386,  41.87627222,\n",
       "        31.59082247,  38.45922977,  36.66451352,  12.48883728,\n",
       "         5.97558215,  27.82417042,   8.07519176,  13.12492332,\n",
       "        36.93278852,   0.55220162,  10.03233858,  34.52114288,\n",
       "        35.19440349,  19.38688128,  22.31127673,  19.84161547,\n",
       "        33.92883956,  19.18761369,  30.67149201,   9.56262263,\n",
       "        31.11489911,  40.04511149,  35.74553442,  31.5744568 ,\n",
       "        30.17351094,  28.50811567,  26.44706284,  21.95169069,\n",
       "        -2.49874784,  -0.89872823,  14.96929784,  26.36004993,\n",
       "        59.954258  ,  -2.58882792,  29.4821022 ,  44.57395953,\n",
       "        23.42329035,  36.80591628,  26.30883974,  49.25650544,\n",
       "        43.84260347,  16.91809717,  26.76537199,  22.04567613,\n",
       "        26.68929126,  29.61274509,  21.17014937,  30.80224225,\n",
       "        20.90740033,  27.42863628,  41.06265708,  21.53292367,\n",
       "        23.27726437,  16.2025637 ,  19.33946139,  23.02219192,\n",
       "        29.63425131,  23.79052243,  29.02124384,  29.452857  ,\n",
       "        19.63400683,  24.66891829,  31.12339262,  10.30786436,\n",
       "        54.82783954,  12.47016935,  21.98914792,  14.79374192,\n",
       "        15.19845709,  37.57996109,  24.94355828,  23.8617749 ,\n",
       "        15.30719667,  25.50980193,  11.95022938,  23.16419903,\n",
       "        30.86206389,  28.92698237,  25.50938491,  41.99518602,\n",
       "        26.15479401,  29.14320914,  23.62727002,  27.47558706,\n",
       "         9.42790458,  31.60941301,  51.14099585,  16.60516062,\n",
       "        24.98846146,  24.64512077,  19.6019933 ,  17.23235081,\n",
       "        23.93367869,  24.06105165,  21.37587737,  15.94882455,\n",
       "        25.74013533,  46.36099572,  32.51066986,  27.85737371,\n",
       "        17.72098225,  16.12031332,  -1.82305013,  13.21646351,\n",
       "         5.20799331,  24.38183865,  16.04375387,  27.72006997,\n",
       "        18.97796079,  24.01110067,   5.9739087 ,  17.55721372,\n",
       "        28.00176671,  -2.32398944, -12.37159266,  41.56379753,\n",
       "        -4.40296956,  17.22212026,  12.25576958,  30.37372946,\n",
       "        21.67114538,  17.40141202,  21.96690926,   9.05852164,\n",
       "        40.45010665,  22.47782821,  12.09379101,  29.88630874,\n",
       "         3.29750841,  26.00799923,  27.29507354,   0.90443117,\n",
       "        26.65595064,  18.23695147,  17.47310225,  20.51240561,\n",
       "        29.70482507,  18.00843592,  29.00530763,  32.44898352,\n",
       "        25.80838422,   9.91034366,  24.64186585,  40.51841499,\n",
       "        35.05033126,  20.50978843,  13.44880242,  27.38947924,\n",
       "        21.71782671,  12.27600405,  20.41719324,  56.06670227,\n",
       "        22.13069887,  22.50604845,  22.33266795,  -2.62714681,\n",
       "        16.25558892,  27.07432901,   6.75902113,  16.03557657,\n",
       "        11.60116705,  30.88206728,  26.37974959,  17.2586481 ,\n",
       "         6.98140577,  40.04625872,  23.13426665,   9.38442911,\n",
       "        23.24705267,  26.47207792,  17.22626713,  33.06826529,\n",
       "        32.43688377,  25.26324493,  33.48706141,  45.16822133,\n",
       "        24.19767694,  13.70651842,  26.7518897 ,  36.88075071,\n",
       "        22.37632564,  19.10297215,  25.74416971,  24.19909361,\n",
       "        15.00769074,  11.52596566,  24.55557005,  40.48171718,\n",
       "        14.96810118,  16.11986301,  19.70799556,  32.59279693,\n",
       "         5.32253814,  17.5596988 ,  21.60448296,  36.59225067,\n",
       "        11.63750214,  30.73774584,  13.56363893,  29.08813513,\n",
       "        29.0299237 ,  19.15729156,   8.90153402,  11.68653465,\n",
       "         6.64702189,  10.60577659,  36.07721533,  39.34198007,\n",
       "        30.04409346,  20.41957471,   9.43453884,  19.57615109,\n",
       "        18.64373381,   9.64630058,  18.07340079,  34.84926519,\n",
       "        18.6319289 ,  -5.4019866 ,  16.51520717,  13.62719791,\n",
       "        16.2214343 ,  16.06105102,   6.53477489,  14.01218302,\n",
       "        31.44821181,  49.00593149,  32.04358615,   7.69392659,\n",
       "        16.16831067,  23.77972924,   5.13274481,  24.617913  ,\n",
       "         7.43620846,  20.81649468,  27.65217185,  37.19690142,\n",
       "        28.56150678,  28.68836945,  19.10565367,  40.37929352,\n",
       "        34.7735146 ,  21.92162244,  12.67604407,  26.4339035 ,\n",
       "        12.96569485,  14.62365246,  41.41372712,  30.12455798,\n",
       "        24.89143588,  31.27657495,  19.7685577 ,  28.07404761,\n",
       "        22.92978632,  23.19127324,  35.43713208,  21.72330036,\n",
       "        33.02966099,  30.08809724,  12.58550902,   8.02551458,\n",
       "        26.72703988,  24.13744484,  49.23215638,  34.73563753,\n",
       "        34.14291372,  17.97917425,  16.7998525 , -12.6097519 ,\n",
       "        18.30869318,  16.01623238,   7.07729383,  20.77196021,\n",
       "        18.44502991,   3.57069226,  24.66465935,  24.86025518,\n",
       "        15.04042883,  37.35031423,  14.1376756 ,  10.73520536,\n",
       "        14.10290948,  24.82968831,  11.55117187,  10.93286011,\n",
       "       -13.32739091,  31.30006774,  16.50443439,  48.91178862,\n",
       "        40.5401632 ,  32.65758966,  23.47982324,  22.18167827,\n",
       "        28.23803907,  -2.92387266,  28.23297036,  10.18109921,\n",
       "        26.48527018,  23.53135221,  45.38770569,   5.66847902,\n",
       "        28.50503886,  19.45196378,  46.33945278,   4.40804315,\n",
       "        24.75060552,  32.13694305,  15.8168101 ,  24.75820365,\n",
       "        20.15159975,  15.48139706,   1.83824081,  26.20478561,\n",
       "        -1.24122284,  25.51931544,  23.52720237,  19.2981528 ,\n",
       "        26.40567099,  39.00372093,  27.74631731,  18.17007153,\n",
       "        29.34877616,  22.36836178,  32.60303369,   4.80254151,\n",
       "        14.20303178,   4.27152516,  15.06583525,  29.13813741,\n",
       "        32.8931344 ,  27.74505399,  15.82351627,  24.54152291,\n",
       "        10.96053695,  13.44372698,  13.58103098,  29.00735911,\n",
       "        34.17844519,  26.01483432,  12.43244086,  24.78472087,\n",
       "         1.00732002,  24.54517024,   5.79038503,  20.91563651,\n",
       "        37.99398635,  23.31196669,  20.21542068,   7.26497528,\n",
       "        28.49348366,  23.29279118,  15.85477402,  17.22726457,\n",
       "        19.31550873,  16.41368972,  27.65587067,  28.68745267,\n",
       "        11.70900337,  27.30718665,  18.56831963,  17.41545127,\n",
       "        16.1835509 ,  28.15342507,  25.79858108,  16.37119432,\n",
       "        19.29390101,   4.83482546,  14.56953723,  37.06258262,\n",
       "        41.27183971,  29.94016125,  16.25805427,   2.62880594,\n",
       "        31.12968723,  37.8262265 ,  26.78990591,  15.80998746,\n",
       "        37.57144592,  23.73978999,  32.9897679 ,  19.87874156,\n",
       "        31.75655874,  22.70611209,  22.10948688,   7.94825333,\n",
       "        16.92017368, -11.83807356,  19.28717203,  44.42059606,\n",
       "        25.54844496,  21.28365826,  27.37736776,  30.81644017,\n",
       "        13.35476197,  12.31919791,  29.17376116,   9.58366578,\n",
       "        -5.68727272,  32.96266202,  26.95119957, -17.64749124,\n",
       "        33.25697529,  30.08946235,   9.48731573,  27.98639804,\n",
       "        12.06524517,  12.11874459,  42.11036296,  27.54632539,\n",
       "        29.20801985,  29.91129235,  24.89059856,  22.31896421,\n",
       "        22.69217866,  25.96441726,  24.20216332,  21.56588371,\n",
       "         1.67038989,  24.0805673 ,  16.37719534,  30.07319948,\n",
       "        40.27357329,  62.38499457,   8.9269836 ,  28.45294216,\n",
       "        22.20149333,  34.9786639 ,  35.09443262,  86.09696372,\n",
       "        23.55881358,  27.56863259,  29.17981339,  29.07838376,\n",
       "         4.59662936,  23.79073062,  27.48797705,  28.20916779,\n",
       "        26.79595168,  12.03502392,  18.71800226,  22.99311832,\n",
       "        36.49387328,  49.67793953,  18.76239704,  29.19184321,\n",
       "        13.331817  ,  38.1153674 ,   3.99208175,  12.85730276,\n",
       "        17.5530543 ,   7.10206417,  24.8528519 ,  35.45105568,\n",
       "        29.64787769,  36.87151105,   5.4648206 ,  12.62510935,\n",
       "        21.75290318,  38.55675633,  28.84354431,  31.52583408,\n",
       "        20.43358992,  17.1565527 ,  10.83098189,  25.97157413,\n",
       "        32.21740566,  14.46278238,  33.46659069,  18.32113779,\n",
       "        29.09206436,  50.08116605,  28.16548076,  21.26377591,\n",
       "        21.50388494,  26.41297177,  20.46272621,  15.84464226,\n",
       "        17.02204267,  13.73893386,  18.84430772,  15.52611007,\n",
       "         2.61516275,  22.23514743,  23.78915967,  25.07552784,\n",
       "        16.97244843,  39.09006705,  39.01313868,  39.99207861,\n",
       "        31.10720872,  16.49394532,   8.082668  ,  19.55763642,\n",
       "        25.00333709,   3.54734209,  32.24572752,  24.7935465 ,\n",
       "        26.09911811,  23.05594674,  31.12127541,  -2.53547747,\n",
       "        20.10966107,  23.94898504,  45.12337388,   4.20985877,\n",
       "        26.87427001,  15.9190457 ,  25.80647927,  15.91914419,\n",
       "        19.57866713,  26.15190189,  27.6865782 ,  31.60383295,\n",
       "        23.00016171,  19.94865547,  32.02393363,  17.34505785,\n",
       "        26.02943755,  24.34958835,   1.87457614,   9.45807095,\n",
       "        14.70635534,  41.2079241 ,  14.39852565,  36.11598626,\n",
       "        -4.87657776,  16.13237214,  34.6333191 ,  33.66865549,\n",
       "         5.06065964,  19.09869528,  32.89309725,  -4.62499371,\n",
       "        18.11383503,  30.12331703,  26.95331124,  29.84669253,\n",
       "        22.95148748,  36.65317701,  28.5305578 ,  29.46373086,\n",
       "        15.87694367,  24.86697544,  24.20881616,  43.90224143,\n",
       "        17.79756171,   2.90046268,  13.20290504,  20.50513582,\n",
       "        12.51735013,  34.21403204,  34.24753047,  25.8949692 ,\n",
       "        30.8671518 ,  21.10789677,  14.57172144,  21.50151745,\n",
       "        15.26397557,  16.06529898,  20.6514557 ,  27.57500229,\n",
       "         9.04005241,  15.26362461,  10.77351744,  30.92563589,\n",
       "        39.25179566,  27.11729395,  19.60781503,  12.89920655,\n",
       "        13.79782904,   0.51665178,   6.96066679,  31.17299426,\n",
       "        34.0167276 ,   0.9011502 ,  18.34221018,   9.26728143,\n",
       "        18.13508928,  26.39851302,  30.43501865,  33.61601366,\n",
       "        17.28335649,  28.53664049,  30.36186372,  13.92584483,\n",
       "        49.49472058,  17.18983291,  14.88088841,  18.30509544,\n",
       "        33.8786571 ,  10.14320387,  13.72673917,  32.62035678,\n",
       "         7.15207399,  28.58024948,  14.06275226,  22.5469882 ,\n",
       "        -1.32123931, -27.44524909,  34.72920654,  10.31396819,\n",
       "        15.36232877,  23.83805452,  16.051824  ,  20.57304022,\n",
       "        38.05747839,   4.0621977 ,  29.42391351,  20.22904889,\n",
       "         1.53742573,  16.74264604,  14.10970837,  17.15001305,\n",
       "        28.25029957,  52.04744537,  28.30268247,  21.64848029,\n",
       "        39.9140322 ,  13.65324296,  22.67764025,  17.81363838,\n",
       "        12.41582057,   9.15090027,  14.48727436,  -2.72352044,\n",
       "        16.49137021,  25.488626  ,  35.28578504,  11.12207515,\n",
       "        10.24937085,  11.96546282,  11.63992269,  37.62652834,\n",
       "        13.47543687,  13.14427151,  21.64159236,  18.13057831,\n",
       "        25.75286853,  10.88718298,  22.74653367,   4.44254959,\n",
       "         7.6120217 ,  37.10568366,  23.37554237,  31.16223622,\n",
       "        29.51172464,  27.37455877,  13.44933392,  17.7301349 ,\n",
       "        31.18072757,  23.78759303,  -2.96121621,  38.72062744,\n",
       "        24.84735603,   3.64481641,  16.180892  ,  26.49610139,\n",
       "        35.4199322 ,  15.72487996,  42.07325492,  16.41564777,\n",
       "        25.61018248,  50.84063094,  20.595219  ,  24.76593883,\n",
       "        25.1183956 ,  27.44220174,  52.99456989,  22.53113172,\n",
       "        30.5476209 ,  16.84412901,  20.22856292,  41.29223885,\n",
       "        22.07434053,  15.72840442,  14.6994343 ,  24.20196037,\n",
       "        32.46482181, -12.49169253,  32.04342769,  30.31500012,\n",
       "        28.44862569,  29.87251457,  27.39511635,  11.47855277,\n",
       "        39.28348239,  26.93785281,   5.94209227,  -5.3545095 ,\n",
       "        19.17568652,  23.02472463,  19.14621006,  28.37375513,\n",
       "        10.25502509,   6.17176617,  29.8578274 ,  14.98648374,\n",
       "         3.53922627,  35.08938673,  40.46827998,  -0.48959472,\n",
       "        21.23037167,  25.85811462,  26.04729984,  10.50547465,\n",
       "        31.63257628,  29.17878931,  20.1412195 ,  25.32610268,\n",
       "        20.2629281 ,  25.5759732 ,  18.5431839 ,  14.77204818,\n",
       "         9.17447188,  -7.79201765,  11.94000494,   7.6760964 ,\n",
       "        15.74873002,  56.29749502,  16.76728178,  15.12504903,\n",
       "        15.42154765,  34.93082145,  16.16057275,  15.60345076,\n",
       "         9.64609947,  17.85390271,   2.38922162,  54.51520686,\n",
       "        30.24045415,  12.32751317,  22.08351993,  19.3821834 ,\n",
       "        23.02014739,  21.16591334,  47.45559151,  38.84130411,\n",
       "        24.67612326,  22.61587816,  31.0443135 ,  15.53158935,\n",
       "        24.45580516,  17.86971019,   8.53783026,  41.11628919,\n",
       "        19.26554222,  23.35877756,  26.19739127,  16.80655878,\n",
       "        27.39664648,  19.48969748,  24.3896167 ,  35.10126156])"
      ]
     },
     "execution_count": 53,
     "metadata": {},
     "output_type": "execute_result"
    }
   ],
   "source": [
    "# location and scale \n",
    "loc, scale = 22.34, 6.15\n",
    "\n",
    "# Draw 1000 samples from a distribution\n",
    "x = rng.logistic(loc, scale, 1000)\n",
    "\n",
    "# Display the distribution\n",
    "x"
   ]
  },
  {
   "cell_type": "code",
   "execution_count": 54,
   "metadata": {
    "scrolled": false
   },
   "outputs": [
    {
     "data": {
      "image/png": "[encoded data removed]",
      "text/plain": [
       "<Figure size 720x432 with 1 Axes>"
      ]
     },
     "metadata": {},
     "output_type": "display_data"
    }
   ],
   "source": [
    "# Change colour scheme.\n",
    "sns.set_palette(\"gist_rainbow\")\n",
    "\n",
    "# Set the title and x label for the future plot.\n",
    "plt.title(\"Logistic Distribution: Heart Valve\")\n",
    "\n",
    "# Build the plot\n",
    "sns.histplot(x, stat=\"probability\", kde=True)\n",
    "\n",
    "# Show the plot.\n",
    "plt.show()"
   ]
  },
  {
   "cell_type": "markdown",
   "metadata": {},
   "source": [
    "<br>\n",
    "\n",
    "##### Exponential <a name=\"exponential\"></a>\n",
    "\n",
    "An exponential distribution is a continuous counterpart of a geometric distribution. It often models the amount of time between successive events over a continuous time interval. It is frequently used to approximate the longevity of electrical or mechanical devices, to measure the distance between DNA mutations, or between road accidents on a given road, etc. [1]\n",
    "\n",
    "> 1. [Wikipedia: Exponential distribution](https://en.wikipedia.org/wiki/Exponential_distribution)\n",
    "\n",
    "_Example: Customer Service_\n",
    "\n",
    "<img align=\"left\" width=\"220\" height=\"80\" src=\"https://www.pngrepo.com/download/235043/clerk.png\">"
   ]
  },
  {
   "cell_type": "markdown",
   "metadata": {},
   "source": [
    "The average a postal clerk spends with each customer is 4 minutes. What is the probability him/her to spend with a customer 5 minutes? [2]\n",
    "\n",
    ">2. [lumen: The Exponential Distribution](https://courses.lumenlearning.com/introstats1/chapter/the-exponential-distribution/)"
   ]
  },
  {
   "cell_type": "code",
   "execution_count": 55,
   "metadata": {},
   "outputs": [
    {
     "data": {
      "text/plain": [
       "array([1.84054655e+00, 1.43247524e-01, 3.00488221e+00, 4.38393321e-01,\n",
       "       2.66647012e+00, 2.50515607e-01, 4.04739656e-01, 3.35473961e-01,\n",
       "       5.19649754e-01, 5.46313073e+00, 5.92831995e+00, 1.44581642e+01,\n",
       "       7.08655217e+00, 9.60082722e+00, 6.58333339e+00, 1.33955174e+00,\n",
       "       9.99451986e-03, 4.02204111e+00, 6.18179461e+00, 5.02307878e+00,\n",
       "       5.04761347e+00, 3.88361007e+01, 2.14506723e+01, 9.54740673e-01,\n",
       "       9.95505997e-01, 2.58825046e+00, 1.05293984e+01, 1.72462984e+00,\n",
       "       2.23649829e+00, 1.60892462e+00, 3.07570701e+00, 8.29806976e+00,\n",
       "       1.40231476e+00, 7.49595173e+00, 1.59135725e+00, 2.14661463e+00,\n",
       "       7.39647454e+00, 5.10872756e-02, 7.87041730e+00, 1.85987366e+00,\n",
       "       8.43360344e+00, 4.82504079e-01, 3.19347274e-01, 5.71344385e-01,\n",
       "       2.18393050e-02, 5.55534965e+00, 5.66335939e-01, 3.12528445e+00,\n",
       "       2.32615152e+00, 9.61385315e-01, 2.78432078e+00, 1.24756559e+00,\n",
       "       4.70948106e+00, 8.31980353e+00, 5.21606868e+00, 1.58003572e+00,\n",
       "       4.32452637e+00, 2.43427764e+00, 1.20789757e+00, 7.35000941e-01,\n",
       "       1.09108897e+00, 5.44294754e+00, 1.40141121e+00, 6.48443060e-01,\n",
       "       2.93884406e+00, 4.82549376e-01, 3.33825858e+00, 5.84979866e+00,\n",
       "       9.45230616e+00, 9.05758333e+00, 8.80082875e-01, 6.92338824e+00,\n",
       "       6.86933254e+00, 1.12184305e+00, 1.18048161e+00, 3.72671777e+00,\n",
       "       6.80468141e-01, 2.39897622e+00, 3.60354748e+00, 6.08152915e-02,\n",
       "       1.19999345e+00, 5.05008517e-01, 3.03931941e+00, 5.47177273e+00,\n",
       "       2.24439342e+01, 9.00406949e+00, 1.72669345e+00, 1.82329938e+01,\n",
       "       2.97313083e+00, 5.33763386e-01, 3.06071134e+00, 5.14421031e-02,\n",
       "       3.65286685e+00, 2.44853974e+00, 4.85641303e-01, 3.13057734e+00,\n",
       "       3.56486391e+00, 8.73396418e+00, 6.83987688e+00, 7.45017388e+00,\n",
       "       7.11945621e+00, 2.09206793e-01, 4.88948641e-01, 1.20092222e+00,\n",
       "       8.97913083e-01, 5.77924317e+00, 6.71517915e-01, 1.42683722e+00,\n",
       "       2.00096864e+00, 6.12919567e+00, 6.72629606e+00, 2.16774533e+00,\n",
       "       5.66030032e+00, 5.42322805e+00, 2.26430957e+00, 2.54204518e-02,\n",
       "       4.23812737e-01, 1.98852359e+00, 1.34326185e+00, 1.34007529e+00,\n",
       "       7.98171407e-01, 4.67250372e+00, 2.10822255e+00, 7.49126777e-02,\n",
       "       1.41802425e+00, 7.40227079e+00, 1.70814083e+00, 8.83737583e-01,\n",
       "       5.70618300e+00, 1.50395330e-02, 2.96918963e+00, 4.28591696e+00,\n",
       "       4.90072063e-03, 3.50892271e+00, 5.29792009e+00, 3.80938623e+00,\n",
       "       4.46017997e+00, 2.13679396e+00, 3.74938943e+00, 8.46356777e-01,\n",
       "       8.65702660e+00, 1.18630858e+01, 2.28191624e+00, 4.15865779e+00,\n",
       "       9.09195676e-01, 2.09640400e+00, 7.46738490e+00, 7.71548873e+00,\n",
       "       3.04581229e-01, 2.61853046e+00, 1.71665581e+00, 8.18263921e-01,\n",
       "       6.38606504e+00, 5.49324463e+00, 9.25252074e-01, 7.50464803e+00,\n",
       "       2.76575844e+00, 3.03478022e+00, 2.08734358e+01, 1.72162301e+00,\n",
       "       2.45293460e+00, 1.36786124e+00, 1.17813962e+01, 8.23672542e-02,\n",
       "       7.04193061e+00, 9.75812529e+00, 4.34826322e+00, 3.64022269e+00,\n",
       "       2.80329042e+00, 2.50567239e+00, 2.55162739e+00, 8.73232691e-01,\n",
       "       2.34059510e+00, 2.30966542e+00, 1.28996237e+01, 4.27203350e+00,\n",
       "       9.37186645e-01, 2.03510751e+00, 7.23350226e+00, 9.90146612e-01,\n",
       "       4.21841640e-01, 3.62254357e+00, 2.97129022e+00, 9.94111705e-01,\n",
       "       8.17252501e-01, 4.63900958e+00, 1.02180501e-01, 5.35132563e+00,\n",
       "       6.10241703e-01, 1.02176645e-01, 7.69937266e-01, 2.09514842e+01,\n",
       "       6.36717735e+00, 6.70856484e+00, 9.37300091e+00, 3.08526531e+00,\n",
       "       4.44069468e-01, 2.37951276e+00, 1.81529165e+00, 4.32892732e+00,\n",
       "       4.84879826e+00, 1.12384655e+00, 1.25533491e+00, 9.34732073e-01,\n",
       "       2.67447529e+00, 1.80458999e+01, 1.78254282e+00, 8.19928456e+00,\n",
       "       1.03534524e+01, 5.17679139e-01, 2.67465875e+00, 9.66660546e+00,\n",
       "       1.10516219e+00, 1.74077558e+00, 3.53967968e-01, 1.32238266e+00,\n",
       "       1.29811917e+00, 1.62334156e+00, 2.84768382e-01, 3.02978131e+00,\n",
       "       2.38538715e+00, 4.83144799e+00, 4.17398486e+00, 8.72915215e+00,\n",
       "       2.89232749e+00, 4.71697672e+00, 6.57223915e-01, 2.47818339e+00,\n",
       "       3.40559935e+00, 3.68495332e-01, 6.88025335e-01, 1.28322862e+00,\n",
       "       2.66211507e+00, 1.84178617e+00, 1.09892790e+00, 1.27525745e+01,\n",
       "       8.85534673e+00, 9.94101148e-01, 4.14996131e+00, 2.62609203e+00,\n",
       "       1.12364648e+00, 3.56820122e-01, 1.72500990e-01, 1.31747752e+01,\n",
       "       1.11787452e+01, 2.56773063e+00, 3.27490325e+00, 1.35379165e+00,\n",
       "       1.22870278e+00, 1.61620300e+00, 9.58987334e+00, 3.53301263e-01,\n",
       "       3.50813505e+00, 6.44027617e-01, 5.40217760e-01, 3.83416326e+00,\n",
       "       3.72546969e-01, 1.11083241e+00, 3.07219508e+00, 3.36942842e-01,\n",
       "       1.76694767e+00, 7.66713463e+00, 2.40263983e+00, 4.90937580e+00,\n",
       "       5.98604166e+00, 2.99019716e+00, 1.78300402e+00, 4.17856876e+00,\n",
       "       2.63197621e+00, 6.13637111e+00, 1.17608542e+01, 4.82443121e+00,\n",
       "       1.22927969e-01, 1.08429240e-01, 8.70297237e+00, 1.59391429e+01,\n",
       "       2.99817929e+01, 6.26955422e+00, 3.46897840e+00, 7.58788287e-01,\n",
       "       1.45604697e+00, 3.55418774e+00, 9.30683077e+00, 1.28334034e+00,\n",
       "       1.15831277e+00, 2.46651509e+00, 1.51649817e+01, 2.99592514e+00,\n",
       "       1.29869041e+01, 4.74422266e-01, 3.54323810e+00, 2.75763316e+00,\n",
       "       4.93519147e-01, 5.30696198e-01, 4.31993579e+00, 3.59567540e-01,\n",
       "       9.74708514e-01, 1.60899281e+00, 1.22809892e+00, 1.35604914e+00,\n",
       "       2.64014598e+00, 5.98679602e+00, 1.22084547e+00, 6.43214717e-01,\n",
       "       1.50564655e+00, 1.13338683e+00, 1.20294133e+00, 4.18221872e+00,\n",
       "       4.11746339e+00, 5.51073816e+00, 1.07904654e+01, 3.26159946e+00,\n",
       "       3.94504915e+00, 1.19335372e+00, 1.54220143e-01, 1.75529957e+00,\n",
       "       3.03380204e+00, 4.73354767e+00, 1.04254617e+01, 1.20704959e+01,\n",
       "       4.62672133e+00, 3.35508517e-01, 5.12875866e+00, 2.11516832e+00,\n",
       "       2.75890005e+00, 5.18171898e+00, 4.27824842e+00, 1.43287881e+00,\n",
       "       1.93862362e+00, 1.52356779e+01, 6.22145680e+00, 5.89751571e-01,\n",
       "       1.42932400e+00, 1.81287955e+00, 7.95126996e+00, 3.69910091e+00,\n",
       "       1.77353863e+00, 3.60468123e+00, 4.24750548e+00, 3.86390651e-01,\n",
       "       8.95140327e-01, 3.29677335e+00, 1.08169606e+01, 2.88616995e+00,\n",
       "       1.49253824e+00, 4.98762277e+00, 1.50690169e+01, 1.27674973e+00,\n",
       "       1.23521637e+00, 1.08863662e+00, 3.54366227e+00, 3.29257308e+00,\n",
       "       1.31171728e+00, 6.21652687e-01, 2.29435402e+00, 8.59637005e+00,\n",
       "       2.54369015e-01, 2.67159368e-01, 2.17604701e+01, 2.49627122e+00,\n",
       "       3.61123610e+00, 5.87155219e+00, 1.10012258e+01, 3.95910866e+00,\n",
       "       6.63390178e-01, 5.69454621e+00, 4.03430450e+00, 9.93315155e+00,\n",
       "       1.27572353e+00, 1.37018592e+00, 4.74177617e+00, 6.04933390e+00,\n",
       "       1.10626368e+00, 2.72357004e+00, 2.77620109e+00, 5.82663372e-01,\n",
       "       8.60655617e-01, 2.07866953e+00, 5.71431463e+00, 8.88541238e-01,\n",
       "       1.79075293e+00, 4.04698346e+00, 2.68847839e+00, 1.09609319e+00,\n",
       "       3.76125560e+00, 1.42908497e+00, 1.45387924e+01, 8.21626010e+00,\n",
       "       3.46492203e+00, 9.30391509e-02, 1.37511933e+01, 1.03601032e+00,\n",
       "       7.18699251e-01, 2.18224770e+00, 8.45902903e-01, 5.00815707e+00,\n",
       "       1.08295627e+01, 2.36679965e+00, 1.41359911e+00, 1.19220037e+01,\n",
       "       8.73921133e-01, 2.54921756e+00, 5.62665824e+00, 1.68499035e+00,\n",
       "       1.19427538e+01, 2.81185174e+00, 1.41109580e+00, 4.55652124e+00,\n",
       "       7.41333562e-01, 2.46841610e-01, 2.90661369e+00, 1.83175090e+00,\n",
       "       3.49606041e+00, 9.47976313e+00, 1.80021980e+00, 4.18752605e+00,\n",
       "       2.40886595e+00, 7.14136840e-03, 1.38820874e+00, 1.71189508e+00,\n",
       "       2.77758015e+00, 9.70451382e-01, 4.58518314e+00, 1.45673359e-01,\n",
       "       4.78888674e+00, 7.18502517e-01, 1.62436746e+00, 1.72431727e+01,\n",
       "       8.50185760e-02, 1.55298419e+00, 2.31758340e+00, 6.69455993e+00,\n",
       "       1.28460481e+00, 4.86342312e+00, 1.55829679e+00, 2.08389440e+00,\n",
       "       2.85403471e+00, 1.60076810e+00, 1.28825538e+00, 1.37015504e+01,\n",
       "       6.25729875e+00, 1.85423221e+00, 1.08172067e+00, 4.97469197e+00,\n",
       "       5.18565954e+00, 1.30759851e+00, 1.17537071e-01, 2.57242097e+00,\n",
       "       2.88275457e+00, 2.49404258e-01, 2.29943502e+00, 3.47587214e+00,\n",
       "       3.06363689e+00, 4.91006816e+00, 1.05456820e+01, 3.10857184e+00,\n",
       "       1.19031032e+00, 4.04495878e+00, 3.74314204e-01, 3.37191696e+00,\n",
       "       7.53696340e-01, 6.98262878e-01, 2.41254671e+00, 5.52655680e+00,\n",
       "       3.40271792e+00, 8.09714147e-01, 3.73690114e+00, 3.38435663e+00,\n",
       "       6.75297961e+00, 5.32449812e-01, 1.48841653e+00, 6.95304847e+00,\n",
       "       3.40928421e+00, 1.43008780e+00, 2.98375147e+00, 1.33275458e+00,\n",
       "       1.05080911e+00, 3.52714049e+00, 2.91431998e+00, 2.78485131e+00,\n",
       "       1.93027864e-01, 5.17148871e+00, 2.86462063e+00, 7.37864557e+00,\n",
       "       7.44523151e+00, 3.05267011e+00, 5.13019591e+00, 3.66163034e+00,\n",
       "       3.47406315e+00, 1.75437301e+00, 6.49230982e+00, 2.04204825e+01,\n",
       "       3.91220728e+00, 4.16097718e+00, 4.87146246e+00, 3.32816024e+00,\n",
       "       4.24675202e-01, 4.53152395e+00, 1.73320496e+00, 4.12792023e+00])"
      ]
     },
     "execution_count": 55,
     "metadata": {},
     "output_type": "execute_result"
    }
   ],
   "source": [
    "# Draw 500 samples with average 4 minutes spend on each client\n",
    "x = rng.exponential(4, 500)\n",
    "\n",
    "# Display the distribution\n",
    "x"
   ]
  },
  {
   "cell_type": "code",
   "execution_count": 56,
   "metadata": {
    "scrolled": false
   },
   "outputs": [
    {
     "data": {
      "image/png": "[encoded data removed]",
      "text/plain": [
       "<Figure size 720x432 with 1 Axes>"
      ]
     },
     "metadata": {},
     "output_type": "display_data"
    }
   ],
   "source": [
    "# Change colour scheme.\n",
    "sns.set_palette(\"plasma\")\n",
    "\n",
    "# Set the title and x label for the future plot.\n",
    "plt.title(\"Exponential Distribution: Customer Service\")\n",
    "\n",
    "# Get axis handle\n",
    "ax = plt.gca()\n",
    "\n",
    "# Build a plot.\n",
    "sns.histplot(x, stat=\"probability\", kde=True)\n",
    "\n",
    "# Show the plot.\n",
    "plt.show()"
   ]
  },
  {
   "cell_type": "code",
   "execution_count": 57,
   "metadata": {
    "scrolled": true
   },
   "outputs": [
    {
     "data": {
      "text/plain": [
       "0.06960712460290412"
      ]
     },
     "execution_count": 57,
     "metadata": {},
     "output_type": "execute_result"
    }
   ],
   "source": [
    "# Below is apadted from https://stackoverflow.com/questions/20130768/retrieve-xy-data-from-matplotlib-figure\n",
    "\n",
    "# Get the first line\n",
    "line = ax.lines[0]\n",
    "\n",
    "# Retrieve the x and y data\n",
    "x = line.get_xdata(orig=True)\n",
    "y = line.get_ydata(orig=True)\n",
    "\n",
    "# Check the probability of the clerk spending 5 minutes with a client\n",
    "np.interp(5,x,y)"
   ]
  },
  {
   "cell_type": "markdown",
   "metadata": {},
   "source": [
    "### SEEDS  <a name=\"seeds\"></a> "
   ]
  },
  {
   "cell_type": "code",
   "execution_count": null,
   "metadata": {},
   "outputs": [],
   "source": []
  }
 ],
 "metadata": {
  "kernelspec": {
   "display_name": "Python 3",
   "language": "python",
   "name": "python3"
  },
  "language_info": {
   "codemirror_mode": {
    "name": "ipython",
    "version": 3
   },
   "file_extension": ".py",
   "mimetype": "text/x-python",
   "name": "python",
   "nbconvert_exporter": "python",
   "pygments_lexer": "ipython3",
   "version": "3.7.4"
  }
 },
 "nbformat": 4,
 "nbformat_minor": 2
}
