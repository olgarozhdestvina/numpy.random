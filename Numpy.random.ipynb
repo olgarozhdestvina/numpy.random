{
 "cells": [
  {
   "cell_type": "markdown",
   "metadata": {},
   "source": [
    "# The numpy.random package \n",
    "\n",
    "\n",
    "[ Programming for Data Analysis Module GMIT 2020 ]\n",
    "\n",
    "\n",
    "<img align=\"left\" width=\"200\" height=\"200\" src=\"https://upload.wikimedia.org/wikipedia/commons/thumb/3/31/NumPy_logo_2020.svg/1024px-NumPy_logo_2020.svg.png\">\n"
   ]
  },
  {
   "cell_type": "markdown",
   "metadata": {},
   "source": [
    "Completed by: *Olga Rozhdestvina (G00387844@gmit.ie)*\n",
    "***\n",
    "\n",
    "## Table of Contents\n",
    "* [Purpose of the package](#purpose)\n",
    "    * [Integers](#integers)\n",
    "    * [Random](#random)\n",
    "    * [Choice](#choice)\n",
    "    * [Bytes](#bytes)\n",
    "* [“Simple random data” and “Permutations” functions](#functions)\n",
    "* [“Distributions” functions](#distributions)\n",
    "* [Seeds](#seeds)\n",
    "\n",
    "***"
   ]
  },
  {
   "cell_type": "markdown",
   "metadata": {},
   "source": [
    "### Purpose of the package <a name=\"purpose\"></a>"
   ]
  },
  {
   "cell_type": "markdown",
   "metadata": {},
   "source": [
    "First of all let's remind ourselves a what random number is. It doesn't mean a different number every time, but a number that can not be logically predicted. And those random numbers that are produced through a generating algorithm are called pseudorandom $^1$. The _numpy.random_ package is based on a pseudorandom number generator, or PRNG, and comes as supplemental for [the built-in Python random package](https://docs.python.org/3/library/random.html). It is used for efficient generation of whole arrays of random values from various probability distributions $^2$.\n",
    "\n",
    "> 1. [DataCamp: Random Number Generator Using Numpy](https://www.datacamp.com/community/tutorials/numpy-random)\n",
    "2. [Wes McKinney: Python for Data Analysis ](https://www.oreilly.com/library/view/python-for-data/9781449323592/)"
   ]
  },
  {
   "cell_type": "code",
   "execution_count": 18,
   "metadata": {},
   "outputs": [],
   "source": [
    "# Import the numpy package.\n",
    "import numpy as np\n",
    "# Package for plotting.\n",
    "import matplotlib.pyplot as plt\n",
    "# Another package for plotting.\n",
    "import seaborn as sns\n",
    "\n",
    "# Colour scheme and styles for plots.\n",
    "sns.set_theme(palette=\"Set2\", context=\"paper\", font_scale=1.5)\n",
    "\n",
    "# Better sized plots.\n",
    "plt.rcParams['figure.figsize'] = (10, 6)"
   ]
  },
  {
   "cell_type": "code",
   "execution_count": 19,
   "metadata": {},
   "outputs": [],
   "source": [
    "# Get an instance of generator.\n",
    "rng = np.random.default_rng()"
   ]
  },
  {
   "cell_type": "markdown",
   "metadata": {},
   "source": [
    "* _INTEGERS_ <a name=\"integers\"></a>\n",
    " \n",
    "Numpy.random package generates random integers in a form of one-dimensional or multidimensional arrays.\n",
    " \n",
    "1.One-dimensional array"
   ]
  },
  {
   "cell_type": "code",
   "execution_count": 20,
   "metadata": {},
   "outputs": [
    {
     "data": {
      "text/plain": [
       "array([709, 883, 540, 840, 989, 625, 986, 210, 483, 887, 236, 879, 925,\n",
       "       414, 726, 523, 863, 570, 622, 613, 896, 921,  50, 150, 631, 266,\n",
       "       125, 624, 519, 687, 673, 547, 333, 696, 490, 119,   9, 249, 880,\n",
       "       391, 688, 506, 752, 737, 511, 718, 924, 863, 875, 443, 470, 905,\n",
       "       638, 156, 368, 518, 812, 827, 876, 456, 840,  97, 513,  45, 296,\n",
       "       149,  41, 828, 674, 693, 403, 153, 570, 833, 804, 480, 632, 277,\n",
       "       521, 789, 693, 781,  89, 243, 811, 738, 798, 937, 241, 670,  55,\n",
       "       619, 120, 782, 982, 950, 543, 779, 797, 950, 970, 839, 130, 585,\n",
       "       396, 444,   3, 892, 379, 801, 872, 614, 152, 602, 963,  37, 784,\n",
       "       245, 938, 177, 272,  88, 800, 646, 847, 254, 321, 985,  91, 156,\n",
       "       901, 131, 483, 483, 888, 739, 517, 577, 784, 919, 210,  64, 743,\n",
       "       489, 754, 868, 725, 930, 353, 847, 559, 281, 303, 790, 854, 857,\n",
       "       792, 941, 680, 886, 758, 565, 878, 156, 821, 516,  42, 675, 671,\n",
       "       932, 900, 938, 897, 157, 798, 489, 123, 787, 432,   7, 309, 933,\n",
       "       552, 272, 633, 226,  43, 522,  20, 175,  44, 728,  63, 921, 483,\n",
       "       198,  51, 899, 986, 843], dtype=int64)"
      ]
     },
     "execution_count": 20,
     "metadata": {},
     "output_type": "execute_result"
    }
   ],
   "source": [
    "# Call the generator to obtain 200 numbers between 0 and 999, inclusive:\n",
    "x = rng.integers(1000, size=200)\n",
    "\n",
    "# Display the array.\n",
    "x"
   ]
  },
  {
   "cell_type": "code",
   "execution_count": 21,
   "metadata": {},
   "outputs": [
    {
     "data": {
      "image/png": "[encoded data removed]",
      "text/plain": [
       "<Figure size 720x432 with 1 Axes>"
      ]
     },
     "metadata": {},
     "output_type": "display_data"
    }
   ],
   "source": [
    "# Plot the array.\n",
    "plt.title(\"One-dimensional array\")\n",
    "sns.histplot(x)\n",
    "plt.show()"
   ]
  },
  {
   "cell_type": "markdown",
   "metadata": {},
   "source": [
    "2. Multidimensional array"
   ]
  },
  {
   "cell_type": "code",
   "execution_count": 22,
   "metadata": {},
   "outputs": [
    {
     "data": {
      "text/plain": [
       "array([[62, 76, 54, 51, 44, 73, 40],\n",
       "       [73, 78, 50, 34, 24, 78, 33],\n",
       "       [79, 55, 54, 11, 65, 28, 91],\n",
       "       [ 4,  3, 78, 24, 58, 42, 96],\n",
       "       [42, 36, 15, 44, 69, 16, 60]], dtype=int64)"
      ]
     },
     "execution_count": 22,
     "metadata": {},
     "output_type": "execute_result"
    }
   ],
   "source": [
    "# Generate a 2-D array with 5 rows containing 7 integers between 0 and 99, inclusive:\n",
    "x = rng.integers(100, size=(5, 7))\n",
    "\n",
    "# Display the array.\n",
    "x"
   ]
  },
  {
   "cell_type": "code",
   "execution_count": 23,
   "metadata": {},
   "outputs": [
    {
     "data": {
      "image/png": "[encoded data removed]",
      "text/plain": [
       "<Figure size 720x432 with 1 Axes>"
      ]
     },
     "metadata": {},
     "output_type": "display_data"
    }
   ],
   "source": [
    "# Plot the array.\n",
    "plt.title(\"Multidimensional array\")\n",
    "for i in range(len(x)):\n",
    "    sns.histplot(x[i], pmax=1)\n",
    "plt.show()"
   ]
  },
  {
   "cell_type": "markdown",
   "metadata": {},
   "source": [
    "- _RANDOM_ <a name=\"random\"></a>\n",
    "\n"
   ]
  },
  {
   "cell_type": "markdown",
   "metadata": {},
   "source": [
    "- _CHOICE_ <a name=\"choice\"></a>"
   ]
  },
  {
   "cell_type": "markdown",
   "metadata": {},
   "source": [
    "- _BYTES_ <a name=\"bytes\"></a>"
   ]
  },
  {
   "cell_type": "markdown",
   "metadata": {},
   "source": [
    "### “Simple random data” and “Permutations” functions"
   ]
  },
  {
   "cell_type": "code",
   "execution_count": null,
   "metadata": {},
   "outputs": [],
   "source": []
  },
  {
   "cell_type": "code",
   "execution_count": 24,
   "metadata": {},
   "outputs": [],
   "source": [
    "# BELOW IS FROM CLASS - USE LATER"
   ]
  },
  {
   "cell_type": "code",
   "execution_count": 8,
   "metadata": {},
   "outputs": [],
   "source": [
    "x = rng.uniform(-10,1000,10000)"
   ]
  },
  {
   "cell_type": "code",
   "execution_count": 9,
   "metadata": {},
   "outputs": [
    {
     "data": {
      "text/plain": [
       "(array([ 979.,  988., 1063.,  984.,  976., 1042., 1051.,  964.,  995.,\n",
       "         958.]), array([ -9.81760991,  91.13165095, 192.08091181, 293.03017267,\n",
       "        393.97943352, 494.92869438, 595.87795524, 696.8272161 ,\n",
       "        797.77647696, 898.72573781, 999.67499867]), <a list of 10 Patch objects>)"
      ]
     },
     "execution_count": 9,
     "metadata": {},
     "output_type": "execute_result"
    },
    {
     "data": {
      "image/png": "[encoded data removed]",
      "text/plain": [
       "<Figure size 432x288 with 1 Axes>"
      ]
     },
     "metadata": {
      "needs_background": "light"
     },
     "output_type": "display_data"
    }
   ],
   "source": [
    "plt.hist(x)"
   ]
  },
  {
   "cell_type": "code",
   "execution_count": 10,
   "metadata": {},
   "outputs": [],
   "source": [
    "x = rng.normal(0, 0.1, 10000) # values centered around 0"
   ]
  },
  {
   "cell_type": "code",
   "execution_count": 11,
   "metadata": {},
   "outputs": [
    {
     "data": {
      "text/plain": [
       "(array([  16.,  148.,  776., 2028., 2905., 2530., 1225.,  308.,   54.,\n",
       "          10.]),\n",
       " array([-0.36383923, -0.28675338, -0.20966753, -0.13258168, -0.05549583,\n",
       "         0.02159002,  0.09867587,  0.17576172,  0.25284757,  0.32993342,\n",
       "         0.40701927]),\n",
       " <a list of 10 Patch objects>)"
      ]
     },
     "execution_count": 11,
     "metadata": {},
     "output_type": "execute_result"
    },
    {
     "data": {
      "image/png": "[encoded data removed]",
      "text/plain": [
       "<Figure size 432x288 with 1 Axes>"
      ]
     },
     "metadata": {
      "needs_background": "light"
     },
     "output_type": "display_data"
    }
   ],
   "source": [
    "plt.hist(x)"
   ]
  },
  {
   "cell_type": "code",
   "execution_count": null,
   "metadata": {},
   "outputs": [],
   "source": []
  }
 ],
 "metadata": {
  "kernelspec": {
   "display_name": "Python 3",
   "language": "python",
   "name": "python3"
  },
  "language_info": {
   "codemirror_mode": {
    "name": "ipython",
    "version": 3
   },
   "file_extension": ".py",
   "mimetype": "text/x-python",
   "name": "python",
   "nbconvert_exporter": "python",
   "pygments_lexer": "ipython3",
   "version": "3.7.4"
  }
 },
 "nbformat": 4,
 "nbformat_minor": 2
}
