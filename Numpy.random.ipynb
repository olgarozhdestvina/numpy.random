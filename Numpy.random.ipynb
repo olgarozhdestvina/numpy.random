{
 "cells": [
  {
   "cell_type": "markdown",
   "metadata": {},
   "source": [
    "# The numpy.random package \n",
    "\n",
    "\n",
    "[ Programming for Data Analysis Module GMIT 2020 ]\n",
    "\n",
    "\n",
    "<img align=\"left\" width=\"200\" height=\"200\" src=\"https://upload.wikimedia.org/wikipedia/commons/thumb/3/31/NumPy_logo_2020.svg/1024px-NumPy_logo_2020.svg.png\">\n"
   ]
  },
  {
   "cell_type": "markdown",
   "metadata": {},
   "source": [
    "Completed by: *Olga Rozhdestvina (G00387844@gmit.ie)*\n",
    "***\n",
    "\n",
    "## Table of Contents\n",
    "* [Purpose of the package](#purpose)\n",
    "* [“Simple random data” and “Permutations” functions](#functions)\n",
    "    * [Simple random data](#srd)\n",
    "        * [Integers](#integers)\n",
    "        * [Random](#random)\n",
    "        * [Choice](#choice)\n",
    "        * [Bytes](#bytes)\n",
    "    * [Permutations](#permutations)\n",
    "* [“Distributions” functions](#distributions)\n",
    "    * [Discrete Probability Distribution](#discrete)\n",
    "        * [Binominal](#binominal)\n",
    "        * [Multinomial](#multinomial)\n",
    "        * [Geometric](#geometric)\n",
    "        * [Poisson](#poisson)\n",
    "    * [Continuous Probability Distribution](#continuous)\n",
    "        * [Uniform](#uniform)\n",
    "        * [Normal](#normal)\n",
    "        * [Logistic](#logistic)\n",
    "        * [Exponential](#exponential)\n",
    "        \n",
    "        \n",
    "* [Seeds](#seeds)\n",
    "\n",
    "***"
   ]
  },
  {
   "cell_type": "markdown",
   "metadata": {},
   "source": [
    "### Purpose of the package <a name=\"purpose\"></a>"
   ]
  },
  {
   "cell_type": "markdown",
   "metadata": {},
   "source": [
    "First of all let's remind ourselves a what random number is. It doesn't mean a different number every time, but a number that can not be logically predicted. And those random numbers that are produced through a generating algorithm are called pseudorandom. [1] The _numpy.random_ package is based on a pseudorandom number generator, or PRNG, and comes as supplemental for [the built-in Python random package](https://docs.python.org/3/library/random.html). It is used for efficient generation of whole arrays of random values from various probability distributions. [2] [3]\n",
    "\n",
    "> 1. [DataCamp: Random Number Generator Using Numpy](https://www.datacamp.com/community/tutorials/numpy-random)\n",
    "2. [Wes McKinney: Python for Data Analysis ](https://www.oreilly.com/library/view/python-for-data/9781449323592/)\n",
    "3. [NumPy: numpy.random](https://numpy.org/doc/stable/reference/random/)"
   ]
  },
  {
   "cell_type": "code",
   "execution_count": 1,
   "metadata": {},
   "outputs": [],
   "source": [
    "# Import the numpy package.\n",
    "import numpy as np\n",
    "# Package for plotting.\n",
    "import matplotlib.pyplot as plt\n",
    "# Another package for plotting.\n",
    "import seaborn as sns\n"
   ]
  },
  {
   "cell_type": "code",
   "execution_count": 2,
   "metadata": {},
   "outputs": [],
   "source": [
    "# Colour scheme and styles for plots.\n",
    "sns.set_theme(palette=\"Set2\", context=\"paper\", font_scale=1.5)\n",
    "\n",
    "# Better sized plots.\n",
    "plt.rcParams['figure.figsize'] = (10, 6)"
   ]
  },
  {
   "cell_type": "code",
   "execution_count": 3,
   "metadata": {},
   "outputs": [],
   "source": [
    "# Get an instance of generator.\n",
    "rng = np.random.default_rng()"
   ]
  },
  {
   "cell_type": "markdown",
   "metadata": {},
   "source": [
    "***\n",
    "<br>\n",
    "\n",
    "### “SIMPLE RANDOM DATA” and “PERMUTATIONS” functions <a name=\"functions\"></a>"
   ]
  },
  {
   "cell_type": "markdown",
   "metadata": {},
   "source": [
    "#### Simple random data <a name=\"srd\"></a>\n",
    "\n",
    "\n",
    "<img align=\"left\" width=\"302\" height=\"420\" src=\"https://www.netquest.com/hubfs/Imported_Blog_Media/smallnumbers-1.png\">\n"
   ]
  },
  {
   "cell_type": "markdown",
   "metadata": {},
   "source": [
    "* _INTEGERS_ <a name=\"integers\"></a>\n",
    " \n",
    "Numpy.random package can be used for generating random integers. The examples below depict that this method can output a single integer, one-dimensional or two-dimensional arrays.\n",
    "\n",
    "1. A single integer"
   ]
  },
  {
   "cell_type": "code",
   "execution_count": 4,
   "metadata": {},
   "outputs": [
    {
     "data": {
      "text/plain": [
       "949"
      ]
     },
     "execution_count": 4,
     "metadata": {},
     "output_type": "execute_result"
    }
   ],
   "source": [
    "# Call the generator to obtain a random integer.\n",
    "x = rng.integers(1000)\n",
    "\n",
    "# Display the number.\n",
    "x"
   ]
  },
  {
   "cell_type": "markdown",
   "metadata": {},
   "source": [
    "2. One-dimensional array"
   ]
  },
  {
   "cell_type": "code",
   "execution_count": 5,
   "metadata": {},
   "outputs": [
    {
     "data": {
      "text/plain": [
       "array([377, 398, 932, 755, 699,  46, 312, 254, 478, 691, 305, 219, 471,\n",
       "        27, 775, 961, 332, 274, 752, 142, 773, 458,  38, 899, 955, 809,\n",
       "       395, 703, 398, 580, 753,  48, 773, 974, 475, 692, 856, 768, 118,\n",
       "       616, 689, 616, 435,  93, 857, 742, 821, 600, 812, 696,  53, 537,\n",
       "       903, 522, 691,  20,  18, 152, 685, 620, 105, 724, 448, 912, 499,\n",
       "       447,  91,  94, 820, 986, 317, 671, 477, 509, 321, 175, 611, 579,\n",
       "       208, 328, 267, 230,  71, 283,  66, 472, 767, 136, 369, 398, 980,\n",
       "       530, 516,  22, 116, 641, 849, 557, 731, 380,  26, 121, 565, 606,\n",
       "       997, 306, 613, 970, 827, 321, 136, 863, 703, 690, 191, 745, 569,\n",
       "       628,  92, 279, 392, 966,  28, 863, 310, 331, 408, 276, 280, 689,\n",
       "       410,  83, 709, 549, 103, 259, 582, 602, 529, 234,  91,  54,  99,\n",
       "        76, 313, 886, 402, 458, 167, 961, 484, 587, 913, 947, 997, 534,\n",
       "        21,  98, 996, 988, 725, 810, 621, 431, 573, 682,  35, 363, 340,\n",
       "       171, 706, 248, 134, 447, 388, 223, 127, 865, 929, 479, 290,  90,\n",
       "       172, 514, 435, 253, 961, 918, 239, 743, 111, 701, 260, 995, 337,\n",
       "       544, 804, 722, 177, 215], dtype=int64)"
      ]
     },
     "execution_count": 5,
     "metadata": {},
     "output_type": "execute_result"
    }
   ],
   "source": [
    "# Generate 200 numbers between 0 and 999, inclusive:\n",
    "x = rng.integers(1000, size=200)\n",
    "\n",
    "# Display the array.\n",
    "x"
   ]
  },
  {
   "cell_type": "code",
   "execution_count": 6,
   "metadata": {},
   "outputs": [
    {
     "data": {
      "image/png": "[encoded data removed]",
      "text/plain": [
       "<Figure size 720x432 with 1 Axes>"
      ]
     },
     "metadata": {},
     "output_type": "display_data"
    }
   ],
   "source": [
    "# Set the title for the future plot.\n",
    "plt.title(\"Integers Method: 1-D array\")\n",
    "\n",
    "# Plot the array.\n",
    "sns.histplot(x)\n",
    "\n",
    "# Show the plot.\n",
    "plt.show()"
   ]
  },
  {
   "cell_type": "markdown",
   "metadata": {},
   "source": [
    "3. Two-dimensional array"
   ]
  },
  {
   "cell_type": "code",
   "execution_count": 7,
   "metadata": {},
   "outputs": [
    {
     "data": {
      "text/plain": [
       "array([[53, 45, 86, 52, 95, 21, 52],\n",
       "       [43, 60, 68, 42, 17, 42, 77],\n",
       "       [74, 40, 59, 62, 70, 97, 72],\n",
       "       [90, 82, 46, 57,  2, 69, 63],\n",
       "       [91, 94, 40, 87, 29, 19, 54]], dtype=int64)"
      ]
     },
     "execution_count": 7,
     "metadata": {},
     "output_type": "execute_result"
    }
   ],
   "source": [
    "# Generate a 2-D array with 5 rows containing 7 integers between 0 and 99, inclusive:\n",
    "x = rng.integers(100, size=(5, 7))\n",
    "\n",
    "# Display the array.\n",
    "x"
   ]
  },
  {
   "cell_type": "code",
   "execution_count": 8,
   "metadata": {},
   "outputs": [
    {
     "data": {
      "image/png": "[encoded data removed]",
      "text/plain": [
       "<Figure size 720x432 with 1 Axes>"
      ]
     },
     "metadata": {},
     "output_type": "display_data"
    }
   ],
   "source": [
    "# Set the title for the future plot.\n",
    "plt.title(\"Integers Method: 2-D array\")\n",
    "\n",
    "# Loop through the rows in the array.\n",
    "\n",
    "sns.set()\n",
    "# Loop through the rows in the array.\n",
    "for i in range(len(x)):\n",
    "    # Build the plot.\n",
    "    plt.hist(x[i], histtype=\"stepfilled\", alpha=0.8)\n",
    "    \n",
    "# Show the plot.    \n",
    "plt.show()"
   ]
  },
  {
   "cell_type": "markdown",
   "metadata": {},
   "source": [
    "<br>\n",
    "\n",
    "- _RANDOM_ <a name=\"random\"></a>\n",
    "\n",
    "With this method numPy produces random floats and output vary from a single float number to one-dimensional or two-dimensional arrays. If not specified otherwise, floats are sampled from the interval between 0.0 and 1.0 (exclusively).\n",
    "\n",
    "1. A single float"
   ]
  },
  {
   "cell_type": "code",
   "execution_count": 9,
   "metadata": {},
   "outputs": [
    {
     "data": {
      "text/plain": [
       "0.6178966989543119"
      ]
     },
     "execution_count": 9,
     "metadata": {},
     "output_type": "execute_result"
    }
   ],
   "source": [
    "# Generate a single float number:\n",
    "x = rng.random()\n",
    "\n",
    "# Display the float.\n",
    "x"
   ]
  },
  {
   "cell_type": "markdown",
   "metadata": {},
   "source": [
    "2. One-dimensional array"
   ]
  },
  {
   "cell_type": "code",
   "execution_count": 10,
   "metadata": {},
   "outputs": [
    {
     "data": {
      "text/plain": [
       "array([0.18450064, 0.80517813, 0.36171792, 0.24765844, 0.49622315,\n",
       "       0.63776923, 0.19253007, 0.21411123, 0.50648991, 0.36111801,\n",
       "       0.27467247, 0.48337991, 0.80600422, 0.25353698, 0.47989722,\n",
       "       0.80917128, 0.29144762, 0.22217252, 0.25726147, 0.50147667,\n",
       "       0.99053377, 0.8398169 , 0.15108101, 0.50489655, 0.17175867,\n",
       "       0.77391344, 0.41517178, 0.2631761 , 0.60363283, 0.27009445,\n",
       "       0.46519928, 0.65521368, 0.50433474, 0.99860034, 0.96706739,\n",
       "       0.79712367, 0.21123785, 0.88504634, 0.23933809, 0.52745202])"
      ]
     },
     "execution_count": 10,
     "metadata": {},
     "output_type": "execute_result"
    }
   ],
   "source": [
    "# Generate 40 floats:\n",
    "x = rng.random((40,))\n",
    "\n",
    "# Display the array.\n",
    "x"
   ]
  },
  {
   "cell_type": "code",
   "execution_count": 11,
   "metadata": {},
   "outputs": [
    {
     "data": {
      "image/png": "[encoded data removed]",
      "text/plain": [
       "<Figure size 720x432 with 1 Axes>"
      ]
     },
     "metadata": {},
     "output_type": "display_data"
    }
   ],
   "source": [
    "# Set the title for the future plot.\n",
    "plt.title(\"Random Method: 1-D array\")\n",
    "\n",
    "# Change colour scheme.\n",
    "sns.set_palette(\"rocket\")\n",
    "\n",
    "# Build the plot.\n",
    "sns.histplot(x)\n",
    "\n",
    "# Show the plot.\n",
    "plt.show()"
   ]
  },
  {
   "cell_type": "markdown",
   "metadata": {},
   "source": [
    "3. Two-dimensional array"
   ]
  },
  {
   "cell_type": "code",
   "execution_count": 12,
   "metadata": {},
   "outputs": [
    {
     "data": {
      "text/plain": [
       "array([[-79.93736228, -43.59302266, -35.86814571, -34.80072585,\n",
       "        -28.48218573, -45.26909265, -37.87322129, -84.57579299,\n",
       "        -24.1973928 , -26.1532188 , -19.86445446, -88.92983285,\n",
       "        -24.0019618 , -10.97419391, -31.58504909, -64.20852033,\n",
       "         -3.85162819, -73.63179307, -20.34105971, -71.75063034,\n",
       "        -12.5180486 , -66.65230745, -12.19747646, -31.4581247 ,\n",
       "        -97.71905241, -34.25068708, -66.03162189, -39.5189656 ,\n",
       "        -32.19285126, -67.55536115],\n",
       "       [-97.79937909, -88.87524447, -79.40872025, -63.35027261,\n",
       "        -58.92913776, -38.69219343, -78.52785477, -64.39859181,\n",
       "        -80.99606392, -78.39124263, -90.09755054, -13.46275043,\n",
       "        -61.53485841, -44.14830049, -28.64335065, -51.87368943,\n",
       "        -47.36680113, -11.06453686, -98.20706065, -87.64068368,\n",
       "         -7.8920958 , -75.45841829, -40.83217517, -50.64565271,\n",
       "        -17.19899206, -28.11737749, -42.87387858, -60.45142746,\n",
       "        -77.21340313, -38.92158513]])"
      ]
     },
     "execution_count": 12,
     "metadata": {},
     "output_type": "execute_result"
    }
   ],
   "source": [
    "# Generate a 2-D array with 2 rows containing 30 floats between -100 and 0, exclusive:\n",
    "x = 100 * rng.random((2, 30)) - 100\n",
    "\n",
    "# Display the array.\n",
    "x"
   ]
  },
  {
   "cell_type": "code",
   "execution_count": 13,
   "metadata": {},
   "outputs": [
    {
     "data": {
      "image/png": "[encoded data removed]",
      "text/plain": [
       "<Figure size 720x432 with 1 Axes>"
      ]
     },
     "metadata": {},
     "output_type": "display_data"
    }
   ],
   "source": [
    "# Set the title for the future plot.\n",
    "plt.title(\"Random Method: 2-D array\")\n",
    "\n",
    "sns.set()\n",
    "# Loop through the rows in the array.\n",
    "for i in range(len(x)):\n",
    "    # Build the plot.\n",
    "    plt.hist(x[i], histtype=\"stepfilled\", alpha=0.5)\n",
    "    \n",
    "# Show the plot.    \n",
    "plt.show()"
   ]
  },
  {
   "cell_type": "markdown",
   "metadata": {},
   "source": [
    "<br>\n",
    "\n",
    "- _CHOICE_ <a name=\"choice\"></a>\n",
    "\n",
    "The choice method generates random numbers from a given integer or one-dimensional array (of integers or strings). If not specified otherwise, the output assumes a uniform distribution over all entries in the given array. (refer to [“Distributions” functions](#distributions) )\n",
    "\n",
    " 1. Uniform distribution (default)."
   ]
  },
  {
   "cell_type": "code",
   "execution_count": 14,
   "metadata": {},
   "outputs": [
    {
     "data": {
      "text/plain": [
       "array([4, 0, 0, 4, 8, 5, 1, 0, 9], dtype=int64)"
      ]
     },
     "execution_count": 14,
     "metadata": {},
     "output_type": "execute_result"
    }
   ],
   "source": [
    "# Generate 9 evenly spaced values between 0 and 9 (inclusive) (np.arange(10)).\n",
    "x = rng.choice(10, 9)\n",
    "\n",
    "# Display the array.\n",
    "x"
   ]
  },
  {
   "cell_type": "code",
   "execution_count": 15,
   "metadata": {},
   "outputs": [
    {
     "data": {
      "image/png": "[encoded data removed]",
      "text/plain": [
       "<Figure size 720x432 with 1 Axes>"
      ]
     },
     "metadata": {},
     "output_type": "display_data"
    }
   ],
   "source": [
    "# Set the title for the future plot.\n",
    "plt.title(\"Choice Method: Uniform distribution\")\n",
    "\n",
    "# Change colour scheme.\n",
    "sns.set_palette(\"flare\")\n",
    "\n",
    "# Build the plot.\n",
    "sns.histplot(x)\n",
    "\n",
    "# Show the plot.\n",
    "plt.show()"
   ]
  },
  {
   "cell_type": "code",
   "execution_count": 16,
   "metadata": {},
   "outputs": [
    {
     "data": {
      "text/plain": [
       "array([1, 2, 5, 7, 8, 6, 4, 3, 0], dtype=int64)"
      ]
     },
     "execution_count": 16,
     "metadata": {},
     "output_type": "execute_result"
    }
   ],
   "source": [
    "# Generate 9 UNIQUE random numbers from np.arange(10): \n",
    "x = rng.choice(10, 9, replace=False)\n",
    "\n",
    "# Display the array.\n",
    "x"
   ]
  },
  {
   "cell_type": "code",
   "execution_count": 17,
   "metadata": {},
   "outputs": [
    {
     "data": {
      "image/png": "[encoded data removed]",
      "text/plain": [
       "<Figure size 720x432 with 1 Axes>"
      ]
     },
     "metadata": {},
     "output_type": "display_data"
    }
   ],
   "source": [
    "# Set the title for the future plot.\n",
    "plt.title(\"Choice Method: Uniform distribution of unique numbers\")\n",
    "\n",
    "# Build the plot.\n",
    "sns.histplot(x)\n",
    "\n",
    "# Show the plot.\n",
    "plt.show()"
   ]
  },
  {
   "cell_type": "markdown",
   "metadata": {},
   "source": [
    " 2. Non-uniform distribution. \n",
    " \n",
    " Requires provision of probability $p$ of each entry in a given array to appear in the output. \n",
    " \n",
    " Note that $p$:\n",
    "    - has to be of the same size as a given array;\n",
    "    - sum of $p$ elements has to be 1;\n",
    "    - non-zero entries in $p$ has to be same as size."
   ]
  },
  {
   "cell_type": "code",
   "execution_count": 18,
   "metadata": {},
   "outputs": [
    {
     "data": {
      "text/plain": [
       "array([6, 2, 1, 2, 9, 7, 4, 5, 7], dtype=int64)"
      ]
     },
     "execution_count": 18,
     "metadata": {},
     "output_type": "execute_result"
    }
   ],
   "source": [
    "# Generate 9 evenly spaced values between 0 and 9 (inclusive) (np.arange(10)) with provided p:\n",
    "x = rng.choice(10, 9, p=[0.1, 0.1, 0.1, 0.1, 0.1, 0.2, 0.1, 0.1, 0, 0.1])\n",
    "\n",
    "# Display the array.\n",
    "x"
   ]
  },
  {
   "cell_type": "code",
   "execution_count": 19,
   "metadata": {},
   "outputs": [
    {
     "data": {
      "image/png": "[encoded data removed]",
      "text/plain": [
       "<Figure size 720x432 with 1 Axes>"
      ]
     },
     "metadata": {},
     "output_type": "display_data"
    }
   ],
   "source": [
    "# Set the title for the future plot.\n",
    "plt.title(\"Choice Method: Non-Uniform distribution\")\n",
    "\n",
    "# Build the plot.\n",
    "sns.histplot(x)\n",
    "\n",
    "# Show the plot.\n",
    "plt.show()"
   ]
  },
  {
   "cell_type": "code",
   "execution_count": 20,
   "metadata": {},
   "outputs": [
    {
     "data": {
      "text/plain": [
       "array([4, 7, 5, 0, 1, 6, 2, 9, 3], dtype=int64)"
      ]
     },
     "execution_count": 20,
     "metadata": {},
     "output_type": "execute_result"
    }
   ],
   "source": [
    "# Generate 9 evenly spaced values between 0 and 9 (inclusive) (np.arange(10)) with provided p:\n",
    "x = rng.choice(10, 9, replace=False, p=[0.1, 0.1, 0.1, 0.1, 0.1, 0.2, 0.1, 0.1, 0, 0.1])\n",
    "\n",
    "# Display the array.\n",
    "x"
   ]
  },
  {
   "cell_type": "code",
   "execution_count": 21,
   "metadata": {},
   "outputs": [
    {
     "data": {
      "image/png": "[encoded data removed]",
      "text/plain": [
       "<Figure size 720x432 with 1 Axes>"
      ]
     },
     "metadata": {},
     "output_type": "display_data"
    }
   ],
   "source": [
    "# Set the title for the future plot.\n",
    "plt.title(\"Choice Method: Non-Uniform distribution of unique numbers\")\n",
    "\n",
    "# Build the plot.\n",
    "sns.histplot(x)\n",
    "\n",
    "# Show the plot.\n",
    "plt.show()"
   ]
  },
  {
   "cell_type": "markdown",
   "metadata": {},
   "source": [
    "- _BYTES_ <a name=\"bytes\"></a>\n",
    "\n",
    "This NumPy random method returns random bytes."
   ]
  },
  {
   "cell_type": "code",
   "execution_count": 22,
   "metadata": {},
   "outputs": [
    {
     "data": {
      "text/plain": [
       "b'l\\xf1\\x8bz\\xfc\\x10Ki\\xd1\\x82\\xe5b\"\\xf2\\xe7E\\xbf\\xaa\\x8f\\x937\\xa8]O\\xa0\\x01%%R\\xa4\\xa8\\xbc\\x9c\\xa4\\xb0A\\x12\\xeag\\xcf1\\xf59g\\xd5;\\x11\\xa5b;>\\x06)\\x18\\xe8\\xed!\\xca\\xb4`\\xa3\\xaf\\xf5\\x00J\\xf1\\x8fZg\\xa20~\\x89\\xb9\\xbfs\\xfc\\xe3<y\\xcd\\xbc\\xd0F\\xae\\xd2R\\xc81\\xd6\\xfc\\x90~\\x93\\xc4\\tj-\\xacy'"
      ]
     },
     "execution_count": 22,
     "metadata": {},
     "output_type": "execute_result"
    }
   ],
   "source": [
    "# Generate 100 random bytes:\n",
    "x = rng.bytes(100)\n",
    "\n",
    "# Display the array.\n",
    "x"
   ]
  },
  {
   "cell_type": "markdown",
   "metadata": {},
   "source": [
    "***\n",
    "<br>\n",
    "\n",
    "#### Permutations <a name=\"permutations\"></a>\n",
    "\n",
    "\n",
    "<img align=\"left\" width=\"200\" height=\"300\" src=\"https://upload.wikimedia.org/wikipedia/commons/3/39/Combination_unlocked.png\">"
   ]
  },
  {
   "cell_type": "markdown",
   "metadata": {},
   "source": [
    "Generally speaking, in NumPy, both permutation and shuffle methods randomly shuffle elements in an array, which results in the same output when plotting (see below). However, there are some differences in these methods. \n",
    "\n",
    "The Shuffle method changes arrangement of elements inplace, i.e. in the array itself. On the other hand, the Permutation method produces a shuffled range if integer is passed or a shuffled _copy_ of the array if an array is passed (meaning that the original array is left unchanged).$^4$\n",
    "\n",
    "\n",
    "> 4. [W3Schools: Random Permutations](https://www.w3schools.com/python/numpy_random_permutation.asp)\n"
   ]
  },
  {
   "cell_type": "markdown",
   "metadata": {},
   "source": [
    "_SHUFFLE_ vs _PERMUTATION_ \n",
    "\n",
    "1. One-Dimensional Array"
   ]
  },
  {
   "cell_type": "code",
   "execution_count": 23,
   "metadata": {},
   "outputs": [
    {
     "data": {
      "text/plain": [
       "array([153,  27,  57,   7,   8,  48,  38,  93,  21, 111, 123,  47, 141,\n",
       "       172, 108,   3,  87, 129, 137,  13, 184, 114, 163, 139,  20,  86,\n",
       "       195,  97,  70,  49,  62,  67,  88,  19, 131,  80, 175,  63,  39,\n",
       "        43, 146,   5, 168,  58,  65,  83,  68, 109,  14, 196,  24, 164,\n",
       "        17,  73,  79,  72, 107, 154, 100, 158,  95, 115,  91, 189, 155,\n",
       "       116,  32,  22,  28,  26,  41, 120, 166,  51, 159,  94,  78, 179,\n",
       "        66,  18, 132,  99, 148, 104,  11,  44, 194, 183, 149, 188,  31,\n",
       "       187, 197,  89, 190,  64,  15, 199,  84,  82,  71,  23,  75, 103,\n",
       "        76,   4,  42,  46,   2, 150, 122, 147,  52, 142,  85, 126,  34,\n",
       "       157, 161,  56, 138, 185, 113,  96, 110, 182, 193, 160, 135, 191,\n",
       "       133,  55, 101, 162,  30, 102,  29, 119,  69, 165, 145,  77,  25,\n",
       "        81, 143, 171, 177, 121, 117,  59,   9, 156,  90, 170, 192, 140,\n",
       "        54,  40,  37, 136,  45, 169, 130,   6,  12, 181,  98, 186,  60,\n",
       "         0, 180, 176, 174, 152, 167, 106, 134,  35,  50,  53,  92,  16,\n",
       "        10, 198, 127,  74, 125, 178, 173, 144, 128,  36, 105,  33, 118,\n",
       "         1, 112,  61, 124, 151])"
      ]
     },
     "execution_count": 23,
     "metadata": {},
     "output_type": "execute_result"
    }
   ],
   "source": [
    "# Generate an array between 0 and 199, inclusive:\n",
    "x = np.arange(200)\n",
    "\n",
    "# Shuffle its content.\n",
    "rng.shuffle(x)\n",
    "\n",
    "# Display the array.\n",
    "x"
   ]
  },
  {
   "cell_type": "code",
   "execution_count": 24,
   "metadata": {},
   "outputs": [
    {
     "data": {
      "text/plain": [
       "array([ 14, 178,  46,   6,  27, 146, 197,  11, 155, 168,  18, 121, 195,\n",
       "        45, 186,  21,  83,  10,  82,   9,   5,  69,   1, 161,  19, 172,\n",
       "         7, 182,  22, 163, 177,   2,  60, 110, 138,  66, 111,  13,  48,\n",
       "       189,  99,  93, 153,  79,  29,  77,  94,  65, 144, 169, 126, 160,\n",
       "        20, 123, 142,  74,  80, 128, 185, 127,  86,  16,  38,  49, 191,\n",
       "        57,  44,  88,  73,  50, 117, 100,  92, 103,  70,  87,  76, 167,\n",
       "       140, 154, 199, 183, 106, 113, 181, 170, 179,  81, 108, 131,  17,\n",
       "       196,  37,  98,  39, 147, 152,  68, 171, 180,  40, 105, 166, 190,\n",
       "       175, 129,  51,  72,  97, 150,  33, 148, 164, 119,  25,  54,  53,\n",
       "       145,  24,  34, 184,  96, 135, 149, 176, 137, 174,  89,  62,  23,\n",
       "       173,  43, 198, 143,  56,  35,  28,  71,   4, 194,   0, 132,  91,\n",
       "       193, 122, 141, 102, 159, 101,  78,  15, 107, 136, 130, 192, 114,\n",
       "        55, 125,  61, 104, 118, 156, 124,  52,  63,  41, 187,  90,  26,\n",
       "       116, 139,  36,  12, 133, 158,  58, 134,  47,   8,  84, 157,  85,\n",
       "        64, 165, 162, 112,  67,  59,  31,  75,  30,   3, 188,  32, 115,\n",
       "        42, 109,  95, 151, 120])"
      ]
     },
     "execution_count": 24,
     "metadata": {},
     "output_type": "execute_result"
    }
   ],
   "source": [
    "# Permute an array of 200 numbers between 0 and 199, inclusive:\n",
    "y = rng.permutation(200)\n",
    "\n",
    "# Display the array.\n",
    "y"
   ]
  },
  {
   "cell_type": "code",
   "execution_count": 25,
   "metadata": {},
   "outputs": [
    {
     "data": {
      "image/png": "[encoded data removed]",
      "text/plain": [
       "<Figure size 720x432 with 2 Axes>"
      ]
     },
     "metadata": {},
     "output_type": "display_data"
    }
   ],
   "source": [
    "# Change colour scheme.\n",
    "sns.set_palette(\"husl\")\n",
    "\n",
    "# Build the Shuffle plot one the left.\n",
    "plt.subplot(1, 2, 1)\n",
    "sns.histplot(x)\n",
    "\n",
    "# Set the title for the Shuffle plot.\n",
    "plt.title(\"Shuffle: 1-D array\")\n",
    "\n",
    "# Build the Permutation plot one the right.\n",
    "plt.subplot(1, 2, 2)\n",
    "sns.histplot(y)\n",
    "\n",
    "# Set the title for the Permutation plot.\n",
    "plt.title(\"Permutation: 1-D array\")\n",
    "\n",
    "# Show the plot.\n",
    "plt.show()"
   ]
  },
  {
   "cell_type": "markdown",
   "metadata": {},
   "source": [
    "2. Two-Dimensional Array"
   ]
  },
  {
   "cell_type": "code",
   "execution_count": 26,
   "metadata": {
    "scrolled": false
   },
   "outputs": [
    {
     "data": {
      "text/plain": [
       "array([[ 82,  44,  89,  92,  45,  70,  85,  22,  64,  67,  49,   3,  26,\n",
       "         86,  19,  42,  79,  43,   7,  54,  39,  57,  10,  51,  18,  35,\n",
       "          9,  77,   0,  62,  40,  87,  29,  72,  78,  50,  71,  99,  28,\n",
       "         61,  27,  98,  90,  91,  23,   8,  93,  16,  21,  94,  41,  68,\n",
       "         52,  59,   5,  74,  13,  17,  96,  31,  37,   4,  76,  60,  55,\n",
       "          2,  15,  80,  33,  75,  53,  46,  81,  63,  36,  32,  58,  11,\n",
       "         73,  25,  30,  97,  95,  38,  34,  47,  83,  24,   1,  14,  48,\n",
       "         12,   6,  66,  56,  84,  20,  69,  65,  88],\n",
       "       [182, 144, 189, 192, 145, 170, 185, 122, 164, 167, 149, 103, 126,\n",
       "        186, 119, 142, 179, 143, 107, 154, 139, 157, 110, 151, 118, 135,\n",
       "        109, 177, 100, 162, 140, 187, 129, 172, 178, 150, 171, 199, 128,\n",
       "        161, 127, 198, 190, 191, 123, 108, 193, 116, 121, 194, 141, 168,\n",
       "        152, 159, 105, 174, 113, 117, 196, 131, 137, 104, 176, 160, 155,\n",
       "        102, 115, 180, 133, 175, 153, 146, 181, 163, 136, 132, 158, 111,\n",
       "        173, 125, 130, 197, 195, 138, 134, 147, 183, 124, 101, 114, 148,\n",
       "        112, 106, 166, 156, 184, 120, 169, 165, 188]])"
      ]
     },
     "execution_count": 26,
     "metadata": {},
     "output_type": "execute_result"
    }
   ],
   "source": [
    "# Generate a 2-D array with 2 rows of 100 numbers between 0 and 199, inclusive:\n",
    "x = np.arange(200).reshape((2, 100))\n",
    "\n",
    "# Shuffle its content along the axis 1.\n",
    "rng.shuffle(x, axis=1)\n",
    "\n",
    "# Display the array.\n",
    "x"
   ]
  },
  {
   "cell_type": "code",
   "execution_count": 27,
   "metadata": {},
   "outputs": [
    {
     "data": {
      "text/plain": [
       "array([[ 48,  62,  86,  33,  74,  58,  22,  36,  70,  93,  85,  81,  54,\n",
       "         17,  49,  26,  60,  30,  47,  53,  29,  57,  52,  37,  71,  25,\n",
       "         42,  97,  75,  21,   8,  39,  95,  72,  27,  51,  73,  40,  56,\n",
       "         92,  87,  50,  91,   4,  32,  84,  66,  82,   1,  67,  18,   3,\n",
       "         65,  35,  23,  11,  76,   6,  90,  94,  10,  78,   2,  31,  99,\n",
       "         55,  20,  63,  46,  68,  89,  59,  88,  96,  34,  61,  12,  77,\n",
       "         43,  64,   0,  14,  19,  15,  38,  41,  16,  13,   5,  83,  98,\n",
       "         28,   7,  24,  69,  80,   9,  79,  45,  44],\n",
       "       [148, 162, 186, 133, 174, 158, 122, 136, 170, 193, 185, 181, 154,\n",
       "        117, 149, 126, 160, 130, 147, 153, 129, 157, 152, 137, 171, 125,\n",
       "        142, 197, 175, 121, 108, 139, 195, 172, 127, 151, 173, 140, 156,\n",
       "        192, 187, 150, 191, 104, 132, 184, 166, 182, 101, 167, 118, 103,\n",
       "        165, 135, 123, 111, 176, 106, 190, 194, 110, 178, 102, 131, 199,\n",
       "        155, 120, 163, 146, 168, 189, 159, 188, 196, 134, 161, 112, 177,\n",
       "        143, 164, 100, 114, 119, 115, 138, 141, 116, 113, 105, 183, 198,\n",
       "        128, 107, 124, 169, 180, 109, 179, 145, 144]])"
      ]
     },
     "execution_count": 27,
     "metadata": {},
     "output_type": "execute_result"
    }
   ],
   "source": [
    "# Generate a 2-D array with 2 rows of 200 numbers between 0 and 199, inclusive:\n",
    "a = np.arange(200).reshape((2, 100))\n",
    "\n",
    "# Copy the array and shuffle its content along the axis 1.\n",
    "y = rng.permutation(a, axis=1)\n",
    "\n",
    "# Display the array.\n",
    "y"
   ]
  },
  {
   "cell_type": "code",
   "execution_count": 28,
   "metadata": {},
   "outputs": [
    {
     "data": {
      "image/png": "[encoded data removed]",
      "text/plain": [
       "<Figure size 720x432 with 2 Axes>"
      ]
     },
     "metadata": {},
     "output_type": "display_data"
    }
   ],
   "source": [
    "# Build the Shuffle plot one the left.\n",
    "plt.subplot(1, 2, 1)\n",
    "for i in range(len(x)):\n",
    "    # Build the plot.\n",
    "    sns.histplot(x[i])\n",
    "\n",
    "# Set the title for the Shuffle plot.\n",
    "plt.title(\"Shuffle: 2-D array shuffled along the axis\")\n",
    "\n",
    "# Build the Permutation plot the right.\n",
    "plt.subplot(1, 2, 2)\n",
    "for i in range(len(y)):\n",
    "    # Build the plot.\n",
    "    sns.histplot(y[i])\n",
    "\n",
    "# Set the title for the Permutation plot.\n",
    "plt.title(\"Permutation: 2-D array shuffled along the axis\")\n",
    "\n",
    "# Show the plot.    \n",
    "plt.show()"
   ]
  },
  {
   "cell_type": "markdown",
   "metadata": {},
   "source": [
    "***\n",
    "<br>\n",
    "\n",
    "### “DISTRIBUTIONS” functions <a name=\"distributions\"></a>\n",
    "\n",
    "<img align=\"left\" width=\"300\" height=\"300\" src=\"https://cdn1.iconfinder.com/data/icons/data-science-flat-1/64/probability-distribution-normal-curve-statistics-data-512.png\">"
   ]
  },
  {
   "cell_type": "markdown",
   "metadata": {},
   "source": [
    "Probability distribution is a rule or a set of rules that outlines all the possible values that a random variable is likely to take within a given range. The precision of where values will be plotted on the probability distribution within this range depends on many factors, including the distribution's mean, standard deviation etc. [1]\n",
    "\n",
    "Statistically, probability distributions can be divided into two groups: discrete and continuous. This division depends on whether the data on which probability is calculated consists of discrete (with a range of countable values) or continuous (with a range of infinite (uncountable) values) variables. [2] [3]\n",
    "\n",
    "> 1. [Investopedia: Probability Distribution](https://www.investopedia.com/terms/p/probabilitydistribution.asp)\n",
    "2. [Statistics How To: Continuous Probability Distribution](https://www.statisticshowto.com/continuous-probability-distribution/)\n",
    "3. [Statistics How To: Discrete Probability Distribution](https://www.statisticshowto.com/discrete-probability-distribution/)\n"
   ]
  },
  {
   "cell_type": "markdown",
   "metadata": {},
   "source": [
    "<br>\n",
    "\n",
    "#### Discrete Probability Distribution <a name=\"discrete\"></a>\n",
    "\n",
    "##### Binomial.  <a name=\"binomial\"></a>\n",
    "\n",
    "A binomial distribution may have two possible outcomes: \"success\" or \"failure\" (hence \"binomial\").\n",
    "\n",
    "There are three properties that binomial distributions must have:\n",
    "\n",
    "1. The number of trials is fixed.\n",
    "2. Each trial is independent. \n",
    "3. The success probability is the same from one trial to another.  [1]\n",
    "\n",
    "There are many real-life instances of binomial distributions. For example, we can calculate a number of \"successes\" of a new medicine tested on a set of patients where the outcome for a given patient is either a success or a failure. [2] \n",
    "\n",
    "> 1. [Statistics How To: Binomial Distribution](https://www.statisticshowto.com/probability-and-statistics/binomial-theorem/binomial-distribution-formula/)\n",
    "2. [Boston University School of Public Health: The Binomial Distribution](https://sphweb.bumc.bu.edu/otlt/mph-modules/bs/bs704_probability/bs704_probability7.html#:~:text=The%20binomial%20distribution%20model%20allows,a%20success%20or%20a%20failure.)"
   ]
  },
  {
   "cell_type": "markdown",
   "metadata": {},
   "source": [
    "_Example: Flip a coin_\n",
    "\n",
    "<img align=\"left\" width=\"140\" height=\"250\" src=\"https://juliakovach.files.wordpress.com/2012/07/coin-toss.png\">\n"
   ]
  },
  {
   "cell_type": "code",
   "execution_count": 29,
   "metadata": {
    "scrolled": true
   },
   "outputs": [
    {
     "data": {
      "text/plain": [
       "array([ 9, 13, 10, 11,  9,  7,  8, 13, 13,  6, 10,  9, 12,  9, 11,  7,  9,\n",
       "        8, 13, 12,  8, 13, 11,  6, 10, 14, 12,  9,  9,  9, 14, 11, 12,  6,\n",
       "        7, 10,  9, 12,  8, 10, 13,  7,  9, 11,  8,  9,  8, 10,  9,  8,  8,\n",
       "       14, 10, 14,  9, 10, 13,  6,  7,  6, 11, 10,  9, 12, 12, 16,  8, 14,\n",
       "        9,  9, 12, 14, 13,  8, 14, 11, 11,  8, 10,  9, 10,  8, 11, 10,  9,\n",
       "       11,  7, 14,  8,  7, 10, 14, 11,  8,  8,  8, 11,  9, 10, 11,  9, 12,\n",
       "       10, 12, 11, 11,  9,  7, 11, 10,  8, 10, 11, 11, 13,  9,  7,  8,  6,\n",
       "       10, 11, 13, 12,  9,  8,  9,  7,  6,  7,  9,  9, 12, 12, 14, 10,  9,\n",
       "        7, 14,  7, 11, 12, 10, 11, 11, 10, 13, 13,  9, 11, 10, 15,  7, 11,\n",
       "        9,  6, 11, 12, 11, 12, 10, 13, 11,  7,  9, 15,  8, 13, 10, 14, 12,\n",
       "        9, 11, 13, 10,  6,  8, 10, 11,  9,  9, 11,  8, 10, 14,  9, 10, 12,\n",
       "       11, 13,  8,  7, 11,  9,  9, 11, 14, 14,  7, 11, 11,  8, 10, 12, 10,\n",
       "       11, 11,  9, 11, 10, 10,  9,  6,  8,  4, 12,  6,  8, 13,  8, 13, 12,\n",
       "       11, 14, 10, 10, 12, 10, 11,  7,  8, 12,  6, 12, 13, 13, 10,  9,  7,\n",
       "       12, 15,  9,  7,  6,  9,  7, 13,  5, 12, 10, 11, 10,  9, 13,  7,  8,\n",
       "       11,  9,  7, 11, 11, 11, 12, 11,  9,  8,  9,  8,  8,  9,  9, 12, 14,\n",
       "       10, 14, 10, 11, 10, 13,  8, 12, 11, 14,  7,  7, 10,  7, 10, 10, 13,\n",
       "        7, 10, 11,  9, 12, 12,  9,  7, 10, 10, 13, 16,  7, 12, 15, 14, 11,\n",
       "        9, 10, 11, 10,  9, 10,  9, 11,  8, 10,  8,  6, 11, 11,  9,  8, 11,\n",
       "       10, 11, 13,  9, 13, 12, 11, 11, 11,  9,  8, 10,  9, 11,  9, 11,  7,\n",
       "       15, 10,  9, 11,  8, 13, 10, 14, 11, 13, 11,  8,  7,  7, 13, 14, 11,\n",
       "        8, 10, 13,  8, 12, 11, 12,  9,  9, 10, 10,  6, 10, 11,  8, 11, 12,\n",
       "        9,  8,  8, 10, 10,  9, 11, 11, 11, 10,  5, 11,  8, 14, 13,  9,  8,\n",
       "       11, 11,  7, 13, 11, 10, 11, 14, 11, 13, 13, 13, 11, 12,  6,  7, 13,\n",
       "       11, 13, 14, 11,  9,  7, 11, 12, 10, 13, 12, 14,  9, 11, 13, 10,  6,\n",
       "        9, 10, 11, 10,  9,  8, 11,  8, 11, 13, 11, 11, 12, 14, 11,  8, 14,\n",
       "        9, 12,  9, 11,  8, 16, 10, 11, 12, 11, 12, 12, 11,  9, 12,  8,  8,\n",
       "       14,  8, 11, 15, 13,  9, 10, 14,  9, 10, 10, 10, 11, 13,  8,  9, 11,\n",
       "        8,  5, 10,  7,  7, 13, 11,  6, 10,  7, 10,  8, 11,  8,  7, 10, 10,\n",
       "        9, 12,  9, 11,  8,  7,  8,  5, 12, 12,  6,  5, 10, 12, 11,  9,  9,\n",
       "        8, 11,  7,  6,  9, 11, 11, 12, 13,  7,  7,  8, 16,  9, 12,  6, 10,\n",
       "       10,  6,  6, 11, 10,  7, 10, 10, 14, 14, 10, 14,  9, 12,  7,  9,  8,\n",
       "       11,  7, 13, 12,  9, 10,  8,  9, 11,  9, 11, 11, 12,  9, 10, 10, 12,\n",
       "        7,  8, 10, 12, 12,  8,  8,  9, 15,  6, 11, 12, 13,  7, 10,  7, 12,\n",
       "        7, 12, 11, 13, 11,  9,  8, 13,  8,  9,  8, 11, 13, 14, 13, 13,  7,\n",
       "       10, 11,  9, 12,  8,  6, 14,  8, 10,  5,  9, 13, 10, 12,  9,  9, 11,\n",
       "       10, 11, 10, 14,  9, 12, 11,  8, 10, 11,  6,  5,  7,  7,  7, 11,  6,\n",
       "       11,  8, 10,  7, 12,  9, 10, 14,  9, 11, 12, 11,  5, 11,  8,  7,  9,\n",
       "        7, 14, 11,  9,  9, 10, 10,  8, 11,  7,  9,  9, 10, 10,  7, 10, 13,\n",
       "       11,  9, 14,  9,  8, 10, 10,  7, 10,  8, 12, 15,  9, 15, 14, 12, 11,\n",
       "       10,  8, 11, 10, 13, 14, 12, 14, 10,  8,  7,  9, 10, 12, 10,  6,  6,\n",
       "        7, 11, 14, 12, 12,  9, 13,  8,  9,  9,  6,  8,  7, 12,  9,  9, 11,\n",
       "       10,  9,  7,  8,  9,  6, 10,  9, 10, 11, 13,  9, 11, 11, 10, 12,  7,\n",
       "        8,  6,  9, 10, 10, 10, 15, 13, 12, 13, 10,  6,  9,  9, 13,  8,  7,\n",
       "        7,  9,  9,  8,  9, 11,  4,  5, 11,  9, 12,  9,  9,  9,  7, 13,  9,\n",
       "       12, 11, 11, 10,  9,  9, 11,  8,  9, 10, 13,  7,  7,  8, 10, 12, 15,\n",
       "        8,  8, 10, 11, 12,  7, 11, 12,  8, 10, 11, 12, 14, 11, 14, 11, 11,\n",
       "        9, 13, 10, 11, 11, 10,  7, 12,  7, 11, 10, 11, 10,  9,  7,  8,  9,\n",
       "       15, 12, 11, 12, 13, 10, 11, 12,  7, 11,  9,  9,  7, 11, 10, 13, 12,\n",
       "       10, 10,  7, 10, 11,  8, 10, 14, 10, 10,  7, 10,  9,  7,  8,  9,  7,\n",
       "       10, 12, 12, 11, 11, 10, 15, 10, 10, 10,  9,  9,  9, 11, 10, 10,  6,\n",
       "       10,  8,  9, 11, 14, 10,  8, 10,  9, 13, 10, 10, 12, 11,  8,  8,  7,\n",
       "        7, 10, 10, 10, 13,  9, 15, 13,  7,  9, 10, 11, 13,  6, 15, 12, 10,\n",
       "       14, 13,  9,  8,  9,  9, 13,  8, 12, 13,  9,  7, 11, 12,  5, 15,  8,\n",
       "        9, 12,  9, 13, 10,  8, 10,  8,  9, 12,  9, 10,  8, 11, 10,  7, 13,\n",
       "       13, 11, 10,  8,  8, 10,  7,  8,  9,  8, 14, 12, 12, 11, 11,  9, 10,\n",
       "        7, 10, 10, 13,  9, 10, 11, 14, 10, 12, 12, 10, 13,  9, 10,  9,  8,\n",
       "       14,  5,  9, 10,  8,  8,  7, 10,  9,  9, 10, 12,  7,  7, 10,  9, 10,\n",
       "       14,  6, 13,  9,  9, 10,  9,  9, 12, 11, 11,  8, 11,  9],\n",
       "      dtype=int64)"
      ]
     },
     "execution_count": 29,
     "metadata": {},
     "output_type": "execute_result"
    }
   ],
   "source": [
    "# Flip a coin 20 times with a probability 0.5 of each trial.\n",
    "n, p = 20, 0.5\n",
    "\n",
    "# Test done 1000 times.\n",
    "x = rng.binomial(n, p, 1000)\n",
    "\n",
    "# Display the number of heads.\n",
    "x"
   ]
  },
  {
   "cell_type": "code",
   "execution_count": 30,
   "metadata": {},
   "outputs": [
    {
     "data": {
      "image/png": "[encoded data removed]",
      "text/plain": [
       "<Figure size 720x432 with 1 Axes>"
      ]
     },
     "metadata": {},
     "output_type": "display_data"
    }
   ],
   "source": [
    "# Change colour scheme.\n",
    "sns.set_palette(\"PuOr\")\n",
    "\n",
    "# Set the title and x label for the future plot.\n",
    "plt.title(f\"Binominal Distribution: Flip a coin {n} times\")\n",
    "plt.xlabel(\"Number of Heads\")\n",
    "\n",
    "# Build the plot.\n",
    "sns.histplot(x, stat=\"probability\")\n",
    "\n",
    "# Show the plot.\n",
    "plt.show()"
   ]
  },
  {
   "cell_type": "markdown",
   "metadata": {},
   "source": [
    "<br>\n",
    "\n",
    "_Example: Test of an antihistamine drug_\n",
    "\n",
    "<img align=\"left\" width=\"220\" height=\"80\" src=\"https://secure.webtoolhub.com/static/resources/icons/set33/254c1686.png\">"
   ]
  },
  {
   "cell_type": "markdown",
   "metadata": {},
   "source": [
    "If the medication is given to 10 patients suffering from allergies, what is the probability of its effectiveness to be exactly exactly 7 when 80% of adults report symptomatic relief with this medication?"
   ]
  },
  {
   "cell_type": "code",
   "execution_count": 31,
   "metadata": {},
   "outputs": [
    {
     "data": {
      "text/plain": [
       "array([ 8,  9, 10, ...,  7,  8, 10], dtype=int64)"
      ]
     },
     "execution_count": 31,
     "metadata": {},
     "output_type": "execute_result"
    }
   ],
   "source": [
    "# 10 new patients with allergies.\n",
    "n = 10\n",
    "\n",
    "# The probability of success for each person is 0.8.\n",
    "p = 0.8\n",
    "\n",
    "# Calculate the success rate.\n",
    "x = rng.binomial(n, p, 20000)\n",
    "\n",
    "# Display it\n",
    "x"
   ]
  },
  {
   "cell_type": "code",
   "execution_count": 32,
   "metadata": {},
   "outputs": [
    {
     "data": {
      "image/png": "[encoded data removed]",
      "text/plain": [
       "<Figure size 720x432 with 1 Axes>"
      ]
     },
     "metadata": {},
     "output_type": "display_data"
    }
   ],
   "source": [
    "# Set the title and x label for the future plot.\n",
    "plt.title(\"Binominal Distribution: Test of an antihistamine drug\")\n",
    "plt.xlabel(\"Patients\")\n",
    "\n",
    "# Build the plot.\n",
    "sns.histplot(x, stat=\"probability\")\n",
    "\n",
    "# Show the plot.\n",
    "plt.show()"
   ]
  },
  {
   "cell_type": "code",
   "execution_count": 33,
   "metadata": {},
   "outputs": [
    {
     "data": {
      "text/plain": [
       "0.2015"
      ]
     },
     "execution_count": 33,
     "metadata": {},
     "output_type": "execute_result"
    }
   ],
   "source": [
    "# Effectiveness of the grug is 7.\n",
    "s = 7\n",
    "\n",
    "# Calculate the probability when tested 20000 times.\n",
    "x = sum(rng.binomial(n, p, 20000) == s)/20000\n",
    "\n",
    "# Display the probability.\n",
    "x"
   ]
  },
  {
   "cell_type": "markdown",
   "metadata": {},
   "source": [
    "<br>\n",
    "\n",
    "##### Multinomial  <a name=\"multinomial\"></a>\n",
    "\n",
    "A multinomial distribution is generalization of binominal distribution with more than two outcomes (hence multinominal). [1]\n",
    "The multinominal distribution follows the same criteria as the binominal.\n",
    "\n",
    "> 1. [Statistics How To: Multinomial Distribution](https://www.statisticshowto.com/multinomial-distribution/)"
   ]
  },
  {
   "cell_type": "markdown",
   "metadata": {},
   "source": [
    "_Example: Throw a dice_\n",
    "\n",
    "<img align=\"left\" width=\"230\" height=\"80\" src=\"https://upload.wikimedia.org/wikipedia/commons/thumb/3/36/Two_red_dice_01.svg/671px-Two_red_dice_01.svg.png\">"
   ]
  },
  {
   "cell_type": "code",
   "execution_count": 34,
   "metadata": {},
   "outputs": [
    {
     "data": {
      "text/plain": [
       "array([[ 8, 11, 11, 10,  9, 11]], dtype=int64)"
      ]
     },
     "execution_count": 34,
     "metadata": {},
     "output_type": "execute_result"
    }
   ],
   "source": [
    "# Dice with 6 sides.\n",
    "d = [1/6.]\n",
    "\n",
    "# Throw it 60 times.\n",
    "n = 60\n",
    "\n",
    "# Compute a probability.\n",
    "x = rng.multinomial(n, d*6, size=1)\n",
    "\n",
    "# Display it\n",
    "x"
   ]
  },
  {
   "cell_type": "code",
   "execution_count": 35,
   "metadata": {},
   "outputs": [
    {
     "data": {
      "image/png": "[encoded data removed]",
      "text/plain": [
       "<Figure size 720x432 with 1 Axes>"
      ]
     },
     "metadata": {},
     "output_type": "display_data"
    }
   ],
   "source": [
    "# Change colour scheme.\n",
    "sns.set_palette(\"pastel\")\n",
    "\n",
    "# Set the title and x label for the future plot.\n",
    "plt.title(f\"Multinominal Distribution: Throw a dice {n} times\")\n",
    "plt.xlabel(\"Number of times the dice lands on each side\")\n",
    "\n",
    "# Build the plot.\n",
    "plt.hist(x, histtype=\"barstacked\")\n",
    "\n",
    "# New label to match the dice.\n",
    "labels = ['1','2','3','4','5','6']\n",
    "plt.legend(labels, title=\"Dice sides\")\n",
    "\n",
    "# Show the plot.\n",
    "plt.show()"
   ]
  },
  {
   "cell_type": "code",
   "execution_count": 36,
   "metadata": {},
   "outputs": [
    {
     "data": {
      "text/plain": [
       "array([[ 9, 12,  9, 13,  9,  8],\n",
       "       [10, 12, 11,  9,  7, 11]], dtype=int64)"
      ]
     },
     "execution_count": 36,
     "metadata": {},
     "output_type": "execute_result"
    }
   ],
   "source": [
    "# Throw it 60 times twice\n",
    "x = rng.multinomial(n, d*6, size=2)\n",
    "\n",
    "# Display the probability\n",
    "x"
   ]
  },
  {
   "cell_type": "code",
   "execution_count": 37,
   "metadata": {},
   "outputs": [
    {
     "data": {
      "image/png": "[encoded data removed]",
      "text/plain": [
       "<Figure size 720x432 with 1 Axes>"
      ]
     },
     "metadata": {},
     "output_type": "display_data"
    }
   ],
   "source": [
    "# Set the title and x label for the future plot.\n",
    "plt.title(f\"Multinominal Distribution: Throw a dice {n} times twice\")\n",
    "plt.xlabel(\"Number of times the dice lands on each side\")\n",
    "\n",
    "# Build the plot.\n",
    "plt.hist(x, histtype=\"barstacked\")\n",
    "\n",
    "# New label to match the dice.\n",
    "labels = ['1','2','3','4','5','6']\n",
    "plt.legend(labels, title=\"Dice sides\")\n",
    "\n",
    "# Show the plot.\n",
    "plt.show()"
   ]
  },
  {
   "cell_type": "code",
   "execution_count": 38,
   "metadata": {
    "scrolled": true
   },
   "outputs": [
    {
     "data": {
      "text/plain": [
       "array([ 9, 11, 17, 13, 17, 33], dtype=int64)"
      ]
     },
     "execution_count": 38,
     "metadata": {},
     "output_type": "execute_result"
    }
   ],
   "source": [
    "# Roll a loaded die (2/7 to land on 6).\n",
    "d = [1/7.]*5 + [2/7.]\n",
    "\n",
    "# Throw it 100 times.\n",
    "n = 100\n",
    "\n",
    "# Project the probability of it landing on 6.\n",
    "x = rng.multinomial(n, d)\n",
    "\n",
    "# Display it\n",
    "x"
   ]
  },
  {
   "cell_type": "code",
   "execution_count": 39,
   "metadata": {},
   "outputs": [
    {
     "data": {
      "image/png": "[encoded data removed]",
      "text/plain": [
       "<Figure size 720x432 with 1 Axes>"
      ]
     },
     "metadata": {},
     "output_type": "display_data"
    }
   ],
   "source": [
    "# Set the title and x label for the future plot.\n",
    "plt.title(f\"Multinominal Distribution: Throw a loaded die {n} times twice\")\n",
    "plt.xlabel(\"Number of times the loaded die lands on 6\")\n",
    "\n",
    "# Build the plot.\n",
    "sns.histplot(x, legend=False, stat=\"probability\")\n",
    "\n",
    "# Show the plot.\n",
    "plt.show()"
   ]
  },
  {
   "cell_type": "markdown",
   "metadata": {},
   "source": [
    "<br>\n",
    "\n",
    "##### Geometric   <a name=\"geometric\"></a>\n",
    "The geometric distribution represents one or more Bernoulli (binominal) trials with all failures excluding the last one, which results in success. Assumptions for the geometric distribution are the same as for binominal. [1] \n",
    "\n",
    "The geometic distribution is used for modeling situations that require knowing likely number of trials until success, and thus has applications to econometrics, return on investment, population modeling, and so on. [2] \n",
    "\n",
    "> 1. [Statistics How To: Geometric Distribution](https://www.statisticshowto.com/geometric-distribution/)\n",
    "2. [Brilliant: Geometric Distribution](https://brilliant.org/wiki/geometric-distribution/)"
   ]
  },
  {
   "cell_type": "markdown",
   "metadata": {},
   "source": [
    "_Example: Election_\n",
    "\n",
    "<img align=\"left\" width=\"230\" height=\"80\" src=\"https://encrypted-tbn0.gstatic.com/images?q=tbn%3AANd9GcSST1krcuDqRqW5PVb5TUOtmOk7UScWRDL2dtclHIm5VGqe4S0L3sD1WfoNJi5g4hxGDVgqs9sgvv8z69hnu50rs3ex4cv2mdC6z2UrkqA&usqp=CAU&ec=45714080\">"
   ]
  },
  {
   "cell_type": "markdown",
   "metadata": {},
   "source": [
    "If we ask ask people outside a polling station who they voted for, what is the probability of meeting someone that voted for an independent candidate on your 100th try assuuming that your probability of success is 15%."
   ]
  },
  {
   "cell_type": "code",
   "execution_count": 40,
   "metadata": {},
   "outputs": [
    {
     "data": {
      "text/plain": [
       "array([ 8,  3, 10, 29,  4,  5,  7,  2,  1,  2,  6,  1,  8,  7,  2,  5, 11,\n",
       "        9,  3,  3,  7,  2,  7,  7,  2,  5,  3, 19, 18,  6,  1,  3,  3,  2,\n",
       "       10,  5,  2,  7, 11,  6,  3, 10, 24,  2, 17,  3,  2,  3, 13,  3,  1,\n",
       "        7,  8, 16,  6,  8, 12,  4,  1, 25,  2,  7,  1, 15,  2,  7,  5,  3,\n",
       "        7, 10,  7, 10,  1,  1,  2,  4,  8,  5, 12,  4,  8,  1,  5,  6, 21,\n",
       "        1,  3,  5,  4,  2, 11,  6,  7,  3,  4, 14,  8,  1,  3,  8],\n",
       "      dtype=int64)"
      ]
     },
     "execution_count": 40,
     "metadata": {},
     "output_type": "execute_result"
    }
   ],
   "source": [
    "# The probability of an individual success is 0.15.\n",
    "p = 0.15\n",
    "\n",
    "# Do 100 trials.\n",
    "size = 100\n",
    "\n",
    "# Calculate the probability\n",
    "x = rng.geometric(p, size)\n",
    "\n",
    "# Display it\n",
    "x\n"
   ]
  },
  {
   "cell_type": "code",
   "execution_count": 41,
   "metadata": {},
   "outputs": [
    {
     "data": {
      "image/png": "[encoded data removed]",
      "text/plain": [
       "<Figure size 720x432 with 1 Axes>"
      ]
     },
     "metadata": {},
     "output_type": "display_data"
    }
   ],
   "source": [
    "# Change colour scheme.\n",
    "sns.set_palette(\"Paired\")\n",
    "\n",
    "# Set the title and x label for the future plot.\n",
    "plt.title(f\"Geometric Distribution: Find an independent candidate on your {size}th try\")\n",
    "\n",
    "# Build the plot.\n",
    "sns.histplot(x, stat=\"probability\", kde=True)\n",
    "\n",
    "# Show the plot.\n",
    "plt.show()"
   ]
  },
  {
   "cell_type": "code",
   "execution_count": 42,
   "metadata": {},
   "outputs": [
    {
     "data": {
      "text/plain": [
       "0.11"
      ]
     },
     "execution_count": 42,
     "metadata": {},
     "output_type": "execute_result"
    }
   ],
   "source": [
    "# How many trials succeeded after a single run?\n",
    "y = (x == 1).sum() / 100.\n",
    "\n",
    "# Display the probability of success.\n",
    "y"
   ]
  },
  {
   "cell_type": "markdown",
   "metadata": {},
   "source": [
    "##### Poisson  <a name=\"poisson\"></a>\n",
    "\n",
    "The poisson distribution is used for prediction of the number of events happening in a fixed time period, given the average number of times the event happens over that time period. [1]\n",
    "\n",
    "The Poisson distribution is often used in biology (e.g. in mutation detection), finance, business (e.g. to make forecasts), disaster readiness, and other time-independent spheres.\n",
    "\n",
    "There is a number of conditions for poisson distribution:\n",
    "\n",
    "1. An event can occur any number of times during a fixed time period.\n",
    "2. Each event is independent. \n",
    "3. The occurence rate doesn't change based on time.\n",
    "4. Occurence of an event is directly proportional to the length of the time period. [2]\n",
    "\n",
    "> 1. [Statistics How To: Poisson Distribution](https://www.statisticshowto.com/poisson-distribution/)\n",
    "2. [Brilliant: Poisson Distribution](https://brilliant.org/wiki/poisson-distribution/#:~:text=the%20number%20of%20Airbus%20330,over%20a%20given%20production%20time)"
   ]
  },
  {
   "cell_type": "markdown",
   "metadata": {},
   "source": [
    "_Exmaple: Storm occurence_\n",
    "\n",
    "<img align=\"left\" width=\"180\" height=\"80\" src=\"https://simpleicon.com/wp-content/uploads/storm.png\">"
   ]
  },
  {
   "cell_type": "markdown",
   "metadata": {},
   "source": [
    "The average number of major storms in your city is 2 per year. What is the probability that exactly 3 storms will hit your city next year?"
   ]
  },
  {
   "cell_type": "code",
   "execution_count": 43,
   "metadata": {},
   "outputs": [
    {
     "data": {
      "text/plain": [
       "array([1, 1, 1, ..., 6, 1, 1], dtype=int64)"
      ]
     },
     "execution_count": 43,
     "metadata": {},
     "output_type": "execute_result"
    }
   ],
   "source": [
    "# Draw samples from the distribution tested 10000:\n",
    "x = rng.poisson(2, 10000)\n",
    "\n",
    "# Display the array\n",
    "x"
   ]
  },
  {
   "cell_type": "code",
   "execution_count": 44,
   "metadata": {
    "scrolled": false
   },
   "outputs": [
    {
     "data": {
      "image/png": "[encoded data removed]",
      "text/plain": [
       "<Figure size 720x432 with 1 Axes>"
      ]
     },
     "metadata": {},
     "output_type": "display_data"
    }
   ],
   "source": [
    "# Change colour scheme.\n",
    "sns.set_palette(\"PRGn\")\n",
    "\n",
    "# Set the title and x label for the future plot.\n",
    "plt.title(\"Poisson Distribution: Possiblity of Storm\")\n",
    "\n",
    "# Build the plot.\n",
    "sns.histplot(x, stat=\"probability\")\n",
    "\n",
    "# Show the plot.\n",
    "plt.show()"
   ]
  },
  {
   "cell_type": "code",
   "execution_count": 45,
   "metadata": {},
   "outputs": [
    {
     "data": {
      "text/plain": [
       "0.1803"
      ]
     },
     "execution_count": 45,
     "metadata": {},
     "output_type": "execute_result"
    }
   ],
   "source": [
    "# Calculate the probability of 3 storms.\n",
    "y = sum(x == 3)/10000\n",
    "\n",
    "# Display the probability.\n",
    "y"
   ]
  },
  {
   "cell_type": "markdown",
   "metadata": {},
   "source": [
    "***\n",
    "<br>\n",
    "\n",
    "#### Continuous Probability Distribution  <a name=\"continuous\"></a>\n",
    "##### Uniform <a name=\"uniform\"></a>"
   ]
  },
  {
   "cell_type": "code",
   "execution_count": 46,
   "metadata": {},
   "outputs": [],
   "source": [
    "x = rng.uniform(-10,1000,10000)"
   ]
  },
  {
   "cell_type": "code",
   "execution_count": 47,
   "metadata": {},
   "outputs": [
    {
     "data": {
      "text/plain": [
       "(array([1035.,  968., 1006.,  985., 1008.,  961.,  999., 1034., 1029.,\n",
       "         975.]), array([ -9.82840528,  91.13693318, 192.10227165, 293.06761011,\n",
       "        394.03294858, 494.99828704, 595.96362551, 696.92896397,\n",
       "        797.89430244, 898.8596409 , 999.82497937]), <a list of 10 Patch objects>)"
      ]
     },
     "execution_count": 47,
     "metadata": {},
     "output_type": "execute_result"
    },
    {
     "data": {
      "image/png": "[encoded data removed]",
      "text/plain": [
       "<Figure size 720x432 with 1 Axes>"
      ]
     },
     "metadata": {},
     "output_type": "display_data"
    }
   ],
   "source": [
    "plt.hist(x)"
   ]
  },
  {
   "cell_type": "markdown",
   "metadata": {},
   "source": [
    "##### Normal <a name=\"normal\"></a>"
   ]
  },
  {
   "cell_type": "code",
   "execution_count": 48,
   "metadata": {},
   "outputs": [],
   "source": [
    "x = rng.normal(0, 0.1, 10000) # values centered around 0"
   ]
  },
  {
   "cell_type": "code",
   "execution_count": 49,
   "metadata": {},
   "outputs": [
    {
     "data": {
      "text/plain": [
       "(array([  10.,  116.,  582., 1593., 2667., 2761., 1607.,  538.,  113.,\n",
       "          13.]),\n",
       " array([-0.37349582, -0.29832667, -0.22315752, -0.14798837, -0.07281922,\n",
       "         0.00234993,  0.07751908,  0.15268823,  0.22785739,  0.30302654,\n",
       "         0.37819569]),\n",
       " <a list of 10 Patch objects>)"
      ]
     },
     "execution_count": 49,
     "metadata": {},
     "output_type": "execute_result"
    },
    {
     "data": {
      "image/png": "[encoded data removed]",
      "text/plain": [
       "<Figure size 720x432 with 1 Axes>"
      ]
     },
     "metadata": {},
     "output_type": "display_data"
    }
   ],
   "source": [
    "plt.hist(x)"
   ]
  },
  {
   "cell_type": "markdown",
   "metadata": {},
   "source": [
    "##### Logistic <a name=\"logistic\"></a>"
   ]
  },
  {
   "cell_type": "markdown",
   "metadata": {},
   "source": [
    "\n",
    "##### Exponential <a name=\"exponential\"></a>"
   ]
  },
  {
   "cell_type": "markdown",
   "metadata": {},
   "source": [
    "### SEEDS  <a name=\"seeds\"></a> "
   ]
  }
 ],
 "metadata": {
  "kernelspec": {
   "display_name": "Python 3",
   "language": "python",
   "name": "python3"
  },
  "language_info": {
   "codemirror_mode": {
    "name": "ipython",
    "version": 3
   },
   "file_extension": ".py",
   "mimetype": "text/x-python",
   "name": "python",
   "nbconvert_exporter": "python",
   "pygments_lexer": "ipython3",
   "version": "3.7.4"
  }
 },
 "nbformat": 4,
 "nbformat_minor": 2
}
