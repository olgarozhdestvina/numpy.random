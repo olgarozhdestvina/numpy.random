{
 "cells": [
  {
   "cell_type": "markdown",
   "metadata": {},
   "source": [
    "# The numpy.random package \n",
    "\n",
    "\n",
    "[ Programming for Data Analysis Module GMIT 2020 ]\n",
    "\n",
    "\n",
    "<img align=\"left\" width=\"200\" height=\"200\" src=\"https://upload.wikimedia.org/wikipedia/commons/thumb/3/31/NumPy_logo_2020.svg/1024px-NumPy_logo_2020.svg.png\">\n"
   ]
  },
  {
   "cell_type": "markdown",
   "metadata": {},
   "source": [
    "Completed by: *Olga Rozhdestvina (G00387844@gmit.ie)*\n",
    "***\n",
    "\n",
    "## Table of Contents\n",
    "* [Purpose of the package](#purpose)\n",
    "* [“Simple random data” and “Permutations” functions](#functions)\n",
    "    * [Simple random data](#srd)\n",
    "        * [Integers](#integers)\n",
    "        * [Random](#random)\n",
    "        * [Choice](#choice)\n",
    "        * [Bytes](#bytes)\n",
    "    * [Permutations](#permutations)\n",
    "* [“Distributions” functions](#distributions)\n",
    "    * [Discrete Probability Distribution](#discrete)\n",
    "        * [Binominal](#binominal)\n",
    "        * [Multinomial](#multinomial)\n",
    "        * [Geometric](#geometric)\n",
    "        * [Poisson](#poisson)\n",
    "    * [Continuous Probability Distribution](#continuous)\n",
    "        * [Normal](#normal)\n",
    "        * [Chi-Square](#chisquare)\n",
    "        * [Logistic](#logistic)\n",
    "        * [Exponential](#exponential)\n",
    "        \n",
    "        \n",
    "* [Seeds](#seeds)\n",
    "\n",
    "***"
   ]
  },
  {
   "cell_type": "markdown",
   "metadata": {},
   "source": [
    "### Purpose of the package <a name=\"purpose\"></a>"
   ]
  },
  {
   "cell_type": "markdown",
   "metadata": {},
   "source": [
    "First of all let's remind ourselves a what random number is. It doesn't mean a different number every time, but a number that can not be logically predicted. And those random numbers that are produced through a generating algorithm are called pseudorandom. [1] The _numpy.random_ package is based on a pseudorandom number generator, or PRNG, and comes as supplemental for [the built-in Python random package](https://docs.python.org/3/library/random.html). It is used for efficient generation of whole arrays of random values from various probability distributions. [2] [3]\n",
    "\n",
    "> 1. [DataCamp: Random Number Generator Using Numpy](https://www.datacamp.com/community/tutorials/numpy-random)\n",
    "2. [Wes McKinney: Python for Data Analysis ](https://www.oreilly.com/library/view/python-for-data/9781449323592/)\n",
    "3. [NumPy: numpy.random](https://numpy.org/doc/stable/reference/random/)"
   ]
  },
  {
   "cell_type": "code",
   "execution_count": 1,
   "metadata": {},
   "outputs": [],
   "source": [
    "# Import the numpy package.\n",
    "import numpy as np\n",
    "# Package for plotting.\n",
    "import matplotlib.pyplot as plt\n",
    "# Another package for plotting.\n",
    "import seaborn as sns\n"
   ]
  },
  {
   "cell_type": "code",
   "execution_count": 2,
   "metadata": {},
   "outputs": [],
   "source": [
    "# Colour scheme and styles for plots.\n",
    "sns.set_theme(palette=\"Set2\", context=\"paper\", font_scale=1.5)\n",
    "\n",
    "# Better sized plots.\n",
    "plt.rcParams['figure.figsize'] = (10, 6)"
   ]
  },
  {
   "cell_type": "code",
   "execution_count": 3,
   "metadata": {},
   "outputs": [],
   "source": [
    "# Get an instance of generator.\n",
    "rng = np.random.default_rng()"
   ]
  },
  {
   "cell_type": "markdown",
   "metadata": {},
   "source": [
    "***\n",
    "<br>\n",
    "\n",
    "### “SIMPLE RANDOM DATA” and “PERMUTATIONS” functions <a name=\"functions\"></a>"
   ]
  },
  {
   "cell_type": "markdown",
   "metadata": {},
   "source": [
    "#### Simple random data <a name=\"srd\"></a>\n",
    "\n",
    "\n",
    "<img align=\"left\" width=\"302\" height=\"420\" src=\"https://www.netquest.com/hubfs/Imported_Blog_Media/smallnumbers-1.png\">\n"
   ]
  },
  {
   "cell_type": "markdown",
   "metadata": {},
   "source": [
    "* _INTEGERS_ <a name=\"integers\"></a>\n",
    " \n",
    "Numpy.random package can be used for generating random integers. The examples below depict that this method can output a single integer, one-dimensional or two-dimensional arrays.\n",
    "\n",
    "1. A single integer"
   ]
  },
  {
   "cell_type": "code",
   "execution_count": 4,
   "metadata": {},
   "outputs": [
    {
     "data": {
      "text/plain": [
       "59"
      ]
     },
     "execution_count": 4,
     "metadata": {},
     "output_type": "execute_result"
    }
   ],
   "source": [
    "# Call the generator to obtain a random integer.\n",
    "x = rng.integers(1000)\n",
    "\n",
    "# Display the number.\n",
    "x"
   ]
  },
  {
   "cell_type": "markdown",
   "metadata": {},
   "source": [
    "2. One-dimensional array"
   ]
  },
  {
   "cell_type": "code",
   "execution_count": 5,
   "metadata": {},
   "outputs": [
    {
     "data": {
      "text/plain": [
       "array([537,  56, 890, 531, 232, 919, 662, 878, 588, 981,   4, 792, 148,\n",
       "       871, 427,  24, 839, 426, 369,  26, 801, 133, 995, 704, 944, 380,\n",
       "       422, 372, 817, 325, 121, 689, 360, 361, 499, 243, 184, 189, 821,\n",
       "       447, 961, 514,  75, 741, 806, 147, 263, 394, 150, 675, 234,  33,\n",
       "       902, 392, 594, 631, 123, 513, 224, 747, 404,  27, 789, 861, 941,\n",
       "       543, 729, 530,  68, 360, 440, 538, 131,  39, 500, 761,   2, 454,\n",
       "       238, 945, 146,  35, 494,   6, 955,  56, 925, 324, 168, 247, 664,\n",
       "       348, 139, 135, 708, 630, 481, 625, 768, 147, 753, 116, 856, 511,\n",
       "       878, 567, 216, 736, 964,  40, 585, 574, 925, 960, 758, 236, 342,\n",
       "       946, 270, 295,  36, 588, 545, 719, 542, 343, 490, 295, 394, 644,\n",
       "       456, 850, 876, 172, 638, 608, 424, 758, 885, 865, 530, 808, 825,\n",
       "       347, 341, 975, 998, 881, 501, 369, 760, 642, 357, 142, 955, 486,\n",
       "       196, 839, 560, 833, 439, 290, 404, 977,  40, 405, 992, 152, 131,\n",
       "       505, 643, 311, 509, 397, 484, 352, 617, 494, 585, 366, 285, 358,\n",
       "       907, 612, 878, 874, 536,  61, 856, 792, 459, 169, 686, 225, 808,\n",
       "       819, 761, 612, 884, 681], dtype=int64)"
      ]
     },
     "execution_count": 5,
     "metadata": {},
     "output_type": "execute_result"
    }
   ],
   "source": [
    "# Generate 200 numbers between 0 and 999, inclusive:\n",
    "x = rng.integers(1000, size=200)\n",
    "\n",
    "# Display the array.\n",
    "x"
   ]
  },
  {
   "cell_type": "code",
   "execution_count": 6,
   "metadata": {},
   "outputs": [
    {
     "data": {
      "image/png": "[encoded data removed]",
      "text/plain": [
       "<Figure size 720x432 with 1 Axes>"
      ]
     },
     "metadata": {},
     "output_type": "display_data"
    }
   ],
   "source": [
    "# Set the title for the future plot.\n",
    "plt.title(\"Integers Method: 1-D array\")\n",
    "\n",
    "# Plot the array.\n",
    "sns.histplot(x)\n",
    "\n",
    "# Show the plot.\n",
    "plt.show()"
   ]
  },
  {
   "cell_type": "markdown",
   "metadata": {},
   "source": [
    "3. Two-dimensional array"
   ]
  },
  {
   "cell_type": "code",
   "execution_count": 7,
   "metadata": {},
   "outputs": [
    {
     "data": {
      "text/plain": [
       "array([[89,  2, 58, 63, 50, 64, 91],\n",
       "       [80, 33, 74, 38,  8, 47,  9],\n",
       "       [45, 22, 29, 20, 26, 46,  0],\n",
       "       [ 5, 27, 87, 56, 70, 79, 61],\n",
       "       [ 1, 43, 48, 44, 55, 46, 71]], dtype=int64)"
      ]
     },
     "execution_count": 7,
     "metadata": {},
     "output_type": "execute_result"
    }
   ],
   "source": [
    "# Generate a 2-D array with 5 rows containing 7 integers between 0 and 99, inclusive:\n",
    "x = rng.integers(100, size=(5, 7))\n",
    "\n",
    "# Display the array.\n",
    "x"
   ]
  },
  {
   "cell_type": "code",
   "execution_count": 8,
   "metadata": {},
   "outputs": [
    {
     "data": {
      "image/png": "[encoded data removed]",
      "text/plain": [
       "<Figure size 720x432 with 1 Axes>"
      ]
     },
     "metadata": {},
     "output_type": "display_data"
    }
   ],
   "source": [
    "# Set the title for the future plot.\n",
    "plt.title(\"Integers Method: 2-D array\")\n",
    "\n",
    "# Loop through the rows in the array.\n",
    "\n",
    "sns.set()\n",
    "# Loop through the rows in the array.\n",
    "for i in range(len(x)):\n",
    "    # Build the plot.\n",
    "    plt.hist(x[i], histtype=\"stepfilled\", alpha=0.8)\n",
    "    \n",
    "# Show the plot.    \n",
    "plt.show()"
   ]
  },
  {
   "cell_type": "markdown",
   "metadata": {},
   "source": [
    "<br>\n",
    "\n",
    "- _RANDOM_ <a name=\"random\"></a>\n",
    "\n",
    "With this method numPy produces random floats and output vary from a single float number to one-dimensional or two-dimensional arrays. If not specified otherwise, floats are sampled from the interval between 0.0 and 1.0 (exclusively).\n",
    "\n",
    "1. A single float"
   ]
  },
  {
   "cell_type": "code",
   "execution_count": 9,
   "metadata": {},
   "outputs": [
    {
     "data": {
      "text/plain": [
       "0.4681989948241235"
      ]
     },
     "execution_count": 9,
     "metadata": {},
     "output_type": "execute_result"
    }
   ],
   "source": [
    "# Generate a single float number:\n",
    "x = rng.random()\n",
    "\n",
    "# Display the float.\n",
    "x"
   ]
  },
  {
   "cell_type": "markdown",
   "metadata": {},
   "source": [
    "2. One-dimensional array"
   ]
  },
  {
   "cell_type": "code",
   "execution_count": 10,
   "metadata": {},
   "outputs": [
    {
     "data": {
      "text/plain": [
       "array([0.36445655, 0.75535424, 0.1335573 , 0.81639878, 0.13131256,\n",
       "       0.32343926, 0.5924608 , 0.34069868, 0.36067206, 0.84536168,\n",
       "       0.39202503, 0.86164353, 0.97974803, 0.26377775, 0.81371978,\n",
       "       0.52136858, 0.4087851 , 0.16111658, 0.77207381, 0.77949663,\n",
       "       0.57763166, 0.18768092, 0.82215639, 0.04591669, 0.21146546,\n",
       "       0.71594113, 0.40605873, 0.52909422, 0.17916439, 0.52917235,\n",
       "       0.81295284, 0.49283297, 0.64746701, 0.82193529, 0.68835375,\n",
       "       0.84612838, 0.39384565, 0.59858361, 0.32958429, 0.60946116])"
      ]
     },
     "execution_count": 10,
     "metadata": {},
     "output_type": "execute_result"
    }
   ],
   "source": [
    "# Generate 40 floats:\n",
    "x = rng.random((40,))\n",
    "\n",
    "# Display the array.\n",
    "x"
   ]
  },
  {
   "cell_type": "code",
   "execution_count": 11,
   "metadata": {},
   "outputs": [
    {
     "data": {
      "image/png": "[encoded data removed]",
      "text/plain": [
       "<Figure size 720x432 with 1 Axes>"
      ]
     },
     "metadata": {},
     "output_type": "display_data"
    }
   ],
   "source": [
    "# Set the title for the future plot.\n",
    "plt.title(\"Random Method: 1-D array\")\n",
    "\n",
    "# Change colour scheme.\n",
    "sns.set_palette(\"rocket\")\n",
    "\n",
    "# Build the plot.\n",
    "sns.histplot(x)\n",
    "\n",
    "# Show the plot.\n",
    "plt.show()"
   ]
  },
  {
   "cell_type": "markdown",
   "metadata": {},
   "source": [
    "3. Two-dimensional array"
   ]
  },
  {
   "cell_type": "code",
   "execution_count": 12,
   "metadata": {},
   "outputs": [
    {
     "data": {
      "text/plain": [
       "array([[-18.37122324, -91.62464688, -97.68307729,  -9.26475865,\n",
       "        -56.99022725, -52.02532268,  -8.16911337, -13.31828788,\n",
       "        -81.97709401, -64.34113743, -84.44551265, -99.46670412,\n",
       "        -48.31387357, -77.16062832, -41.8311079 , -17.14665856,\n",
       "        -60.32014481, -93.16036684, -80.40439716, -61.08744858,\n",
       "        -34.87078347, -47.18265998, -68.40055426, -86.91826106,\n",
       "        -60.48258946, -97.03434741, -74.23838189, -53.73551529,\n",
       "        -71.36507978, -36.34441846],\n",
       "       [ -6.97727675, -36.29067834, -39.06605694, -97.56615021,\n",
       "        -73.87466317, -50.62871612, -43.47008116,  -4.6841294 ,\n",
       "        -76.55662712, -18.54536809, -54.78699504, -52.48980858,\n",
       "        -78.7221946 , -58.17868934, -74.69429697, -81.16000538,\n",
       "        -45.97091687, -31.01838044, -65.90739062, -85.5194385 ,\n",
       "        -51.69768534,  -0.67622285, -28.09650135, -61.96839171,\n",
       "        -33.18094487, -92.05314349, -46.31680044, -85.89003567,\n",
       "        -74.30030721, -62.14662942]])"
      ]
     },
     "execution_count": 12,
     "metadata": {},
     "output_type": "execute_result"
    }
   ],
   "source": [
    "# Generate a 2-D array with 2 rows containing 30 floats between -100 and 0, exclusive:\n",
    "x = 100 * rng.random((2, 30)) - 100\n",
    "\n",
    "# Display the array.\n",
    "x"
   ]
  },
  {
   "cell_type": "code",
   "execution_count": 13,
   "metadata": {},
   "outputs": [
    {
     "data": {
      "image/png": "[encoded data removed]",
      "text/plain": [
       "<Figure size 720x432 with 1 Axes>"
      ]
     },
     "metadata": {},
     "output_type": "display_data"
    }
   ],
   "source": [
    "# Set the title for the future plot.\n",
    "plt.title(\"Random Method: 2-D array\")\n",
    "\n",
    "sns.set()\n",
    "# Loop through the rows in the array.\n",
    "for i in range(len(x)):\n",
    "    # Build the plot.\n",
    "    plt.hist(x[i], histtype=\"stepfilled\", alpha=0.5)\n",
    "    \n",
    "# Show the plot.    \n",
    "plt.show()"
   ]
  },
  {
   "cell_type": "markdown",
   "metadata": {},
   "source": [
    "<br>\n",
    "\n",
    "- _CHOICE_ <a name=\"choice\"></a>\n",
    "\n",
    "The choice method generates random numbers from a given integer or one-dimensional array (of integers or strings). If not specified otherwise, the output assumes a uniform distribution over all entries in the given array. (refer to [“Distributions” functions](#distributions) )\n",
    "\n",
    " 1. Uniform distribution (default)."
   ]
  },
  {
   "cell_type": "code",
   "execution_count": 14,
   "metadata": {},
   "outputs": [
    {
     "data": {
      "text/plain": [
       "array([2, 1, 4, 5, 5, 8, 1, 6, 0], dtype=int64)"
      ]
     },
     "execution_count": 14,
     "metadata": {},
     "output_type": "execute_result"
    }
   ],
   "source": [
    "# Generate 9 evenly spaced values between 0 and 9 (inclusive) (np.arange(10)).\n",
    "x = rng.choice(10, 9)\n",
    "\n",
    "# Display the array.\n",
    "x"
   ]
  },
  {
   "cell_type": "code",
   "execution_count": 15,
   "metadata": {},
   "outputs": [
    {
     "data": {
      "image/png": "[encoded data removed]",
      "text/plain": [
       "<Figure size 720x432 with 1 Axes>"
      ]
     },
     "metadata": {},
     "output_type": "display_data"
    }
   ],
   "source": [
    "# Set the title for the future plot.\n",
    "plt.title(\"Choice Method: Uniform distribution\")\n",
    "\n",
    "# Change colour scheme.\n",
    "sns.set_palette(\"flare\")\n",
    "\n",
    "# Build the plot.\n",
    "sns.histplot(x)\n",
    "\n",
    "# Show the plot.\n",
    "plt.show()"
   ]
  },
  {
   "cell_type": "code",
   "execution_count": 16,
   "metadata": {},
   "outputs": [
    {
     "data": {
      "text/plain": [
       "array([3, 7, 5, 1, 6, 2, 8, 0, 4], dtype=int64)"
      ]
     },
     "execution_count": 16,
     "metadata": {},
     "output_type": "execute_result"
    }
   ],
   "source": [
    "# Generate 9 UNIQUE random numbers from np.arange(10): \n",
    "x = rng.choice(10, 9, replace=False)\n",
    "\n",
    "# Display the array.\n",
    "x"
   ]
  },
  {
   "cell_type": "code",
   "execution_count": 17,
   "metadata": {},
   "outputs": [
    {
     "data": {
      "image/png": "[encoded data removed]",
      "text/plain": [
       "<Figure size 720x432 with 1 Axes>"
      ]
     },
     "metadata": {},
     "output_type": "display_data"
    }
   ],
   "source": [
    "# Set the title for the future plot.\n",
    "plt.title(\"Choice Method: Uniform distribution of unique numbers\")\n",
    "\n",
    "# Build the plot.\n",
    "sns.histplot(x)\n",
    "\n",
    "# Show the plot.\n",
    "plt.show()"
   ]
  },
  {
   "cell_type": "markdown",
   "metadata": {},
   "source": [
    " 2. Non-uniform distribution. \n",
    " \n",
    " Requires provision of probability $p$ of each entry in a given array to appear in the output. \n",
    " \n",
    " Note that $p$:\n",
    "    - has to be of the same size as a given array;\n",
    "    - sum of $p$ elements has to be 1;\n",
    "    - non-zero entries in $p$ has to be same as size."
   ]
  },
  {
   "cell_type": "code",
   "execution_count": 18,
   "metadata": {},
   "outputs": [
    {
     "data": {
      "text/plain": [
       "array([9, 2, 6, 0, 0, 3, 3, 5, 0], dtype=int64)"
      ]
     },
     "execution_count": 18,
     "metadata": {},
     "output_type": "execute_result"
    }
   ],
   "source": [
    "# Generate 9 evenly spaced values between 0 and 9 (inclusive) (np.arange(10)) with provided p:\n",
    "x = rng.choice(10, 9, p=[0.1, 0.1, 0.1, 0.1, 0.1, 0.2, 0.1, 0.1, 0, 0.1])\n",
    "\n",
    "# Display the array.\n",
    "x"
   ]
  },
  {
   "cell_type": "code",
   "execution_count": 19,
   "metadata": {},
   "outputs": [
    {
     "data": {
      "image/png": "[encoded data removed]",
      "text/plain": [
       "<Figure size 720x432 with 1 Axes>"
      ]
     },
     "metadata": {},
     "output_type": "display_data"
    }
   ],
   "source": [
    "# Set the title for the future plot.\n",
    "plt.title(\"Choice Method: Non-Uniform distribution\")\n",
    "\n",
    "# Build the plot.\n",
    "sns.histplot(x)\n",
    "\n",
    "# Show the plot.\n",
    "plt.show()"
   ]
  },
  {
   "cell_type": "code",
   "execution_count": 20,
   "metadata": {},
   "outputs": [
    {
     "data": {
      "text/plain": [
       "array([0, 7, 5, 6, 4, 9, 1, 2, 3], dtype=int64)"
      ]
     },
     "execution_count": 20,
     "metadata": {},
     "output_type": "execute_result"
    }
   ],
   "source": [
    "# Generate 9 evenly spaced values between 0 and 9 (inclusive) (np.arange(10)) with provided p:\n",
    "x = rng.choice(10, 9, replace=False, p=[0.1, 0.1, 0.1, 0.1, 0.1, 0.2, 0.1, 0.1, 0, 0.1])\n",
    "\n",
    "# Display the array.\n",
    "x"
   ]
  },
  {
   "cell_type": "code",
   "execution_count": 21,
   "metadata": {},
   "outputs": [
    {
     "data": {
      "image/png": "[encoded data removed]",
      "text/plain": [
       "<Figure size 720x432 with 1 Axes>"
      ]
     },
     "metadata": {},
     "output_type": "display_data"
    }
   ],
   "source": [
    "# Set the title for the future plot.\n",
    "plt.title(\"Choice Method: Non-Uniform distribution of unique numbers\")\n",
    "\n",
    "# Build the plot.\n",
    "sns.histplot(x)\n",
    "\n",
    "# Show the plot.\n",
    "plt.show()"
   ]
  },
  {
   "cell_type": "markdown",
   "metadata": {},
   "source": [
    "- _BYTES_ <a name=\"bytes\"></a>\n",
    "\n",
    "This NumPy random method returns random bytes."
   ]
  },
  {
   "cell_type": "code",
   "execution_count": 22,
   "metadata": {},
   "outputs": [
    {
     "data": {
      "text/plain": [
       "b'\\xe1\\xbb~\\x90<\\xbdsz\\xe3P\\xab\\x86\\x0c\\xae$\\x96z&\\x85\\x17\\xcf\\xfe1\\x96\\xba\\xeb+\\xdcvb\\x0b,\\xeb\\xf8\\xc0\\x1b\\x08B\\xb1G\\xe8\\xa4\"\\xbb\\xbeD|Gv]\\x8f\\xd3*U\\x96\\xd4\\x08\\xbb%\\x05A\\x8c\\xb4\"\\x15o\\xc9\\xd7RG\\x9e\\x01\\n\\x1d\\xe1Y\\xc8\\x9b*\\xeep\\xbc\\xe5s\\x80C(]j\\x878\\xcbo\\x8c\\x95\\xb6j]\\x9bi'"
      ]
     },
     "execution_count": 22,
     "metadata": {},
     "output_type": "execute_result"
    }
   ],
   "source": [
    "# Generate 100 random bytes:\n",
    "x = rng.bytes(100)\n",
    "\n",
    "# Display the array.\n",
    "x"
   ]
  },
  {
   "cell_type": "markdown",
   "metadata": {},
   "source": [
    "***\n",
    "<br>\n",
    "\n",
    "#### Permutations <a name=\"permutations\"></a>\n",
    "\n",
    "\n",
    "<img align=\"left\" width=\"200\" height=\"300\" src=\"https://upload.wikimedia.org/wikipedia/commons/3/39/Combination_unlocked.png\">"
   ]
  },
  {
   "cell_type": "markdown",
   "metadata": {},
   "source": [
    "Generally speaking, in NumPy, both permutation and shuffle methods randomly shuffle elements in an array, which results in the same output when plotting (see below). However, there are some differences in these methods. \n",
    "\n",
    "The Shuffle method changes arrangement of elements inplace, i.e. in the array itself. On the other hand, the Permutation method produces a shuffled range if integer is passed or a shuffled _copy_ of the array if an array is passed (meaning that the original array is left unchanged).$^4$\n",
    "\n",
    "\n",
    "> 4. [W3Schools: Random Permutations](https://www.w3schools.com/python/numpy_random_permutation.asp)\n"
   ]
  },
  {
   "cell_type": "markdown",
   "metadata": {},
   "source": [
    "_SHUFFLE_ vs _PERMUTATION_ \n",
    "\n",
    "1. One-Dimensional Array"
   ]
  },
  {
   "cell_type": "code",
   "execution_count": 23,
   "metadata": {},
   "outputs": [
    {
     "data": {
      "text/plain": [
       "array([159, 124,   8, 143,  64, 131,  90,  47,  16,  20, 156,  52,  38,\n",
       "        89, 154, 193,  28,  43, 137,  68,  56, 134, 188, 198,  92,  33,\n",
       "       175,  34,  70,  84, 119,  35, 136,  96, 174, 125, 112, 133, 139,\n",
       "        19,  71, 190, 115,  49,  46,  80,  36, 109, 167, 103,  99,   1,\n",
       "       197, 113, 132, 127,  51,   0, 106, 101,  13,  41,   2, 130,  94,\n",
       "       155,  60,  17, 161,  59, 192, 110,  66, 107,   6, 180, 199, 117,\n",
       "       165, 135,  58, 194, 138,  73, 152, 187,  72,  25,   4, 157,  45,\n",
       "       149,   3,  83,  81, 162,   5,  11, 173,  88,  95, 186,  77, 100,\n",
       "        98, 140, 153,  93,  10,  57, 181, 163, 164,  97,  82, 189, 171,\n",
       "       116,  65, 108, 176,  55,  15,  23, 144, 184, 151, 121, 182,  79,\n",
       "       128, 118, 160, 102, 166,  74,  62,  44, 179,  78,  22,  85, 126,\n",
       "        61,  75, 123,  53, 169,  27,  32,  87, 168, 129, 105, 146, 191,\n",
       "       178,  50,  12, 141,  29, 148, 147, 172,  39, 114,  18,  67, 196,\n",
       "       122,  63, 150,   7, 195, 170, 183,  69,  31, 145,  26, 142,  86,\n",
       "        21,  76,  24,  42,  14, 185,  54,  91, 120,  37,  48, 177, 104,\n",
       "         9,  30,  40, 111, 158])"
      ]
     },
     "execution_count": 23,
     "metadata": {},
     "output_type": "execute_result"
    }
   ],
   "source": [
    "# Generate an array between 0 and 199, inclusive:\n",
    "x = np.arange(200)\n",
    "\n",
    "# Shuffle its content.\n",
    "rng.shuffle(x)\n",
    "\n",
    "# Display the array.\n",
    "x"
   ]
  },
  {
   "cell_type": "code",
   "execution_count": 24,
   "metadata": {},
   "outputs": [
    {
     "data": {
      "text/plain": [
       "array([116,  21,  25,  14,  20,  42, 148, 151, 188,  77,  70, 129,   5,\n",
       "        93, 139,  43, 174, 191,   8,  17,  51, 133,   2,  95,  39,  57,\n",
       "       113,  59, 163, 101,  38,  64,  10,  68, 147,  15, 189,  50, 159,\n",
       "        30, 110,   0,  16,   6, 195,  34, 111,  85,  97,  96,  94,  29,\n",
       "       179, 115,  92, 134,  88, 103,  12,  41,  35, 164, 119, 118, 137,\n",
       "        78, 124, 192,  55,  32, 156,  22,  82, 105, 106,  89,  90,  37,\n",
       "       132,  61,   9,  72,  47,  73,  40, 172,  49, 158, 184,  71,  44,\n",
       "        13,  27,  63,  45, 153, 120, 114, 198, 130,  91,  99,  36, 178,\n",
       "       169, 196,  79, 125,  65,  62,   7,  81, 112,  69, 108,  58,  80,\n",
       "        74, 166, 155, 165, 168,  33,  66,   4,  67,  53,  26,  75, 145,\n",
       "       171, 180, 186, 199, 162, 141, 181,  28, 126, 190, 152,  18, 131,\n",
       "       160, 143, 197, 121,  48,  98, 149,  46, 138, 161, 136,  54,  11,\n",
       "       122, 144, 194, 182, 142, 177,  19, 150, 102, 193, 176,  52, 123,\n",
       "        87, 185,  76, 183, 117, 170, 140, 127, 128,  86, 187, 104, 167,\n",
       "        60,  56, 154, 173,  83,  84, 107, 157,  24, 100,  31,   3, 135,\n",
       "         1,  23, 109, 175, 146])"
      ]
     },
     "execution_count": 24,
     "metadata": {},
     "output_type": "execute_result"
    }
   ],
   "source": [
    "# Permute an array of 200 numbers between 0 and 199, inclusive:\n",
    "y = rng.permutation(200)\n",
    "\n",
    "# Display the array.\n",
    "y"
   ]
  },
  {
   "cell_type": "code",
   "execution_count": 25,
   "metadata": {},
   "outputs": [
    {
     "data": {
      "image/png": "[encoded data removed]",
      "text/plain": [
       "<Figure size 720x432 with 2 Axes>"
      ]
     },
     "metadata": {},
     "output_type": "display_data"
    }
   ],
   "source": [
    "# Change colour scheme.\n",
    "sns.set_palette(\"husl\")\n",
    "\n",
    "# Build the Shuffle plot one the left.\n",
    "plt.subplot(1, 2, 1)\n",
    "sns.histplot(x)\n",
    "\n",
    "# Set the title for the Shuffle plot.\n",
    "plt.title(\"Shuffle: 1-D array\")\n",
    "\n",
    "# Build the Permutation plot one the right.\n",
    "plt.subplot(1, 2, 2)\n",
    "sns.histplot(y)\n",
    "\n",
    "# Set the title for the Permutation plot.\n",
    "plt.title(\"Permutation: 1-D array\")\n",
    "\n",
    "# Show the plot.\n",
    "plt.show()"
   ]
  },
  {
   "cell_type": "markdown",
   "metadata": {},
   "source": [
    "2. Two-Dimensional Array"
   ]
  },
  {
   "cell_type": "code",
   "execution_count": 26,
   "metadata": {
    "scrolled": false
   },
   "outputs": [
    {
     "data": {
      "text/plain": [
       "array([[ 63,  91,   8,  81,  85,  51,  61,  66,  27,  86,  67,  34,  26,\n",
       "         21,  41,   5,   6,  56,  29,  65,  53,  88,  59,  62,  98,  84,\n",
       "         10,  47,  13,  14,  83,  39,  97,  42,  33,  19,  60,  15,   9,\n",
       "         35,   7,  68,  64,  82,  37,  58,  74,  50,  16,  36,   1,  17,\n",
       "         43,  92,  25,  96,  95,   0,  99,  94,  20,  80,  90,  55,  40,\n",
       "         18,  73,  31,  75,  77,  70,  71,  78,  69,   3,  76,   2,  93,\n",
       "         87,  54,  30,  49,  72,  89,   4,  32,  57,  11,  46,  44,  52,\n",
       "         48,  45,  23,  38,  28,  12,  79,  22,  24],\n",
       "       [163, 191, 108, 181, 185, 151, 161, 166, 127, 186, 167, 134, 126,\n",
       "        121, 141, 105, 106, 156, 129, 165, 153, 188, 159, 162, 198, 184,\n",
       "        110, 147, 113, 114, 183, 139, 197, 142, 133, 119, 160, 115, 109,\n",
       "        135, 107, 168, 164, 182, 137, 158, 174, 150, 116, 136, 101, 117,\n",
       "        143, 192, 125, 196, 195, 100, 199, 194, 120, 180, 190, 155, 140,\n",
       "        118, 173, 131, 175, 177, 170, 171, 178, 169, 103, 176, 102, 193,\n",
       "        187, 154, 130, 149, 172, 189, 104, 132, 157, 111, 146, 144, 152,\n",
       "        148, 145, 123, 138, 128, 112, 179, 122, 124]])"
      ]
     },
     "execution_count": 26,
     "metadata": {},
     "output_type": "execute_result"
    }
   ],
   "source": [
    "# Generate a 2-D array with 2 rows of 100 numbers between 0 and 199, inclusive:\n",
    "x = np.arange(200).reshape((2, 100))\n",
    "\n",
    "# Shuffle its content along the axis 1.\n",
    "rng.shuffle(x, axis=1)\n",
    "\n",
    "# Display the array.\n",
    "x"
   ]
  },
  {
   "cell_type": "code",
   "execution_count": 27,
   "metadata": {},
   "outputs": [
    {
     "data": {
      "text/plain": [
       "array([[ 51,  16,  74,  73,  35,  85,  98,  50,  20,  40,  42,  32,  31,\n",
       "         81,  80,   9,  21,  47,  45,  15,  36,  90,  44,  64,  61,  86,\n",
       "         76,  65,  33,  87,  99,  27,  24,  68,  96,  49,  39,   3,  53,\n",
       "         66,  89,   2,  97,  82,   4,  75,  22,  56,  94,  43,  91,  83,\n",
       "         28,   7,   5,  34,  26,  10,  13,   0,  19,   6,  88,  62,  12,\n",
       "         17,  55,  79,  54,  23,  37,  48,  11,  69,  95,  77,  52,  18,\n",
       "          8,  78,  71,  41,  93,  70,  46,  60,  14,  63,  59,  30,  38,\n",
       "         25,  84,  72,  92,  57,  67,  58,   1,  29],\n",
       "       [151, 116, 174, 173, 135, 185, 198, 150, 120, 140, 142, 132, 131,\n",
       "        181, 180, 109, 121, 147, 145, 115, 136, 190, 144, 164, 161, 186,\n",
       "        176, 165, 133, 187, 199, 127, 124, 168, 196, 149, 139, 103, 153,\n",
       "        166, 189, 102, 197, 182, 104, 175, 122, 156, 194, 143, 191, 183,\n",
       "        128, 107, 105, 134, 126, 110, 113, 100, 119, 106, 188, 162, 112,\n",
       "        117, 155, 179, 154, 123, 137, 148, 111, 169, 195, 177, 152, 118,\n",
       "        108, 178, 171, 141, 193, 170, 146, 160, 114, 163, 159, 130, 138,\n",
       "        125, 184, 172, 192, 157, 167, 158, 101, 129]])"
      ]
     },
     "execution_count": 27,
     "metadata": {},
     "output_type": "execute_result"
    }
   ],
   "source": [
    "# Generate a 2-D array with 2 rows of 200 numbers between 0 and 199, inclusive:\n",
    "a = np.arange(200).reshape((2, 100))\n",
    "\n",
    "# Copy the array and shuffle its content along the axis 1.\n",
    "y = rng.permutation(a, axis=1)\n",
    "\n",
    "# Display the array.\n",
    "y"
   ]
  },
  {
   "cell_type": "code",
   "execution_count": 28,
   "metadata": {},
   "outputs": [
    {
     "data": {
      "image/png": "[encoded data removed]",
      "text/plain": [
       "<Figure size 720x432 with 2 Axes>"
      ]
     },
     "metadata": {},
     "output_type": "display_data"
    }
   ],
   "source": [
    "# Build the Shuffle plot one the left.\n",
    "plt.subplot(1, 2, 1)\n",
    "for i in range(len(x)):\n",
    "    # Build the plot.\n",
    "    sns.histplot(x[i])\n",
    "\n",
    "# Set the title for the Shuffle plot.\n",
    "plt.title(\"Shuffle: 2-D array shuffled along the axis\")\n",
    "\n",
    "# Build the Permutation plot the right.\n",
    "plt.subplot(1, 2, 2)\n",
    "for i in range(len(y)):\n",
    "    # Build the plot.\n",
    "    sns.histplot(y[i])\n",
    "\n",
    "# Set the title for the Permutation plot.\n",
    "plt.title(\"Permutation: 2-D array shuffled along the axis\")\n",
    "\n",
    "# Show the plot.    \n",
    "plt.show()"
   ]
  },
  {
   "cell_type": "markdown",
   "metadata": {},
   "source": [
    "***\n",
    "<br>\n",
    "\n",
    "### “DISTRIBUTIONS” functions <a name=\"distributions\"></a>\n",
    "\n",
    "<img align=\"left\" width=\"300\" height=\"300\" src=\"https://cdn1.iconfinder.com/data/icons/data-science-flat-1/64/probability-distribution-normal-curve-statistics-data-512.png\">"
   ]
  },
  {
   "cell_type": "markdown",
   "metadata": {},
   "source": [
    "Probability distribution is a rule or a set of rules that outlines all the possible values that a random variable is likely to take within a given range. The precision of where values will be plotted on the probability distribution within this range depends on many factors, including the distribution's mean, standard deviation etc. [1]\n",
    "\n",
    "Statistically, probability distributions can be divided into two groups: discrete and continuous. This division depends on whether the data on which probability is calculated consists of discrete (with a range of countable values) or continuous (with a range of infinite (uncountable) values) variables. [2] [3]\n",
    "\n",
    "> 1. [Investopedia: Probability Distribution](https://www.investopedia.com/terms/p/probabilitydistribution.asp)\n",
    "2. [Statistics How To: Continuous Probability Distribution](https://www.statisticshowto.com/continuous-probability-distribution/)\n",
    "3. [Statistics How To: Discrete Probability Distribution](https://www.statisticshowto.com/discrete-probability-distribution/)\n"
   ]
  },
  {
   "cell_type": "markdown",
   "metadata": {},
   "source": [
    "<br>\n",
    "\n",
    "#### Discrete Probability Distribution <a name=\"discrete\"></a>\n",
    "\n",
    "<br>\n",
    "\n",
    "##### Binomial  <a name=\"binomial\"></a>\n",
    "\n",
    "A binomial distribution may have two possible outcomes: \"success\" or \"failure\" (hence \"binomial\").\n",
    "\n",
    "There are three properties that binomial distributions must have:\n",
    "\n",
    "1. The number of trials is fixed.\n",
    "2. Each trial is independent. \n",
    "3. The success probability is the same from one trial to another.  [1]\n",
    "\n",
    "There are many real-life instances of binomial distributions. For example, we can calculate a number of \"successes\" of a new medicine tested on a set of patients where the outcome for a given patient is either a success or a failure. [2] \n",
    "\n",
    "> 1. [Statistics How To: Binomial Distribution](https://www.statisticshowto.com/probability-and-statistics/binomial-theorem/binomial-distribution-formula/)\n",
    "2. [Boston University School of Public Health: The Binomial Distribution](https://sphweb.bumc.bu.edu/otlt/mph-modules/bs/bs704_probability/bs704_probability7.html#:~:text=The%20binomial%20distribution%20model%20allows,a%20success%20or%20a%20failure.)\n",
    "\n",
    "_Example: Flip a coin_\n",
    "\n",
    "<img align=\"left\" width=\"140\" height=\"250\" src=\"https://juliakovach.files.wordpress.com/2012/07/coin-toss.png\">"
   ]
  },
  {
   "cell_type": "code",
   "execution_count": 29,
   "metadata": {
    "scrolled": true
   },
   "outputs": [
    {
     "data": {
      "text/plain": [
       "array([12,  9, 11, 12,  6, 10,  7, 13,  9, 14, 10, 10,  6, 10, 13,  7, 11,\n",
       "       13,  6,  8, 12, 16,  9,  9, 13,  7, 12, 10,  5, 12, 11, 12, 14, 13,\n",
       "       12,  8, 12,  8,  5, 12,  7,  9, 10,  8, 12, 10, 10,  9, 11,  7,  7,\n",
       "        8, 11, 10,  8,  7, 11,  8, 10, 13,  9,  6, 15, 10, 10,  9, 11, 15,\n",
       "       11, 15, 10,  7, 10, 10, 10,  9, 12,  9,  6,  9,  8, 13, 12, 12, 11,\n",
       "        7, 11,  6,  6,  8, 10, 10,  9, 13, 12,  9, 12,  9, 10,  7, 14,  9,\n",
       "        9, 11, 11, 10, 12, 13, 10, 10, 11, 11,  6,  9,  8, 10, 11, 14, 13,\n",
       "       12,  8, 12, 13,  9,  9, 15, 10,  6,  8, 10,  4,  6,  8, 10, 12,  8,\n",
       "        8,  7,  7, 11,  7,  9, 11,  5, 10,  9, 12, 10, 11,  9,  8,  7,  5,\n",
       "        7, 10,  7, 10,  7, 11, 11, 11, 10, 12, 12, 13, 11, 11, 13,  9, 12,\n",
       "       10,  5,  6, 11, 10,  8,  8, 10,  7, 11, 13,  6, 13,  9, 13,  7, 14,\n",
       "       10, 11, 11,  9, 10,  8,  9,  8, 13, 11, 11, 11,  9, 12,  6, 10, 11,\n",
       "        9, 11, 11, 10, 12,  9, 12,  9, 11, 10,  9,  8,  7,  9, 10, 12, 10,\n",
       "       11,  8,  8,  7,  7,  6, 10,  9,  9,  8,  9, 14,  6, 10, 12, 12, 11,\n",
       "        9, 10,  6, 11,  8, 13, 10, 11, 10, 14, 10, 10,  6,  8,  9,  9, 10,\n",
       "        8, 14, 11, 11,  9, 13,  8,  8,  7, 12, 17, 13, 11, 11,  8, 12,  7,\n",
       "        9,  8,  8,  9, 10,  8, 15,  6, 10, 12, 13, 11,  8, 12, 11, 10, 11,\n",
       "       10, 13,  9, 15, 12,  9, 11, 10, 11, 11, 10, 12, 12, 12, 14,  8,  6,\n",
       "       10, 13, 12,  6, 13,  4,  8, 10, 13,  7, 14, 11, 10,  8, 13, 11, 11,\n",
       "        9,  7, 12,  8, 11,  8, 10,  8, 13, 10, 11, 10,  8, 11, 10, 11, 13,\n",
       "        7, 11,  8, 10, 11,  5,  7,  7,  8, 12,  8,  8, 12,  8, 11, 12, 12,\n",
       "       11, 13, 12,  7, 10, 12, 11, 13, 12,  9, 11, 10,  9, 11, 10,  9,  9,\n",
       "       12, 11,  9,  8, 10, 10, 11, 11,  8, 11, 12,  8,  3, 14, 11,  9,  8,\n",
       "        9, 10, 12,  6, 12, 10, 11, 11, 12, 10,  9,  9,  8,  8, 10, 10, 12,\n",
       "        9,  7, 10, 10, 10,  9,  7, 14, 11, 10,  9, 11, 12, 10, 12,  7, 13,\n",
       "       10,  7, 10, 12, 10, 11, 11, 11,  8, 12, 10, 11,  9, 13,  8,  7, 14,\n",
       "       10, 12,  8, 11,  8,  8,  9,  9, 10, 11,  8, 10,  8,  9, 10, 13, 13,\n",
       "        8, 12,  9, 11,  9,  9, 13, 10,  8,  6,  9, 10, 11, 11, 11,  8,  7,\n",
       "       10, 12,  8,  9, 11, 11,  9, 12, 12, 13,  8,  9, 11,  9, 10,  9, 10,\n",
       "        9, 12, 11,  9, 11,  7,  9, 10, 12, 14,  7, 11, 13,  9, 10,  9,  9,\n",
       "       14, 11,  7,  4, 10, 10,  9,  9,  7, 10,  9, 12, 10,  9, 10, 10, 10,\n",
       "       12,  9, 13, 10, 13, 12,  8,  8,  8,  8, 12, 10, 11,  7,  9, 11,  9,\n",
       "       13,  8,  6, 11,  9, 10,  8,  9, 12, 10,  9, 10, 12,  7,  8, 11, 10,\n",
       "       11, 16,  9, 10,  7,  9,  8,  8,  6, 12,  9,  8,  7,  5,  9, 13, 10,\n",
       "       12,  9, 12, 11,  9, 11, 11, 11, 14, 11,  8, 12, 12,  9, 12,  9, 10,\n",
       "       11, 12, 10, 11,  9, 10, 10,  8,  8, 11,  9,  9, 12, 10,  7, 13,  8,\n",
       "        8,  8, 12, 11, 12, 11,  7, 13, 11, 11, 11,  8, 11, 14,  6, 11,  9,\n",
       "        9, 11,  4,  7, 13,  8,  8, 10,  9, 13,  8, 16,  7, 10,  6,  8,  9,\n",
       "       10,  7, 10,  8, 13, 11, 11,  7, 10, 12,  8,  8,  9,  9,  9, 10,  9,\n",
       "       10, 10, 11, 11,  7,  9,  4, 10, 10,  5,  8, 13, 14,  9, 12, 12, 14,\n",
       "        8, 11, 10,  7, 14, 11,  9,  8, 14,  9,  9, 10, 11, 13,  6,  9, 12,\n",
       "       11,  6,  8,  6,  8, 12, 12, 10,  9, 11,  7, 10, 11,  9,  6, 12, 14,\n",
       "        9,  6, 13, 11,  7, 11,  8, 11, 11, 10, 10,  6, 14,  9, 12, 14,  9,\n",
       "       10,  7,  9, 13, 11, 13,  9, 10, 14, 11,  9, 14, 13, 13, 10,  8, 12,\n",
       "       13,  9, 10, 11, 14, 11,  8, 12,  8,  9, 11, 13, 12, 13,  9, 13, 11,\n",
       "       10,  8, 10, 11,  9,  8,  8,  6,  6, 12,  7, 14,  9, 13,  9,  9, 14,\n",
       "        9, 10,  7,  8,  5,  7, 11, 11, 10, 12,  9, 12, 10, 11,  7, 13,  9,\n",
       "       13, 10,  8,  4, 12, 10,  7,  8,  7, 11, 10,  9,  6, 15, 11, 11, 13,\n",
       "        9,  9,  9,  7, 13,  9, 13, 13,  7, 11, 12, 15, 11,  7, 13,  9, 12,\n",
       "       11,  8,  8, 10, 10, 11, 10, 12, 10, 13, 14, 11, 12, 11, 16, 12, 10,\n",
       "       15, 14, 11, 13,  8, 11, 11, 12,  7, 13,  7, 10, 13, 13, 13,  9,  7,\n",
       "        7, 10,  9,  6,  9, 12,  9,  9, 10, 12, 11,  9, 12,  7, 11,  5, 10,\n",
       "       11, 14,  9,  6,  6,  7, 12,  7, 12, 12, 14,  9, 10, 12,  8, 11,  6,\n",
       "        8, 14,  8, 12, 12, 13,  7, 11, 14, 10, 10, 12,  8, 11, 12,  7, 12,\n",
       "       10, 10, 10,  8, 12, 10,  8,  7,  9, 11, 16,  9,  9,  8, 12,  5, 12,\n",
       "        9, 13, 15,  9, 14, 12, 14, 10,  7, 11,  9, 12, 13,  8,  9, 10, 10,\n",
       "       11, 15, 10, 10,  9, 10,  6, 13,  6,  7, 12, 10, 11,  7, 10,  9, 10,\n",
       "       11, 12, 11, 14, 10, 11, 11,  8,  8, 13,  6, 10, 14,  8, 11,  8,  6,\n",
       "        7,  9, 12, 10, 12,  9,  8, 11, 16, 11,  9, 12, 15,  8],\n",
       "      dtype=int64)"
      ]
     },
     "execution_count": 29,
     "metadata": {},
     "output_type": "execute_result"
    }
   ],
   "source": [
    "# Flip a coin 20 times with a probability 0.5 of each trial.\n",
    "n, p = 20, 0.5\n",
    "\n",
    "# Test done 1000 times.\n",
    "x = rng.binomial(n, p, 1000)\n",
    "\n",
    "# Display the number of heads.\n",
    "x"
   ]
  },
  {
   "cell_type": "code",
   "execution_count": 30,
   "metadata": {},
   "outputs": [
    {
     "data": {
      "image/png": "[encoded data removed]",
      "text/plain": [
       "<Figure size 720x432 with 1 Axes>"
      ]
     },
     "metadata": {},
     "output_type": "display_data"
    }
   ],
   "source": [
    "# Change colour scheme.\n",
    "sns.set_palette(\"PuOr\")\n",
    "\n",
    "# Set the title and x label for the future plot.\n",
    "plt.title(f\"Binominal Distribution: Flip a coin {n} times\")\n",
    "plt.xlabel(\"Number of Heads\")\n",
    "\n",
    "# Build the plot.\n",
    "sns.histplot(x, stat=\"probability\")\n",
    "\n",
    "# Show the plot.\n",
    "plt.show()"
   ]
  },
  {
   "cell_type": "markdown",
   "metadata": {},
   "source": [
    "<br>\n",
    "\n",
    "_Example: Test of an antihistamine drug_\n",
    "\n",
    "<img align=\"left\" width=\"220\" height=\"80\" src=\"https://secure.webtoolhub.com/static/resources/icons/set33/254c1686.png\">"
   ]
  },
  {
   "cell_type": "markdown",
   "metadata": {},
   "source": [
    "If the medication is given to 10 patients suffering from allergies, what is the probability of its effectiveness to be exactly exactly 7 when 80% of adults report symptomatic relief with this medication?"
   ]
  },
  {
   "cell_type": "code",
   "execution_count": 31,
   "metadata": {},
   "outputs": [
    {
     "data": {
      "text/plain": [
       "array([9, 8, 7, ..., 8, 9, 7], dtype=int64)"
      ]
     },
     "execution_count": 31,
     "metadata": {},
     "output_type": "execute_result"
    }
   ],
   "source": [
    "# 10 new patients with allergies.\n",
    "n = 10\n",
    "\n",
    "# The probability of success for each person is 0.8.\n",
    "p = 0.8\n",
    "\n",
    "# Calculate the success rate.\n",
    "x = rng.binomial(n, p, 20000)\n",
    "\n",
    "# Display it\n",
    "x"
   ]
  },
  {
   "cell_type": "code",
   "execution_count": 32,
   "metadata": {},
   "outputs": [
    {
     "data": {
      "image/png": "[encoded data removed]",
      "text/plain": [
       "<Figure size 720x432 with 1 Axes>"
      ]
     },
     "metadata": {},
     "output_type": "display_data"
    }
   ],
   "source": [
    "# Set the title and x label for the future plot.\n",
    "plt.title(\"Binominal Distribution: Test of an antihistamine drug\")\n",
    "plt.xlabel(\"Patients\")\n",
    "\n",
    "# Build the plot.\n",
    "sns.histplot(x, stat=\"probability\")\n",
    "\n",
    "# Show the plot.\n",
    "plt.show()"
   ]
  },
  {
   "cell_type": "code",
   "execution_count": 33,
   "metadata": {},
   "outputs": [
    {
     "data": {
      "text/plain": [
       "0.1983"
      ]
     },
     "execution_count": 33,
     "metadata": {},
     "output_type": "execute_result"
    }
   ],
   "source": [
    "# Effectiveness of the grug is 7.\n",
    "s = 7\n",
    "\n",
    "# Calculate the probability when tested 20000 times.\n",
    "x = sum(rng.binomial(n, p, 20000) == s)/20000\n",
    "\n",
    "# Display the probability.\n",
    "x"
   ]
  },
  {
   "cell_type": "markdown",
   "metadata": {},
   "source": [
    "<br>\n",
    "\n",
    "##### Multinomial  <a name=\"multinomial\"></a>\n",
    "\n",
    "A multinomial distribution is generalization of binominal distribution with more than two outcomes (hence multinominal). [1]\n",
    "The distribution follows the same criteria as the binominal.\n",
    "\n",
    "> 1. [Statistics How To: Multinomial Distribution](https://www.statisticshowto.com/multinomial-distribution/)\n",
    "\n",
    "_Example: Throw a dice_\n",
    "\n",
    "<img align=\"left\" width=\"230\" height=\"80\" src=\"https://upload.wikimedia.org/wikipedia/commons/thumb/3/36/Two_red_dice_01.svg/671px-Two_red_dice_01.svg.png\">"
   ]
  },
  {
   "cell_type": "code",
   "execution_count": 34,
   "metadata": {},
   "outputs": [
    {
     "data": {
      "text/plain": [
       "array([[ 6,  9, 12, 15, 10,  8]], dtype=int64)"
      ]
     },
     "execution_count": 34,
     "metadata": {},
     "output_type": "execute_result"
    }
   ],
   "source": [
    "# Dice with 6 sides.\n",
    "d = [1/6.]\n",
    "\n",
    "# Throw it 60 times.\n",
    "n = 60\n",
    "\n",
    "# Compute a probability.\n",
    "x = rng.multinomial(n, d*6, size=1)\n",
    "\n",
    "# Display it\n",
    "x"
   ]
  },
  {
   "cell_type": "code",
   "execution_count": 35,
   "metadata": {},
   "outputs": [
    {
     "data": {
      "image/png": "[encoded data removed]",
      "text/plain": [
       "<Figure size 720x432 with 1 Axes>"
      ]
     },
     "metadata": {},
     "output_type": "display_data"
    }
   ],
   "source": [
    "# Change colour scheme.\n",
    "sns.set_palette(\"pastel\")\n",
    "\n",
    "# Set the title and x label for the future plot.\n",
    "plt.title(f\"Multinominal Distribution: Throw a dice {n} times\")\n",
    "plt.xlabel(\"Number of times the dice lands on each side\")\n",
    "\n",
    "# Build the plot.\n",
    "plt.hist(x, histtype=\"barstacked\")\n",
    "\n",
    "# New label to match the dice.\n",
    "labels = ['1','2','3','4','5','6']\n",
    "plt.legend(labels, title=\"Dice sides\")\n",
    "\n",
    "# Show the plot.\n",
    "plt.show()"
   ]
  },
  {
   "cell_type": "code",
   "execution_count": 36,
   "metadata": {},
   "outputs": [
    {
     "data": {
      "text/plain": [
       "array([[ 7, 11, 13, 13,  8,  8],\n",
       "       [13,  9, 11, 13,  9,  5]], dtype=int64)"
      ]
     },
     "execution_count": 36,
     "metadata": {},
     "output_type": "execute_result"
    }
   ],
   "source": [
    "# Throw it 60 times twice\n",
    "x = rng.multinomial(n, d*6, size=2)\n",
    "\n",
    "# Display the probability\n",
    "x"
   ]
  },
  {
   "cell_type": "code",
   "execution_count": 37,
   "metadata": {},
   "outputs": [
    {
     "data": {
      "image/png": "[encoded data removed]",
      "text/plain": [
       "<Figure size 720x432 with 1 Axes>"
      ]
     },
     "metadata": {},
     "output_type": "display_data"
    }
   ],
   "source": [
    "# Set the title and x label for the future plot.\n",
    "plt.title(f\"Multinominal Distribution: Throw a dice {n} times twice\")\n",
    "plt.xlabel(\"Number of times the dice lands on each side\")\n",
    "\n",
    "# Build the plot.\n",
    "plt.hist(x, histtype=\"barstacked\")\n",
    "\n",
    "# New label to match the dice.\n",
    "labels = ['1','2','3','4','5','6']\n",
    "plt.legend(labels, title=\"Dice sides\")\n",
    "\n",
    "# Show the plot.\n",
    "plt.show()"
   ]
  },
  {
   "cell_type": "code",
   "execution_count": 38,
   "metadata": {
    "scrolled": true
   },
   "outputs": [
    {
     "data": {
      "text/plain": [
       "array([ 9, 15, 16, 10, 18, 32], dtype=int64)"
      ]
     },
     "execution_count": 38,
     "metadata": {},
     "output_type": "execute_result"
    }
   ],
   "source": [
    "# Roll a loaded die (2/7 to land on 6).\n",
    "d = [1/7.]*5 + [2/7.]\n",
    "\n",
    "# Throw it 100 times.\n",
    "n = 100\n",
    "\n",
    "# Project the probability of it landing on 6.\n",
    "x = rng.multinomial(n, d)\n",
    "\n",
    "# Display it\n",
    "x"
   ]
  },
  {
   "cell_type": "code",
   "execution_count": 39,
   "metadata": {},
   "outputs": [
    {
     "data": {
      "image/png": "[encoded data removed]",
      "text/plain": [
       "<Figure size 720x432 with 1 Axes>"
      ]
     },
     "metadata": {},
     "output_type": "display_data"
    }
   ],
   "source": [
    "# Set the title and x label for the future plot.\n",
    "plt.title(f\"Multinominal Distribution: Throw a loaded die {n} times twice\")\n",
    "plt.xlabel(\"Number of times the loaded die lands on 6\")\n",
    "\n",
    "# Build the plot.\n",
    "sns.histplot(x, legend=False, stat=\"probability\")\n",
    "\n",
    "# Show the plot.\n",
    "plt.show()"
   ]
  },
  {
   "cell_type": "markdown",
   "metadata": {},
   "source": [
    "<br>\n",
    "\n",
    "##### Geometric   <a name=\"geometric\"></a>\n",
    "A geometric distribution represents one or more Bernoulli (binominal) trials with all failures excluding the last one, which results in success. Assumptions for the geometric distribution are the same as for binominal. [1] \n",
    "\n",
    "The distribution is used for modeling situations that require knowing the likely number of trials until success, and thus has applications in econometrics, return on investment, population modeling, and so on. [2] \n",
    "\n",
    "> 1. [Statistics How To: Geometric Distribution](https://www.statisticshowto.com/geometric-distribution/)\n",
    "2. [Brilliant: Geometric Distribution](https://brilliant.org/wiki/geometric-distribution/)\n",
    "\n",
    "_Example: Election_\n",
    "\n",
    "<img align=\"left\" width=\"230\" height=\"80\" src=\"https://encrypted-tbn0.gstatic.com/images?q=tbn%3AANd9GcSST1krcuDqRqW5PVb5TUOtmOk7UScWRDL2dtclHIm5VGqe4S0L3sD1WfoNJi5g4hxGDVgqs9sgvv8z69hnu50rs3ex4cv2mdC6z2UrkqA&usqp=CAU&ec=45714080\">"
   ]
  },
  {
   "cell_type": "markdown",
   "metadata": {},
   "source": [
    "If we ask ask people outside a polling station who they voted for, what is the probability of meeting someone that voted for an independent candidate on your 100th try assuuming that your probability of success is 15%."
   ]
  },
  {
   "cell_type": "code",
   "execution_count": 40,
   "metadata": {},
   "outputs": [
    {
     "data": {
      "text/plain": [
       "array([ 4,  3,  1,  5,  5,  1,  1, 16,  6, 11, 15,  1, 16,  8,  6,  3,  2,\n",
       "        3, 14,  4, 16,  3,  4,  2,  4,  8,  7,  8,  2,  2,  1,  4,  3,  1,\n",
       "        3,  7,  2,  6,  3,  5,  8, 16,  4, 19,  2,  2, 14,  3,  2,  6,  1,\n",
       "        6,  6, 15,  7,  3,  7, 11,  9,  2, 25,  1,  1,  1,  1, 15, 11,  8,\n",
       "       24,  9,  7,  2, 10, 13, 11, 14,  1,  2,  6,  2,  3,  5,  1,  1,  2,\n",
       "        9,  2, 11,  3, 10,  1,  1,  2,  2,  9, 11,  9,  3,  2,  2],\n",
       "      dtype=int64)"
      ]
     },
     "execution_count": 40,
     "metadata": {},
     "output_type": "execute_result"
    }
   ],
   "source": [
    "# The probability of an individual success is 0.15.\n",
    "p = 0.15\n",
    "\n",
    "# Do 100 trials.\n",
    "size = 100\n",
    "\n",
    "# Calculate the probability\n",
    "x = rng.geometric(p, size)\n",
    "\n",
    "# Display it\n",
    "x\n"
   ]
  },
  {
   "cell_type": "code",
   "execution_count": 41,
   "metadata": {},
   "outputs": [
    {
     "data": {
      "image/png": "[encoded data removed]",
      "text/plain": [
       "<Figure size 720x432 with 1 Axes>"
      ]
     },
     "metadata": {},
     "output_type": "display_data"
    }
   ],
   "source": [
    "# Change colour scheme.\n",
    "sns.set_palette(\"Paired\")\n",
    "\n",
    "# Set the title and x label for the future plot.\n",
    "plt.title(f\"Geometric Distribution: Find an independent candidate on your {size}th try\")\n",
    "\n",
    "# Build the plot.\n",
    "sns.histplot(x, stat=\"probability\", kde=True)\n",
    "\n",
    "# Show the plot.\n",
    "plt.show()"
   ]
  },
  {
   "cell_type": "code",
   "execution_count": 42,
   "metadata": {},
   "outputs": [
    {
     "data": {
      "text/plain": [
       "0.16"
      ]
     },
     "execution_count": 42,
     "metadata": {},
     "output_type": "execute_result"
    }
   ],
   "source": [
    "# How many trials succeeded after a single run?\n",
    "y = (x == 1).sum() / 100.\n",
    "\n",
    "# Display the probability of success.\n",
    "y"
   ]
  },
  {
   "cell_type": "markdown",
   "metadata": {},
   "source": [
    "##### Poisson  <a name=\"poisson\"></a>\n",
    "\n",
    "A poisson distribution is used in predicting the number of events happening in a fixed time period, given the average number of times the event happens over that time period. [1]\n",
    "\n",
    "The distribution is often used in biology (e.g. in mutation detection), finance, business (e.g. to make forecasts), disaster readiness etc.\n",
    "\n",
    "There are a number of conditions for poisson distribution:\n",
    "\n",
    "1. An event can occur any number of times during a fixed time period.\n",
    "2. Each event is independent. \n",
    "3. The occurence rate doesn't change based on time.\n",
    "4. Occurence of an event is directly proportional to the length of the time period. [2]\n",
    "\n",
    "> 1. [Statistics How To: Poisson Distribution](https://www.statisticshowto.com/poisson-distribution/)\n",
    "2. [Brilliant: Poisson Distribution](https://brilliant.org/wiki/poisson-distribution/#:~:text=the%20number%20of%20Airbus%20330,over%20a%20given%20production%20time)\n",
    "\n",
    "_Exmaple: Storm occurence_\n",
    "\n",
    "<img align=\"left\" width=\"180\" height=\"80\" src=\"https://simpleicon.com/wp-content/uploads/storm.png\">"
   ]
  },
  {
   "cell_type": "markdown",
   "metadata": {},
   "source": [
    "The average number of major storms in your city is 2 per year. What is the probability that exactly 3 storms will hit your city next year?"
   ]
  },
  {
   "cell_type": "code",
   "execution_count": 43,
   "metadata": {},
   "outputs": [
    {
     "data": {
      "text/plain": [
       "array([2, 0, 1, ..., 2, 0, 1], dtype=int64)"
      ]
     },
     "execution_count": 43,
     "metadata": {},
     "output_type": "execute_result"
    }
   ],
   "source": [
    "# Draw samples from the distribution tested 10000:\n",
    "x = rng.poisson(2, 10000)\n",
    "\n",
    "# Display the array\n",
    "x"
   ]
  },
  {
   "cell_type": "code",
   "execution_count": 44,
   "metadata": {
    "scrolled": false
   },
   "outputs": [
    {
     "data": {
      "image/png": "[encoded data removed]",
      "text/plain": [
       "<Figure size 720x432 with 1 Axes>"
      ]
     },
     "metadata": {},
     "output_type": "display_data"
    }
   ],
   "source": [
    "# Change colour scheme.\n",
    "sns.set_palette(\"PRGn\")\n",
    "\n",
    "# Set the title and x label for the future plot.\n",
    "plt.title(\"Poisson Distribution: Possiblity of Storm\")\n",
    "\n",
    "# Build the plot.\n",
    "sns.histplot(x, stat=\"probability\")\n",
    "\n",
    "# Show the plot.\n",
    "plt.show()"
   ]
  },
  {
   "cell_type": "code",
   "execution_count": 45,
   "metadata": {},
   "outputs": [
    {
     "data": {
      "text/plain": [
       "0.1877"
      ]
     },
     "execution_count": 45,
     "metadata": {},
     "output_type": "execute_result"
    }
   ],
   "source": [
    "# Calculate the probability of 3 storms.\n",
    "y = sum(x == 3)/10000\n",
    "\n",
    "# Display the probability.\n",
    "y"
   ]
  },
  {
   "cell_type": "markdown",
   "metadata": {},
   "source": [
    "***\n",
    "<br>\n",
    "\n",
    "#### Continuous Probability Distribution  <a name=\"continuous\"></a>\n",
    "\n",
    "<br>\n",
    "\n",
    "##### Normal <a name=\"normal\"></a> \n",
    "\n",
    "A normal (or Gaussian) distribution classically describes a bell-shaped curve and is fully characterized by its mean and standard deviation. It is the most frequently used, and because it approximates many natural phenomena so faithfully, it is used as a standard of reference for a wide range of probability problems in finance, investing, science, engineering etc [1]\n",
    "\n",
    "> 1. [Investopedia: Probability Distribution](https://www.investopedia.com/terms/p/probabilitydistribution.asp)\n",
    "\n",
    "_Example: Women's Shoes_\n",
    "\n",
    "<img align=\"left\" width=\"180\" height=\"80\" src=\"https://i.pinimg.com/originals/11/c9/fa/11c9fa859c9e9402067f03054e62ea57.png\">"
   ]
  },
  {
   "cell_type": "markdown",
   "metadata": {},
   "source": [
    "Assuming that women’s shoe sizes are normally distributed with a mean of 8 and a standard deviation of 1.5, the factory makes 10,000 pairs of one style. How many shoes of size 9 the manufacturer should make?  [2]\n",
    "> 2. [StudiousGuys: 9 Real Life Examples Of Normal Distribution](https://mathstat.slu.edu/~may/ExcelCalculus/sec-7-6-NormalDistribution.html)"
   ]
  },
  {
   "cell_type": "code",
   "execution_count": 46,
   "metadata": {},
   "outputs": [
    {
     "data": {
      "text/plain": [
       "array([ 4.22449637,  9.19572908,  7.43020801, ...,  8.92072959,\n",
       "       10.48723511,  8.07307886])"
      ]
     },
     "execution_count": 46,
     "metadata": {},
     "output_type": "execute_result"
    }
   ],
   "source": [
    "# Mean is 8, standard deviation is 1.5.\n",
    "m, std = 8, 1.5\n",
    "\n",
    "# Compute 10000 numbers.\n",
    "x = rng.normal(m, std, 10000)\n",
    "\n",
    "# Display the probability.\n",
    "x"
   ]
  },
  {
   "cell_type": "code",
   "execution_count": 47,
   "metadata": {
    "scrolled": false
   },
   "outputs": [
    {
     "data": {
      "image/png": "[encoded data removed]",
      "text/plain": [
       "<Figure size 720x432 with 1 Axes>"
      ]
     },
     "metadata": {},
     "output_type": "display_data"
    }
   ],
   "source": [
    "# Change colour scheme.\n",
    "sns.set_palette(\"RdYlBu\")\n",
    "\n",
    "# Set the title and x label for the future plot.\n",
    "plt.title(\"Normal Distribution: Women Shoes\")\n",
    "\n",
    "# Build the plot.\n",
    "sns.histplot(x, stat=\"probability\")\n",
    "\n",
    "# Show the plot.\n",
    "plt.show()"
   ]
  },
  {
   "cell_type": "code",
   "execution_count": 48,
   "metadata": {
    "scrolled": true
   },
   "outputs": [
    {
     "data": {
      "text/plain": [
       "0.003223187124095084"
      ]
     },
     "execution_count": 48,
     "metadata": {},
     "output_type": "execute_result"
    }
   ],
   "source": [
    "# Verify the mean and the variance:\n",
    "abs(m - np.mean(x))"
   ]
  },
  {
   "cell_type": "code",
   "execution_count": 49,
   "metadata": {
    "scrolled": true
   },
   "outputs": [
    {
     "data": {
      "text/plain": [
       "0.007917971991084904"
      ]
     },
     "execution_count": 49,
     "metadata": {},
     "output_type": "execute_result"
    }
   ],
   "source": [
    "# Verify the standard deviation:\n",
    "abs(std - np.std(x, ddof=1))"
   ]
  },
  {
   "cell_type": "code",
   "execution_count": 50,
   "metadata": {},
   "outputs": [
    {
     "data": {
      "text/plain": [
       "2071"
      ]
     },
     "execution_count": 50,
     "metadata": {},
     "output_type": "execute_result"
    }
   ],
   "source": [
    "# Calculate how many pairs of shoes sized between 8.5 and 9.5.\n",
    "l = []\n",
    "for i in x:\n",
    "    if 8.5 < i < 9.5:\n",
    "        l.append(i)\n",
    "\n",
    "# Display the number of shoes.\n",
    "len(l)"
   ]
  },
  {
   "cell_type": "markdown",
   "metadata": {},
   "source": [
    "<br>\n",
    "\n",
    "##### Chi-Square <a name=\"chisquare\"></a>\n",
    "\n",
    "A chi-square distribution is a distribution of the chi-square statistic and constructed so that the total area under the curve is equal to 1. For example, random samples are drawn from a normal distribution and summed, and the sum then squared to arrive at the chi-square distribution. \n",
    "\n",
    "The distribution must have the following properties:\n",
    "\n",
    "1. The number of degrees of freedom is also the distribution mean, and the greater it is, the more the chi-square curve looks like a normal distribution.\n",
    "2. The variance is equal to two times the number of degrees of freedom. [1]\n",
    "\n",
    "The chi-squared distribution has many uses in statistics, for example, in testing deviations of differences in expected and observed frequencies and in a goodness of fit test (chi-square test). [2]\n",
    "\n",
    "> 1. [Stat Trek: Chi-Square Distribution](https://stattrek.com/probability-distributions/chi-square.aspx)\n",
    "2. [Statistics How To: Chi-Square Distribution](https://www.statisticshowto.com/probability-and-statistics/chi-square/)\n",
    "\n",
    "_Example: Smartphone Batteries_\n",
    "    \n",
    "    \n",
    "<img align=\"left\" width=\"180\" height=\"80\" src=\"https://images.vexels.com/media/users/3/136865/isolated/preview/7221ccf73801a7e9729d11d505fcff2b-smartphone-on-hand-by-vexels.png\">"
   ]
  },
  {
   "cell_type": "markdown",
   "metadata": {},
   "source": [
    "A smartphone battery manufacturer has developed a product with average 60 minutes on a single charge. They decide to run a quality control test by selecting 7 batteries randomly. What would be the chi-square distribution represented by this test?"
   ]
  },
  {
   "cell_type": "code",
   "execution_count": 51,
   "metadata": {},
   "outputs": [
    {
     "data": {
      "text/plain": [
       "array([ 3.8946555 ,  2.50476547, 11.66547922,  4.93152979, 13.11428966,\n",
       "        3.58215253,  2.26083763])"
      ]
     },
     "execution_count": 51,
     "metadata": {},
     "output_type": "execute_result"
    }
   ],
   "source": [
    "# Number of samples.\n",
    "n = 7\n",
    "\n",
    "# The degrees of freedom n-1.\n",
    "df = 6\n",
    "\n",
    "# Draw samples.\n",
    "x = rng.chisquare(df, n)\n",
    "\n",
    "# Display the distribution.\n",
    "x"
   ]
  },
  {
   "cell_type": "code",
   "execution_count": 52,
   "metadata": {
    "scrolled": false
   },
   "outputs": [
    {
     "data": {
      "image/png": "[encoded data removed]",
      "text/plain": [
       "<Figure size 720x432 with 1 Axes>"
      ]
     },
     "metadata": {},
     "output_type": "display_data"
    }
   ],
   "source": [
    "# Change colour scheme.\n",
    "sns.set_palette(\"cool_r\")\n",
    "\n",
    "# Set the title and x label for the future plot.\n",
    "plt.title(\"Chi-Squared Distribution: Smartphone Batteries\")\n",
    "\n",
    "sns.histplot(x, stat=\"probability\", kde=True)\n",
    "\n",
    "# Show the plot.\n",
    "plt.show()"
   ]
  },
  {
   "cell_type": "markdown",
   "metadata": {},
   "source": [
    "<br>\n",
    "\n",
    "##### Logistic <a name=\"logistic\"></a>"
   ]
  },
  {
   "cell_type": "markdown",
   "metadata": {},
   "source": [
    "<br>\n",
    "\n",
    "##### Exponential <a name=\"exponential\"></a>"
   ]
  },
  {
   "cell_type": "markdown",
   "metadata": {},
   "source": []
  },
  {
   "cell_type": "markdown",
   "metadata": {},
   "source": [
    "### SEEDS  <a name=\"seeds\"></a> "
   ]
  }
 ],
 "metadata": {
  "kernelspec": {
   "display_name": "Python 3",
   "language": "python",
   "name": "python3"
  },
  "language_info": {
   "codemirror_mode": {
    "name": "ipython",
    "version": 3
   },
   "file_extension": ".py",
   "mimetype": "text/x-python",
   "name": "python",
   "nbconvert_exporter": "python",
   "pygments_lexer": "ipython3",
   "version": "3.7.4"
  }
 },
 "nbformat": 4,
 "nbformat_minor": 2
}
