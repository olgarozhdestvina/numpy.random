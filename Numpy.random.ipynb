{
 "cells": [
  {
   "cell_type": "markdown",
   "metadata": {},
   "source": [
    "# The numpy.random package \n",
    "\n",
    "\n",
    "[ Programming for Data Analysis Module GMIT 2020 ]\n",
    "\n",
    "\n",
    "<img align=\"left\" width=\"200\" height=\"200\" src=\"https://upload.wikimedia.org/wikipedia/commons/thumb/3/31/NumPy_logo_2020.svg/1024px-NumPy_logo_2020.svg.png\">\n"
   ]
  },
  {
   "cell_type": "markdown",
   "metadata": {},
   "source": [
    "Completed by: *Olga Rozhdestvina (G00387844@gmit.ie)*\n",
    "***\n",
    "\n",
    "## Table of Contents\n",
    "* [Purpose of the package](#purpose)\n",
    "* [“Simple random data” and “Permutations” functions](#functions)\n",
    "    * [Simple random data](#srd)\n",
    "        * [Integers](#integers)\n",
    "        * [Random](#random)\n",
    "        * [Choice](#choice)\n",
    "        * [Bytes](#bytes)\n",
    "    * [Permutations](#permutations)\n",
    "* [“Distributions” functions](#distributions)\n",
    "    * [Discrete Probability Distribution](#discrete)\n",
    "        * [Binominal](#binominal)\n",
    "        * [Multinomial](#multinomial)\n",
    "        * [Geometric](#geometric)\n",
    "        * [Poisson](#poisson)\n",
    "    * [Continuous Probability Distribution](#continuous)\n",
    "        * [Normal](#normal)\n",
    "        * [Chi-Square](#chisquare)\n",
    "        * [Logistic](#logistic)\n",
    "        * [Exponential](#exponential)\n",
    "        \n",
    "        \n",
    "* [Seeds](#seeds)\n",
    "\n",
    "***"
   ]
  },
  {
   "cell_type": "markdown",
   "metadata": {},
   "source": [
    "### Purpose of the package <a name=\"purpose\"></a>"
   ]
  },
  {
   "cell_type": "markdown",
   "metadata": {},
   "source": [
    "First of all let's remind ourselves a what random number is. It doesn't mean a different number every time, but a number that can not be logically predicted. And those random numbers that are produced through a generating algorithm are called pseudorandom. [1] The _numpy.random_ package is based on a pseudorandom number generator, or PRNG, and comes as supplemental for [the built-in Python random package](https://docs.python.org/3/library/random.html). It is used for efficient generation of whole arrays of random values from various probability distributions. [2] [3]\n",
    "\n",
    "> 1. [DataCamp: Random Number Generator Using Numpy](https://www.datacamp.com/community/tutorials/numpy-random)\n",
    "2. [Wes McKinney: Python for Data Analysis ](https://www.oreilly.com/library/view/python-for-data/9781449323592/)\n",
    "3. [NumPy: numpy.random](https://numpy.org/doc/stable/reference/random/)"
   ]
  },
  {
   "cell_type": "code",
   "execution_count": 1,
   "metadata": {},
   "outputs": [],
   "source": [
    "# Import the numpy package.\n",
    "import numpy as np\n",
    "# Package for plotting.\n",
    "import matplotlib.pyplot as plt\n",
    "# Another package for plotting.\n",
    "import seaborn as sns\n"
   ]
  },
  {
   "cell_type": "code",
   "execution_count": 2,
   "metadata": {},
   "outputs": [],
   "source": [
    "# Colour scheme and styles for plots.\n",
    "sns.set_theme(palette=\"Set2\", context=\"paper\", font_scale=1.5)\n",
    "\n",
    "# Better sized plots.\n",
    "plt.rcParams['figure.figsize'] = (10, 6)"
   ]
  },
  {
   "cell_type": "code",
   "execution_count": 3,
   "metadata": {},
   "outputs": [],
   "source": [
    "# Get an instance of generator.\n",
    "rng = np.random.default_rng()"
   ]
  },
  {
   "cell_type": "markdown",
   "metadata": {},
   "source": [
    "***\n",
    "<br>\n",
    "\n",
    "### “SIMPLE RANDOM DATA” and “PERMUTATIONS” functions <a name=\"functions\"></a>"
   ]
  },
  {
   "cell_type": "markdown",
   "metadata": {},
   "source": [
    "#### Simple random data <a name=\"srd\"></a>\n",
    "\n",
    "\n",
    "<img align=\"left\" width=\"302\" height=\"420\" src=\"https://www.netquest.com/hubfs/Imported_Blog_Media/smallnumbers-1.png\">\n"
   ]
  },
  {
   "cell_type": "markdown",
   "metadata": {},
   "source": [
    "* _INTEGERS_ <a name=\"integers\"></a>\n",
    " \n",
    "Numpy.random package can be used for generating random integers. The examples below depict that this method can output a single integer, one-dimensional or two-dimensional arrays.\n",
    "\n",
    "1. A single integer"
   ]
  },
  {
   "cell_type": "code",
   "execution_count": 4,
   "metadata": {},
   "outputs": [
    {
     "data": {
      "text/plain": [
       "788"
      ]
     },
     "execution_count": 4,
     "metadata": {},
     "output_type": "execute_result"
    }
   ],
   "source": [
    "# Call the generator to obtain a random integer.\n",
    "x = rng.integers(1000)\n",
    "\n",
    "# Display the number.\n",
    "x"
   ]
  },
  {
   "cell_type": "markdown",
   "metadata": {},
   "source": [
    "2. One-dimensional array"
   ]
  },
  {
   "cell_type": "code",
   "execution_count": 5,
   "metadata": {},
   "outputs": [
    {
     "data": {
      "text/plain": [
       "array([300, 135,  89, 984, 589, 622, 434, 380, 855, 680, 382,  64, 264,\n",
       "       684, 805, 480, 864, 571,  83, 511, 309, 837, 854, 346, 183, 589,\n",
       "       349, 660, 875, 699, 639, 624, 824, 505, 173, 540, 769, 899, 137,\n",
       "       577,  34, 946, 748, 801, 519, 847, 550, 269, 434, 152, 249, 614,\n",
       "       785, 255, 338, 628, 179, 548, 284, 151, 617, 393, 846, 519, 770,\n",
       "       513, 827, 766, 247, 176, 486, 568, 494, 152, 133, 126, 148, 646,\n",
       "       311,   7, 491, 935, 991, 365, 614, 681, 748, 922, 850, 995, 608,\n",
       "       422,  49, 670, 794, 980, 555, 706, 398, 132, 734, 166, 824, 971,\n",
       "       726, 465, 388, 561, 299, 866, 450, 130, 531, 795, 406,  56, 370,\n",
       "       967, 578, 294, 682, 200,  17, 553, 780, 610, 762, 364, 205,  31,\n",
       "       252, 121, 620, 463, 673, 882, 770,  21, 604, 325, 905, 200, 498,\n",
       "       216, 602, 867, 763, 765, 190, 111, 195,  49, 287, 211, 863, 457,\n",
       "       242, 120, 979, 698, 211, 773, 776, 792, 601, 447, 436, 810, 953,\n",
       "       494, 185, 213, 113, 528, 926, 823, 861, 128, 177, 869, 555, 344,\n",
       "       276, 307, 716, 838, 679, 148, 604, 288, 928, 285, 259,  68, 761,\n",
       "       476, 948, 468, 113, 331], dtype=int64)"
      ]
     },
     "execution_count": 5,
     "metadata": {},
     "output_type": "execute_result"
    }
   ],
   "source": [
    "# Generate 200 numbers between 0 and 999, inclusive:\n",
    "x = rng.integers(1000, size=200)\n",
    "\n",
    "# Display the array.\n",
    "x"
   ]
  },
  {
   "cell_type": "code",
   "execution_count": 6,
   "metadata": {},
   "outputs": [
    {
     "data": {
      "image/png": "[encoded data removed]",
      "text/plain": [
       "<Figure size 720x432 with 1 Axes>"
      ]
     },
     "metadata": {},
     "output_type": "display_data"
    }
   ],
   "source": [
    "# Set the title for the future plot.\n",
    "plt.title(\"Integers Method: 1-D array\")\n",
    "\n",
    "# Plot the array.\n",
    "sns.histplot(x)\n",
    "\n",
    "# Show the plot.\n",
    "plt.show()"
   ]
  },
  {
   "cell_type": "markdown",
   "metadata": {},
   "source": [
    "3. Two-dimensional array"
   ]
  },
  {
   "cell_type": "code",
   "execution_count": 7,
   "metadata": {},
   "outputs": [
    {
     "data": {
      "text/plain": [
       "array([[83, 53, 42, 98, 93, 60, 44],\n",
       "       [69,  7, 27, 11, 69, 74, 82],\n",
       "       [70, 80,  2, 44, 69, 38, 84],\n",
       "       [33, 38,  5, 93, 69, 20, 56],\n",
       "       [ 2,  5, 78, 11,  1,  8, 39]], dtype=int64)"
      ]
     },
     "execution_count": 7,
     "metadata": {},
     "output_type": "execute_result"
    }
   ],
   "source": [
    "# Generate a 2-D array with 5 rows containing 7 integers between 0 and 99, inclusive:\n",
    "x = rng.integers(100, size=(5, 7))\n",
    "\n",
    "# Display the array.\n",
    "x"
   ]
  },
  {
   "cell_type": "code",
   "execution_count": 8,
   "metadata": {},
   "outputs": [
    {
     "data": {
      "image/png": "[encoded data removed]",
      "text/plain": [
       "<Figure size 720x432 with 1 Axes>"
      ]
     },
     "metadata": {},
     "output_type": "display_data"
    }
   ],
   "source": [
    "# Set the title for the future plot.\n",
    "plt.title(\"Integers Method: 2-D array\")\n",
    "\n",
    "# Loop through the rows in the array.\n",
    "\n",
    "sns.set()\n",
    "# Loop through the rows in the array.\n",
    "for i in range(len(x)):\n",
    "    # Build the plot.\n",
    "    plt.hist(x[i], histtype=\"stepfilled\", alpha=0.8)\n",
    "    \n",
    "# Show the plot.    \n",
    "plt.show()"
   ]
  },
  {
   "cell_type": "markdown",
   "metadata": {},
   "source": [
    "<br>\n",
    "\n",
    "- _RANDOM_ <a name=\"random\"></a>\n",
    "\n",
    "With this method numPy produces random floats and output vary from a single float number to one-dimensional or two-dimensional arrays. If not specified otherwise, floats are sampled from the interval between 0.0 and 1.0 (exclusively).\n",
    "\n",
    "1. A single float"
   ]
  },
  {
   "cell_type": "code",
   "execution_count": 9,
   "metadata": {},
   "outputs": [
    {
     "data": {
      "text/plain": [
       "0.5419205609756288"
      ]
     },
     "execution_count": 9,
     "metadata": {},
     "output_type": "execute_result"
    }
   ],
   "source": [
    "# Generate a single float number:\n",
    "x = rng.random()\n",
    "\n",
    "# Display the float.\n",
    "x"
   ]
  },
  {
   "cell_type": "markdown",
   "metadata": {},
   "source": [
    "2. One-dimensional array"
   ]
  },
  {
   "cell_type": "code",
   "execution_count": 10,
   "metadata": {},
   "outputs": [
    {
     "data": {
      "text/plain": [
       "array([0.0254282 , 0.39963726, 0.12055525, 0.08936366, 0.83698716,\n",
       "       0.94204128, 0.21450648, 0.04820341, 0.19796493, 0.42610972,\n",
       "       0.91443725, 0.91809234, 0.63649643, 0.69063264, 0.01595136,\n",
       "       0.20477917, 0.88279015, 0.37789372, 0.59646071, 0.55353353,\n",
       "       0.07160344, 0.45069162, 0.81909626, 0.15589193, 0.81067292,\n",
       "       0.73604514, 0.96812134, 0.36515657, 0.07942151, 0.83832546,\n",
       "       0.01551076, 0.29836717, 0.60653968, 0.14454651, 0.46917956,\n",
       "       0.96671327, 0.74946432, 0.52060884, 0.52834177, 0.43921536])"
      ]
     },
     "execution_count": 10,
     "metadata": {},
     "output_type": "execute_result"
    }
   ],
   "source": [
    "# Generate 40 floats:\n",
    "x = rng.random((40,))\n",
    "\n",
    "# Display the array.\n",
    "x"
   ]
  },
  {
   "cell_type": "code",
   "execution_count": 11,
   "metadata": {},
   "outputs": [
    {
     "data": {
      "image/png": "[encoded data removed]",
      "text/plain": [
       "<Figure size 720x432 with 1 Axes>"
      ]
     },
     "metadata": {},
     "output_type": "display_data"
    }
   ],
   "source": [
    "# Set the title for the future plot.\n",
    "plt.title(\"Random Method: 1-D array\")\n",
    "\n",
    "# Change colour scheme.\n",
    "sns.set_palette(\"rocket\")\n",
    "\n",
    "# Build the plot.\n",
    "sns.histplot(x)\n",
    "\n",
    "# Show the plot.\n",
    "plt.show()"
   ]
  },
  {
   "cell_type": "markdown",
   "metadata": {},
   "source": [
    "3. Two-dimensional array"
   ]
  },
  {
   "cell_type": "code",
   "execution_count": 12,
   "metadata": {},
   "outputs": [
    {
     "data": {
      "text/plain": [
       "array([[-67.22326074, -46.69958195, -18.4380789 , -80.71493838,\n",
       "        -87.11916831, -22.45502019, -30.28665093, -59.23367424,\n",
       "        -69.39966055, -66.07869874, -56.7791549 , -27.89521936,\n",
       "        -43.63648998, -70.50130772, -40.62820271, -95.11145046,\n",
       "        -90.19741578, -64.4844626 , -11.88089746, -22.49280431,\n",
       "        -47.91948666, -69.18334959, -20.77392149, -12.35711307,\n",
       "        -95.18190579, -74.39230528, -68.91044126, -10.04683601,\n",
       "        -18.36165366, -37.03171222],\n",
       "       [ -5.58159953, -16.60780976, -69.73170033, -46.76248918,\n",
       "        -76.76731674, -46.74290235, -75.0073743 , -90.49069094,\n",
       "        -82.44238551, -63.14619232, -62.75151338, -73.28709508,\n",
       "        -79.1672944 ,  -9.80501461, -49.81320821, -66.68497591,\n",
       "        -83.06243845, -79.62749382, -79.73024213, -85.47558765,\n",
       "        -28.59889645, -16.32818183, -30.60014101, -69.10652111,\n",
       "        -11.23177565, -84.12941409, -79.61051623,  -2.46014841,\n",
       "        -22.50310307,  -0.76814556]])"
      ]
     },
     "execution_count": 12,
     "metadata": {},
     "output_type": "execute_result"
    }
   ],
   "source": [
    "# Generate a 2-D array with 2 rows containing 30 floats between -100 and 0, exclusive:\n",
    "x = 100 * rng.random((2, 30)) - 100\n",
    "\n",
    "# Display the array.\n",
    "x"
   ]
  },
  {
   "cell_type": "code",
   "execution_count": 13,
   "metadata": {},
   "outputs": [
    {
     "data": {
      "image/png": "[encoded data removed]",
      "text/plain": [
       "<Figure size 720x432 with 1 Axes>"
      ]
     },
     "metadata": {},
     "output_type": "display_data"
    }
   ],
   "source": [
    "# Set the title for the future plot.\n",
    "plt.title(\"Random Method: 2-D array\")\n",
    "\n",
    "sns.set()\n",
    "# Loop through the rows in the array.\n",
    "for i in range(len(x)):\n",
    "    # Build the plot.\n",
    "    plt.hist(x[i], histtype=\"stepfilled\", alpha=0.5)\n",
    "    \n",
    "# Show the plot.    \n",
    "plt.show()"
   ]
  },
  {
   "cell_type": "markdown",
   "metadata": {},
   "source": [
    "<br>\n",
    "\n",
    "- _CHOICE_ <a name=\"choice\"></a>\n",
    "\n",
    "The choice method generates random numbers from a given integer or one-dimensional array (of integers or strings). If not specified otherwise, the output assumes a uniform distribution over all entries in the given array. (refer to [“Distributions” functions](#distributions) )\n",
    "\n",
    " 1. Uniform distribution (default)."
   ]
  },
  {
   "cell_type": "code",
   "execution_count": 14,
   "metadata": {},
   "outputs": [
    {
     "data": {
      "text/plain": [
       "array([1, 0, 0, 9, 4, 5, 0, 8, 4], dtype=int64)"
      ]
     },
     "execution_count": 14,
     "metadata": {},
     "output_type": "execute_result"
    }
   ],
   "source": [
    "# Generate 9 evenly spaced values between 0 and 9 (inclusive) (np.arange(10)).\n",
    "x = rng.choice(10, 9)\n",
    "\n",
    "# Display the array.\n",
    "x"
   ]
  },
  {
   "cell_type": "code",
   "execution_count": 15,
   "metadata": {},
   "outputs": [
    {
     "data": {
      "image/png": "[encoded data removed]",
      "text/plain": [
       "<Figure size 720x432 with 1 Axes>"
      ]
     },
     "metadata": {},
     "output_type": "display_data"
    }
   ],
   "source": [
    "# Set the title for the future plot.\n",
    "plt.title(\"Choice Method: Uniform distribution\")\n",
    "\n",
    "# Change colour scheme.\n",
    "sns.set_palette(\"flare\")\n",
    "\n",
    "# Build the plot.\n",
    "sns.histplot(x)\n",
    "\n",
    "# Show the plot.\n",
    "plt.show()"
   ]
  },
  {
   "cell_type": "code",
   "execution_count": 16,
   "metadata": {},
   "outputs": [
    {
     "data": {
      "text/plain": [
       "array([1, 5, 3, 9, 6, 8, 4, 0, 2], dtype=int64)"
      ]
     },
     "execution_count": 16,
     "metadata": {},
     "output_type": "execute_result"
    }
   ],
   "source": [
    "# Generate 9 UNIQUE random numbers from np.arange(10): \n",
    "x = rng.choice(10, 9, replace=False)\n",
    "\n",
    "# Display the array.\n",
    "x"
   ]
  },
  {
   "cell_type": "code",
   "execution_count": 17,
   "metadata": {},
   "outputs": [
    {
     "data": {
      "image/png": "[encoded data removed]",
      "text/plain": [
       "<Figure size 720x432 with 1 Axes>"
      ]
     },
     "metadata": {},
     "output_type": "display_data"
    }
   ],
   "source": [
    "# Set the title for the future plot.\n",
    "plt.title(\"Choice Method: Uniform distribution of unique numbers\")\n",
    "\n",
    "# Build the plot.\n",
    "sns.histplot(x)\n",
    "\n",
    "# Show the plot.\n",
    "plt.show()"
   ]
  },
  {
   "cell_type": "markdown",
   "metadata": {},
   "source": [
    " 2. Non-uniform distribution. \n",
    " \n",
    " Requires provision of probability $p$ of each entry in a given array to appear in the output. \n",
    " \n",
    " Note that $p$:\n",
    "    - has to be of the same size as a given array;\n",
    "    - sum of $p$ elements has to be 1;\n",
    "    - non-zero entries in $p$ has to be same as size."
   ]
  },
  {
   "cell_type": "code",
   "execution_count": 18,
   "metadata": {},
   "outputs": [
    {
     "data": {
      "text/plain": [
       "array([6, 7, 7, 0, 4, 3, 1, 4, 4], dtype=int64)"
      ]
     },
     "execution_count": 18,
     "metadata": {},
     "output_type": "execute_result"
    }
   ],
   "source": [
    "# Generate 9 evenly spaced values between 0 and 9 (inclusive) (np.arange(10)) with provided p:\n",
    "x = rng.choice(10, 9, p=[0.1, 0.1, 0.1, 0.1, 0.1, 0.2, 0.1, 0.1, 0, 0.1])\n",
    "\n",
    "# Display the array.\n",
    "x"
   ]
  },
  {
   "cell_type": "code",
   "execution_count": 19,
   "metadata": {},
   "outputs": [
    {
     "data": {
      "image/png": "[encoded data removed]",
      "text/plain": [
       "<Figure size 720x432 with 1 Axes>"
      ]
     },
     "metadata": {},
     "output_type": "display_data"
    }
   ],
   "source": [
    "# Set the title for the future plot.\n",
    "plt.title(\"Choice Method: Non-Uniform distribution\")\n",
    "\n",
    "# Build the plot.\n",
    "sns.histplot(x)\n",
    "\n",
    "# Show the plot.\n",
    "plt.show()"
   ]
  },
  {
   "cell_type": "code",
   "execution_count": 20,
   "metadata": {},
   "outputs": [
    {
     "data": {
      "text/plain": [
       "array([2, 6, 3, 0, 9, 7, 1, 4, 5], dtype=int64)"
      ]
     },
     "execution_count": 20,
     "metadata": {},
     "output_type": "execute_result"
    }
   ],
   "source": [
    "# Generate 9 evenly spaced values between 0 and 9 (inclusive) (np.arange(10)) with provided p:\n",
    "x = rng.choice(10, 9, replace=False, p=[0.1, 0.1, 0.1, 0.1, 0.1, 0.2, 0.1, 0.1, 0, 0.1])\n",
    "\n",
    "# Display the array.\n",
    "x"
   ]
  },
  {
   "cell_type": "code",
   "execution_count": 21,
   "metadata": {},
   "outputs": [
    {
     "data": {
      "image/png": "[encoded data removed]",
      "text/plain": [
       "<Figure size 720x432 with 1 Axes>"
      ]
     },
     "metadata": {},
     "output_type": "display_data"
    }
   ],
   "source": [
    "# Set the title for the future plot.\n",
    "plt.title(\"Choice Method: Non-Uniform distribution of unique numbers\")\n",
    "\n",
    "# Build the plot.\n",
    "sns.histplot(x)\n",
    "\n",
    "# Show the plot.\n",
    "plt.show()"
   ]
  },
  {
   "cell_type": "markdown",
   "metadata": {},
   "source": [
    "- _BYTES_ <a name=\"bytes\"></a>\n",
    "\n",
    "This NumPy random method returns random bytes."
   ]
  },
  {
   "cell_type": "code",
   "execution_count": 22,
   "metadata": {},
   "outputs": [
    {
     "data": {
      "text/plain": [
       "b'\\x8c\\xe4\\xea\\xde{%Z?\\xdc^\\x86\\x13\\xa5\\x01\\xf9pJ\\x8b\\xd0#\\x08M\\xd0\\xec\\x1f\\x02\\x906\\xd1\\xdf\\x03\\xf7\\x12+h\\xe7\\xa4\\xd1\\xd7\\x99\\xd5\\xde\\xc7\\x06\\xe4c\\x16\\xff\\xb8\\x0c\\x99@\\xb4\\x1e%+l`Z\\x1b\\xcb\\xd9\\xf7/\\xa8\\xc5<\\x0c\\xbdo\\x1bb!Cim1!\\xe5P>\\xfe\\xc8\\xa9\\xffE<\\xe4,\\x92/r_\\x94\\xcf\\xdafN\\xf3\\xcf'"
      ]
     },
     "execution_count": 22,
     "metadata": {},
     "output_type": "execute_result"
    }
   ],
   "source": [
    "# Generate 100 random bytes:\n",
    "x = rng.bytes(100)\n",
    "\n",
    "# Display the array.\n",
    "x"
   ]
  },
  {
   "cell_type": "markdown",
   "metadata": {},
   "source": [
    "***\n",
    "<br>\n",
    "\n",
    "#### Permutations <a name=\"permutations\"></a>\n",
    "\n",
    "\n",
    "<img align=\"left\" width=\"200\" height=\"300\" src=\"https://upload.wikimedia.org/wikipedia/commons/3/39/Combination_unlocked.png\">"
   ]
  },
  {
   "cell_type": "markdown",
   "metadata": {},
   "source": [
    "Generally speaking, in NumPy, both permutation and shuffle methods randomly shuffle elements in an array, which results in the same output when plotting (see below). However, there are some differences in these methods. \n",
    "\n",
    "The Shuffle method changes arrangement of elements inplace, i.e. in the array itself. On the other hand, the Permutation method produces a shuffled range if integer is passed or a shuffled _copy_ of the array if an array is passed (meaning that the original array is left unchanged).$^4$\n",
    "\n",
    "\n",
    "> 4. [W3Schools: Random Permutations](https://www.w3schools.com/python/numpy_random_permutation.asp)\n"
   ]
  },
  {
   "cell_type": "markdown",
   "metadata": {},
   "source": [
    "_SHUFFLE_ vs _PERMUTATION_ \n",
    "\n",
    "1. One-Dimensional Array"
   ]
  },
  {
   "cell_type": "code",
   "execution_count": 23,
   "metadata": {},
   "outputs": [
    {
     "data": {
      "text/plain": [
       "array([154,  19, 101,  68, 125,  13,  42, 198,   6, 177, 109, 172,  55,\n",
       "        88, 156,  72,  62, 116,  37,   4, 111, 170, 196, 115, 103,  64,\n",
       "       165,  31,  12,  21,  91,   5,  69, 150, 147, 193,  83,  58, 133,\n",
       "        89,  47, 155,  16, 162, 178,  56,  98, 139, 179,  65,  53, 131,\n",
       "        70, 130,  87,  67, 123, 187,  77,  29,  22, 152,   9, 118,  59,\n",
       "       119,  43,  60, 142,  85, 113, 186, 128,  96, 114, 164,  39, 191,\n",
       "       195,  93,  51, 124,  45,  75, 120, 182, 184, 183, 153,  10,  95,\n",
       "        36,  81, 126, 167, 129, 106,   8, 104,  32, 175, 107, 180, 168,\n",
       "         0,  52,   2, 188,  30, 135,  41, 199, 137,  92, 121, 148, 108,\n",
       "       157,  54,  14,  66,  80, 110,  71, 144, 176, 100,   1,  99,  40,\n",
       "        20, 181, 160, 140, 136,  57,  25,  34, 145,  50, 166, 141, 190,\n",
       "        27, 185,   7, 173, 194, 102,  79,  28,  61,  63, 169,  97,  94,\n",
       "        48, 127, 158,  11, 112,  90, 149, 174,  38, 192, 117,  49, 189,\n",
       "        18,  17, 159,  46,  76, 163,  33,  84, 134, 146, 161, 138,  26,\n",
       "        82,  15,  74,   3,  35, 151, 197,  86, 143,  23,  24,  44, 122,\n",
       "        78, 105, 132, 171,  73])"
      ]
     },
     "execution_count": 23,
     "metadata": {},
     "output_type": "execute_result"
    }
   ],
   "source": [
    "# Generate an array between 0 and 199, inclusive:\n",
    "x = np.arange(200)\n",
    "\n",
    "# Shuffle its content.\n",
    "rng.shuffle(x)\n",
    "\n",
    "# Display the array.\n",
    "x"
   ]
  },
  {
   "cell_type": "code",
   "execution_count": 24,
   "metadata": {},
   "outputs": [
    {
     "data": {
      "text/plain": [
       "array([113,  27, 158, 126,  64, 157,  37, 146, 196, 187, 168,  21,  25,\n",
       "        80, 189, 120,  87,  81,  89, 177,  69,  70,  43, 138, 129, 163,\n",
       "       104,  83,  67,  47,  33, 109, 172,   3,  60, 123,  42, 125,  61,\n",
       "       184, 121,  36, 139, 122,  15,  66,  28,  52,  68, 147,  86,  41,\n",
       "        74,  10,  72, 180, 118,  38, 186,  75,  31, 188, 100,  11, 181,\n",
       "        23,  20, 159, 193, 170,  77, 106, 151, 179,  29,  96, 111, 178,\n",
       "       130,  93,  62, 119, 114,  78, 108, 155,  59, 115,  14,  32,  97,\n",
       "       152, 133, 176, 183,  57, 134,   5, 140,  22,  94, 191, 156, 190,\n",
       "       165,   8,  30,  91,  79, 174, 195, 117, 175,  51,  19, 124,   0,\n",
       "        98, 101, 127,  45,  53,  35,   2,  17, 142,  40, 173, 199,   4,\n",
       "       198, 141,  13,  82,  92,  49,   6,  90,  71, 167,  12,   9, 137,\n",
       "        48, 148,  99,  46, 169,  54, 136,  39, 132, 160, 185, 135, 153,\n",
       "         1, 116, 164, 105,  63,  73, 192, 154,  50,  65,  34, 161, 103,\n",
       "         7, 182,  55,  18, 162,  44,  88, 128,  58,  26, 194, 171, 102,\n",
       "       145, 131, 150, 166,  85, 107,  76,  56,  84, 144, 143,  95, 110,\n",
       "       197,  16,  24, 112, 149])"
      ]
     },
     "execution_count": 24,
     "metadata": {},
     "output_type": "execute_result"
    }
   ],
   "source": [
    "# Permute an array of 200 numbers between 0 and 199, inclusive:\n",
    "y = rng.permutation(200)\n",
    "\n",
    "# Display the array.\n",
    "y"
   ]
  },
  {
   "cell_type": "code",
   "execution_count": 25,
   "metadata": {},
   "outputs": [
    {
     "data": {
      "image/png": "[encoded data removed]",
      "text/plain": [
       "<Figure size 720x432 with 2 Axes>"
      ]
     },
     "metadata": {},
     "output_type": "display_data"
    }
   ],
   "source": [
    "# Change colour scheme.\n",
    "sns.set_palette(\"husl\")\n",
    "\n",
    "# Build the Shuffle plot one the left.\n",
    "plt.subplot(1, 2, 1)\n",
    "sns.histplot(x)\n",
    "\n",
    "# Set the title for the Shuffle plot.\n",
    "plt.title(\"Shuffle: 1-D array\")\n",
    "\n",
    "# Build the Permutation plot one the right.\n",
    "plt.subplot(1, 2, 2)\n",
    "sns.histplot(y)\n",
    "\n",
    "# Set the title for the Permutation plot.\n",
    "plt.title(\"Permutation: 1-D array\")\n",
    "\n",
    "# Show the plot.\n",
    "plt.show()"
   ]
  },
  {
   "cell_type": "markdown",
   "metadata": {},
   "source": [
    "2. Two-Dimensional Array"
   ]
  },
  {
   "cell_type": "code",
   "execution_count": 26,
   "metadata": {
    "scrolled": false
   },
   "outputs": [
    {
     "data": {
      "text/plain": [
       "array([[ 77,  78,  16,  39,  47,  75,  29,  53,  22,  81,  13,  31,  37,\n",
       "         21,  85,  43,   2,  33,  97,   3,  20,  98,   5,  41,  40,  83,\n",
       "         36,  23,   6,  92,  66,  73,  27,  93,  38,  71,  63,  49,  55,\n",
       "         86,  96,  65,  82,  45,  26,  19,  54,  80,  60,  18,  58,  88,\n",
       "         68,  35,  67,  62,   1,  56,  57,  32,  10,  69,  74,  79,  11,\n",
       "          8,  94,  25,  95,   7,  17,  84,   0,  99,  64,   4,  50,  52,\n",
       "         15,  51,  12,  91,  28,  24,  14,   9,  34,  72,  89,  70,  76,\n",
       "         46,  30,  48,  87,  44,  59,  61,  90,  42],\n",
       "       [177, 178, 116, 139, 147, 175, 129, 153, 122, 181, 113, 131, 137,\n",
       "        121, 185, 143, 102, 133, 197, 103, 120, 198, 105, 141, 140, 183,\n",
       "        136, 123, 106, 192, 166, 173, 127, 193, 138, 171, 163, 149, 155,\n",
       "        186, 196, 165, 182, 145, 126, 119, 154, 180, 160, 118, 158, 188,\n",
       "        168, 135, 167, 162, 101, 156, 157, 132, 110, 169, 174, 179, 111,\n",
       "        108, 194, 125, 195, 107, 117, 184, 100, 199, 164, 104, 150, 152,\n",
       "        115, 151, 112, 191, 128, 124, 114, 109, 134, 172, 189, 170, 176,\n",
       "        146, 130, 148, 187, 144, 159, 161, 190, 142]])"
      ]
     },
     "execution_count": 26,
     "metadata": {},
     "output_type": "execute_result"
    }
   ],
   "source": [
    "# Generate a 2-D array with 2 rows of 100 numbers between 0 and 199, inclusive:\n",
    "x = np.arange(200).reshape((2, 100))\n",
    "\n",
    "# Shuffle its content along the axis 1.\n",
    "rng.shuffle(x, axis=1)\n",
    "\n",
    "# Display the array.\n",
    "x"
   ]
  },
  {
   "cell_type": "code",
   "execution_count": 27,
   "metadata": {},
   "outputs": [
    {
     "data": {
      "text/plain": [
       "array([[ 48,  53,  22,  66,  49,  59,  55,  79,  25,  99,  43,  73,  16,\n",
       "         50,   3,  38,  96,  83,  45,  51,  67,  35,  21,  18,  86,  17,\n",
       "         33,  87,   0,  13,  47,  30,  27,  36,  20,  40,  42,  89,  68,\n",
       "         77,  69,  62,  80,   4,  70,  94,  56,  24,  93,  65,  76,   9,\n",
       "         85,  10,   8,  39,   2,   1,   5,  12,  57,  78,  19,  32,  58,\n",
       "         63,  34,  71,  75,  97,  72,  61,  23,  29,   7,  60,  90,  15,\n",
       "         31,  37,  41,  81,  11,  46,  54,  52,  14,  88,  84,  91,  64,\n",
       "         26,  44,  92,  98,  95,  28,   6,  74,  82],\n",
       "       [148, 153, 122, 166, 149, 159, 155, 179, 125, 199, 143, 173, 116,\n",
       "        150, 103, 138, 196, 183, 145, 151, 167, 135, 121, 118, 186, 117,\n",
       "        133, 187, 100, 113, 147, 130, 127, 136, 120, 140, 142, 189, 168,\n",
       "        177, 169, 162, 180, 104, 170, 194, 156, 124, 193, 165, 176, 109,\n",
       "        185, 110, 108, 139, 102, 101, 105, 112, 157, 178, 119, 132, 158,\n",
       "        163, 134, 171, 175, 197, 172, 161, 123, 129, 107, 160, 190, 115,\n",
       "        131, 137, 141, 181, 111, 146, 154, 152, 114, 188, 184, 191, 164,\n",
       "        126, 144, 192, 198, 195, 128, 106, 174, 182]])"
      ]
     },
     "execution_count": 27,
     "metadata": {},
     "output_type": "execute_result"
    }
   ],
   "source": [
    "# Generate a 2-D array with 2 rows of 200 numbers between 0 and 199, inclusive:\n",
    "a = np.arange(200).reshape((2, 100))\n",
    "\n",
    "# Copy the array and shuffle its content along the axis 1.\n",
    "y = rng.permutation(a, axis=1)\n",
    "\n",
    "# Display the array.\n",
    "y"
   ]
  },
  {
   "cell_type": "code",
   "execution_count": 28,
   "metadata": {},
   "outputs": [
    {
     "data": {
      "image/png": "[encoded data removed]",
      "text/plain": [
       "<Figure size 720x432 with 2 Axes>"
      ]
     },
     "metadata": {},
     "output_type": "display_data"
    }
   ],
   "source": [
    "# Build the Shuffle plot one the left.\n",
    "plt.subplot(1, 2, 1)\n",
    "for i in range(len(x)):\n",
    "    # Build the plot.\n",
    "    sns.histplot(x[i])\n",
    "\n",
    "# Set the title for the Shuffle plot.\n",
    "plt.title(\"Shuffle: 2-D array shuffled along the axis\")\n",
    "\n",
    "# Build the Permutation plot the right.\n",
    "plt.subplot(1, 2, 2)\n",
    "for i in range(len(y)):\n",
    "    # Build the plot.\n",
    "    sns.histplot(y[i])\n",
    "\n",
    "# Set the title for the Permutation plot.\n",
    "plt.title(\"Permutation: 2-D array shuffled along the axis\")\n",
    "\n",
    "# Show the plot.    \n",
    "plt.show()"
   ]
  },
  {
   "cell_type": "markdown",
   "metadata": {},
   "source": [
    "***\n",
    "<br>\n",
    "\n",
    "### “DISTRIBUTIONS” functions <a name=\"distributions\"></a>\n",
    "\n",
    "<img align=\"left\" width=\"300\" height=\"300\" src=\"https://cdn1.iconfinder.com/data/icons/data-science-flat-1/64/probability-distribution-normal-curve-statistics-data-512.png\">"
   ]
  },
  {
   "cell_type": "markdown",
   "metadata": {},
   "source": [
    "Probability distribution is a rule or a set of rules that outlines all the possible values that a random variable is likely to take within a given range. The precision of where values will be plotted on the probability distribution within this range depends on many factors, including the distribution's mean, standard deviation etc. [1]\n",
    "\n",
    "Statistically, probability distributions can be divided into two groups: discrete and continuous. This division depends on whether the data on which probability is calculated consists of discrete (with a range of countable values) or continuous (with a range of infinite (uncountable) values) variables. [2] [3]\n",
    "\n",
    "> 1. [Investopedia: Probability Distribution](https://www.investopedia.com/terms/p/probabilitydistribution.asp)\n",
    "2. [Statistics How To: Continuous Probability Distribution](https://www.statisticshowto.com/continuous-probability-distribution/)\n",
    "3. [Statistics How To: Discrete Probability Distribution](https://www.statisticshowto.com/discrete-probability-distribution/)\n"
   ]
  },
  {
   "cell_type": "markdown",
   "metadata": {},
   "source": [
    "<br>\n",
    "\n",
    "#### Discrete Probability Distribution <a name=\"discrete\"></a>\n",
    "\n",
    "<br>\n",
    "\n",
    "##### Binomial  <a name=\"binomial\"></a>\n",
    "\n",
    "A binomial distribution may have two possible outcomes: \"success\" or \"failure\" (hence \"binomial\").\n",
    "\n",
    "There are three properties that binomial distributions must have:\n",
    "\n",
    "1. The number of trials is fixed.\n",
    "2. Each trial is independent. \n",
    "3. The success probability is the same from one trial to another.  [1]\n",
    "\n",
    "There are many real-life instances of binomial distributions. For example, we can calculate a number of \"successes\" of a new medicine tested on a set of patients where the outcome for a given patient is either a success or a failure. [2] \n",
    "\n",
    "> 1. [Statistics How To: Binomial Distribution](https://www.statisticshowto.com/probability-and-statistics/binomial-theorem/binomial-distribution-formula/)\n",
    "2. [Boston University School of Public Health: The Binomial Distribution](https://sphweb.bumc.bu.edu/otlt/mph-modules/bs/bs704_probability/bs704_probability7.html#:~:text=The%20binomial%20distribution%20model%20allows,a%20success%20or%20a%20failure.)\n",
    "\n",
    "_Example: Flip a coin_\n",
    "\n",
    "<img align=\"left\" width=\"140\" height=\"250\" src=\"https://juliakovach.files.wordpress.com/2012/07/coin-toss.png\">"
   ]
  },
  {
   "cell_type": "code",
   "execution_count": 29,
   "metadata": {
    "scrolled": true
   },
   "outputs": [
    {
     "data": {
      "text/plain": [
       "array([11, 10, 14, 10, 11, 10, 10, 11, 14,  7,  8,  6, 12, 10, 12, 12,  7,\n",
       "       12, 11, 13,  9, 11, 12, 14, 12, 10,  9, 14, 13, 12, 12,  9,  7,  9,\n",
       "       11, 12,  8,  8, 10,  9, 11,  9,  9, 12,  9,  9, 10, 10,  7, 13,  9,\n",
       "       10, 11, 15,  9, 12, 14,  8, 12,  7,  9, 11, 10,  8,  7, 10, 11,  8,\n",
       "       11,  8,  7,  9,  9,  9, 12,  8, 14, 13,  8,  9,  9,  6, 10, 10, 10,\n",
       "        9, 11, 10, 11, 10, 10, 10,  8, 13, 14, 14, 11,  6, 13,  8,  9, 12,\n",
       "       10,  8,  8, 12, 12, 12, 10, 13, 11,  6, 13,  8, 13,  9, 11,  9, 11,\n",
       "       10,  9, 13, 10, 12,  9, 13,  7,  9, 12, 12, 11,  8, 12, 10, 11, 14,\n",
       "       14, 10, 11,  8,  7, 10, 12, 11, 12, 10, 10,  8, 13,  8, 11, 10,  9,\n",
       "       10, 13,  8,  9,  9,  8, 10, 13,  9,  9,  9,  9, 11,  9,  7, 11, 12,\n",
       "       11,  9, 11, 10, 12,  7,  7,  7, 10,  8,  8, 13,  6, 10,  8, 12,  9,\n",
       "       10, 11, 10, 10, 11,  9,  7, 12,  9, 11,  8, 14, 11,  9, 15, 11, 10,\n",
       "        7, 11,  9, 11,  9,  7, 12, 10, 11, 10,  7, 13, 16, 12,  9,  8, 10,\n",
       "        7, 11, 11,  8,  9, 11,  8, 16, 13, 11,  5,  7, 13, 10, 10, 11,  7,\n",
       "       12, 10, 14, 10,  9,  8,  9, 10, 14,  7, 12, 12,  6, 13,  8, 10,  8,\n",
       "        8, 12, 11, 10,  7,  7,  9,  7, 13, 10,  8, 11,  8, 10,  8, 11, 10,\n",
       "       10, 11,  4, 10,  9,  9, 10,  9,  9, 10, 11,  9,  8, 10, 11, 10, 10,\n",
       "       10, 11,  9, 11,  9, 11,  9, 10,  8, 11, 12, 17, 10, 12, 10,  8,  8,\n",
       "       12,  8,  9,  7,  5, 12, 13,  9,  7,  8, 11, 11, 10,  7, 11,  8,  9,\n",
       "        9, 14,  9, 15,  7, 11,  9, 15,  9,  8,  8, 11, 10, 10,  9,  9,  8,\n",
       "       13,  7, 11, 10,  9, 10, 12,  9,  5, 10, 11, 10, 10,  8, 11, 11, 11,\n",
       "       14, 10, 15,  9, 13,  9,  7, 11,  8, 14, 10, 10,  8,  8, 12, 11, 10,\n",
       "       10, 10, 13, 13, 12,  9,  9, 13, 11,  7,  9, 11, 13, 11, 10,  7, 12,\n",
       "       11, 15, 10, 10, 10,  8,  5, 12,  7, 12, 10, 11, 11, 10,  6,  8, 12,\n",
       "       11, 14,  7,  7,  5, 11, 12, 10, 13,  8, 12,  8,  7, 12, 11,  8,  7,\n",
       "        9,  8,  9, 10,  5, 11,  9, 12, 10, 10, 11,  9,  8, 11, 12, 12,  8,\n",
       "        9, 11,  8, 12,  9, 11, 11, 12, 11,  9, 13,  7, 13, 11, 11,  8, 16,\n",
       "        8, 11,  9, 12, 13, 10,  9,  8, 10, 11, 11,  7, 11,  9,  5,  9, 13,\n",
       "       11,  7, 13, 11, 11,  9, 13, 11, 10, 10, 11, 13, 14, 13, 10, 10, 10,\n",
       "       14,  8, 10, 11, 13, 12, 11, 10,  8, 11, 12, 15, 11,  8,  7,  8,  9,\n",
       "       10, 11, 13,  7, 11, 12, 12, 12, 11,  6, 10, 10, 13,  9, 12, 12,  7,\n",
       "       10,  6,  7, 12,  9,  6, 11,  9,  9,  9, 10, 14, 10, 12,  8, 11, 11,\n",
       "        8, 10, 14, 11, 13,  8,  7, 12, 12,  7,  9, 15, 11, 12, 12,  9,  9,\n",
       "        7, 12,  7, 12, 11,  8, 10,  9, 10, 11,  6, 11, 11,  7, 11, 11, 11,\n",
       "        6,  7, 13, 10, 10,  9, 11, 12, 10, 12,  9,  8,  8, 14, 10, 12,  8,\n",
       "       11, 12,  9,  8, 12,  7, 11, 13, 11,  7,  9,  8,  9,  9,  9,  9, 12,\n",
       "       12, 10,  9, 15,  9,  8, 10, 13, 10, 10, 10, 10,  7,  7, 11,  7, 10,\n",
       "        8, 15, 12,  9, 12,  9,  4,  9, 10, 10, 11,  7,  9,  7, 11, 13,  9,\n",
       "        7,  7, 12,  9,  8,  7,  9, 12, 12,  9,  9, 11, 10, 10,  8, 10, 12,\n",
       "        8, 10,  8, 16, 12,  7, 12,  7,  7,  7, 12,  8,  9, 12, 13, 10,  9,\n",
       "        8,  9, 11,  9, 11, 12, 10, 11, 11,  8, 10, 13,  8, 11,  8, 11,  8,\n",
       "       11,  8, 11,  9,  8,  7,  6, 12,  9,  9, 10, 11, 12, 12, 13, 11, 12,\n",
       "        9, 12, 10, 13, 14, 13, 11,  9,  8, 10, 14, 14,  9, 13, 10, 13,  8,\n",
       "        8, 12,  7, 12, 11, 10,  6,  7,  9, 14,  7,  8,  9, 10, 11,  8, 11,\n",
       "       12,  6, 11,  8,  8, 12, 11,  9, 11, 10, 11, 12,  9, 12, 13, 11,  8,\n",
       "        8, 11,  9, 11,  9,  7, 11, 10,  5, 11,  8, 11, 13, 12,  9, 10,  8,\n",
       "       11,  8, 13, 12, 15,  7,  4,  9, 13, 12, 11, 11, 16, 11, 14,  7, 11,\n",
       "        8, 12,  8,  9,  9, 11,  7,  5,  9, 11, 10, 10, 10,  8, 14, 13, 15,\n",
       "       10,  7,  9,  8,  6, 12, 12,  9,  7,  7, 14, 12, 11,  7, 12,  8, 12,\n",
       "       13, 10, 12,  9, 10, 13, 10,  7,  8,  8, 11, 13, 12,  8,  8, 11,  7,\n",
       "       10, 10, 10,  9, 12, 11, 10,  9, 15,  9,  8, 12,  9,  8, 10, 10, 10,\n",
       "        7, 12,  9,  8, 11,  9, 13, 15, 11, 10, 12, 11, 10, 12, 11, 12, 10,\n",
       "       10,  8,  8, 10,  6, 11,  9, 13,  8, 13,  9, 13, 10,  6,  8, 12, 10,\n",
       "       11, 10, 11,  9, 12, 12, 12,  8,  8,  9, 12,  8, 13,  9, 11, 10,  9,\n",
       "       10, 10, 12, 11, 11, 13, 10, 11, 11,  6,  9, 14, 10, 12, 10,  8,  7,\n",
       "        6, 12, 10,  5,  6, 10,  9, 11,  6, 10, 11, 15, 10,  8, 10, 11,  9,\n",
       "       12, 13, 10, 12,  9,  9, 11, 15, 12, 10, 12, 12, 13, 10, 14,  7, 12,\n",
       "       10,  8, 12,  9,  7,  8, 10, 10, 11,  8,  8,  9,  7,  9,  9, 13, 11,\n",
       "       12,  5, 11,  6, 10, 10, 13, 10,  9,  5, 10,  8,  9, 13],\n",
       "      dtype=int64)"
      ]
     },
     "execution_count": 29,
     "metadata": {},
     "output_type": "execute_result"
    }
   ],
   "source": [
    "# Flip a coin 20 times with a probability 0.5 of each trial.\n",
    "n, p = 20, 0.5\n",
    "\n",
    "# Test done 1000 times.\n",
    "x = rng.binomial(n, p, 1000)\n",
    "\n",
    "# Display the number of heads.\n",
    "x"
   ]
  },
  {
   "cell_type": "code",
   "execution_count": 30,
   "metadata": {},
   "outputs": [
    {
     "data": {
      "image/png": "[encoded data removed]",
      "text/plain": [
       "<Figure size 720x432 with 1 Axes>"
      ]
     },
     "metadata": {},
     "output_type": "display_data"
    }
   ],
   "source": [
    "# Change colour scheme.\n",
    "sns.set_palette(\"PuOr\")\n",
    "\n",
    "# Set the title and x label for the future plot.\n",
    "plt.title(f\"Binominal Distribution: Flip a coin {n} times\")\n",
    "plt.xlabel(\"Number of Heads\")\n",
    "\n",
    "# Build the plot.\n",
    "sns.histplot(x, stat=\"probability\")\n",
    "\n",
    "# Show the plot.\n",
    "plt.show()"
   ]
  },
  {
   "cell_type": "markdown",
   "metadata": {},
   "source": [
    "<br>\n",
    "\n",
    "_Example: Test of an antihistamine drug_\n",
    "\n",
    "<img align=\"left\" width=\"220\" height=\"80\" src=\"https://secure.webtoolhub.com/static/resources/icons/set33/254c1686.png\">"
   ]
  },
  {
   "cell_type": "markdown",
   "metadata": {},
   "source": [
    "If the medication is given to 10 patients suffering from allergies, what is the probability of its effectiveness to be exactly exactly 7 when 80% of adults report symptomatic relief with this medication?"
   ]
  },
  {
   "cell_type": "code",
   "execution_count": 31,
   "metadata": {},
   "outputs": [
    {
     "data": {
      "text/plain": [
       "array([ 6,  8,  8, ..., 10,  6,  7], dtype=int64)"
      ]
     },
     "execution_count": 31,
     "metadata": {},
     "output_type": "execute_result"
    }
   ],
   "source": [
    "# 10 new patients with allergies.\n",
    "n = 10\n",
    "\n",
    "# The probability of success for each person is 0.8.\n",
    "p = 0.8\n",
    "\n",
    "# Calculate the success rate.\n",
    "x = rng.binomial(n, p, 20000)\n",
    "\n",
    "# Display it\n",
    "x"
   ]
  },
  {
   "cell_type": "code",
   "execution_count": 32,
   "metadata": {},
   "outputs": [
    {
     "data": {
      "image/png": "[encoded data removed]",
      "text/plain": [
       "<Figure size 720x432 with 1 Axes>"
      ]
     },
     "metadata": {},
     "output_type": "display_data"
    }
   ],
   "source": [
    "# Set the title and x label for the future plot.\n",
    "plt.title(\"Binominal Distribution: Test of an antihistamine drug\")\n",
    "plt.xlabel(\"Patients\")\n",
    "\n",
    "# Build the plot.\n",
    "sns.histplot(x, stat=\"probability\")\n",
    "\n",
    "# Show the plot.\n",
    "plt.show()"
   ]
  },
  {
   "cell_type": "code",
   "execution_count": 33,
   "metadata": {},
   "outputs": [
    {
     "data": {
      "text/plain": [
       "0.1996"
      ]
     },
     "execution_count": 33,
     "metadata": {},
     "output_type": "execute_result"
    }
   ],
   "source": [
    "# Effectiveness of the grug is 7.\n",
    "s = 7\n",
    "\n",
    "# Calculate the probability when tested 20000 times.\n",
    "x = sum(rng.binomial(n, p, 20000) == s)/20000\n",
    "\n",
    "# Display the probability.\n",
    "x"
   ]
  },
  {
   "cell_type": "markdown",
   "metadata": {},
   "source": [
    "<br>\n",
    "\n",
    "##### Multinomial  <a name=\"multinomial\"></a>\n",
    "\n",
    "A multinomial distribution is generalization of binominal distribution with more than two outcomes (hence multinominal). [1]\n",
    "The distribution follows the same criteria as the binominal.\n",
    "\n",
    "> 1. [Statistics How To: Multinomial Distribution](https://www.statisticshowto.com/multinomial-distribution/)\n",
    "\n",
    "_Example: Throw a dice_\n",
    "\n",
    "<img align=\"left\" width=\"230\" height=\"80\" src=\"https://upload.wikimedia.org/wikipedia/commons/thumb/3/36/Two_red_dice_01.svg/671px-Two_red_dice_01.svg.png\">"
   ]
  },
  {
   "cell_type": "code",
   "execution_count": 34,
   "metadata": {},
   "outputs": [
    {
     "data": {
      "text/plain": [
       "array([[10,  8, 12,  8,  6, 16]], dtype=int64)"
      ]
     },
     "execution_count": 34,
     "metadata": {},
     "output_type": "execute_result"
    }
   ],
   "source": [
    "# Dice with 6 sides.\n",
    "d = [1/6.]\n",
    "\n",
    "# Throw it 60 times.\n",
    "n = 60\n",
    "\n",
    "# Compute a probability.\n",
    "x = rng.multinomial(n, d*6, size=1)\n",
    "\n",
    "# Display it\n",
    "x"
   ]
  },
  {
   "cell_type": "code",
   "execution_count": 35,
   "metadata": {},
   "outputs": [
    {
     "data": {
      "image/png": "[encoded data removed]",
      "text/plain": [
       "<Figure size 720x432 with 1 Axes>"
      ]
     },
     "metadata": {},
     "output_type": "display_data"
    }
   ],
   "source": [
    "# Change colour scheme.\n",
    "sns.set_palette(\"pastel\")\n",
    "\n",
    "# Set the title and x label for the future plot.\n",
    "plt.title(f\"Multinominal Distribution: Throw a dice {n} times\")\n",
    "plt.xlabel(\"Number of times the dice lands on each side\")\n",
    "\n",
    "# Build the plot.\n",
    "plt.hist(x, histtype=\"barstacked\")\n",
    "\n",
    "# New label to match the dice.\n",
    "labels = ['1','2','3','4','5','6']\n",
    "plt.legend(labels, title=\"Dice sides\")\n",
    "\n",
    "# Show the plot.\n",
    "plt.show()"
   ]
  },
  {
   "cell_type": "code",
   "execution_count": 36,
   "metadata": {},
   "outputs": [
    {
     "data": {
      "text/plain": [
       "array([[ 8,  9,  9, 10, 13, 11],\n",
       "       [12,  9, 14,  7, 11,  7]], dtype=int64)"
      ]
     },
     "execution_count": 36,
     "metadata": {},
     "output_type": "execute_result"
    }
   ],
   "source": [
    "# Throw it 60 times twice\n",
    "x = rng.multinomial(n, d*6, size=2)\n",
    "\n",
    "# Display the probability\n",
    "x"
   ]
  },
  {
   "cell_type": "code",
   "execution_count": 37,
   "metadata": {},
   "outputs": [
    {
     "data": {
      "image/png": "[encoded data removed]",
      "text/plain": [
       "<Figure size 720x432 with 1 Axes>"
      ]
     },
     "metadata": {},
     "output_type": "display_data"
    }
   ],
   "source": [
    "# Set the title and x label for the future plot.\n",
    "plt.title(f\"Multinominal Distribution: Throw a dice {n} times twice\")\n",
    "plt.xlabel(\"Number of times the dice lands on each side\")\n",
    "\n",
    "# Build the plot.\n",
    "plt.hist(x, histtype=\"barstacked\")\n",
    "\n",
    "# New label to match the dice.\n",
    "labels = ['1','2','3','4','5','6']\n",
    "plt.legend(labels, title=\"Dice sides\")\n",
    "\n",
    "# Show the plot.\n",
    "plt.show()"
   ]
  },
  {
   "cell_type": "code",
   "execution_count": 38,
   "metadata": {
    "scrolled": true
   },
   "outputs": [
    {
     "data": {
      "text/plain": [
       "array([12, 14, 17, 15, 15, 27], dtype=int64)"
      ]
     },
     "execution_count": 38,
     "metadata": {},
     "output_type": "execute_result"
    }
   ],
   "source": [
    "# Roll a loaded die (2/7 to land on 6).\n",
    "d = [1/7.]*5 + [2/7.]\n",
    "\n",
    "# Throw it 100 times.\n",
    "n = 100\n",
    "\n",
    "# Project the probability of it landing on 6.\n",
    "x = rng.multinomial(n, d)\n",
    "\n",
    "# Display it\n",
    "x"
   ]
  },
  {
   "cell_type": "code",
   "execution_count": 39,
   "metadata": {},
   "outputs": [
    {
     "data": {
      "image/png": "[encoded data removed]",
      "text/plain": [
       "<Figure size 720x432 with 1 Axes>"
      ]
     },
     "metadata": {},
     "output_type": "display_data"
    }
   ],
   "source": [
    "# Set the title and x label for the future plot.\n",
    "plt.title(f\"Multinominal Distribution: Throw a loaded die {n} times twice\")\n",
    "plt.xlabel(\"Number of times the loaded die lands on 6\")\n",
    "\n",
    "# Build the plot.\n",
    "sns.histplot(x, legend=False, stat=\"probability\")\n",
    "\n",
    "# Show the plot.\n",
    "plt.show()"
   ]
  },
  {
   "cell_type": "markdown",
   "metadata": {},
   "source": [
    "<br>\n",
    "\n",
    "##### Geometric   <a name=\"geometric\"></a>\n",
    "A geometric distribution represents one or more Bernoulli (binominal) trials with all failures excluding the last one, which results in success. Assumptions for the geometric distribution are the same as for binominal. [1] \n",
    "\n",
    "The distribution is used for modeling situations that require knowing the likely number of trials until success, and thus has applications in econometrics, return on investment, population modeling, and so on. [2] \n",
    "\n",
    "> 1. [Statistics How To: Geometric Distribution](https://www.statisticshowto.com/geometric-distribution/)\n",
    "2. [Brilliant: Geometric Distribution](https://brilliant.org/wiki/geometric-distribution/)\n",
    "\n",
    "_Example: Election_\n",
    "\n",
    "<img align=\"left\" width=\"230\" height=\"80\" src=\"https://encrypted-tbn0.gstatic.com/images?q=tbn%3AANd9GcSST1krcuDqRqW5PVb5TUOtmOk7UScWRDL2dtclHIm5VGqe4S0L3sD1WfoNJi5g4hxGDVgqs9sgvv8z69hnu50rs3ex4cv2mdC6z2UrkqA&usqp=CAU&ec=45714080\">"
   ]
  },
  {
   "cell_type": "markdown",
   "metadata": {},
   "source": [
    "If we ask ask people outside a polling station who they voted for, what is the probability of meeting someone that voted for an independent candidate on your 100th try assuuming that your probability of success is 15%."
   ]
  },
  {
   "cell_type": "code",
   "execution_count": 40,
   "metadata": {},
   "outputs": [
    {
     "data": {
      "text/plain": [
       "array([ 7,  4,  8,  1,  3,  6,  3, 10,  1,  2,  1,  4,  1,  7,  9, 22,  1,\n",
       "       15,  1,  6,  2,  5,  3,  2, 20, 10,  5,  1,  6,  1,  6,  2,  9, 23,\n",
       "        3, 12, 13, 10,  9,  2,  6,  7,  5,  4, 34,  2,  1,  6,  1,  2,  4,\n",
       "       14,  3, 19, 10,  5,  2,  2,  9,  1,  1,  6,  1, 24, 15,  7,  7,  5,\n",
       "        1, 30,  5, 11,  2,  3,  5,  5, 13,  1, 26, 12,  3,  4, 12,  3,  2,\n",
       "        2,  4,  9,  1,  4,  2,  5,  1,  3,  1,  1,  1,  4,  8, 16],\n",
       "      dtype=int64)"
      ]
     },
     "execution_count": 40,
     "metadata": {},
     "output_type": "execute_result"
    }
   ],
   "source": [
    "# The probability of an individual success is 0.15.\n",
    "p = 0.15\n",
    "\n",
    "# Do 100 trials.\n",
    "size = 100\n",
    "\n",
    "# Calculate the probability\n",
    "x = rng.geometric(p, size)\n",
    "\n",
    "# Display it\n",
    "x\n"
   ]
  },
  {
   "cell_type": "code",
   "execution_count": 41,
   "metadata": {},
   "outputs": [
    {
     "data": {
      "image/png": "[encoded data removed]",
      "text/plain": [
       "<Figure size 720x432 with 1 Axes>"
      ]
     },
     "metadata": {},
     "output_type": "display_data"
    }
   ],
   "source": [
    "# Change colour scheme.\n",
    "sns.set_palette(\"Paired\")\n",
    "\n",
    "# Set the title and x label for the future plot.\n",
    "plt.title(f\"Geometric Distribution: Find an independent candidate on your {size}th try\")\n",
    "\n",
    "# Build the plot.\n",
    "sns.histplot(x, stat=\"probability\", kde=True)\n",
    "\n",
    "# Show the plot.\n",
    "plt.show()"
   ]
  },
  {
   "cell_type": "code",
   "execution_count": 42,
   "metadata": {},
   "outputs": [
    {
     "data": {
      "text/plain": [
       "0.2"
      ]
     },
     "execution_count": 42,
     "metadata": {},
     "output_type": "execute_result"
    }
   ],
   "source": [
    "# How many trials succeeded after a single run?\n",
    "y = (x == 1).sum() / 100.\n",
    "\n",
    "# Display the probability of success.\n",
    "y"
   ]
  },
  {
   "cell_type": "markdown",
   "metadata": {},
   "source": [
    "##### Poisson  <a name=\"poisson\"></a>\n",
    "\n",
    "A poisson distribution is used in predicting the number of events happening in a fixed time period, given the average number of times the event happens over that time period. [1]\n",
    "\n",
    "The distribution is often used in biology (e.g. in mutation detection), finance, business (e.g. to make forecasts), disaster readiness etc.\n",
    "\n",
    "There are a number of conditions for poisson distribution:\n",
    "\n",
    "1. An event can occur any number of times during a fixed time period.\n",
    "2. Each event is independent. \n",
    "3. The occurence rate doesn't change based on time.\n",
    "4. Occurence of an event is directly proportional to the length of the time period. [2]\n",
    "\n",
    "> 1. [Statistics How To: Poisson Distribution](https://www.statisticshowto.com/poisson-distribution/)\n",
    "2. [Brilliant: Poisson Distribution](https://brilliant.org/wiki/poisson-distribution/#:~:text=the%20number%20of%20Airbus%20330,over%20a%20given%20production%20time)\n",
    "\n",
    "_Exmaple: Storm occurence_\n",
    "\n",
    "<img align=\"left\" width=\"180\" height=\"80\" src=\"https://simpleicon.com/wp-content/uploads/storm.png\">"
   ]
  },
  {
   "cell_type": "markdown",
   "metadata": {},
   "source": [
    "The average number of major storms in your city is 2 per year. What is the probability that exactly 3 storms will hit your city next year?"
   ]
  },
  {
   "cell_type": "code",
   "execution_count": 43,
   "metadata": {},
   "outputs": [
    {
     "data": {
      "text/plain": [
       "array([3, 0, 3, ..., 2, 3, 2], dtype=int64)"
      ]
     },
     "execution_count": 43,
     "metadata": {},
     "output_type": "execute_result"
    }
   ],
   "source": [
    "# Draw samples from the distribution tested 10000:\n",
    "x = rng.poisson(2, 10000)\n",
    "\n",
    "# Display the array\n",
    "x"
   ]
  },
  {
   "cell_type": "code",
   "execution_count": 44,
   "metadata": {
    "scrolled": false
   },
   "outputs": [
    {
     "data": {
      "image/png": "[encoded data removed]",
      "text/plain": [
       "<Figure size 720x432 with 1 Axes>"
      ]
     },
     "metadata": {},
     "output_type": "display_data"
    }
   ],
   "source": [
    "# Change colour scheme.\n",
    "sns.set_palette(\"PRGn\")\n",
    "\n",
    "# Set the title and x label for the future plot.\n",
    "plt.title(\"Poisson Distribution: Possiblity of Storm\")\n",
    "\n",
    "# Build the plot.\n",
    "sns.histplot(x, stat=\"probability\")\n",
    "\n",
    "# Show the plot.\n",
    "plt.show()"
   ]
  },
  {
   "cell_type": "code",
   "execution_count": 45,
   "metadata": {},
   "outputs": [
    {
     "data": {
      "text/plain": [
       "0.181"
      ]
     },
     "execution_count": 45,
     "metadata": {},
     "output_type": "execute_result"
    }
   ],
   "source": [
    "# Calculate the probability of 3 storms.\n",
    "y = sum(x == 3)/10000\n",
    "\n",
    "# Display the probability.\n",
    "y"
   ]
  },
  {
   "cell_type": "markdown",
   "metadata": {},
   "source": [
    "***\n",
    "<br>\n",
    "\n",
    "#### Continuous Probability Distribution  <a name=\"continuous\"></a>\n",
    "\n",
    "<br>\n",
    "\n",
    "##### Normal <a name=\"normal\"></a> \n",
    "\n",
    "A normal (or Gaussian) distribution classically describes a bell-shaped curve and is fully characterized by its mean and standard deviation. It is the most frequently used, and because it approximates many natural phenomena so faithfully, it is used as a standard of reference for a wide range of probability problems in finance, investing, science, engineering etc [1]\n",
    "\n",
    "> 1. [Investopedia: Probability Distribution](https://www.investopedia.com/terms/p/probabilitydistribution.asp)\n",
    "\n",
    "_Example: Women's Shoes_\n",
    "\n",
    "<img align=\"left\" width=\"180\" height=\"80\" src=\"https://i.pinimg.com/originals/11/c9/fa/11c9fa859c9e9402067f03054e62ea57.png\">"
   ]
  },
  {
   "cell_type": "markdown",
   "metadata": {},
   "source": [
    "Assuming that women’s shoe sizes are normally distributed with a mean of 8 and a standard deviation of 1.5, the factory makes 10,000 pairs of one style. How many shoes of size 9 the manufacturer should make?  [2]\n",
    "> 2. [StudiousGuys: 9 Real Life Examples Of Normal Distribution](https://mathstat.slu.edu/~may/ExcelCalculus/sec-7-6-NormalDistribution.html)"
   ]
  },
  {
   "cell_type": "code",
   "execution_count": 46,
   "metadata": {},
   "outputs": [
    {
     "data": {
      "text/plain": [
       "array([3.84990124, 9.36994563, 4.35961558, ..., 8.6473469 , 6.34069738,\n",
       "       6.56554986])"
      ]
     },
     "execution_count": 46,
     "metadata": {},
     "output_type": "execute_result"
    }
   ],
   "source": [
    "# Mean is 8, standard deviation is 1.5.\n",
    "m, std = 8, 1.5\n",
    "\n",
    "# Compute 10000 numbers.\n",
    "x = rng.normal(m, std, 10000)\n",
    "\n",
    "# Display the probability.\n",
    "x"
   ]
  },
  {
   "cell_type": "code",
   "execution_count": 47,
   "metadata": {
    "scrolled": false
   },
   "outputs": [
    {
     "data": {
      "image/png": "[encoded data removed]",
      "text/plain": [
       "<Figure size 720x432 with 1 Axes>"
      ]
     },
     "metadata": {},
     "output_type": "display_data"
    }
   ],
   "source": [
    "# Change colour scheme.\n",
    "sns.set_palette(\"RdYlBu\")\n",
    "\n",
    "# Set the title and x label for the future plot.\n",
    "plt.title(\"Normal Distribution: Women Shoes\")\n",
    "\n",
    "# Build the plot.\n",
    "sns.histplot(x, stat=\"probability\")\n",
    "\n",
    "# Show the plot.\n",
    "plt.show()"
   ]
  },
  {
   "cell_type": "code",
   "execution_count": 48,
   "metadata": {
    "scrolled": true
   },
   "outputs": [
    {
     "data": {
      "text/plain": [
       "0.012051415356961748"
      ]
     },
     "execution_count": 48,
     "metadata": {},
     "output_type": "execute_result"
    }
   ],
   "source": [
    "# Verify the mean and the variance:\n",
    "abs(m - np.mean(x))"
   ]
  },
  {
   "cell_type": "code",
   "execution_count": 49,
   "metadata": {
    "scrolled": true
   },
   "outputs": [
    {
     "data": {
      "text/plain": [
       "0.010517867162968875"
      ]
     },
     "execution_count": 49,
     "metadata": {},
     "output_type": "execute_result"
    }
   ],
   "source": [
    "# Verify the standard deviation:\n",
    "abs(std - np.std(x, ddof=1))"
   ]
  },
  {
   "cell_type": "code",
   "execution_count": 50,
   "metadata": {},
   "outputs": [
    {
     "data": {
      "text/plain": [
       "2033"
      ]
     },
     "execution_count": 50,
     "metadata": {},
     "output_type": "execute_result"
    }
   ],
   "source": [
    "# Calculate how many pairs of shoes sized between 8.5 and 9.5.\n",
    "l = []\n",
    "for i in x:\n",
    "    if 8.5 < i < 9.5:\n",
    "        l.append(i)\n",
    "\n",
    "# Display the number of shoes.\n",
    "len(l)"
   ]
  },
  {
   "cell_type": "markdown",
   "metadata": {},
   "source": [
    "<br>\n",
    "\n",
    "##### Chi-Square <a name=\"chisquare\"></a>\n",
    "\n",
    "A chi-square distribution is a distribution of the chi-square statistic and constructed so that the total area under the curve is equal to 1. For example, random samples are drawn from a normal distribution and summed, and the sum then squared to arrive at the chi-square distribution. \n",
    "\n",
    "The distribution must have the following properties:\n",
    "\n",
    "1. The number of degrees of freedom is also the distribution mean, and the greater it is, the more the chi-square curve looks like a normal distribution.\n",
    "2. The variance is equal to two times the number of degrees of freedom. [1]\n",
    "\n",
    "The chi-squared distribution has many uses in statistics, for example, in testing deviations of differences in expected and observed frequencies and in a goodness of fit test (chi-square test). [2]\n",
    "\n",
    "> 1. [Stat Trek: Chi-Square Distribution](https://stattrek.com/probability-distributions/chi-square.aspx)\n",
    "2. [Statistics How To: Chi-Square Distribution](https://www.statisticshowto.com/probability-and-statistics/chi-square/)\n",
    "\n",
    "_Example: Smartphone Batteries_\n",
    "    \n",
    "    \n",
    "<img align=\"left\" width=\"180\" height=\"80\" src=\"https://images.vexels.com/media/users/3/136865/isolated/preview/7221ccf73801a7e9729d11d505fcff2b-smartphone-on-hand-by-vexels.png\">"
   ]
  },
  {
   "cell_type": "markdown",
   "metadata": {},
   "source": [
    "A smartphone battery manufacturer has developed a product with average 60 minutes on a single charge. They decide to run a quality control test by selecting 7 batteries randomly. What would be the chi-square distribution represented by this test?"
   ]
  },
  {
   "cell_type": "code",
   "execution_count": 51,
   "metadata": {},
   "outputs": [
    {
     "data": {
      "text/plain": [
       "array([ 6.18251954, 11.93576925,  4.39797767,  5.13138493,  4.21857473,\n",
       "       13.44450599,  2.57198556])"
      ]
     },
     "execution_count": 51,
     "metadata": {},
     "output_type": "execute_result"
    }
   ],
   "source": [
    "# Number of samples.\n",
    "n = 7\n",
    "\n",
    "# The degrees of freedom n-1.\n",
    "df = 6\n",
    "\n",
    "# Draw samples.\n",
    "x = rng.chisquare(df, n)\n",
    "\n",
    "# Display the distribution.\n",
    "x"
   ]
  },
  {
   "cell_type": "code",
   "execution_count": 52,
   "metadata": {
    "scrolled": false
   },
   "outputs": [
    {
     "data": {
      "image/png": "[encoded data removed]",
      "text/plain": [
       "<Figure size 720x432 with 1 Axes>"
      ]
     },
     "metadata": {},
     "output_type": "display_data"
    }
   ],
   "source": [
    "# Change colour scheme.\n",
    "sns.set_palette(\"cool_r\")\n",
    "\n",
    "# Set the title and x label for the future plot.\n",
    "plt.title(\"Chi-Squared Distribution: Smartphone Batteries\")\n",
    "\n",
    "sns.histplot(x, stat=\"probability\", kde=True)\n",
    "\n",
    "# Show the plot.\n",
    "plt.show()"
   ]
  },
  {
   "cell_type": "markdown",
   "metadata": {},
   "source": [
    "<br>\n",
    "\n",
    "##### Logistic <a name=\"logistic\"></a>\n",
    "\n",
    "A logistic distribution is used for modeling growth and logistic regression. It has a shape similar to a normal bell-shaped curve: symmetrical and unimodal. However, the logistic tends to have slightly wider tails. [1]\n",
    "\n",
    "Since it is more consistent and provides better insight into the likelihood of extreme events it finds it application in physical sciences, medicine, epidemiology, sports modeling, finance etc. [2]\n",
    "\n",
    "> 1. [Statistics How To: Logistic Distribution](https://www.statisticshowto.com/logistic-distribution/)\n",
    "2. [ScienceDirect: Logistic Distribution](https://www.sciencedirect.com/topics/mathematics/logistic-distribution)\n",
    "\n",
    "_Example: Heart Valve_\n",
    "    \n",
    "<img align=\"left\" width=\"250\" height=\"50\" src=\"https://www.clker.com//cliparts/V/1/Q/Z/f/M/voice-pulse-hi.png\">"
   ]
  },
  {
   "cell_type": "markdown",
   "metadata": {},
   "source": [
    "The lifetime of 10 mechanical heart valves were tested over 28 months to their failure. The computed parameters of likelihood of the pump failing due to the valve are: $\\mu$ (location) 22.34 and $s$ (scale) 6.15. [3]\n",
    "\n",
    "> 3. [Reliawiki: Logistic Distribution Example](http://reliawiki.com/index.php/Logistic_Distribution_Example)"
   ]
  },
  {
   "cell_type": "code",
   "execution_count": 53,
   "metadata": {
    "scrolled": true
   },
   "outputs": [
    {
     "data": {
      "text/plain": [
       "array([ 1.73790419e+01,  2.19047400e+01,  3.16957168e+01, -1.65928673e+00,\n",
       "        1.90085036e+01,  3.14774227e+01,  1.69358719e+01,  2.14536541e+01,\n",
       "        4.03362003e+00,  2.47073971e+01,  3.24810759e+01,  3.00076071e+01,\n",
       "        4.85018507e+00,  3.06782643e+01,  3.02894025e+01, -3.00644223e+00,\n",
       "        3.59842761e+00,  1.08051859e+01,  1.82636358e+01,  2.62327812e+01,\n",
       "        1.72345822e+01,  9.64236463e+00,  1.98499929e+01,  3.19171934e+01,\n",
       "        3.49344012e+01,  1.35784519e+01,  2.03870032e+01,  3.72615662e+01,\n",
       "        2.36341597e+01,  1.19647534e+01,  2.25756540e+01,  3.22254122e+01,\n",
       "        3.37266332e+01,  1.75762214e+01,  2.01667506e+01,  2.22948783e+01,\n",
       "        1.90222948e+01,  1.84649711e+01, -5.68448212e-01,  1.98645765e+01,\n",
       "        2.59076526e+01,  1.89875046e+01,  2.39042478e+01,  2.34716030e+01,\n",
       "        3.33136802e+01,  2.10799220e+01,  3.15897576e+01,  2.82904312e+00,\n",
       "        3.54956113e+01,  3.68412729e+01,  3.83146985e+01,  1.68760102e+01,\n",
       "        1.54756451e+01,  2.80733998e+01,  3.11998488e+01,  2.29856660e+01,\n",
       "        1.20515302e+01,  1.62288304e+01,  1.77981807e+01,  3.22780204e+01,\n",
       "        1.26057046e+01,  1.97268177e+01,  1.72094254e+01,  4.25743396e+01,\n",
       "        4.14726695e+01,  2.12732691e+01,  3.75817342e+01,  2.50315033e+01,\n",
       "       -1.48082944e+00,  1.42824024e+01,  1.43301081e+01,  1.76874364e+01,\n",
       "        6.24752770e+00,  4.32471033e+01,  1.22470301e+01,  1.19701841e+01,\n",
       "        1.61966739e+01,  3.44909646e+01,  3.20042184e+01,  3.41794334e+01,\n",
       "        2.03743479e+01,  2.90606067e+01,  1.16574766e+01,  2.11866241e+01,\n",
       "        1.83170423e+01,  1.18519597e+01,  3.05573302e+01,  2.23903072e+01,\n",
       "        2.88690015e+00,  1.51993405e+01,  3.31471642e+01, -1.91099899e+01,\n",
       "        7.57391333e+00,  1.93002255e+01,  4.28050118e+01,  2.69634793e+01,\n",
       "        2.19578135e+01,  4.10618278e+01,  2.02498942e+01,  2.50888830e+01,\n",
       "        2.32926864e+01,  1.29357138e+01,  2.46523914e+01,  3.53773536e+01,\n",
       "        2.59245822e+01,  1.70584288e+01,  2.60130151e+01,  2.14703626e+01,\n",
       "        3.73188352e+00,  1.10785095e+01,  3.47424901e+01,  1.59336614e+01,\n",
       "        2.83873666e+01,  2.34242788e+01,  2.11584584e-01,  4.51529142e+01,\n",
       "        5.00739534e+01,  2.99541483e+01,  2.28250540e+01,  1.83953719e+01,\n",
       "        1.47115554e+00,  2.79549874e+01,  3.81934427e+01,  1.44856559e+01,\n",
       "        2.19386136e+01,  3.01263323e+00,  2.01039583e+01,  1.94607734e+01,\n",
       "        1.71734438e+01,  3.36840162e+01,  1.75838508e+01,  2.85295239e+01,\n",
       "        3.21227564e+01,  4.43897841e+01,  2.79967938e+01,  2.55934424e+01,\n",
       "        1.80378299e+01,  1.85252688e+01,  2.71674963e+01,  2.43710244e+01,\n",
       "        1.52958548e+01,  2.44393525e+01,  2.27558100e+01,  1.44205836e+01,\n",
       "        3.06415942e+01,  1.65816147e+01,  2.66433394e+01,  1.53457518e+01,\n",
       "        2.81209166e+01,  2.69489574e+01,  4.73245188e+01,  1.86895990e+01,\n",
       "        1.25824786e+01,  8.81342956e+00,  1.81937142e+01,  2.89624649e+01,\n",
       "        2.96130919e+01,  2.78466222e+01,  2.24725627e+01,  2.38058046e+01,\n",
       "        2.02238376e+01,  3.28018215e+01,  1.50239320e+01,  2.71108571e+01,\n",
       "        2.91497933e+01,  3.18949048e+01,  2.94442746e+01,  2.15877650e+01,\n",
       "        2.38133550e+01,  2.91636233e+01,  6.79748268e+00,  2.20665308e+01,\n",
       "        1.31231803e+01, -7.97539103e+00,  2.89752932e+01,  2.88459271e+01,\n",
       "        1.47731427e+01,  4.17462693e+01,  2.56508114e+01,  1.54865328e+01,\n",
       "        2.50850698e+01,  1.44923077e+01,  2.16478886e+01,  2.29203479e+01,\n",
       "        2.00868146e+01,  1.47596021e+01,  2.66831199e+01,  2.22561633e+01,\n",
       "        2.86289635e+01,  1.60858821e+01,  4.80373946e+00,  3.02002531e+01,\n",
       "        2.47462671e+01,  3.03441059e+01,  2.11013836e+01,  3.24980271e+01,\n",
       "        1.95975766e+01,  1.34352492e+01,  2.37155552e+01,  2.19693470e+01,\n",
       "        2.71643547e+01,  2.69010835e+01,  4.07631140e+00,  3.79524853e+01,\n",
       "        2.43058046e+01,  2.86207778e+01,  4.92128528e+00,  3.70233430e+01,\n",
       "        1.98682116e+01,  2.70048092e+01,  1.01956804e+01,  2.45090104e+01,\n",
       "        2.65811574e+01,  3.79625040e+01,  1.98809176e+01,  3.13903459e+01,\n",
       "        1.76447132e+01,  2.11674735e+01,  1.46343899e+01,  2.42071292e+01,\n",
       "        3.01811383e+01,  1.80964733e+01,  2.48001203e+01,  2.58075540e+01,\n",
       "        2.12969020e+01,  8.82140825e+00,  2.13268217e+01,  1.14505384e+01,\n",
       "        2.67831775e+01,  3.24130211e+01,  5.30652895e+01,  2.05881312e-02,\n",
       "        1.64182860e+01,  2.56326230e+01,  2.34517375e+01,  2.70136070e+01,\n",
       "        9.88174942e+00,  3.28103773e+01,  3.77793689e+01,  2.18789530e+01,\n",
       "       -3.82066925e-01,  2.26222721e+01,  2.99583423e+01,  4.08279794e+01,\n",
       "       -3.32309285e+00,  2.20647966e+01,  2.67802708e+01,  2.01353238e+01,\n",
       "        3.83512087e+00,  2.35672086e+01,  4.44616560e+01,  1.97794365e+01,\n",
       "        1.52960474e+01,  2.14567077e+01,  2.12772791e+01,  3.74099157e+01,\n",
       "        3.30190047e+01,  2.93684996e+01,  1.83914140e+01,  1.06574579e+01,\n",
       "        1.01695290e+01,  2.99020406e+01,  1.39577813e+01,  2.04606217e+01,\n",
       "        4.88140676e+00,  1.20507402e+01,  2.34172848e+01,  2.69386987e+00,\n",
       "        1.79116569e+01,  7.05392780e+00,  3.75994716e+01,  2.05880416e+01,\n",
       "        2.00302233e+01,  4.19760619e+01,  2.04910600e+01,  2.58580114e+01,\n",
       "        4.84156566e+01,  2.85687421e+01,  9.40696490e+00,  9.70117424e+00,\n",
       "        2.50688310e+01,  1.80994283e+01,  3.12703857e+01,  1.57859908e+01,\n",
       "        1.17528786e+01,  2.75734597e+00,  6.98835903e+00,  1.70171922e+01,\n",
       "        3.39287936e+01,  2.04398131e+01,  2.72890792e+01,  4.40540632e+00,\n",
       "        3.85298251e+01,  2.46912316e+01,  1.98288371e+01,  1.65230010e+01,\n",
       "        2.29395471e+01,  2.76753305e+01,  3.25009000e+01,  4.49752821e+01,\n",
       "        3.77290247e+01,  4.25494637e+01,  3.33403099e+01,  3.90639030e+01,\n",
       "        3.77920927e+01,  1.71368814e+01,  4.32049201e+01,  1.66033154e+01,\n",
       "        6.19138713e+00,  3.26012371e+01,  1.20904554e+01,  3.86158149e+01,\n",
       "        2.58142390e+01,  1.22965899e+01,  2.59041853e+01,  1.13921044e+01,\n",
       "        3.88005704e+01,  2.28534614e+01,  2.19983564e+01,  2.81081871e+01,\n",
       "       -2.87285216e+00,  2.51739551e+01,  2.80458244e+01,  2.64282044e+01,\n",
       "        2.01232484e+01,  2.69484237e+01,  2.08752343e+01, -2.63887422e+00,\n",
       "        8.69881825e+00,  6.34114857e+00,  3.83437112e+00,  1.73651398e+01,\n",
       "        1.99945592e+01,  1.30483470e+01,  2.92303476e+01,  2.87452266e+01,\n",
       "        6.15601253e+00,  1.28372652e+01,  1.72985703e+01,  1.77638902e+01,\n",
       "        5.08862421e+01,  2.24381996e+01, -7.46648705e-01,  2.29185044e+01,\n",
       "        2.67519882e+01,  3.40187503e+01,  2.72142256e+01,  4.15832988e+00,\n",
       "        2.71537360e+01,  2.85483317e+01,  2.31440866e+01,  3.35567237e+01,\n",
       "        2.73023417e+01,  2.72785628e+01,  7.12195334e+00,  2.16181231e+00,\n",
       "       -5.65458186e+00,  3.23177598e+01,  2.70053993e+01,  4.55533053e+01,\n",
       "        6.13730257e+00,  4.61371423e+01,  1.46666546e+01,  1.65984719e+01,\n",
       "        2.15862458e+01,  3.93792695e+01,  2.72045139e+01,  2.04516034e+01,\n",
       "        2.59789060e+01,  5.37250062e+00,  3.13721035e+00,  7.07180752e+00,\n",
       "        1.46431218e+01,  1.27960591e+01,  1.90968190e+01,  3.59758473e+01,\n",
       "        6.17780815e+01,  1.86726905e+01,  8.45751582e+00,  2.27969373e+01,\n",
       "        1.21628850e+01,  3.16176621e+01,  2.60713613e+01,  2.67623805e+01,\n",
       "        2.43755095e+01,  2.92876381e+01,  2.70954278e+01,  1.96599703e+01,\n",
       "        1.26116422e+01,  3.60046894e+01,  2.47801314e+01,  1.32278389e+01,\n",
       "        3.36278629e+01,  2.03436628e+01,  2.34750546e+01,  3.97604804e+01,\n",
       "        1.52830519e+01,  1.79168680e+01,  2.32944146e+01,  2.96316336e+01,\n",
       "        2.74470959e+01, -7.09986686e+00,  1.14997762e+01,  3.69320584e+01,\n",
       "        2.46098354e+01,  2.50839846e+01,  2.05469914e+01,  2.56585398e+01,\n",
       "        2.13085126e+01,  3.17252375e+01,  3.18531914e+01,  4.02265268e+01,\n",
       "        1.74276300e+01, -1.97023377e+00,  1.23732648e+01,  7.77087260e+00,\n",
       "        2.75889383e+01,  9.25300183e+00,  1.61438016e+01,  4.30671837e+00,\n",
       "        1.01194243e+01,  1.66691272e+01,  3.83318499e+01,  1.13327964e+01,\n",
       "        1.60901059e+01,  3.28356537e+01,  3.40630285e+01,  3.29970333e+01,\n",
       "        3.01804547e+01,  2.99427078e+01,  3.06719946e+01,  1.93825584e+01,\n",
       "        2.92529032e+01,  8.85054509e+00,  1.29030094e+01,  1.10890388e+01,\n",
       "        4.86080942e+01,  2.92941074e+01,  1.49287212e+01,  2.03113827e+01,\n",
       "        3.68282682e+01,  3.38006360e+01,  1.44524068e+01,  1.99868622e+01,\n",
       "        4.03649606e+01,  1.64916993e+01,  1.01526425e+01,  3.36307095e+01,\n",
       "        1.39358218e+01,  3.53275490e+01,  3.45261024e+01,  3.25959919e+01,\n",
       "        3.86311595e+01,  2.22733717e+01, -5.57470740e+00,  3.58880169e+01,\n",
       "        3.71774281e+01,  3.33756921e+01,  1.40511066e+01,  1.11822594e+01,\n",
       "        3.10824760e+01,  2.55761473e+01,  3.43799088e+01,  2.29883445e+01,\n",
       "        3.81341309e+01,  2.56791867e+01,  1.42315971e+01,  2.43370501e+01,\n",
       "        1.60178157e+01,  1.70099290e+01,  3.06923237e+01,  3.23949268e+01,\n",
       "        3.17725939e+01,  3.85132709e+01,  3.19156814e+01,  1.85844990e+01,\n",
       "        2.70973418e+01,  2.34066354e+01,  1.55192287e+01,  1.74558298e+01,\n",
       "        2.68222522e+01,  1.65389098e+01,  1.44236006e+01,  2.04484547e+01,\n",
       "        1.49845559e+01,  2.61779079e+01,  2.86096635e+01,  1.72346781e+01,\n",
       "        2.04638415e+01,  1.25511043e+01,  3.21039308e+01,  2.66097867e+01,\n",
       "        2.32889316e+01,  3.01930520e+01,  2.33247481e+01,  2.93179031e+01,\n",
       "        2.79856362e+01,  2.34586914e+01,  2.69663669e+01,  2.94391852e+01,\n",
       "        3.23125172e+01,  2.63924335e+01,  1.55724572e+01,  7.98429101e+00,\n",
       "        2.21061492e+01,  3.11611405e+01,  2.12868050e+01,  3.71494816e+01,\n",
       "        2.98745862e+01,  2.55392565e+01,  2.72796904e+01,  2.81150753e+01,\n",
       "        2.43066768e+01,  1.26907220e+01,  1.59426594e+01,  1.64343107e+01,\n",
       "        1.97770202e+01,  1.32423820e+01,  2.53767879e+01,  1.83587433e+01,\n",
       "        3.90582160e+01,  2.95804335e+01,  9.35811998e+00,  3.39631802e+01,\n",
       "        1.48462054e+01,  2.45806894e+01,  1.32102437e+01,  2.43821134e+01,\n",
       "        2.45271205e+01,  1.78257112e+01,  3.60737087e+01,  2.62663298e+01,\n",
       "        2.38199854e+01,  2.12603287e+01,  2.79394247e+01,  1.70461554e+01,\n",
       "        3.35825212e+01,  1.38555839e+01,  1.72899626e+01,  1.97011604e+01,\n",
       "        1.05096317e+01,  1.64223000e+01,  4.98621102e+00,  1.80829715e+01,\n",
       "        1.14748910e+01,  2.67301344e+01,  2.62506914e+01,  7.83307326e+00,\n",
       "        2.10082663e+01,  4.81103118e+01,  1.50306042e+01,  2.40808936e+01,\n",
       "        2.11054508e+01,  2.44768772e+01,  6.98239277e+00,  1.21071330e+01,\n",
       "        1.94616558e+01,  1.47469747e+01,  2.66325640e+01,  1.78973435e+01,\n",
       "        1.74721095e+01,  1.10309451e+01,  3.48794194e+01,  1.96826670e+01,\n",
       "        2.17099242e+01,  7.73269625e+00,  6.08677107e+00,  1.53873941e+01,\n",
       "        3.09196267e+01,  3.13732239e+01,  1.65871695e+01,  2.28009455e+01,\n",
       "        1.66948248e+01,  2.15347641e+01,  4.05565169e+01,  8.04786204e+00,\n",
       "        3.21035219e+01,  1.40907452e+01,  3.58456302e+01,  2.09414178e+01,\n",
       "        2.78853691e+01,  2.29952065e+01, -3.20304023e+00,  1.65218745e+01,\n",
       "        2.02896946e+01,  1.91888744e+01,  1.59463245e+01,  1.99817824e+01,\n",
       "        2.81698495e+01,  2.43767756e+01,  2.87773357e+01,  9.83969465e+00,\n",
       "        3.01221124e+01,  1.71190897e+01,  1.98968456e+01,  1.65644383e+01,\n",
       "        1.51164998e+01, -1.20723110e+01,  1.18757100e+01,  2.20735462e+01,\n",
       "        2.85506337e+01,  2.61896477e+01,  3.02847301e+01,  1.27061350e+01,\n",
       "        1.75141478e+01,  3.42624812e+01,  2.88490044e+01,  1.97175586e+01,\n",
       "        3.50165614e+01,  1.69996381e+01,  3.18507305e+01,  2.79175832e+01,\n",
       "        2.63662109e+01,  2.43707544e+01,  1.78787979e+01,  1.64558257e+01,\n",
       "        2.54724786e+01,  2.53167678e+01,  2.13644759e+01,  1.84005397e+01,\n",
       "        1.86003218e+01,  8.72899663e+00,  1.94047058e+01,  3.61344394e+01,\n",
       "        1.97998508e+01,  2.00201732e+01,  2.37822703e+01,  1.81339210e+01,\n",
       "        1.64159844e+01,  3.61339263e-01,  5.54659457e+00,  4.89788577e+01,\n",
       "        1.73198922e+01,  2.60857421e+01,  3.64993888e+01,  7.67397394e+00,\n",
       "        3.33922613e+01,  4.65276652e+01,  3.73087835e+01,  1.37138505e+01,\n",
       "        4.52928319e+01,  1.95057940e+01,  2.58775235e+01,  2.26301973e+01,\n",
       "        2.74131680e+01,  3.24929363e+01,  1.43311426e+01,  1.27245164e+01,\n",
       "        2.39531983e+01, -3.14579287e+00,  1.74897675e+01,  1.71597348e+01,\n",
       "        2.39461679e+01,  1.03705008e+01,  6.21268647e+00,  3.71938885e+01,\n",
       "        2.05689001e+01,  1.86913998e+01,  2.76373499e+01,  2.19984720e+01,\n",
       "        3.60997846e+01,  1.63544475e+01,  1.49336121e+01,  7.85633248e-01,\n",
       "        1.28758357e+01,  2.64515857e+01,  4.24341243e+01,  2.54645402e+01,\n",
       "        2.81558140e+01,  2.34278971e+01,  2.15767134e+01,  2.95889285e+01,\n",
       "        3.50009848e+01,  3.23271506e+01,  2.60863183e+01,  1.25830099e+01,\n",
       "        2.83053240e+01,  1.76691027e+01,  3.61362125e+01,  1.56403148e+01,\n",
       "        4.60589623e+00,  3.15309664e+01,  1.77911853e+01,  2.35082242e+01,\n",
       "        6.49381268e+00,  1.43290749e+01,  3.08872221e+01,  6.28821114e+00,\n",
       "        1.77598432e+01,  2.15515185e+01,  2.46289329e+01,  2.01255384e+01,\n",
       "        2.00528555e+01,  2.52197541e+01,  3.24809342e+01,  5.23348927e+01,\n",
       "        3.92673376e+01,  1.87343337e+01,  1.57339620e+01,  2.15656886e+01,\n",
       "        4.02607381e+01,  2.33235866e+01,  2.68485338e+01,  1.04193143e+01,\n",
       "        8.35456348e+00,  1.50723012e+01,  3.85759734e+01,  1.16976353e+01,\n",
       "        1.94036114e+01,  1.73200166e+01,  2.92417099e+01,  1.96804459e+01,\n",
       "        1.55237639e+01,  5.22689299e+00,  2.16643330e+01,  2.66703862e+01,\n",
       "        2.00753080e+01,  6.69445074e+00,  2.21160569e+01,  1.89235499e+01,\n",
       "        2.04777614e+01,  4.00214396e+01,  1.80350343e+01,  2.10833077e+01,\n",
       "        1.76374242e+01,  3.08382489e+01,  2.19738830e+01,  8.79528676e+00,\n",
       "        3.29219621e+01,  2.69540571e+01,  4.17663708e+01,  2.27332642e+01,\n",
       "        2.07863722e+01,  4.64847552e+01,  2.09207917e+01,  2.23799582e-01,\n",
       "        3.36531924e+01,  2.48506907e+01,  2.54597693e+01,  2.45389768e+01,\n",
       "        1.01795052e+01,  1.53368358e+01,  2.86835472e+01,  8.75044212e+00,\n",
       "        2.14482317e+01,  2.64117730e+01,  1.72207976e+01,  2.15114987e+01,\n",
       "        4.07021606e+01,  1.70703556e+01,  3.02454366e+01,  2.13987468e+01,\n",
       "        3.68167318e+01,  3.28115283e+01,  3.60994478e+01,  2.59332912e+01,\n",
       "        2.16147073e+01,  2.19162573e+01,  1.32173596e+01, -1.16823861e+00,\n",
       "        1.62482934e+01,  1.63791142e+01,  2.51282061e+01,  2.44904726e+01,\n",
       "        3.66352087e+01,  1.39746056e+01,  3.72574676e+00,  2.32067373e+01,\n",
       "        3.05193433e+01,  1.00263368e+01,  1.61605516e+01,  3.22419716e+01,\n",
       "        2.94162809e+01,  2.17224066e+01,  2.53083393e+01,  1.10621885e+01,\n",
       "        3.49679257e+01,  1.50032515e+01,  3.43872635e+01,  1.73623502e+01,\n",
       "        7.74614781e+00,  3.17681350e+01,  2.74922625e+01,  4.25642409e+01,\n",
       "        2.80763881e+01,  1.55042206e+01,  2.09499610e+01,  9.71927694e+00,\n",
       "        2.80055972e+01,  1.34396980e+01,  3.34325267e+01, -3.26523923e+00,\n",
       "        1.32084649e+01,  4.26550122e+01,  3.98239333e+00,  3.49824101e+01,\n",
       "        3.19881712e+01,  3.39352473e+01,  1.85664092e+01,  2.35960336e+01,\n",
       "        4.34505521e+01,  3.63000037e+01,  1.71937239e+01,  3.42368200e+01,\n",
       "        4.85790269e+00,  2.35736501e+01,  2.19573095e+01,  1.48297200e+01,\n",
       "        1.44450024e+01,  2.11088703e+01,  4.57104984e+01,  1.17528982e+01,\n",
       "        3.37505777e+01,  9.53727594e+00,  2.86859994e+01,  2.01742651e+01,\n",
       "        3.12621563e+01,  2.91051881e+01,  2.25113762e+01,  2.75731907e+01,\n",
       "        3.47654775e+01,  3.86928997e+01,  2.42903614e+01,  2.13998308e+01,\n",
       "        1.41135904e+01,  1.66742822e+01,  2.82083982e+01,  2.22629164e+01,\n",
       "        2.24781262e+01,  2.38714449e+01,  3.68104255e+01,  2.86641762e+01,\n",
       "        2.40726613e+01,  2.56332698e+01,  2.15252645e+01,  2.53729418e+01,\n",
       "        1.22958612e+01,  2.59232219e+01,  1.55712262e+01,  2.99044560e+01,\n",
       "        2.25287657e+01,  1.55909541e+01,  1.59447075e+01,  2.43323745e+01,\n",
       "        2.09027948e+01,  3.45707152e+01,  2.49548622e+01,  2.36967020e+01,\n",
       "        3.13856174e+01,  2.06472195e+01, -1.50314957e+00,  2.11561695e+01,\n",
       "        1.03570974e+01,  3.81689111e+01,  7.57082807e+00,  3.33967190e+01,\n",
       "        3.55848915e+01,  1.97154225e+01,  2.26587227e+01,  3.07647014e+01,\n",
       "       -1.91004881e+00,  2.68091967e+01,  1.77371394e+01,  5.24261618e+00,\n",
       "        6.00443809e+00,  1.83144863e+00,  1.90449735e+01,  2.08440687e+01,\n",
       "        2.02606477e+01,  1.75080009e+01,  4.02601070e+01,  2.49144515e+01,\n",
       "        6.85235348e+00,  2.48265207e+01,  3.49770637e+01,  1.84632836e+01,\n",
       "        1.97473277e+01,  1.97338917e+01,  2.56954079e+01,  3.22835927e+01,\n",
       "        3.71154474e+01, -2.68633758e+00,  2.91903267e+01,  1.67140974e+01,\n",
       "        1.27905671e+01,  2.79481455e+01,  6.56938667e+00,  1.07781389e+01,\n",
       "        2.78685660e+01,  1.74908748e+01,  6.84079909e+00,  1.53877680e+01,\n",
       "        4.10174726e+01,  1.65340677e+01,  2.20230013e+01,  1.66440362e+01,\n",
       "        3.83051254e+01,  2.13265601e+01,  2.42707594e+01,  2.90820863e+01,\n",
       "        2.56988566e+01,  2.51700446e+01,  9.01275408e+00,  1.09776806e+01,\n",
       "        2.55661005e+01,  2.18155984e+01,  2.85205751e+01,  9.31678032e+00,\n",
       "        1.90254263e+01,  5.58673435e+00,  2.75446401e+01,  4.14325737e+01,\n",
       "        6.81457428e-01,  3.18098056e+01,  3.68101490e+01,  1.92778412e+01,\n",
       "        2.49839370e+01,  3.73935453e+01,  4.80918480e+00,  2.81816004e+01,\n",
       "        2.00566311e+01,  2.03967301e+01,  2.71454051e+01,  3.75035094e+01,\n",
       "        2.68890668e+01,  1.47676223e+01,  2.56230077e+01,  3.82531114e+01,\n",
       "        2.98549743e+01,  3.76768777e+01, -1.40730327e+00,  2.71188672e+01,\n",
       "        1.38016993e+01,  3.90043376e+01,  2.30897636e+01,  4.94280833e+00,\n",
       "        1.88475181e+01,  3.99946713e+01,  3.97912842e+01,  3.09701223e+01,\n",
       "        1.44536010e+01,  2.71378896e+01,  2.26841238e+01,  3.04101354e+01,\n",
       "        2.10812974e+01,  2.71170282e+01,  5.19635689e+01,  2.14204607e+01,\n",
       "        2.23743557e+01,  7.75523200e+00,  3.25475671e+01,  1.43750745e+01,\n",
       "        3.45942266e+00,  2.81584157e+00,  3.53458012e+01,  2.77024412e+01,\n",
       "        1.87431171e+01,  3.32023718e+01,  2.31129094e+01,  2.89939857e+01,\n",
       "        2.16474478e+01,  1.92792012e+01,  3.93806749e+00,  1.46249638e+01,\n",
       "        2.64029260e+01,  4.89568631e+01,  2.44299086e+01,  1.17175480e+01,\n",
       "        3.42787523e+01,  6.04324285e+01,  2.38720442e+01,  1.75388636e+01,\n",
       "        1.76141029e+01,  1.67522911e+01,  3.69857650e+01,  2.90260996e+01,\n",
       "        1.69359144e+01,  3.20722132e+01,  2.92386309e+01,  2.93228391e+01,\n",
       "        1.35824968e+01,  2.38254561e+01,  1.77625975e+01,  2.44350325e+01,\n",
       "        3.34750286e+01,  2.05871744e+01,  3.40141544e+01,  7.80788578e+00,\n",
       "        2.57505312e+01,  3.08503367e+01,  1.84863010e+01,  2.24269939e+01,\n",
       "        3.67097781e+00,  2.70898997e+01,  2.47032642e+01,  3.65081556e+01,\n",
       "        3.68253776e+01,  2.27121738e+01,  4.04679244e+01,  2.66782363e+01])"
      ]
     },
     "execution_count": 53,
     "metadata": {},
     "output_type": "execute_result"
    }
   ],
   "source": [
    "# location and scale \n",
    "loc, scale = 22.34, 6.15\n",
    "\n",
    "# Draw 1000 samples from a distribution\n",
    "x = rng.logistic(loc, scale, 1000)\n",
    "\n",
    "# Display the distribution\n",
    "x"
   ]
  },
  {
   "cell_type": "code",
   "execution_count": 54,
   "metadata": {
    "scrolled": false
   },
   "outputs": [
    {
     "data": {
      "image/png": "[encoded data removed]",
      "text/plain": [
       "<Figure size 720x432 with 1 Axes>"
      ]
     },
     "metadata": {},
     "output_type": "display_data"
    }
   ],
   "source": [
    "# Change colour scheme.\n",
    "sns.set_palette(\"gist_rainbow\")\n",
    "\n",
    "# Set the title and x label for the future plot.\n",
    "plt.title(\"Logistic Distribution: Heart Valve\")\n",
    "\n",
    "sns.histplot(x, stat=\"probability\", kde=True)\n",
    "\n",
    "# Show the plot.\n",
    "plt.show()"
   ]
  },
  {
   "cell_type": "code",
   "execution_count": null,
   "metadata": {},
   "outputs": [],
   "source": []
  },
  {
   "cell_type": "markdown",
   "metadata": {},
   "source": [
    "<br>\n",
    "\n",
    "##### Exponential <a name=\"exponential\"></a>"
   ]
  },
  {
   "cell_type": "markdown",
   "metadata": {},
   "source": []
  },
  {
   "cell_type": "markdown",
   "metadata": {},
   "source": [
    "### SEEDS  <a name=\"seeds\"></a> "
   ]
  }
 ],
 "metadata": {
  "kernelspec": {
   "display_name": "Python 3",
   "language": "python",
   "name": "python3"
  },
  "language_info": {
   "codemirror_mode": {
    "name": "ipython",
    "version": 3
   },
   "file_extension": ".py",
   "mimetype": "text/x-python",
   "name": "python",
   "nbconvert_exporter": "python",
   "pygments_lexer": "ipython3",
   "version": "3.7.4"
  }
 },
 "nbformat": 4,
 "nbformat_minor": 2
}
