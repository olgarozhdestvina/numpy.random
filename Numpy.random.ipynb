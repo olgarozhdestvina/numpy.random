{
 "cells": [
  {
   "cell_type": "markdown",
   "metadata": {},
   "source": [
    "# The numpy.random package \n",
    "\n",
    "\n",
    "[ Programming for Data Analysis Module GMIT 2020 ]\n",
    "\n",
    "\n",
    "<img align=\"left\" width=\"200\" height=\"200\" src=\"https://upload.wikimedia.org/wikipedia/commons/thumb/3/31/NumPy_logo_2020.svg/1024px-NumPy_logo_2020.svg.png\">\n"
   ]
  },
  {
   "cell_type": "markdown",
   "metadata": {},
   "source": [
    "Completed by: *Olga Rozhdestvina (G00387844@gmit.ie)*\n",
    "***\n",
    "\n",
    "## Table of Contents\n",
    "* [Purpose of the package](#purpose)\n",
    "    * [Integers](#integers)\n",
    "    * [Random](#random)\n",
    "    * [Choice](#choice)\n",
    "    * [Bytes](#bytes)\n",
    "* [“Simple random data” and “Permutations” functions](#functions)\n",
    "* [“Distributions” functions](#distributions)\n",
    "* [Seeds](#seeds)\n",
    "\n",
    "***"
   ]
  },
  {
   "cell_type": "markdown",
   "metadata": {},
   "source": [
    "### Purpose of the package <a name=\"purpose\"></a>"
   ]
  },
  {
   "cell_type": "markdown",
   "metadata": {},
   "source": [
    "First of all let's remind ourselves a what random number is. It doesn't mean a different number every time, but a number that can not be logically predicted. And those random numbers that are produced through a generating algorithm are called pseudorandom $^1$. The _numpy.random_ package is based on a pseudorandom number generator, or PRNG, and comes as supplemental for [the built-in Python random package](https://docs.python.org/3/library/random.html). It is used for efficient generation of whole arrays of random values from various probability distributions $^2$.\n",
    "\n",
    "> 1. [DataCamp: Random Number Generator Using Numpy](https://www.datacamp.com/community/tutorials/numpy-random)\n",
    "2. [Wes McKinney: Python for Data Analysis ](https://www.oreilly.com/library/view/python-for-data/9781449323592/)"
   ]
  },
  {
   "cell_type": "code",
   "execution_count": 1,
   "metadata": {},
   "outputs": [],
   "source": [
    "# Import the numpy package.\n",
    "import numpy as np\n",
    "# Package for plotting.\n",
    "import matplotlib.pyplot as plt\n",
    "# Another package for plotting.\n",
    "import seaborn as sns\n",
    "\n",
    "# Colour scheme and styles for plots.\n",
    "sns.set_theme(palette=\"Set2\", context=\"paper\", font_scale=1.5)\n",
    "\n",
    "# Better sized plots.\n",
    "plt.rcParams['figure.figsize'] = (10, 6)"
   ]
  },
  {
   "cell_type": "code",
   "execution_count": 2,
   "metadata": {},
   "outputs": [],
   "source": [
    "# Get an instance of generator.\n",
    "rng = np.random.default_rng()"
   ]
  },
  {
   "cell_type": "markdown",
   "metadata": {},
   "source": [
    "* _INTEGERS_ <a name=\"integers\"></a>\n",
    " \n",
    "Numpy.random package can be used for generating random integers. The examples below depict that this method can output a single integer, one-dimensional or two-dimensional arrays.\n",
    "\n",
    "1. A single integer"
   ]
  },
  {
   "cell_type": "code",
   "execution_count": 3,
   "metadata": {},
   "outputs": [
    {
     "data": {
      "text/plain": [
       "508"
      ]
     },
     "execution_count": 3,
     "metadata": {},
     "output_type": "execute_result"
    }
   ],
   "source": [
    "# Call the generator to obtain a random integer\n",
    "x = rng.integers(1000)\n",
    "\n",
    "# Display the number.\n",
    "x"
   ]
  },
  {
   "cell_type": "markdown",
   "metadata": {},
   "source": [
    "2. One-dimensional array"
   ]
  },
  {
   "cell_type": "code",
   "execution_count": 4,
   "metadata": {},
   "outputs": [
    {
     "data": {
      "text/plain": [
       "array([860, 606, 968, 596, 503, 502, 486, 410, 540, 861, 335, 380, 717,\n",
       "       438, 935, 927, 834, 284, 480, 257, 770, 785, 261, 682, 398, 754,\n",
       "       550, 787, 104, 538, 651,  67, 624, 779, 160, 643, 833, 442, 427,\n",
       "       945, 549, 943, 842, 914, 396,  41, 889, 229, 812, 126, 512, 390,\n",
       "       431,  94, 871, 794,  72, 400, 808, 122, 712, 334, 774, 152, 612,\n",
       "       297, 608,  68, 970, 409, 397, 395, 557, 655, 596, 949, 331, 967,\n",
       "       484, 132,  72, 206, 617, 759, 129, 635, 975, 589, 644, 206, 805,\n",
       "       899,  63, 507, 826, 180,  19, 626, 125, 213,  49, 223, 718, 963,\n",
       "       977, 996, 276, 121, 313, 421, 305,  62, 954, 354, 379, 420, 105,\n",
       "       974,  71, 504, 491, 656, 188, 995, 685, 150, 645, 256, 346, 843,\n",
       "       640, 462, 228, 832, 771, 277,  70, 854, 104, 961, 201, 309, 781,\n",
       "       297, 777, 330,  71, 606, 201, 409, 639, 149, 297, 152, 782, 796,\n",
       "       636, 525, 551, 561, 690, 770, 434, 717, 803,  67, 510, 560, 274,\n",
       "       562, 556, 263, 757, 789, 600, 122, 866, 988, 327, 642, 604, 128,\n",
       "       922, 533, 987, 712,  45, 169, 287, 708, 919,  67, 137, 815, 844,\n",
       "       827, 144, 418, 624, 709], dtype=int64)"
      ]
     },
     "execution_count": 4,
     "metadata": {},
     "output_type": "execute_result"
    }
   ],
   "source": [
    "# Generate 200 numbers between 0 and 999, inclusive:\n",
    "x = rng.integers(1000, size=200)\n",
    "\n",
    "# Display the array.\n",
    "x"
   ]
  },
  {
   "cell_type": "code",
   "execution_count": 5,
   "metadata": {},
   "outputs": [
    {
     "data": {
      "image/png": "[encoded data removed]",
      "text/plain": [
       "<Figure size 432x288 with 1 Axes>"
      ]
     },
     "metadata": {
      "needs_background": "light"
     },
     "output_type": "display_data"
    }
   ],
   "source": [
    "# Set the title for the future plot.\n",
    "plt.title(\"Integers Method: One-dimensional array\")\n",
    "\n",
    "# Plot the array.\n",
    "sns.histplot(x)\n",
    "\n",
    "# Show the plot.\n",
    "plt.show()"
   ]
  },
  {
   "cell_type": "markdown",
   "metadata": {},
   "source": [
    "3. Two-dimensional array"
   ]
  },
  {
   "cell_type": "code",
   "execution_count": 6,
   "metadata": {},
   "outputs": [
    {
     "data": {
      "text/plain": [
       "array([[83, 92, 32,  0,  4, 58, 16],\n",
       "       [71, 21, 31, 26, 18, 81,  8],\n",
       "       [57,  2, 51, 73, 38, 66,  0],\n",
       "       [69, 61, 24, 25, 94,  8, 76],\n",
       "       [36, 20, 68, 63, 57, 84, 26]], dtype=int64)"
      ]
     },
     "execution_count": 6,
     "metadata": {},
     "output_type": "execute_result"
    }
   ],
   "source": [
    "# Generate a 2-D array with 5 rows containing 7 integers between 0 and 99, inclusive:\n",
    "x = rng.integers(100, size=(5, 7))\n",
    "\n",
    "# Display the array.\n",
    "x"
   ]
  },
  {
   "cell_type": "code",
   "execution_count": 7,
   "metadata": {},
   "outputs": [
    {
     "data": {
      "image/png": "[encoded data removed]",
      "text/plain": [
       "<Figure size 432x288 with 1 Axes>"
      ]
     },
     "metadata": {
      "needs_background": "light"
     },
     "output_type": "display_data"
    }
   ],
   "source": [
    "# Set the title for the future plot.\n",
    "plt.title(\"Integers Method: Two-dimensional array\")\n",
    "\n",
    "# Loop through the rows in the array.\n",
    "for i in range(len(x)):\n",
    "    # Plot the array\n",
    "    sns.histplot(x[i])\n",
    "    \n",
    "# Show the plot.    \n",
    "plt.show()"
   ]
  },
  {
   "cell_type": "markdown",
   "metadata": {},
   "source": [
    "- _RANDOM_ <a name=\"random\"></a>\n",
    "\n",
    "With this method numPy produces random floats and output vary from a single float number to one-dimensional or two-dimensional arrays. If not specified otherwise, floats are sampled from the interval between 0.0 and 1.0 (exclusively).\n",
    "\n",
    "1. A single float"
   ]
  },
  {
   "cell_type": "code",
   "execution_count": 8,
   "metadata": {},
   "outputs": [
    {
     "data": {
      "text/plain": [
       "0.34754603878011325"
      ]
     },
     "execution_count": 8,
     "metadata": {},
     "output_type": "execute_result"
    }
   ],
   "source": [
    "# Generate a single float number.\n",
    "x = rng.random()\n",
    "\n",
    "# Display the float.\n",
    "x"
   ]
  },
  {
   "cell_type": "markdown",
   "metadata": {},
   "source": [
    "2. One-dimensional array"
   ]
  },
  {
   "cell_type": "code",
   "execution_count": 9,
   "metadata": {},
   "outputs": [
    {
     "data": {
      "text/plain": [
       "array([0.99154996, 0.3246198 , 0.82067377, 0.22491826, 0.9264547 ,\n",
       "       0.22459498, 0.14710898, 0.0507716 , 0.66890645, 0.67382277,\n",
       "       0.4577598 , 0.00997401, 0.8965068 , 0.92241965, 0.48805917,\n",
       "       0.07037703, 0.88633381, 0.87352679, 0.32855253, 0.2718761 ,\n",
       "       0.43614315, 0.55888166, 0.97597058, 0.33283019, 0.10405599,\n",
       "       0.52443427, 0.83554879, 0.38570836, 0.80323003, 0.91147168,\n",
       "       0.28213798, 0.08287187, 0.34327408, 0.54235107, 0.41793612,\n",
       "       0.84334181, 0.25556366, 0.57283511, 0.58194043, 0.99888778])"
      ]
     },
     "execution_count": 9,
     "metadata": {},
     "output_type": "execute_result"
    }
   ],
   "source": [
    "# Generate 40 floats.\n",
    "x = rng.random((40,))\n",
    "\n",
    "# Display the array.\n",
    "x"
   ]
  },
  {
   "cell_type": "code",
   "execution_count": 10,
   "metadata": {},
   "outputs": [
    {
     "data": {
      "image/png": "[encoded data removed]",
      "text/plain": [
       "<Figure size 432x288 with 1 Axes>"
      ]
     },
     "metadata": {
      "needs_background": "light"
     },
     "output_type": "display_data"
    }
   ],
   "source": [
    "# Set the title for the future plot.\n",
    "plt.title(\"Random Method: One-dimensional array\")\n",
    "\n",
    "# Build the plot.\n",
    "sns.histplot(x)\n",
    "\n",
    "# Show the plot.\n",
    "plt.show()"
   ]
  },
  {
   "cell_type": "markdown",
   "metadata": {},
   "source": [
    "3. Two-dimensional array"
   ]
  },
  {
   "cell_type": "code",
   "execution_count": 11,
   "metadata": {},
   "outputs": [
    {
     "data": {
      "text/plain": [
       "array([[-25.1406255 ,  -3.80453569, -14.63434437, -83.3790812 ,\n",
       "         -4.68848665, -62.88851757, -61.81009254, -31.35355684,\n",
       "        -65.02274278, -80.33543885,  -1.68132087, -96.34612314,\n",
       "        -27.67359137,  -9.45755523,  -8.83770914, -41.57240797,\n",
       "        -56.42060111, -79.74985676, -14.60420995, -98.3952149 ,\n",
       "         -6.64244456, -28.65505794, -21.48681744, -15.16909575,\n",
       "        -57.57520223, -76.87469772, -15.66384862, -77.50472247,\n",
       "         -2.35431154, -87.27197643],\n",
       "       [ -9.94058252, -80.7732049 , -11.17036432, -42.06727724,\n",
       "        -43.86881126,  -3.82588381, -16.34894201, -26.226781  ,\n",
       "        -50.33653075, -90.58183135, -72.24521275, -74.41224672,\n",
       "        -30.64838308, -67.69970386, -88.78930177, -39.30714889,\n",
       "        -97.24568575, -76.96074856, -38.63228043, -18.25206359,\n",
       "        -59.27104013, -48.23070862,  -6.68263159, -91.2701597 ,\n",
       "         -4.99402578, -45.60562541, -19.06781325, -75.2772523 ,\n",
       "         -0.85105089, -42.93727771]])"
      ]
     },
     "execution_count": 11,
     "metadata": {},
     "output_type": "execute_result"
    }
   ],
   "source": [
    "# Generate a 2-D array with 2 rows containing 30 floats between -100 and 0, exclusively.\n",
    "x = 100 * rng.random((2, 30)) - 100\n",
    "\n",
    "# Display the array.\n",
    "x"
   ]
  },
  {
   "cell_type": "code",
   "execution_count": 12,
   "metadata": {},
   "outputs": [
    {
     "data": {
      "image/png": "[encoded data removed]",
      "text/plain": [
       "<Figure size 432x288 with 1 Axes>"
      ]
     },
     "metadata": {
      "needs_background": "light"
     },
     "output_type": "display_data"
    }
   ],
   "source": [
    "# Set the title for the future plot.\n",
    "plt.title(\"Random Method: Two-dimensional array\")\n",
    "\n",
    "# Loop through the rows in the array.\n",
    "for i in range(len(x)):\n",
    "    # Build the plot.\n",
    "    sns.histplot(x[i])\n",
    "    \n",
    "# Show the plot.    \n",
    "plt.show()"
   ]
  },
  {
   "cell_type": "markdown",
   "metadata": {},
   "source": [
    "- _CHOICE_ <a name=\"choice\"></a>"
   ]
  },
  {
   "cell_type": "markdown",
   "metadata": {},
   "source": [
    "- _BYTES_ <a name=\"bytes\"></a>"
   ]
  },
  {
   "cell_type": "markdown",
   "metadata": {},
   "source": [
    "### “Simple random data” and “Permutations” functions"
   ]
  },
  {
   "cell_type": "code",
   "execution_count": null,
   "metadata": {},
   "outputs": [],
   "source": []
  },
  {
   "cell_type": "code",
   "execution_count": 13,
   "metadata": {},
   "outputs": [],
   "source": [
    "# BELOW IS FROM CLASS - USE LATER"
   ]
  },
  {
   "cell_type": "code",
   "execution_count": 14,
   "metadata": {},
   "outputs": [],
   "source": [
    "x = rng.uniform(-10,1000,10000)"
   ]
  },
  {
   "cell_type": "code",
   "execution_count": 15,
   "metadata": {},
   "outputs": [
    {
     "data": {
      "text/plain": [
       "(array([ 946., 1052., 1010.,  984.,  986.,  980., 1077.,  995.,  974.,\n",
       "         996.]), array([ -9.97515906,  91.01789499, 192.01094904, 293.00400308,\n",
       "        393.99705713, 494.99011118, 595.98316523, 696.97621928,\n",
       "        797.96927332, 898.96232737, 999.95538142]), <a list of 10 Patch objects>)"
      ]
     },
     "execution_count": 15,
     "metadata": {},
     "output_type": "execute_result"
    },
    {
     "data": {
      "image/png": "[encoded data removed]",
      "text/plain": [
       "<Figure size 432x288 with 1 Axes>"
      ]
     },
     "metadata": {
      "needs_background": "light"
     },
     "output_type": "display_data"
    }
   ],
   "source": [
    "plt.hist(x)"
   ]
  },
  {
   "cell_type": "code",
   "execution_count": 16,
   "metadata": {},
   "outputs": [],
   "source": [
    "x = rng.normal(0, 0.1, 10000) # values centered around 0"
   ]
  },
  {
   "cell_type": "code",
   "execution_count": 17,
   "metadata": {},
   "outputs": [
    {
     "data": {
      "text/plain": [
       "(array([  24.,  166.,  680., 1720., 2750., 2595., 1446.,  494.,  108.,\n",
       "          17.]),\n",
       " array([-0.35734553, -0.28408468, -0.21082383, -0.13756298, -0.06430213,\n",
       "         0.00895872,  0.08221957,  0.15548042,  0.22874127,  0.30200211,\n",
       "         0.37526296]),\n",
       " <a list of 10 Patch objects>)"
      ]
     },
     "execution_count": 17,
     "metadata": {},
     "output_type": "execute_result"
    },
    {
     "data": {
      "image/png": "[encoded data removed]",
      "text/plain": [
       "<Figure size 432x288 with 1 Axes>"
      ]
     },
     "metadata": {
      "needs_background": "light"
     },
     "output_type": "display_data"
    }
   ],
   "source": [
    "plt.hist(x)"
   ]
  },
  {
   "cell_type": "code",
   "execution_count": null,
   "metadata": {},
   "outputs": [],
   "source": []
  }
 ],
 "metadata": {
  "kernelspec": {
   "display_name": "Python 3",
   "language": "python",
   "name": "python3"
  },
  "language_info": {
   "codemirror_mode": {
    "name": "ipython",
    "version": 3
   },
   "file_extension": ".py",
   "mimetype": "text/x-python",
   "name": "python",
   "nbconvert_exporter": "python",
   "pygments_lexer": "ipython3",
   "version": "3.7.4"
  }
 },
 "nbformat": 4,
 "nbformat_minor": 2
}
