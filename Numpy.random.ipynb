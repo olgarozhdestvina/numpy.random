{
 "cells": [
  {
   "cell_type": "markdown",
   "metadata": {},
   "source": [
    "# The numpy.random package \n",
    "\n",
    "\n",
    "[ Programming for Data Analysis Module GMIT 2020 ]\n",
    "\n",
    "\n",
    "<img align=\"left\" width=\"200\" height=\"200\" src=\"https://upload.wikimedia.org/wikipedia/commons/thumb/3/31/NumPy_logo_2020.svg/1024px-NumPy_logo_2020.svg.png\">\n"
   ]
  },
  {
   "cell_type": "markdown",
   "metadata": {},
   "source": [
    "Completed by: *Olga Rozhdestvina (G00387844@gmit.ie)*\n",
    "***\n",
    "\n",
    "## Table of Contents\n",
    "* [Purpose of the package](#purpose)\n",
    "* [“Simple random data” and “Permutations” functions](#functions)\n",
    "    * [Simple random data](#srd)\n",
    "        * [Integers](#integers)\n",
    "        * [Random](#random)\n",
    "        * [Choice](#choice)\n",
    "        * [Bytes](#bytes)\n",
    "    * [Permutations](#permutations)\n",
    "* [“Distributions” functions](#distributions)\n",
    "    * [Discrete Probability Distribution](#discrete)\n",
    "        * [Binominal](#binominal)\n",
    "        * [Multinomial](#multinomial)\n",
    "        * [Geometric](#geometric)\n",
    "        * [Hypergeometric](#hypergeometric)\n",
    "        * [Poisson](#poisson)\n",
    "    * [Continuous Probability Distribution](#continuous)\n",
    "        * [Uniform](#uniform)\n",
    "        * [Normal](#normal)\n",
    "        * [Logistic](#logistic)\n",
    "        * [Chi-square](#chi-square)\n",
    "        * [Exponential](#exponential)\n",
    "        \n",
    "        \n",
    "* [Seeds](#seeds)\n",
    "\n",
    "***"
   ]
  },
  {
   "cell_type": "markdown",
   "metadata": {},
   "source": [
    "### Purpose of the package <a name=\"purpose\"></a>"
   ]
  },
  {
   "cell_type": "markdown",
   "metadata": {},
   "source": [
    "First of all let's remind ourselves a what random number is. It doesn't mean a different number every time, but a number that can not be logically predicted. And those random numbers that are produced through a generating algorithm are called pseudorandom $^1$. The _numpy.random_ package is based on a pseudorandom number generator, or PRNG, and comes as supplemental for [the built-in Python random package](https://docs.python.org/3/library/random.html). It is used for efficient generation of whole arrays of random values from various probability distributions $^2$ $^3$\n",
    "\n",
    "> 1. [DataCamp: Random Number Generator Using Numpy](https://www.datacamp.com/community/tutorials/numpy-random)\n",
    "2. [Wes McKinney: Python for Data Analysis ](https://www.oreilly.com/library/view/python-for-data/9781449323592/)\n",
    "3. [NumPy: numpy.random](https://numpy.org/doc/stable/reference/random/)"
   ]
  },
  {
   "cell_type": "code",
   "execution_count": 1,
   "metadata": {},
   "outputs": [],
   "source": [
    "# Import the numpy package.\n",
    "import numpy as np\n",
    "# Package for plotting.\n",
    "import matplotlib.pyplot as plt\n",
    "# Another package for plotting.\n",
    "import seaborn as sns\n"
   ]
  },
  {
   "cell_type": "code",
   "execution_count": 2,
   "metadata": {},
   "outputs": [],
   "source": [
    "# Colour scheme and styles for plots.\n",
    "sns.set_theme(palette=\"Set2\", context=\"paper\", font_scale=1.5)\n",
    "\n",
    "# Better sized plots.\n",
    "plt.rcParams['figure.figsize'] = (10, 6)"
   ]
  },
  {
   "cell_type": "code",
   "execution_count": 3,
   "metadata": {},
   "outputs": [],
   "source": [
    "# Get an instance of generator.\n",
    "rng = np.random.default_rng()"
   ]
  },
  {
   "cell_type": "markdown",
   "metadata": {},
   "source": [
    "***\n",
    "<br>\n",
    "\n",
    "### “SIMPLE RANDOM DATA” and “PERMUTATIONS” functions <a name=\"functions\"></a>"
   ]
  },
  {
   "cell_type": "markdown",
   "metadata": {},
   "source": [
    "#### Simple random data <a name=\"srd\"></a>\n",
    "\n",
    "\n",
    "<img align=\"left\" width=\"302\" height=\"420\" src=\"https://www.netquest.com/hubfs/Imported_Blog_Media/smallnumbers-1.png\">\n"
   ]
  },
  {
   "cell_type": "markdown",
   "metadata": {},
   "source": [
    "* _INTEGERS_ <a name=\"integers\"></a>\n",
    " \n",
    "Numpy.random package can be used for generating random integers. The examples below depict that this method can output a single integer, one-dimensional or two-dimensional arrays.\n",
    "\n",
    "1. A single integer"
   ]
  },
  {
   "cell_type": "code",
   "execution_count": 4,
   "metadata": {},
   "outputs": [
    {
     "data": {
      "text/plain": [
       "178"
      ]
     },
     "execution_count": 4,
     "metadata": {},
     "output_type": "execute_result"
    }
   ],
   "source": [
    "# Call the generator to obtain a random integer.\n",
    "x = rng.integers(1000)\n",
    "\n",
    "# Display the number.\n",
    "x"
   ]
  },
  {
   "cell_type": "markdown",
   "metadata": {},
   "source": [
    "2. One-dimensional array"
   ]
  },
  {
   "cell_type": "code",
   "execution_count": 5,
   "metadata": {},
   "outputs": [
    {
     "data": {
      "text/plain": [
       "array([757, 829, 546, 261, 941, 737, 159, 491, 798, 558, 312, 992, 590,\n",
       "       976, 398, 622, 221, 885, 609, 927, 728, 699,  73, 549,  62, 478,\n",
       "        86, 914, 991, 780, 534, 743,  89, 307, 836, 331, 992, 608, 269,\n",
       "       357, 957, 911, 986, 586, 949, 591, 749, 632, 531, 965, 875, 712,\n",
       "       697, 722, 792, 863, 822,  37, 160, 326, 310, 828, 818, 109, 562,\n",
       "       378, 907, 127,  77, 892, 136, 417, 388, 533, 690, 379, 176, 866,\n",
       "        20,  72, 356, 854, 658, 509, 101, 506, 248, 980, 741, 119, 219,\n",
       "       425, 186, 599, 819, 659, 470,  44, 669, 870, 915, 690, 298, 373,\n",
       "       585, 284, 464, 366,  61, 580, 120, 769, 822, 601, 148,  22, 240,\n",
       "       525, 990, 863, 116, 195, 444,  65, 851, 147, 578,  22, 348, 335,\n",
       "       106, 220, 851, 989, 428, 161, 501, 535, 803, 138,  35, 175, 875,\n",
       "       715, 202, 431, 245, 269, 220,  84, 475, 774, 277, 973,  60,  62,\n",
       "       110, 535, 378,  80, 687, 581, 478, 878, 728, 799, 594, 798, 917,\n",
       "       171, 222, 586, 784, 670, 108,  19,  26, 925,  31, 859, 289, 916,\n",
       "       419, 129, 641, 894, 427, 775, 532, 646, 100,  96, 596,  60, 939,\n",
       "        29, 278, 273, 125, 587], dtype=int64)"
      ]
     },
     "execution_count": 5,
     "metadata": {},
     "output_type": "execute_result"
    }
   ],
   "source": [
    "# Generate 200 numbers between 0 and 999, inclusive:\n",
    "x = rng.integers(1000, size=200)\n",
    "\n",
    "# Display the array.\n",
    "x"
   ]
  },
  {
   "cell_type": "code",
   "execution_count": 6,
   "metadata": {},
   "outputs": [
    {
     "data": {
      "image/png": "[encoded data removed]",
      "text/plain": [
       "<Figure size 720x432 with 1 Axes>"
      ]
     },
     "metadata": {},
     "output_type": "display_data"
    }
   ],
   "source": [
    "# Set the title for the future plot.\n",
    "plt.title(\"Integers Method: 1-D array\")\n",
    "\n",
    "# Plot the array.\n",
    "sns.histplot(x)\n",
    "\n",
    "# Show the plot.\n",
    "plt.show()"
   ]
  },
  {
   "cell_type": "markdown",
   "metadata": {},
   "source": [
    "3. Two-dimensional array"
   ]
  },
  {
   "cell_type": "code",
   "execution_count": 7,
   "metadata": {},
   "outputs": [
    {
     "data": {
      "text/plain": [
       "array([[80, 87, 34, 98, 34, 80, 42],\n",
       "       [37,  9, 10, 27, 86, 13, 71],\n",
       "       [49,  6, 59, 91, 62, 51, 64],\n",
       "       [32, 90, 36, 31, 65, 79, 20],\n",
       "       [55,  6, 47, 18, 10, 81, 58]], dtype=int64)"
      ]
     },
     "execution_count": 7,
     "metadata": {},
     "output_type": "execute_result"
    }
   ],
   "source": [
    "# Generate a 2-D array with 5 rows containing 7 integers between 0 and 99, inclusive:\n",
    "x = rng.integers(100, size=(5, 7))\n",
    "\n",
    "# Display the array.\n",
    "x"
   ]
  },
  {
   "cell_type": "code",
   "execution_count": 8,
   "metadata": {},
   "outputs": [
    {
     "data": {
      "image/png": "[encoded data removed]",
      "text/plain": [
       "<Figure size 720x432 with 1 Axes>"
      ]
     },
     "metadata": {},
     "output_type": "display_data"
    }
   ],
   "source": [
    "# Set the title for the future plot.\n",
    "plt.title(\"Integers Method: 2-D array\")\n",
    "\n",
    "# Loop through the rows in the array.\n",
    "for i in range(len(x)):\n",
    "    # Plot the array.\n",
    "    sns.histplot(x[i])\n",
    "    \n",
    "# Show the plot.    \n",
    "plt.show()"
   ]
  },
  {
   "cell_type": "markdown",
   "metadata": {},
   "source": [
    "<br>\n",
    "\n",
    "- _RANDOM_ <a name=\"random\"></a>\n",
    "\n",
    "With this method numPy produces random floats and output vary from a single float number to one-dimensional or two-dimensional arrays. If not specified otherwise, floats are sampled from the interval between 0.0 and 1.0 (exclusively).\n",
    "\n",
    "1. A single float"
   ]
  },
  {
   "cell_type": "code",
   "execution_count": 9,
   "metadata": {},
   "outputs": [
    {
     "data": {
      "text/plain": [
       "0.2234431662364581"
      ]
     },
     "execution_count": 9,
     "metadata": {},
     "output_type": "execute_result"
    }
   ],
   "source": [
    "# Generate a single float number:\n",
    "x = rng.random()\n",
    "\n",
    "# Display the float.\n",
    "x"
   ]
  },
  {
   "cell_type": "markdown",
   "metadata": {},
   "source": [
    "2. One-dimensional array"
   ]
  },
  {
   "cell_type": "code",
   "execution_count": 10,
   "metadata": {},
   "outputs": [
    {
     "data": {
      "text/plain": [
       "array([0.18744243, 0.47133551, 0.19569017, 0.3705403 , 0.25155102,\n",
       "       0.15412832, 0.79545998, 0.08901876, 0.82684437, 0.38289087,\n",
       "       0.42452248, 0.80611013, 0.57165245, 0.62566026, 0.07829415,\n",
       "       0.92647992, 0.89889559, 0.74554903, 0.88388328, 0.42001308,\n",
       "       0.83874163, 0.77821349, 0.89594872, 0.04888875, 0.72714579,\n",
       "       0.97855848, 0.00669622, 0.6670488 , 0.26578132, 0.05041706,\n",
       "       0.27964644, 0.02488788, 0.04759052, 0.90013139, 0.91655413,\n",
       "       0.20621576, 0.66468397, 0.56597021, 0.88602381, 0.29546359])"
      ]
     },
     "execution_count": 10,
     "metadata": {},
     "output_type": "execute_result"
    }
   ],
   "source": [
    "# Generate 40 floats:\n",
    "x = rng.random((40,))\n",
    "\n",
    "# Display the array.\n",
    "x"
   ]
  },
  {
   "cell_type": "code",
   "execution_count": 11,
   "metadata": {},
   "outputs": [
    {
     "data": {
      "image/png": "[encoded data removed]",
      "text/plain": [
       "<Figure size 720x432 with 1 Axes>"
      ]
     },
     "metadata": {},
     "output_type": "display_data"
    }
   ],
   "source": [
    "# Set the title for the future plot.\n",
    "plt.title(\"Random Method: 1-D array\")\n",
    "\n",
    "# Change colour scheme.\n",
    "sns.set_palette(\"rocket\")\n",
    "\n",
    "# Build the plot.\n",
    "sns.histplot(x)\n",
    "\n",
    "# Show the plot.\n",
    "plt.show()"
   ]
  },
  {
   "cell_type": "markdown",
   "metadata": {},
   "source": [
    "3. Two-dimensional array"
   ]
  },
  {
   "cell_type": "code",
   "execution_count": 12,
   "metadata": {},
   "outputs": [
    {
     "data": {
      "text/plain": [
       "array([[-61.46891674, -74.77186743,  -5.71385213, -74.84894879,\n",
       "        -47.79789848, -22.61135625, -63.777549  , -63.78744617,\n",
       "        -69.51545492,  -5.62391948, -18.47892847, -22.37941266,\n",
       "        -76.2930143 , -59.79329131, -66.33579544, -33.20766989,\n",
       "        -12.90394283,  -5.2776759 , -69.62277442, -14.97931492,\n",
       "        -76.20049053, -13.36980111, -28.21435247, -66.48042347,\n",
       "        -82.05205457, -47.40173888, -73.65368096,  -0.53463429,\n",
       "        -30.90312039, -17.98813266],\n",
       "       [-73.06120725, -54.95750926, -31.26966091, -71.63336058,\n",
       "        -68.30981275, -98.19969265, -83.07395231, -81.04037784,\n",
       "         -6.3704521 ,  -8.39149682, -10.27623128, -67.37939623,\n",
       "         -1.87711479, -51.17942672, -67.61020254, -91.91330059,\n",
       "        -17.13467027, -80.07438131, -29.06433857, -34.1654381 ,\n",
       "        -30.00118791, -93.57186323, -91.0294808 , -87.90825945,\n",
       "        -54.71160601, -29.92334341, -59.55660332, -98.99496703,\n",
       "        -51.57982053,  -8.32020869]])"
      ]
     },
     "execution_count": 12,
     "metadata": {},
     "output_type": "execute_result"
    }
   ],
   "source": [
    "# Generate a 2-D array with 2 rows containing 30 floats between -100 and 0, exclusive:\n",
    "x = 100 * rng.random((2, 30)) - 100\n",
    "\n",
    "# Display the array.\n",
    "x"
   ]
  },
  {
   "cell_type": "code",
   "execution_count": 13,
   "metadata": {},
   "outputs": [
    {
     "data": {
      "image/png": "[encoded data removed]",
      "text/plain": [
       "<Figure size 720x432 with 1 Axes>"
      ]
     },
     "metadata": {},
     "output_type": "display_data"
    }
   ],
   "source": [
    "# Set the title for the future plot.\n",
    "plt.title(\"Random Method: 2-D array\")\n",
    "\n",
    "# Loop through the rows in the array.\n",
    "for i in range(len(x)):\n",
    "    # Build the plot.\n",
    "    sns.histplot(x[i])\n",
    "    \n",
    "# Show the plot.    \n",
    "plt.show()"
   ]
  },
  {
   "cell_type": "markdown",
   "metadata": {},
   "source": [
    "<br>\n",
    "\n",
    "- _CHOICE_ <a name=\"choice\"></a>\n",
    "\n",
    "The choice method generates random numbers from a given integer or one-dimensional array (of integers or strings). If not specified otherwise, the output assumes a uniform distribution over all entries in the given array. (refer to [“Distributions” functions](#distributions) )\n",
    "\n",
    " 1. Uniform distribution (default)."
   ]
  },
  {
   "cell_type": "code",
   "execution_count": 14,
   "metadata": {},
   "outputs": [
    {
     "data": {
      "text/plain": [
       "array([1, 5, 7, 9, 2, 3, 1, 6, 4], dtype=int64)"
      ]
     },
     "execution_count": 14,
     "metadata": {},
     "output_type": "execute_result"
    }
   ],
   "source": [
    "# Generate 20 evenly spaced values between 0 and 9 (inclusive) (np.arange(10)).\n",
    "x = rng.choice(10, 9)\n",
    "\n",
    "# Display the array.\n",
    "x"
   ]
  },
  {
   "cell_type": "code",
   "execution_count": 15,
   "metadata": {},
   "outputs": [
    {
     "data": {
      "image/png": "[encoded data removed]",
      "text/plain": [
       "<Figure size 720x432 with 1 Axes>"
      ]
     },
     "metadata": {},
     "output_type": "display_data"
    }
   ],
   "source": [
    "# Set the title for the future plot.\n",
    "plt.title(\"Choice Method: Uniform distribution\")\n",
    "\n",
    "# Change colour scheme.\n",
    "sns.set_palette(\"flare\")\n",
    "\n",
    "# Build the plot.\n",
    "sns.histplot(x)\n",
    "\n",
    "# Show the plot.\n",
    "plt.show()"
   ]
  },
  {
   "cell_type": "code",
   "execution_count": 16,
   "metadata": {},
   "outputs": [
    {
     "data": {
      "text/plain": [
       "array([8, 0, 2, 5, 3, 4, 9, 1, 6], dtype=int64)"
      ]
     },
     "execution_count": 16,
     "metadata": {},
     "output_type": "execute_result"
    }
   ],
   "source": [
    "# Generate 9 UNIQUE random numbers from np.arange(10): \n",
    "x = rng.choice(10, 9, replace=False)\n",
    "\n",
    "# Display the array.\n",
    "x"
   ]
  },
  {
   "cell_type": "code",
   "execution_count": 17,
   "metadata": {},
   "outputs": [
    {
     "data": {
      "image/png": "[encoded data removed]",
      "text/plain": [
       "<Figure size 720x432 with 1 Axes>"
      ]
     },
     "metadata": {},
     "output_type": "display_data"
    }
   ],
   "source": [
    "# Set the title for the future plot.\n",
    "plt.title(\"Choice Method: Uniform distribution of unique numbers\")\n",
    "\n",
    "# Build the plot.\n",
    "sns.histplot(x)\n",
    "\n",
    "# Show the plot.\n",
    "plt.show()"
   ]
  },
  {
   "cell_type": "markdown",
   "metadata": {},
   "source": [
    " 2. Non-uniform distribution. \n",
    " \n",
    " Requires provision of probability $p$ of each entry in a given array to appear in the output. \n",
    " \n",
    " Note that $p$:\n",
    "    - has to be of the same size as a given array;\n",
    "    - sum of $p$ elements has to be 1;\n",
    "    - non-zero entries in $p$ has to be same as size."
   ]
  },
  {
   "cell_type": "code",
   "execution_count": 18,
   "metadata": {},
   "outputs": [
    {
     "data": {
      "text/plain": [
       "array([6, 5, 6, 5, 7, 5, 0, 0, 1], dtype=int64)"
      ]
     },
     "execution_count": 18,
     "metadata": {},
     "output_type": "execute_result"
    }
   ],
   "source": [
    "# Generate 9 evenly spaced values between 0 and 9 (inclusive) (np.arange(10)) with provided p:\n",
    "x = rng.choice(10, 9, p=[0.1, 0.1, 0.1, 0.1, 0.1, 0.2, 0.1, 0.1, 0, 0.1])\n",
    "\n",
    "# Display the array.\n",
    "x"
   ]
  },
  {
   "cell_type": "code",
   "execution_count": 19,
   "metadata": {},
   "outputs": [
    {
     "data": {
      "image/png": "[encoded data removed]",
      "text/plain": [
       "<Figure size 720x432 with 1 Axes>"
      ]
     },
     "metadata": {},
     "output_type": "display_data"
    }
   ],
   "source": [
    "# Set the title for the future plot.\n",
    "plt.title(\"Choice Method: Non-Uniform distribution\")\n",
    "\n",
    "# Build the plot.\n",
    "sns.histplot(x)\n",
    "\n",
    "# Show the plot.\n",
    "plt.show()"
   ]
  },
  {
   "cell_type": "code",
   "execution_count": 20,
   "metadata": {},
   "outputs": [
    {
     "data": {
      "text/plain": [
       "array([7, 6, 5, 3, 4, 0, 2, 9, 1], dtype=int64)"
      ]
     },
     "execution_count": 20,
     "metadata": {},
     "output_type": "execute_result"
    }
   ],
   "source": [
    "# Generate 9 evenly spaced values between 0 and 9 (inclusive) (np.arange(10)) with provided p:\n",
    "x = rng.choice(10, 9, replace=False, p=[0.1, 0.1, 0.1, 0.1, 0.1, 0.2, 0.1, 0.1, 0, 0.1])\n",
    "\n",
    "# Display the array.\n",
    "x"
   ]
  },
  {
   "cell_type": "code",
   "execution_count": 21,
   "metadata": {},
   "outputs": [
    {
     "data": {
      "image/png": "[encoded data removed]",
      "text/plain": [
       "<Figure size 720x432 with 1 Axes>"
      ]
     },
     "metadata": {},
     "output_type": "display_data"
    }
   ],
   "source": [
    "# Set the title for the future plot.\n",
    "plt.title(\"Choice Method: Non-Uniform distribution of unique numbers\")\n",
    "\n",
    "# Build the plot.\n",
    "sns.histplot(x)\n",
    "\n",
    "# Show the plot.\n",
    "plt.show()"
   ]
  },
  {
   "cell_type": "markdown",
   "metadata": {},
   "source": [
    "- _BYTES_ <a name=\"bytes\"></a>\n",
    "\n",
    "This NumPy random method returns random bytes."
   ]
  },
  {
   "cell_type": "code",
   "execution_count": 22,
   "metadata": {},
   "outputs": [
    {
     "data": {
      "text/plain": [
       "b'\\x81\\xe6\\xb1]\\x8e\\xd7\\x99K`\\x88\\xda)N\\xa6I\\x14e{\\xe8\\xf5\\xfb\\xf9\\x87=_\\x00\\x08\\xf1\\xd9\\xf0N\\xbax\\xdd\\n\\x0b\\xbe\\xd3+\\x03\\xf3\\n\\x86\\xb9%\\xbf*\\xac\\xc1\\xa7\\x06H\\x93]\\x18\\xf3\\xba\\x87\\xab\\xc10Q\\xc2b#\\x1ay\\xe01\\xc420j~\\xad\\x1aS@\\xba\\xab\\xd1\\\\\\xf8\\xdd\\xff\\x0b\\xc8\\xcc\\xc8O/\\xdf\\x1e\\xb4\\r\\xab]\\x1b\\xaf\\xd3'"
      ]
     },
     "execution_count": 22,
     "metadata": {},
     "output_type": "execute_result"
    }
   ],
   "source": [
    "# Generate 100 random bytes:\n",
    "x = rng.bytes(100)\n",
    "\n",
    "# Display the array.\n",
    "x"
   ]
  },
  {
   "cell_type": "markdown",
   "metadata": {},
   "source": [
    "***\n",
    "<br>\n",
    "\n",
    "#### Permutations <a name=\"permutations\"></a>\n",
    "\n",
    "\n",
    "<img align=\"left\" width=\"200\" height=\"300\" src=\"https://upload.wikimedia.org/wikipedia/commons/3/39/Combination_unlocked.png\">"
   ]
  },
  {
   "cell_type": "markdown",
   "metadata": {},
   "source": [
    "Generally speaking, in NumPy, both permutation and shuffle methods randomly shuffle elements in an array, which results in the same output when plotting (see below). However, there are some differences in these methods. \n",
    "\n",
    "The Shuffle method changes arrangement of elements inplace, i.e. in the array itself. On the other hand, the Permutation method produces a shuffled range if integer is passed or a shuffled _copy_ of the array if an array is passed (meaning that the original array is left unchanged).$^4$\n",
    "\n",
    "\n",
    "> 4. [W3Schools: Random Permutations](https://www.w3schools.com/python/numpy_random_permutation.asp)\n"
   ]
  },
  {
   "cell_type": "markdown",
   "metadata": {},
   "source": [
    "_SHUFFLE_ vs _PERMUTATION_ \n",
    "\n",
    "1. One-Dimensional Array"
   ]
  },
  {
   "cell_type": "code",
   "execution_count": 23,
   "metadata": {},
   "outputs": [
    {
     "data": {
      "text/plain": [
       "array([155,  19, 120,  97, 105,  81,  51, 175,  36,  16, 129, 159, 104,\n",
       "        37, 108,  59,  39,  94, 123,  45, 143, 154,  71, 185, 189,   4,\n",
       "        58,  86, 109, 142, 187, 184,  70, 158, 107, 101, 119,   7,  75,\n",
       "       128,  28,  46, 139,  35, 132,  80,  89,   0, 125, 160,  49,  53,\n",
       "       126,  55,   5, 131,  72,  74, 194, 164,  88, 135,  67,  18,  44,\n",
       "       116,  15,  48, 162,  24,  62,  31, 114,  82, 112,  30, 186, 193,\n",
       "       153,  26, 146, 130, 199,   2, 118, 195,  61,  12, 147, 169, 183,\n",
       "        21, 127, 103, 122,  56, 150,  96,  87,  77,  99, 165, 170,  63,\n",
       "       176, 173,  54, 151,  20,   6,  50,  34,  41,  84,  23, 148, 121,\n",
       "       174, 182, 171, 113,  33,  52, 134,  14,  57,   3, 172,  64, 163,\n",
       "        25,  11,  42, 117,  60,  69,  22, 141,  92, 196, 177,  95, 145,\n",
       "       140,   1,  90,  93, 106, 161, 156,  91,  40, 149, 166, 157, 181,\n",
       "       102, 133,  98,  13, 180, 111, 115, 124,  43,  47, 179, 168,  10,\n",
       "       191,  29, 197,  27, 152, 188,  85, 100,  78, 138, 110,  73, 144,\n",
       "        17, 198,  66,  38,   9,  76, 136, 167,  79,  32, 178, 192,  65,\n",
       "         8,  68, 190,  83, 137])"
      ]
     },
     "execution_count": 23,
     "metadata": {},
     "output_type": "execute_result"
    }
   ],
   "source": [
    "# Generate an array between 0 and 199, inclusive:\n",
    "x = np.arange(200)\n",
    "\n",
    "# Shuffle its content.\n",
    "rng.shuffle(x)\n",
    "\n",
    "# Display the array.\n",
    "x"
   ]
  },
  {
   "cell_type": "code",
   "execution_count": 24,
   "metadata": {},
   "outputs": [
    {
     "data": {
      "text/plain": [
       "array([ 43, 194,  68,  42, 181,  47, 161,  27, 158, 157,  82,  96, 131,\n",
       "       195, 191,  38,   9,  81,  21,  57, 144, 198,  63,   5,  90,  78,\n",
       "        65,  40,  33, 149,   3, 120, 163,  29, 196, 171, 152,  44, 145,\n",
       "       174,  49, 129, 153,  22,  76, 175, 155, 118, 188,  36,  48, 192,\n",
       "       140,  24, 100,  34, 127, 147,  20,  95, 182, 132, 172,  87,  59,\n",
       "        39,  98, 112,  53,  74,  52,  62, 117,  41, 113,  61, 180,  60,\n",
       "       138, 136,  72,  15, 156,  14,   7, 143,  28,  93, 193, 134, 151,\n",
       "       189, 109,  73,  23, 169,  32, 197, 123,   2, 126,  77, 199, 114,\n",
       "        89, 154, 187,   0,  10,  58,  46, 125, 146,  67,  31,  35, 124,\n",
       "        51,  12, 168, 116,  50,   6, 162,  66,  84,  79, 101, 164, 119,\n",
       "       185, 139,  94, 133, 148,  92,  17,   8, 179,  13,   1, 177, 186,\n",
       "        30,  85, 122, 142,  86,  64,  55, 104,  70, 141, 107, 130,  45,\n",
       "       110,  18,  99, 103,  80, 160,  11, 111, 178,  26, 165, 137, 135,\n",
       "        75, 128, 102,  88,  16,  97, 184, 166,  25,   4,  54, 108, 190,\n",
       "       121,  91, 150,  83, 173, 115, 106, 159,  56, 167, 176, 183, 170,\n",
       "        69, 105,  71,  19,  37])"
      ]
     },
     "execution_count": 24,
     "metadata": {},
     "output_type": "execute_result"
    }
   ],
   "source": [
    "# Permute an array of 200 numbers between 0 and 199, inclusive:\n",
    "y = rng.permutation(200)\n",
    "\n",
    "# Display the array.\n",
    "y"
   ]
  },
  {
   "cell_type": "code",
   "execution_count": 25,
   "metadata": {},
   "outputs": [
    {
     "data": {
      "image/png": "[encoded data removed]",
      "text/plain": [
       "<Figure size 720x432 with 2 Axes>"
      ]
     },
     "metadata": {},
     "output_type": "display_data"
    }
   ],
   "source": [
    "# Change colour scheme.\n",
    "sns.set_palette(\"husl\")\n",
    "\n",
    "# Build the Shuffle plot one the left.\n",
    "plt.subplot(1, 2, 1)\n",
    "sns.histplot(x)\n",
    "\n",
    "# Set the title for the Shuffle plot.\n",
    "plt.title(\"Shuffle: 1-D array\")\n",
    "\n",
    "# Build the Permutation plot one the right.\n",
    "plt.subplot(1, 2, 2)\n",
    "sns.histplot(y)\n",
    "\n",
    "# Set the title for the Permutation plot.\n",
    "plt.title(\"Permutation: 1-D array\")\n",
    "\n",
    "# Show the plot.\n",
    "plt.show()"
   ]
  },
  {
   "cell_type": "markdown",
   "metadata": {},
   "source": [
    "2. Two-Dimensional Array"
   ]
  },
  {
   "cell_type": "code",
   "execution_count": 26,
   "metadata": {
    "scrolled": false
   },
   "outputs": [
    {
     "data": {
      "text/plain": [
       "array([[ 58,  88,  38,  52,  32,   3,  55,  91,  50,  56,  74,  98,  46,\n",
       "         37,   5,  64,  26,   8,  92,  82,  21,  13,  31,   7,  10,  76,\n",
       "         17,  34,  28,  69,   9,  25,  43,  16,  12,  90,   6,  59,  78,\n",
       "         33,  65,  84,  51,  22,  48,  49,  44,  14,  30,  81,  68,  20,\n",
       "          1,  83,  54,  73,  23,  70,  29,  97,  45,  36,  99,  40,  93,\n",
       "         94,  67,  57,  62,  87,  95,   0,  63,  19,  85,  47,  39,  66,\n",
       "         61,  72,   2,  24,  80,  41,  11,  42,  86,  75,  15,   4,  89,\n",
       "         96,  53,  18,  71,  35,  60,  27,  79,  77],\n",
       "       [158, 188, 138, 152, 132, 103, 155, 191, 150, 156, 174, 198, 146,\n",
       "        137, 105, 164, 126, 108, 192, 182, 121, 113, 131, 107, 110, 176,\n",
       "        117, 134, 128, 169, 109, 125, 143, 116, 112, 190, 106, 159, 178,\n",
       "        133, 165, 184, 151, 122, 148, 149, 144, 114, 130, 181, 168, 120,\n",
       "        101, 183, 154, 173, 123, 170, 129, 197, 145, 136, 199, 140, 193,\n",
       "        194, 167, 157, 162, 187, 195, 100, 163, 119, 185, 147, 139, 166,\n",
       "        161, 172, 102, 124, 180, 141, 111, 142, 186, 175, 115, 104, 189,\n",
       "        196, 153, 118, 171, 135, 160, 127, 179, 177]])"
      ]
     },
     "execution_count": 26,
     "metadata": {},
     "output_type": "execute_result"
    }
   ],
   "source": [
    "# Generate a 2-D array with 2 rows of 100 numbers between 0 and 199, inclusive:\n",
    "x = np.arange(200).reshape((2, 100))\n",
    "\n",
    "# Shuffle its content along the axis 1.\n",
    "rng.shuffle(x, axis=1)\n",
    "\n",
    "# Display the array.\n",
    "x"
   ]
  },
  {
   "cell_type": "code",
   "execution_count": 27,
   "metadata": {},
   "outputs": [
    {
     "data": {
      "text/plain": [
       "array([[ 78,  37,  94,  67,  33,   4,  24,  77,   1,  50,  17,  39,   7,\n",
       "         21,   8,  48,  59,  64,  66,  26,  45,  52,  18,  25,  74,  99,\n",
       "         49,   9,  11,  41,  32,  53,  81,  22,  14,  82,  97,  76,  10,\n",
       "         84,  79,  20,  72,  87,  83,  62,  28,  13,  68,  19,  16,  65,\n",
       "         31,  23,  30,  38,  71,  88,  91,  27,  36,  92,  80,  44,  90,\n",
       "          6,  60,  69,   0,  85,  89,  55,  43,   3,  12,  15,  57,  40,\n",
       "         35,  54,  34,  86,  95,  47,   2,  98,  93,  29,  51,  75,   5,\n",
       "         46,  73,  63,  70,  42,  61,  58,  56,  96],\n",
       "       [178, 137, 194, 167, 133, 104, 124, 177, 101, 150, 117, 139, 107,\n",
       "        121, 108, 148, 159, 164, 166, 126, 145, 152, 118, 125, 174, 199,\n",
       "        149, 109, 111, 141, 132, 153, 181, 122, 114, 182, 197, 176, 110,\n",
       "        184, 179, 120, 172, 187, 183, 162, 128, 113, 168, 119, 116, 165,\n",
       "        131, 123, 130, 138, 171, 188, 191, 127, 136, 192, 180, 144, 190,\n",
       "        106, 160, 169, 100, 185, 189, 155, 143, 103, 112, 115, 157, 140,\n",
       "        135, 154, 134, 186, 195, 147, 102, 198, 193, 129, 151, 175, 105,\n",
       "        146, 173, 163, 170, 142, 161, 158, 156, 196]])"
      ]
     },
     "execution_count": 27,
     "metadata": {},
     "output_type": "execute_result"
    }
   ],
   "source": [
    "# Generate a 2-D array with 2 rows of 200 numbers between 0 and 199, inclusive:\n",
    "a = np.arange(200).reshape((2, 100))\n",
    "\n",
    "# Copy the array and shuffle its content along the axis 1.\n",
    "y = rng.permutation(a, axis=1)\n",
    "\n",
    "# Display the array.\n",
    "y"
   ]
  },
  {
   "cell_type": "code",
   "execution_count": 28,
   "metadata": {},
   "outputs": [
    {
     "data": {
      "image/png": "[encoded data removed]",
      "text/plain": [
       "<Figure size 720x432 with 2 Axes>"
      ]
     },
     "metadata": {},
     "output_type": "display_data"
    }
   ],
   "source": [
    "# Build the Shuffle plot one the left.\n",
    "plt.subplot(1, 2, 1)\n",
    "for i in range(len(x)):\n",
    "    # Build the plot.\n",
    "    sns.histplot(x[i])\n",
    "\n",
    "# Set the title for the Shuffle plot.\n",
    "plt.title(\"Shuffle: 2-D array shuffled along the axis\")\n",
    "\n",
    "# Build the Permutation plot the right.\n",
    "plt.subplot(1, 2, 2)\n",
    "for i in range(len(y)):\n",
    "    # Build the plot.\n",
    "    sns.histplot(y[i])\n",
    "\n",
    "# Set the title for the Permutation plot.\n",
    "plt.title(\"Permutation: 2-D array shuffled along the axis\")\n",
    "\n",
    "# Show the plot.    \n",
    "plt.show()"
   ]
  },
  {
   "cell_type": "markdown",
   "metadata": {},
   "source": [
    "***\n",
    "<br>\n",
    "\n",
    "### “DISTRIBUTIONS” functions <a name=\"distributions\"></a>\n",
    "\n",
    "<img align=\"left\" width=\"300\" height=\"300\" src=\"https://cdn1.iconfinder.com/data/icons/data-science-flat-1/64/probability-distribution-normal-curve-statistics-data-512.png\">"
   ]
  },
  {
   "cell_type": "markdown",
   "metadata": {},
   "source": [
    "Probability distribution is a rule or a set of rules that outlines all the possible values that a random variable is likely to take within a given range. The precision of where values will be plotted on the probability distribution within this range depends on many factors, including the distribution's mean, standard deviation etc. [1]\n",
    "\n",
    "Statistically, probability distributions can be divided into two groups: Discrete and Continuous. This division depends on whether the data on which probability is calculated consists of discrete (with a range of countable values) or continuous (with a range of infinite (uncountable) values) variables. [2] [3]\n",
    "\n",
    "> 1. [Investopedia: Probability Distribution](https://www.investopedia.com/terms/p/probabilitydistribution.asp)\n",
    "2. [Statistics How To: Continuous Probability Distribution](https://www.statisticshowto.com/continuous-probability-distribution/)\n",
    "3. [Statistics How To: Discrete Probability Distribution](https://www.statisticshowto.com/discrete-probability-distribution/)\n"
   ]
  },
  {
   "cell_type": "markdown",
   "metadata": {},
   "source": [
    "<br>\n",
    "\n",
    "#### Discrete Probability Distribution <a name=\"discrete\"></a>\n",
    "\n",
    "##### Binomial.  <a name=\"binomial\"></a>\n",
    "\n",
    "A binomial distribution may have two possible outcomes: \"success\" or \"failure\" (hence \"binomial\"). [1] \n",
    "There are many real-life instances of binomial distributions. For example, we can calculate a number of \"successes\" of a new medicine tested on a set of patients where the outcome for a given patient is either a success or a failure. [2] \n",
    "\n",
    "> 1. [Statistics How To: Binomial Distribution](https://www.statisticshowto.com/probability-and-statistics/binomial-theorem/binomial-distribution-formula/)\n",
    "2. [Boston University School of Public Health: The Binomial Distribution](https://sphweb.bumc.bu.edu/otlt/mph-modules/bs/bs704_probability/bs704_probability7.html#:~:text=The%20binomial%20distribution%20model%20allows,a%20success%20or%20a%20failure.)"
   ]
  },
  {
   "cell_type": "markdown",
   "metadata": {},
   "source": [
    "_Example of flipping a coin_"
   ]
  },
  {
   "cell_type": "code",
   "execution_count": 29,
   "metadata": {
    "scrolled": true
   },
   "outputs": [
    {
     "data": {
      "text/plain": [
       "array([11,  8,  9, 11,  9,  9, 12, 13, 16, 12,  6,  8,  9, 12, 11, 11, 11,\n",
       "       13,  4, 10, 10,  8, 11, 13,  9, 14, 14,  8,  9,  9, 11, 11, 10, 12,\n",
       "       10, 10, 12, 11, 12, 12,  5, 10,  9, 11, 10,  7,  7, 13, 14,  9,  8,\n",
       "        8,  8, 11,  6,  8, 14, 14, 12, 10, 13,  7, 10, 16, 10, 12,  9,  9,\n",
       "       12,  7,  9,  9, 14,  9,  8, 11, 11,  9, 12, 11, 11,  9,  8, 13,  9,\n",
       "       11,  7,  9, 10,  9,  9, 12,  9,  7,  8, 10, 11, 11, 11,  7, 10,  7,\n",
       "        9, 14, 13,  8,  8, 11, 11, 12, 11, 11, 10,  9,  8,  9, 10, 10,  9,\n",
       "       10, 12, 13, 10, 14,  8,  7, 14, 13,  8, 12, 10,  9,  9,  5, 13, 11,\n",
       "        9, 12,  9, 18,  7,  9, 11,  9, 12, 13, 10,  9, 10,  9,  9, 12,  9,\n",
       "       13,  7,  7, 12,  5, 10, 13,  8, 13,  8, 11, 12, 11,  9,  5,  9,  7,\n",
       "        5, 10, 10,  8,  9, 13, 10, 12, 10,  9,  4, 11,  9, 14,  9,  6,  6,\n",
       "        8, 10, 10, 11,  7, 10, 10,  9, 14, 14, 10,  8, 13, 13, 13, 10,  6,\n",
       "        9, 10,  6, 10, 10, 10, 11, 12, 12, 15, 11, 14, 10,  6, 10, 13, 13,\n",
       "       10, 11,  9, 11, 13, 11, 12, 13,  8, 11, 10, 12,  8,  5, 10, 12,  7,\n",
       "       12, 11, 11, 15,  8,  9,  9, 11, 12,  9, 12, 10, 13,  8,  8,  8, 10,\n",
       "        8, 15, 11,  7, 11, 11,  9, 11, 14, 10, 10,  4,  7, 10, 12, 10,  9,\n",
       "        9,  8,  5, 10, 15, 12, 12,  9,  9, 13, 13, 10, 10,  8, 12, 10,  9,\n",
       "       11,  8, 12,  8,  7, 10, 12,  7,  8, 10,  9,  9,  7,  9, 13, 12, 11,\n",
       "       11, 11,  9, 14,  6, 13, 11,  7, 10, 11, 11, 10, 10,  7,  7,  9, 10,\n",
       "       15,  7, 13, 13,  8, 12,  8, 11,  4, 10,  9, 10, 13,  9, 10, 11,  9,\n",
       "       14, 11, 11,  9, 11, 12, 11,  9,  8, 10,  9,  8, 11, 10,  8, 11, 12,\n",
       "       10,  8,  6,  9,  9, 11, 12,  9,  5,  9, 10, 11, 11, 11,  6,  8,  6,\n",
       "        9, 10,  7,  8,  7,  8, 14, 14, 11, 13, 10, 13, 13,  7, 11, 10, 13,\n",
       "       11,  9,  8, 10, 11,  7, 10, 10, 10, 11, 12,  9, 13, 12, 14,  7, 10,\n",
       "       14, 11,  8, 11,  8, 12, 10, 11, 13, 13, 10,  9, 12, 11, 12, 12,  9,\n",
       "        7, 10, 11, 14, 10, 11, 10,  7, 11,  9, 10,  7, 12, 13,  6,  8,  8,\n",
       "       14, 13, 12, 11,  9, 11,  9, 10,  9, 11,  9,  8, 10, 15, 10, 10, 10,\n",
       "       10,  6, 10, 10,  8, 11, 12,  8, 10,  9, 17, 14,  9, 11,  9,  9,  6,\n",
       "       14, 10,  8,  8,  7, 10,  8, 11, 10,  8, 12, 10, 13, 12, 10,  6, 13,\n",
       "       12,  8, 11,  9, 13, 11,  9, 10, 12,  8, 11,  9, 12,  9,  8, 12, 12,\n",
       "        8, 10, 10,  8, 13, 11, 11,  9, 11,  8,  7, 11, 12,  8,  9, 11, 12,\n",
       "        6, 12,  7, 13, 10, 14, 14, 12, 11,  9, 10,  7, 11, 14,  9, 11, 11,\n",
       "        7,  8,  8,  9,  9, 13, 11,  9, 10, 10, 10, 12, 12, 10,  8,  6, 10,\n",
       "       11, 11, 12, 10,  7, 10,  9, 14,  6, 13,  9, 11,  8,  8, 11, 12,  9,\n",
       "        9, 10, 10, 12, 11, 10, 13, 13, 14, 10,  9,  7, 11, 11, 10, 11, 10,\n",
       "       12, 10,  9,  8,  9,  9, 10,  8, 12, 10, 12, 12,  9, 10,  6, 12, 13,\n",
       "       10,  9, 11, 11,  8, 12,  9, 12,  8, 10,  8,  7,  6, 10,  7, 11,  9,\n",
       "       10, 12, 10, 12,  8, 11, 11, 11, 13, 11, 13,  7, 11, 11,  8,  9, 11,\n",
       "       10,  9,  8,  5, 17, 10, 11, 13,  6,  9, 12, 11,  8,  9,  8, 11,  7,\n",
       "        9, 11,  9, 10, 10, 10,  9, 10, 11,  6, 13,  6, 10, 12, 11, 12, 12,\n",
       "        9, 12,  8,  6, 15, 10, 12,  9,  5, 10, 16, 11, 14,  8, 11,  8, 11,\n",
       "       11,  9,  7, 10, 11, 10,  8, 12,  9,  8,  8,  7, 11, 13,  9,  9, 11,\n",
       "        9,  9, 10, 10, 11,  8, 11, 10,  6, 11, 12, 10, 11, 13, 11, 14,  8,\n",
       "       11, 13,  9, 13, 10, 11,  4,  9,  9, 12,  6, 14, 10, 12, 12, 11,  9,\n",
       "       12, 13, 11,  9,  8, 10, 12, 12,  9,  9, 10,  8,  9,  7,  9,  9,  9,\n",
       "       11,  9, 11, 12,  8, 13, 13, 12,  9, 12,  8,  6, 11, 15, 10, 11,  4,\n",
       "       14, 10,  8,  9,  9,  9,  8,  9, 14, 10,  5, 10, 14, 11,  9,  6, 11,\n",
       "        7, 14, 10, 11,  9, 12, 10, 14, 10, 11, 12,  9,  9, 12, 11,  9,  7,\n",
       "        5, 10, 12,  9, 11,  8, 11,  8, 12,  6,  9,  8,  8, 12, 12, 13, 10,\n",
       "       10, 12,  8, 11,  6, 14, 10,  9,  9, 11, 10, 12, 12,  8,  6, 10, 10,\n",
       "       11, 11, 11, 14, 10, 10, 11, 11, 12, 13, 11,  9,  7,  9, 11, 14,  9,\n",
       "       11, 12, 13,  8, 11, 10, 12,  7, 11,  9,  9,  5,  9, 12,  8,  6,  7,\n",
       "       13,  9, 11, 11,  8,  8,  8,  7, 12, 10, 12,  9, 13,  8, 12,  9, 10,\n",
       "       12, 11,  7, 11, 10, 11,  7,  4,  8,  9, 10, 10,  9, 12, 11, 11, 12,\n",
       "       14, 10,  9, 10, 11, 13,  9,  8, 14,  8, 10,  9,  6, 11, 12, 14, 10,\n",
       "       12,  9, 11, 10, 12,  6, 11,  9,  8, 13, 13, 11, 12,  9,  6, 13,  6,\n",
       "        9,  8,  9,  8,  7, 10,  9,  7, 12,  8,  8,  9,  9, 11,  9,  8,  7,\n",
       "        5,  6, 10, 10, 11, 15, 10,  9, 10,  8, 13,  7,  6, 13,  7,  8, 15,\n",
       "        6, 12,  8, 10, 12, 12,  9, 10, 13,  9, 10, 10,  9,  6],\n",
       "      dtype=int64)"
      ]
     },
     "execution_count": 29,
     "metadata": {},
     "output_type": "execute_result"
    }
   ],
   "source": [
    "# Flip a coin 20 times with a probability 0.5 of each trial.\n",
    "n, p = 20, .5\n",
    "\n",
    "# Test done 1000 times.\n",
    "x = rng.binomial(n, p, 1000)\n",
    "\n",
    "# Display the number of heads\n",
    "x"
   ]
  },
  {
   "cell_type": "code",
   "execution_count": 30,
   "metadata": {},
   "outputs": [
    {
     "data": {
      "image/png": "[encoded data removed]",
      "text/plain": [
       "<Figure size 720x432 with 1 Axes>"
      ]
     },
     "metadata": {},
     "output_type": "display_data"
    }
   ],
   "source": [
    "# Change colour scheme.\n",
    "sns.set_palette(\"PuOr\")\n",
    "\n",
    "# Set the title and x label for the future plot.\n",
    "plt.title(\"Binominal Distribution: Flip a coin\")\n",
    "plt.xlabel(\"Number of Heads\")\n",
    "\n",
    "# Build the plot.\n",
    "sns.histplot(x)\n",
    "\n",
    "# Show the plot.\n",
    "plt.show()"
   ]
  },
  {
   "cell_type": "markdown",
   "metadata": {},
   "source": [
    "_Example of testing an antihistamine drug_\n",
    "\n",
    "If the medication is given to 10 patients suffering from allergies, what is the probability of its effectiveness to be exactly exactly 7 when 80% of adults report symptomatic relief with this medication."
   ]
  },
  {
   "cell_type": "code",
   "execution_count": 31,
   "metadata": {},
   "outputs": [
    {
     "data": {
      "text/plain": [
       "0.20225"
      ]
     },
     "execution_count": 31,
     "metadata": {},
     "output_type": "execute_result"
    }
   ],
   "source": [
    "# 10 new patients with allergies\n",
    "n = 10\n",
    "\n",
    "# The probability of success for each person is 0.8.\n",
    "p = 0.8\n",
    "\n",
    "# Effectiveness of the grug is 7\n",
    "s = 7\n",
    "\n",
    "# Calculate the probability when tested 20000 times\n",
    "x = sum(rng.binomial(n, p, 20000) == s)/20000\n",
    "\n",
    "# Display the probability.\n",
    "x"
   ]
  },
  {
   "cell_type": "markdown",
   "metadata": {},
   "source": [
    "##### Geometric   <a name=\"geometric\"></a>"
   ]
  },
  {
   "cell_type": "markdown",
   "metadata": {},
   "source": [
    "##### Hypergeometric  <a name=\"hypergeometric\"></a>"
   ]
  },
  {
   "cell_type": "markdown",
   "metadata": {},
   "source": [
    "##### Multinomial  <a name=\"multinomial\"></a>"
   ]
  },
  {
   "cell_type": "markdown",
   "metadata": {},
   "source": [
    "##### Poisson  <a name=\"poisson\"></a>"
   ]
  },
  {
   "cell_type": "markdown",
   "metadata": {},
   "source": [
    "***\n",
    "<br>\n",
    "\n",
    "#### Continuous Probability Distribution  <a name=\"continuous\"></a>\n",
    "##### Uniform <a name=\"uniform\"></a>"
   ]
  },
  {
   "cell_type": "code",
   "execution_count": 32,
   "metadata": {},
   "outputs": [],
   "source": [
    "x = rng.uniform(-10,1000,10000)"
   ]
  },
  {
   "cell_type": "code",
   "execution_count": 33,
   "metadata": {},
   "outputs": [
    {
     "data": {
      "text/plain": [
       "(array([ 957., 1002., 1047.,  968.,  995.,  969., 1050.,  997., 1020.,\n",
       "         995.]), array([ -9.88041403,  91.0049757 , 191.89036544, 292.77575517,\n",
       "        393.66114491, 494.54653465, 595.43192438, 696.31731412,\n",
       "        797.20270385, 898.08809359, 998.97348333]), <a list of 10 Patch objects>)"
      ]
     },
     "execution_count": 33,
     "metadata": {},
     "output_type": "execute_result"
    },
    {
     "data": {
      "image/png": "[encoded data removed]",
      "text/plain": [
       "<Figure size 720x432 with 1 Axes>"
      ]
     },
     "metadata": {},
     "output_type": "display_data"
    }
   ],
   "source": [
    "plt.hist(x)"
   ]
  },
  {
   "cell_type": "markdown",
   "metadata": {},
   "source": [
    "##### Normal <a name=\"normal\"></a>"
   ]
  },
  {
   "cell_type": "code",
   "execution_count": 34,
   "metadata": {},
   "outputs": [],
   "source": [
    "x = rng.normal(0, 0.1, 10000) # values centered around 0"
   ]
  },
  {
   "cell_type": "code",
   "execution_count": 35,
   "metadata": {},
   "outputs": [
    {
     "data": {
      "text/plain": [
       "(array([  13.,  102.,  528., 1717., 2987., 2744., 1403.,  440.,   55.,\n",
       "          11.]),\n",
       " array([-0.3891131 , -0.30954569, -0.22997827, -0.15041086, -0.07084344,\n",
       "         0.00872397,  0.08829139,  0.1678588 ,  0.24742622,  0.32699363,\n",
       "         0.40656105]),\n",
       " <a list of 10 Patch objects>)"
      ]
     },
     "execution_count": 35,
     "metadata": {},
     "output_type": "execute_result"
    },
    {
     "data": {
      "image/png": "[encoded data removed]",
      "text/plain": [
       "<Figure size 720x432 with 1 Axes>"
      ]
     },
     "metadata": {},
     "output_type": "display_data"
    }
   ],
   "source": [
    "plt.hist(x)"
   ]
  },
  {
   "cell_type": "markdown",
   "metadata": {},
   "source": [
    "##### Lognormal (investment) <a name=\"lognormal\"></a>"
   ]
  },
  {
   "cell_type": "markdown",
   "metadata": {},
   "source": [
    "\n",
    "##### Exponential <a name=\"exponential\"></a>"
   ]
  },
  {
   "cell_type": "markdown",
   "metadata": {},
   "source": [
    "### SEEDS  <a name=\"seeds\"></a> "
   ]
  }
 ],
 "metadata": {
  "kernelspec": {
   "display_name": "Python 3",
   "language": "python",
   "name": "python3"
  },
  "language_info": {
   "codemirror_mode": {
    "name": "ipython",
    "version": 3
   },
   "file_extension": ".py",
   "mimetype": "text/x-python",
   "name": "python",
   "nbconvert_exporter": "python",
   "pygments_lexer": "ipython3",
   "version": "3.7.4"
  }
 },
 "nbformat": 4,
 "nbformat_minor": 2
}
